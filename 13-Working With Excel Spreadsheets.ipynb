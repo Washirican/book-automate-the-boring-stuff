{
 "cells": [
  {
   "cell_type": "markdown",
   "id": "3282e6c5-62e6-4f9a-8e60-a6cd8b0042e9",
   "metadata": {},
   "source": [
    "## Reading Excel Documents"
   ]
  },
  {
   "cell_type": "code",
   "execution_count": 31,
   "id": "5be41825-e86b-418d-810c-553158ce8a44",
   "metadata": {},
   "outputs": [],
   "source": [
    "import openpyxl"
   ]
  },
  {
   "cell_type": "code",
   "execution_count": 32,
   "id": "277cb8c2-74e4-46cb-bf23-5ba07919e901",
   "metadata": {},
   "outputs": [],
   "source": [
    "wb = openpyxl.load_workbook('automate_online-materials\\\\example.xlsx')"
   ]
  },
  {
   "cell_type": "markdown",
   "id": "168e671a-85e0-46db-b1cb-e833765a1642",
   "metadata": {},
   "source": [
    "## Getting Sheets from Workbook"
   ]
  },
  {
   "cell_type": "code",
   "execution_count": 33,
   "id": "64240b98-fae6-490c-b1b8-ca5042d505c0",
   "metadata": {},
   "outputs": [
    {
     "data": {
      "text/plain": [
       "['Sheet1', 'Sheet2', 'Sheet3']"
      ]
     },
     "execution_count": 33,
     "metadata": {},
     "output_type": "execute_result"
    }
   ],
   "source": [
    "wb.sheetnames"
   ]
  },
  {
   "cell_type": "code",
   "execution_count": 34,
   "id": "e2a7bc83-0a3b-4c0f-9334-2adb48e1a0ee",
   "metadata": {},
   "outputs": [],
   "source": [
    "sheet = wb['Sheet3']"
   ]
  },
  {
   "cell_type": "code",
   "execution_count": 42,
   "id": "6a456f59-2070-4e57-8c42-e311b4b2f6ce",
   "metadata": {},
   "outputs": [
    {
     "data": {
      "text/plain": [
       "<Worksheet \"Sheet3\">"
      ]
     },
     "execution_count": 42,
     "metadata": {},
     "output_type": "execute_result"
    }
   ],
   "source": [
    "sheet"
   ]
  },
  {
   "cell_type": "code",
   "execution_count": 43,
   "id": "e1868644-7bbe-4c57-ac0b-57606effae9e",
   "metadata": {},
   "outputs": [
    {
     "data": {
      "text/plain": [
       "'Sheet3'"
      ]
     },
     "execution_count": 43,
     "metadata": {},
     "output_type": "execute_result"
    }
   ],
   "source": [
    "sheet.title"
   ]
  },
  {
   "cell_type": "code",
   "execution_count": 44,
   "id": "8a2e8e45-53ab-413f-89e6-0ab1793b9270",
   "metadata": {},
   "outputs": [],
   "source": [
    "another_sheet = wb.active"
   ]
  },
  {
   "cell_type": "markdown",
   "id": "84cb9f49-b1da-4e59-a90c-5500c90baa8b",
   "metadata": {},
   "source": [
    "another_sheet"
   ]
  },
  {
   "cell_type": "markdown",
   "id": "25eebaa1-8e47-4c2f-b997-c341809912f8",
   "metadata": {},
   "source": [
    "## Getting Cells from the Sheets"
   ]
  },
  {
   "cell_type": "code",
   "execution_count": 49,
   "id": "4831b05d-ffda-4a96-95cb-bcff9f5808b9",
   "metadata": {},
   "outputs": [
    {
     "data": {
      "text/plain": [
       "['Sheet1', 'Sheet2', 'Sheet3']"
      ]
     },
     "execution_count": 49,
     "metadata": {},
     "output_type": "execute_result"
    }
   ],
   "source": [
    "wb.sheetnames"
   ]
  },
  {
   "cell_type": "code",
   "execution_count": 50,
   "id": "76c91a0a-40e1-47a8-b3a4-73906e5bb8a6",
   "metadata": {},
   "outputs": [],
   "source": [
    "sheet = wb['Sheet1']"
   ]
  },
  {
   "cell_type": "code",
   "execution_count": 51,
   "id": "914a1621-cb29-4581-a9dc-486d53524527",
   "metadata": {},
   "outputs": [
    {
     "data": {
      "text/plain": [
       "<Worksheet \"Sheet1\">"
      ]
     },
     "execution_count": 51,
     "metadata": {},
     "output_type": "execute_result"
    }
   ],
   "source": [
    "sheet"
   ]
  },
  {
   "cell_type": "code",
   "execution_count": 52,
   "id": "937f1c9c-8741-4746-bbd9-0e4781e0360c",
   "metadata": {},
   "outputs": [
    {
     "data": {
      "text/plain": [
       "<Cell 'Sheet1'.A1>"
      ]
     },
     "execution_count": 52,
     "metadata": {},
     "output_type": "execute_result"
    }
   ],
   "source": [
    "sheet['A1']"
   ]
  },
  {
   "cell_type": "code",
   "execution_count": 53,
   "id": "41a60064-d199-4e83-9e3f-4c2a697e05a3",
   "metadata": {},
   "outputs": [
    {
     "data": {
      "text/plain": [
       "datetime.datetime(2015, 4, 5, 13, 34, 2)"
      ]
     },
     "execution_count": 53,
     "metadata": {},
     "output_type": "execute_result"
    }
   ],
   "source": [
    "sheet['A1'].value"
   ]
  },
  {
   "cell_type": "code",
   "execution_count": 54,
   "id": "d4c5de72-e9c7-4f3e-b331-69e10783c748",
   "metadata": {},
   "outputs": [],
   "source": [
    "c = sheet['B1']"
   ]
  },
  {
   "cell_type": "code",
   "execution_count": 55,
   "id": "25ee7bcb-d753-4c29-8677-828ad349afca",
   "metadata": {},
   "outputs": [
    {
     "data": {
      "text/plain": [
       "'Apples'"
      ]
     },
     "execution_count": 55,
     "metadata": {},
     "output_type": "execute_result"
    }
   ],
   "source": [
    "c.value"
   ]
  },
  {
   "cell_type": "code",
   "execution_count": 57,
   "id": "a25bc5eb-3f55-4310-b0ed-4b7393637234",
   "metadata": {},
   "outputs": [
    {
     "data": {
      "text/plain": [
       "'Row: 1, Column: 2, Value: Apples'"
      ]
     },
     "execution_count": 57,
     "metadata": {},
     "output_type": "execute_result"
    }
   ],
   "source": [
    "f'Row: {c.row}, Column: {c.column}, Value: {c.value}'"
   ]
  },
  {
   "cell_type": "code",
   "execution_count": 59,
   "id": "69da333a-62c7-4b0b-83d3-51b1934bc803",
   "metadata": {},
   "outputs": [
    {
     "data": {
      "text/plain": [
       "'Cell B1 is Apples'"
      ]
     },
     "execution_count": 59,
     "metadata": {},
     "output_type": "execute_result"
    }
   ],
   "source": [
    "f'Cell {c.coordinate} is {c.value}'"
   ]
  },
  {
   "cell_type": "code",
   "execution_count": 60,
   "id": "b87914f9-168a-402e-a508-5567769ea000",
   "metadata": {},
   "outputs": [
    {
     "data": {
      "text/plain": [
       "<Cell 'Sheet1'.B1>"
      ]
     },
     "execution_count": 60,
     "metadata": {},
     "output_type": "execute_result"
    }
   ],
   "source": [
    "sheet.cell(row=1, column=2)"
   ]
  },
  {
   "cell_type": "code",
   "execution_count": 61,
   "id": "4cd55fd2-d24b-430c-832c-3020977c6868",
   "metadata": {},
   "outputs": [
    {
     "data": {
      "text/plain": [
       "'Apples'"
      ]
     },
     "execution_count": 61,
     "metadata": {},
     "output_type": "execute_result"
    }
   ],
   "source": [
    "sheet.cell(row=1, column=2).value"
   ]
  },
  {
   "cell_type": "code",
   "execution_count": 64,
   "id": "cae4d7d8-fa25-43e8-afc5-a2ea05f06915",
   "metadata": {},
   "outputs": [
    {
     "name": "stdout",
     "output_type": "stream",
     "text": [
      "1 Apples\n",
      "3 Pears\n",
      "5 Apples\n",
      "7 Strawberries\n"
     ]
    }
   ],
   "source": [
    "for i in range(1, 8, 2):\n",
    "    print(i, sheet.cell(row=i, column=2).value)"
   ]
  },
  {
   "cell_type": "code",
   "execution_count": 65,
   "id": "664e8578-0504-4c05-b161-ef4ce401845f",
   "metadata": {},
   "outputs": [
    {
     "data": {
      "text/plain": [
       "7"
      ]
     },
     "execution_count": 65,
     "metadata": {},
     "output_type": "execute_result"
    }
   ],
   "source": [
    "sheet.max_row"
   ]
  },
  {
   "cell_type": "code",
   "execution_count": 66,
   "id": "44ab9a98-ad90-4551-b08c-e907f40c7cdd",
   "metadata": {},
   "outputs": [
    {
     "data": {
      "text/plain": [
       "3"
      ]
     },
     "execution_count": 66,
     "metadata": {},
     "output_type": "execute_result"
    }
   ],
   "source": [
    "sheet.max_column"
   ]
  },
  {
   "cell_type": "markdown",
   "id": "ee057921-44e6-48e2-b5f0-997f5fd7ad78",
   "metadata": {},
   "source": [
    "## Converting between Column Letters and Numbers"
   ]
  },
  {
   "cell_type": "code",
   "execution_count": 69,
   "id": "0da3c3d1-4e2a-4d50-838d-f0cbc9f9e895",
   "metadata": {},
   "outputs": [
    {
     "data": {
      "text/plain": [
       "'A'"
      ]
     },
     "execution_count": 69,
     "metadata": {},
     "output_type": "execute_result"
    }
   ],
   "source": [
    "from openpyxl.utils import get_column_letter, column_index_from_string\n",
    "get_column_letter(1)"
   ]
  },
  {
   "cell_type": "code",
   "execution_count": 70,
   "id": "04f25f18-e6a5-4629-ba82-88c1b75bbd54",
   "metadata": {},
   "outputs": [
    {
     "data": {
      "text/plain": [
       "'B'"
      ]
     },
     "execution_count": 70,
     "metadata": {},
     "output_type": "execute_result"
    }
   ],
   "source": [
    "get_column_letter(2)"
   ]
  },
  {
   "cell_type": "code",
   "execution_count": 71,
   "id": "ae90e482-931d-4ca6-b42a-796108eb4e70",
   "metadata": {},
   "outputs": [
    {
     "data": {
      "text/plain": [
       "'C'"
      ]
     },
     "execution_count": 71,
     "metadata": {},
     "output_type": "execute_result"
    }
   ],
   "source": [
    "get_column_letter(sheet.max_column)"
   ]
  },
  {
   "cell_type": "code",
   "execution_count": 74,
   "id": "41e8fa4e-4c04-4971-8ab4-bc1a489f8c21",
   "metadata": {},
   "outputs": [
    {
     "data": {
      "text/plain": [
       "27"
      ]
     },
     "execution_count": 74,
     "metadata": {},
     "output_type": "execute_result"
    }
   ],
   "source": [
    "column_index_from_string(\"AA\")"
   ]
  },
  {
   "cell_type": "markdown",
   "id": "87197c1c-c028-4349-8283-e46ec334e2b6",
   "metadata": {},
   "source": [
    "## Getting Rows and Columns from the Sheets"
   ]
  },
  {
   "cell_type": "code",
   "execution_count": 75,
   "id": "7c00757e-f072-48c8-b35e-a26c866b1d32",
   "metadata": {},
   "outputs": [
    {
     "data": {
      "text/plain": [
       "((<Cell 'Sheet1'.A1>, <Cell 'Sheet1'.B1>, <Cell 'Sheet1'.C1>),\n",
       " (<Cell 'Sheet1'.A2>, <Cell 'Sheet1'.B2>, <Cell 'Sheet1'.C2>),\n",
       " (<Cell 'Sheet1'.A3>, <Cell 'Sheet1'.B3>, <Cell 'Sheet1'.C3>))"
      ]
     },
     "execution_count": 75,
     "metadata": {},
     "output_type": "execute_result"
    }
   ],
   "source": [
    "tuple(sheet['A1':'C3'])"
   ]
  },
  {
   "cell_type": "code",
   "execution_count": 77,
   "id": "8306b5a3-4d75-4de5-a266-eb86d6ddb248",
   "metadata": {},
   "outputs": [
    {
     "name": "stdout",
     "output_type": "stream",
     "text": [
      "A1 2015-04-05 13:34:02\n",
      "B1 Apples\n",
      "C1 73\n",
      "--- END OF ROW ---\n",
      "A2 2015-04-05 03:41:23\n",
      "B2 Cherries\n",
      "C2 85\n",
      "--- END OF ROW ---\n",
      "A3 2015-04-06 12:46:51\n",
      "B3 Pears\n",
      "C3 14\n",
      "--- END OF ROW ---\n"
     ]
    }
   ],
   "source": [
    "for row_of_cell_objects in sheet['A1':'C3']:\n",
    "    for cell_obj in row_of_cell_objects:\n",
    "        print(cell_obj.coordinate, cell_obj.value)\n",
    "    print('--- END OF ROW ---')"
   ]
  },
  {
   "cell_type": "code",
   "execution_count": 78,
   "id": "bb6f392b-5719-4050-b8d0-02288b83f675",
   "metadata": {},
   "outputs": [
    {
     "data": {
      "text/plain": [
       "(<Cell 'Sheet1'.B1>,\n",
       " <Cell 'Sheet1'.B2>,\n",
       " <Cell 'Sheet1'.B3>,\n",
       " <Cell 'Sheet1'.B4>,\n",
       " <Cell 'Sheet1'.B5>,\n",
       " <Cell 'Sheet1'.B6>,\n",
       " <Cell 'Sheet1'.B7>)"
      ]
     },
     "execution_count": 78,
     "metadata": {},
     "output_type": "execute_result"
    }
   ],
   "source": [
    "list(sheet.columns)[1]"
   ]
  },
  {
   "cell_type": "code",
   "execution_count": 79,
   "id": "ae72becd-9f00-4253-92fb-277da5ae4669",
   "metadata": {},
   "outputs": [
    {
     "name": "stdout",
     "output_type": "stream",
     "text": [
      "Apples\n",
      "Cherries\n",
      "Pears\n",
      "Oranges\n",
      "Apples\n",
      "Bananas\n",
      "Strawberries\n"
     ]
    }
   ],
   "source": [
    "for cell_obj in list(sheet.columns)[1]:\n",
    "    print(cell_obj.value)"
   ]
  },
  {
   "cell_type": "markdown",
   "id": "fb33412f-5a04-40cd-a261-00991a0e4874",
   "metadata": {},
   "source": [
    "## Workbooks, Sheets, Cells"
   ]
  },
  {
   "cell_type": "markdown",
   "id": "a338f20e-b2dc-47f1-973f-0ed60cc53f32",
   "metadata": {},
   "source": [
    "As a quick review, here’s a rundown of all the functions, methods, and data types involved in reading a cell out of a spreadsheet file:\n",
    "\n",
    "1. Import the `openpyxl` module.\n",
    "\n",
    "2. Call the `openpyxl.load_workbook()` function.\n",
    "\n",
    "3. Get a `Workbook` object.\n",
    "\n",
    "4. Use the `active` or `sheetnames` attributes.\n",
    "\n",
    "5. Get a `Worksheet` object.\n",
    "\n",
    "6. Use indexing or the `cell()` sheet method with `row` and `column` keyword arguments.\n",
    "\n",
    "7. Get a `Cell` object.\n",
    "\n",
    "8. Read the `Cell` object’s `value` attribute."
   ]
  },
  {
   "cell_type": "markdown",
   "id": "17f2a901-2ac5-45f6-ab14-dbbfdd26af43",
   "metadata": {},
   "source": [
    "## Writing Excel Documents"
   ]
  },
  {
   "cell_type": "markdown",
   "id": "01ff41e3-1bd6-4611-9b32-a9d7d0300ee7",
   "metadata": {},
   "source": [
    "Creating and Saving Excel Documents"
   ]
  },
  {
   "cell_type": "code",
   "execution_count": 82,
   "id": "f4063c03-55be-4372-a83d-f25e2a02b748",
   "metadata": {},
   "outputs": [
    {
     "data": {
      "text/plain": [
       "['Sheet1', 'Sheet2', 'Sheet3']"
      ]
     },
     "execution_count": 82,
     "metadata": {},
     "output_type": "execute_result"
    }
   ],
   "source": [
    "wb.sheetnames"
   ]
  },
  {
   "cell_type": "code",
   "execution_count": 84,
   "id": "2ea5b4c1-939d-4327-b6ca-b900903c6e02",
   "metadata": {},
   "outputs": [],
   "source": [
    "sheet = wb.active"
   ]
  },
  {
   "cell_type": "code",
   "execution_count": 85,
   "id": "67bc39b7-95aa-41ba-a600-f968f1d4f77e",
   "metadata": {},
   "outputs": [
    {
     "data": {
      "text/plain": [
       "'Sheet1'"
      ]
     },
     "execution_count": 85,
     "metadata": {},
     "output_type": "execute_result"
    }
   ],
   "source": [
    "sheet.title"
   ]
  },
  {
   "cell_type": "code",
   "execution_count": 86,
   "id": "6a4e984b-da32-427b-ad1c-15cbc19c8cc6",
   "metadata": {},
   "outputs": [],
   "source": [
    "sheet.title = 'Spam Bacon Eggs Sheet'"
   ]
  },
  {
   "cell_type": "code",
   "execution_count": 87,
   "id": "95200755-d7f3-4570-b87c-3fc602e5128b",
   "metadata": {},
   "outputs": [
    {
     "data": {
      "text/plain": [
       "'Spam Bacon Eggs Sheet'"
      ]
     },
     "execution_count": 87,
     "metadata": {},
     "output_type": "execute_result"
    }
   ],
   "source": [
    "sheet.title"
   ]
  },
  {
   "cell_type": "code",
   "execution_count": 88,
   "id": "760507a3-c20e-4f90-824d-5e89d089eb3b",
   "metadata": {},
   "outputs": [
    {
     "data": {
      "text/plain": [
       "['Spam Bacon Eggs Sheet', 'Sheet2', 'Sheet3']"
      ]
     },
     "execution_count": 88,
     "metadata": {},
     "output_type": "execute_result"
    }
   ],
   "source": [
    "wb.sheetnames"
   ]
  },
  {
   "cell_type": "markdown",
   "id": "a5930241-95e6-4730-a426-fafe59ba4727",
   "metadata": {},
   "source": [
    "## Creating and Removing Sheets"
   ]
  },
  {
   "cell_type": "code",
   "execution_count": 89,
   "id": "be6e6b13-8db6-43da-bbc5-8d736f52f4d0",
   "metadata": {},
   "outputs": [
    {
     "data": {
      "text/plain": [
       "<Worksheet \"First Sheet\">"
      ]
     },
     "execution_count": 89,
     "metadata": {},
     "output_type": "execute_result"
    }
   ],
   "source": [
    "wb.create_sheet(index=0, title='First Sheet')"
   ]
  },
  {
   "cell_type": "code",
   "execution_count": 90,
   "id": "c255eb08-d360-49d3-a2f8-e350f3fe87ec",
   "metadata": {},
   "outputs": [
    {
     "data": {
      "text/plain": [
       "['First Sheet', 'Spam Bacon Eggs Sheet', 'Sheet2', 'Sheet3']"
      ]
     },
     "execution_count": 90,
     "metadata": {},
     "output_type": "execute_result"
    }
   ],
   "source": [
    " wb.sheetnames"
   ]
  },
  {
   "cell_type": "code",
   "execution_count": 91,
   "id": "ea663779-e937-4493-863b-cad75e45d943",
   "metadata": {},
   "outputs": [
    {
     "data": {
      "text/plain": [
       "<Worksheet \"Middle Sheet\">"
      ]
     },
     "execution_count": 91,
     "metadata": {},
     "output_type": "execute_result"
    }
   ],
   "source": [
    "wb.create_sheet(index=2, title='Middle Sheet')"
   ]
  },
  {
   "cell_type": "code",
   "execution_count": 92,
   "id": "b1037c1f-139c-4915-bfc6-762083d225a0",
   "metadata": {},
   "outputs": [
    {
     "data": {
      "text/plain": [
       "['First Sheet', 'Spam Bacon Eggs Sheet', 'Middle Sheet', 'Sheet2', 'Sheet3']"
      ]
     },
     "execution_count": 92,
     "metadata": {},
     "output_type": "execute_result"
    }
   ],
   "source": [
    " wb.sheetnames"
   ]
  },
  {
   "cell_type": "code",
   "execution_count": 93,
   "id": "1594663a-6fd1-4978-8a31-44a745b1b90a",
   "metadata": {},
   "outputs": [],
   "source": [
    "del wb['Middle Sheet']"
   ]
  },
  {
   "cell_type": "code",
   "execution_count": 94,
   "id": "89dd0412-c5e8-4556-9dd6-6607b3751ed2",
   "metadata": {},
   "outputs": [
    {
     "data": {
      "text/plain": [
       "['First Sheet', 'Spam Bacon Eggs Sheet', 'Sheet2', 'Sheet3']"
      ]
     },
     "execution_count": 94,
     "metadata": {},
     "output_type": "execute_result"
    }
   ],
   "source": [
    " wb.sheetnames"
   ]
  },
  {
   "cell_type": "markdown",
   "id": "9064ae15-8403-4838-9e9b-a96658dec50b",
   "metadata": {},
   "source": [
    "## Writing Values to Cells"
   ]
  },
  {
   "cell_type": "code",
   "execution_count": 96,
   "id": "866859ad-63a2-4f14-9470-1070e993016d",
   "metadata": {},
   "outputs": [
    {
     "data": {
      "text/plain": [
       "'Spam Bacon Eggs Sheet'"
      ]
     },
     "execution_count": 96,
     "metadata": {},
     "output_type": "execute_result"
    }
   ],
   "source": [
    "sheet.title"
   ]
  },
  {
   "cell_type": "code",
   "execution_count": 97,
   "id": "e6e28f2d-b035-4b19-a11e-8e268a44ce56",
   "metadata": {},
   "outputs": [
    {
     "data": {
      "text/plain": [
       "['First Sheet', 'Spam Bacon Eggs Sheet', 'Sheet2', 'Sheet3']"
      ]
     },
     "execution_count": 97,
     "metadata": {},
     "output_type": "execute_result"
    }
   ],
   "source": [
    "wb.sheetnames"
   ]
  },
  {
   "cell_type": "code",
   "execution_count": 98,
   "id": "d49f1585-ac69-48c1-b5f0-1de2eef59b0c",
   "metadata": {},
   "outputs": [],
   "source": [
    "sheet = wb['First Sheet']"
   ]
  },
  {
   "cell_type": "code",
   "execution_count": 99,
   "id": "af41f75c-e0c1-44d1-900f-6236a0d00d9c",
   "metadata": {},
   "outputs": [],
   "source": [
    "sheet['A1'] = 'Hello, world!'"
   ]
  },
  {
   "cell_type": "code",
   "execution_count": 100,
   "id": "32c1818f-c01b-458f-b8a2-acef2a965577",
   "metadata": {},
   "outputs": [
    {
     "data": {
      "text/plain": [
       "'Hello, world!'"
      ]
     },
     "execution_count": 100,
     "metadata": {},
     "output_type": "execute_result"
    }
   ],
   "source": [
    "sheet['A1'].value"
   ]
  },
  {
   "cell_type": "markdown",
   "id": "17bb8081-146c-4744-adc9-e3383c78ec70",
   "metadata": {},
   "source": [
    "## Setting the Font Style of Cells"
   ]
  },
  {
   "cell_type": "code",
   "execution_count": 3,
   "id": "d3a0a44f-afbd-4f8f-8119-f0d8287ef37e",
   "metadata": {},
   "outputs": [],
   "source": [
    "from openpyxl.styles import Font"
   ]
  },
  {
   "cell_type": "code",
   "execution_count": 7,
   "id": "492d25c7-60b7-46db-bc66-ff56b20fb50a",
   "metadata": {},
   "outputs": [],
   "source": [
    "wb = openpyxl.Workbook()\n",
    "sheet = wb['Sheet']\n",
    "italic_24_font = Font(size=24, italic=True) \n",
    "sheet['A1'].font = italic_24_font\n",
    "sheet['A1'] = 'Hello, world!'\n",
    "wb.save('automate_online-materials\\\\my_styles.xlsx')"
   ]
  },
  {
   "cell_type": "markdown",
   "id": "e96345eb-444e-440c-9290-1f93c966493e",
   "metadata": {},
   "source": [
    "## Formulas"
   ]
  },
  {
   "cell_type": "code",
   "execution_count": 11,
   "id": "4c0aeaf2-6b4d-48c1-9321-1e0954ef44e1",
   "metadata": {},
   "outputs": [],
   "source": [
    "wb = openpyxl.Workbook()\n",
    "sheet = wb.active\n",
    "sheet['A1'] = 200\n",
    "sheet['A2'] = 300"
   ]
  },
  {
   "cell_type": "code",
   "execution_count": 12,
   "id": "786112e9-4080-40ce-bb2b-ede50e8e04ca",
   "metadata": {},
   "outputs": [],
   "source": [
    "sheet['A3'] = '=SUM(A1:A2)'\n",
    "wb.save('automate_online-materials\\\\my_write_formula.xlsx')"
   ]
  },
  {
   "cell_type": "markdown",
   "id": "3ff95ea1-5ff7-4a99-ae39-352350338488",
   "metadata": {},
   "source": [
    "# Adding Rows and Columns"
   ]
  },
  {
   "cell_type": "markdown",
   "id": "35154323-3ee9-410a-a5a0-22a108073f74",
   "metadata": {},
   "source": [
    "## Setting Row Height and Column Width"
   ]
  },
  {
   "cell_type": "code",
   "execution_count": 18,
   "id": "ab1817cb-acc4-461c-acda-465a3464805c",
   "metadata": {},
   "outputs": [],
   "source": [
    "wb = openpyxl.Workbook()\n",
    "sheet = wb.active\n",
    "sheet['A1'] = 'Tall row'\n",
    "sheet['B2'] = 'Wide row'\n",
    "sheet.row_dimensions[1].height = 70\n",
    "sheet.column_dimensions['B'].width = 20\n",
    "wb.save('automate_online-materials\\\\my_dimensions.xlsx')"
   ]
  },
  {
   "cell_type": "markdown",
   "id": "b654135f-e10e-4c5a-b3f1-e7bbfec8616a",
   "metadata": {},
   "source": [
    "## Merging and Unmerging Rows"
   ]
  },
  {
   "cell_type": "code",
   "execution_count": 19,
   "id": "1096487d-0aba-470c-a89d-ae16c4857743",
   "metadata": {},
   "outputs": [],
   "source": [
    "wb = openpyxl.Workbook()\n",
    "sheet = wb.active\n",
    "sheet.merge_cells('A1:D3')\n",
    "sheet['A1'] = 'Twelve cells merged together.'\n",
    "sheet.merge_cells('C5:D5')\n",
    "sheet['C5'] = 'Two cells merged together.'\n",
    "wb.save('automate_online-materials\\\\my_merged.xlsx')"
   ]
  },
  {
   "cell_type": "code",
   "execution_count": 20,
   "id": "b5db5c95-f43f-47b5-9d26-fc876a5eb317",
   "metadata": {},
   "outputs": [],
   "source": [
    "wb = openpyxl.load_workbook('automate_online-materials\\\\my_merged.xlsx')\n",
    "sheet = wb.active\n",
    "sheet.unmerge_cells('A1:D3')\n",
    "sheet.unmerge_cells('C5:D5')\n",
    "wb.save('automate_online-materials\\\\my_merged.xlsx')"
   ]
  },
  {
   "cell_type": "markdown",
   "id": "500f3e30-47c3-4861-a566-c80b6c2fcb4c",
   "metadata": {},
   "source": [
    "## Freezing Panes"
   ]
  },
  {
   "cell_type": "code",
   "execution_count": 21,
   "id": "f05520c4-70aa-4de0-9b31-ad3438158bd4",
   "metadata": {},
   "outputs": [],
   "source": [
    "wb = openpyxl.load_workbook('automate_online-materials\\\\produceSales.xlsx')\n",
    "sheet = wb.active\n",
    "sheet.freeze_panes = 'A2'\n",
    "wb.save('automate_online-materials\\\\produceSales.xlsx')"
   ]
  },
  {
   "cell_type": "markdown",
   "id": "823650b5-0f80-40df-86a7-0564d54198fd",
   "metadata": {},
   "source": [
    "## Charts"
   ]
  },
  {
   "cell_type": "code",
   "execution_count": 27,
   "id": "1ffa992e-5264-42f1-a8c9-9b1aa4b66608",
   "metadata": {},
   "outputs": [],
   "source": [
    "wb = openpyxl.Workbook()\n",
    "sheet = wb.active\n",
    "for i in range(1, 11):\n",
    "    sheet['A' + str(i)] = i\n",
    "\n",
    "ref_job = openpyxl.chart.Reference(sheet, min_col=1, min_row=1, max_col=1, max_row=10)\n",
    "series_obj = openpyxl.chart.Series(ref_job, title='First Series')\n",
    "\n",
    "chart_obj = openpyxl.chart.BarChart()\n",
    "chart_obj.title = 'My Chart'\n",
    "chart_obj.append(series_obj)\n",
    "\n",
    "sheet.add_chart(chart_obj, 'C5')\n",
    "wb.save('automate_online-materials\\\\my_sampleChart.xlsx')"
   ]
  }
 ],
 "metadata": {
  "kernelspec": {
   "display_name": "Python 3 (ipykernel)",
   "language": "python",
   "name": "python3"
  },
  "language_info": {
   "codemirror_mode": {
    "name": "ipython",
    "version": 3
   },
   "file_extension": ".py",
   "mimetype": "text/x-python",
   "name": "python",
   "nbconvert_exporter": "python",
   "pygments_lexer": "ipython3",
   "version": "3.12.1"
  }
 },
 "nbformat": 4,
 "nbformat_minor": 5
}
