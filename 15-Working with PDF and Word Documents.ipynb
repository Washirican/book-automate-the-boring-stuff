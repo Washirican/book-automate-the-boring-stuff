{
 "cells": [
  {
   "cell_type": "markdown",
   "id": "c96b044d-d635-48c6-8c11-6c3ce9683ce9",
   "metadata": {},
   "source": [
    "## Extracting Text from PDFs"
   ]
  },
  {
   "cell_type": "code",
   "execution_count": 1,
   "id": "6ddf86c9-0eb9-40dd-b322-fdbeefb1111a",
   "metadata": {},
   "outputs": [],
   "source": [
    "import PyPDF2"
   ]
  },
  {
   "cell_type": "code",
   "execution_count": 12,
   "id": "6e9664c6-f967-486b-85e0-7801efce5e02",
   "metadata": {},
   "outputs": [],
   "source": [
    "pdf_file_obj = open('automate_online-materials\\\\meetingminutes.pdf', 'rb')"
   ]
  },
  {
   "cell_type": "code",
   "execution_count": 13,
   "id": "4c586d45-ebb1-47a9-82e8-27636c1ba166",
   "metadata": {},
   "outputs": [],
   "source": [
    "pdf_reader = PyPDF2.PdfFileReader(pdf_file_obj)"
   ]
  },
  {
   "cell_type": "code",
   "execution_count": 14,
   "id": "466bdeff-c907-4f0c-ae9e-a57ecc9c1813",
   "metadata": {},
   "outputs": [
    {
     "data": {
      "text/plain": [
       "19"
      ]
     },
     "execution_count": 14,
     "metadata": {},
     "output_type": "execute_result"
    }
   ],
   "source": [
    "pdf_reader.numPages"
   ]
  },
  {
   "cell_type": "markdown",
   "id": "f637ae26-7505-49af-ae6c-7536b7af7951",
   "metadata": {},
   "source": [
    "Document pages are 0 indexed. First page is index 0 regardless of document numbering."
   ]
  },
  {
   "cell_type": "code",
   "execution_count": 15,
   "id": "efa10b7b-aab2-4b22-8dd3-54e85c394517",
   "metadata": {},
   "outputs": [],
   "source": [
    "page_obj = pdf_reader.getPage(0)"
   ]
  },
  {
   "cell_type": "code",
   "execution_count": 16,
   "id": "a12174e7-8db3-4efb-9437-8bfb872621ce",
   "metadata": {},
   "outputs": [
    {
     "data": {
      "text/plain": [
       "<bound method PageObject.extractText of {'/Contents': [IndirectObject(961, 0), IndirectObject(962, 0), IndirectObject(963, 0), IndirectObject(964, 0), IndirectObject(965, 0), IndirectObject(966, 0), IndirectObject(967, 0), IndirectObject(968, 0)], '/CropBox': [0, 0, 612, 792], '/MediaBox': [0, 0, 612, 792], '/Parent': IndirectObject(953, 0), '/Resources': {'/ColorSpace': {'/CS0': IndirectObject(975, 0), '/CS1': IndirectObject(976, 0), '/CS2': IndirectObject(976, 0)}, '/ExtGState': {'/GS0': IndirectObject(977, 0)}, '/Font': {'/TT0': IndirectObject(979, 0), '/TT1': IndirectObject(981, 0), '/TT2': IndirectObject(983, 0), '/TT3': IndirectObject(985, 0), '/TT4': IndirectObject(987, 0), '/TT5': IndirectObject(989, 0)}, '/XObject': {'/Im0': IndirectObject(973, 0)}}, '/Rotate': 0, '/StructParents': 0, '/Type': '/Page'}>"
      ]
     },
     "execution_count": 16,
     "metadata": {},
     "output_type": "execute_result"
    }
   ],
   "source": [
    "page_obj.extractText"
   ]
  },
  {
   "cell_type": "markdown",
   "id": "6379197e-ec7b-43ab-b263-d770ab42c350",
   "metadata": {},
   "source": [
    "Always close pdf file object when done."
   ]
  },
  {
   "cell_type": "code",
   "execution_count": 18,
   "id": "2dad5039-2e0c-423f-8797-f7c8429cf7df",
   "metadata": {},
   "outputs": [
    {
     "data": {
      "text/plain": [
       "<function BufferedReader.close()>"
      ]
     },
     "execution_count": 18,
     "metadata": {},
     "output_type": "execute_result"
    }
   ],
   "source": [
    "pdf_file_obj.close"
   ]
  },
  {
   "cell_type": "markdown",
   "id": "a64a06b9-0cc4-44c0-9921-cef3fde4f53b",
   "metadata": {},
   "source": [
    "## Decrypting PDFs"
   ]
  },
  {
   "cell_type": "code",
   "execution_count": 8,
   "id": "2390baf9-daee-4de0-b66b-c4b121573133",
   "metadata": {},
   "outputs": [],
   "source": [
    "pdf_reader = PyPDF2.PdfFileReader(open('automate_online-materials\\\\encrypted.pdf', 'rb'))"
   ]
  },
  {
   "cell_type": "code",
   "execution_count": 9,
   "id": "63e5e1b9-8273-42bc-87c4-93de7803bc23",
   "metadata": {},
   "outputs": [
    {
     "data": {
      "text/plain": [
       "True"
      ]
     },
     "execution_count": 9,
     "metadata": {},
     "output_type": "execute_result"
    }
   ],
   "source": [
    "pdf_reader.isEncrypted"
   ]
  },
  {
   "cell_type": "code",
   "execution_count": 10,
   "id": "7e092fd7-2569-4da5-9b99-f85d8264f6f9",
   "metadata": {},
   "outputs": [
    {
     "name": "stderr",
     "output_type": "stream",
     "text": [
      "SyntaxWarning: invalid escape sequence '\\c' [generic.py:353]\n"
     ]
    },
    {
     "ename": "PdfReadError",
     "evalue": "file has not been decrypted",
     "output_type": "error",
     "traceback": [
      "\u001b[1;31m---------------------------------------------------------------------------\u001b[0m",
      "\u001b[1;31mPdfReadError\u001b[0m                              Traceback (most recent call last)",
      "Cell \u001b[1;32mIn[10], line 1\u001b[0m\n\u001b[1;32m----> 1\u001b[0m \u001b[43mpdf_reader\u001b[49m\u001b[38;5;241;43m.\u001b[39;49m\u001b[43mgetPage\u001b[49m\u001b[43m(\u001b[49m\u001b[38;5;241;43m0\u001b[39;49m\u001b[43m)\u001b[49m\n",
      "File \u001b[1;32m~\\Documents\\Python Scripts\\automate-stuff\\venv\\Lib\\site-packages\\PyPDF2\\pdf.py:1176\u001b[0m, in \u001b[0;36mPdfFileReader.getPage\u001b[1;34m(self, pageNumber)\u001b[0m\n\u001b[0;32m   1173\u001b[0m \u001b[38;5;66;03m## ensure that we're not trying to access an encrypted PDF\u001b[39;00m\n\u001b[0;32m   1174\u001b[0m \u001b[38;5;66;03m#assert not self.trailer.has_key(\"/Encrypt\")\u001b[39;00m\n\u001b[0;32m   1175\u001b[0m \u001b[38;5;28;01mif\u001b[39;00m \u001b[38;5;28mself\u001b[39m\u001b[38;5;241m.\u001b[39mflattenedPages \u001b[38;5;241m==\u001b[39m \u001b[38;5;28;01mNone\u001b[39;00m:\n\u001b[1;32m-> 1176\u001b[0m     \u001b[38;5;28;43mself\u001b[39;49m\u001b[38;5;241;43m.\u001b[39;49m\u001b[43m_flatten\u001b[49m\u001b[43m(\u001b[49m\u001b[43m)\u001b[49m\n\u001b[0;32m   1177\u001b[0m \u001b[38;5;28;01mreturn\u001b[39;00m \u001b[38;5;28mself\u001b[39m\u001b[38;5;241m.\u001b[39mflattenedPages[pageNumber]\n",
      "File \u001b[1;32m~\\Documents\\Python Scripts\\automate-stuff\\venv\\Lib\\site-packages\\PyPDF2\\pdf.py:1505\u001b[0m, in \u001b[0;36mPdfFileReader._flatten\u001b[1;34m(self, pages, inherit, indirectRef)\u001b[0m\n\u001b[0;32m   1503\u001b[0m \u001b[38;5;28;01mif\u001b[39;00m pages \u001b[38;5;241m==\u001b[39m \u001b[38;5;28;01mNone\u001b[39;00m:\n\u001b[0;32m   1504\u001b[0m     \u001b[38;5;28mself\u001b[39m\u001b[38;5;241m.\u001b[39mflattenedPages \u001b[38;5;241m=\u001b[39m []\n\u001b[1;32m-> 1505\u001b[0m     catalog \u001b[38;5;241m=\u001b[39m \u001b[38;5;28;43mself\u001b[39;49m\u001b[38;5;241;43m.\u001b[39;49m\u001b[43mtrailer\u001b[49m\u001b[43m[\u001b[49m\u001b[38;5;124;43m\"\u001b[39;49m\u001b[38;5;124;43m/Root\u001b[39;49m\u001b[38;5;124;43m\"\u001b[39;49m\u001b[43m]\u001b[49m\u001b[38;5;241m.\u001b[39mgetObject()\n\u001b[0;32m   1506\u001b[0m     pages \u001b[38;5;241m=\u001b[39m catalog[\u001b[38;5;124m\"\u001b[39m\u001b[38;5;124m/Pages\u001b[39m\u001b[38;5;124m\"\u001b[39m]\u001b[38;5;241m.\u001b[39mgetObject()\n\u001b[0;32m   1508\u001b[0m t \u001b[38;5;241m=\u001b[39m \u001b[38;5;124m\"\u001b[39m\u001b[38;5;124m/Pages\u001b[39m\u001b[38;5;124m\"\u001b[39m\n",
      "File \u001b[1;32m~\\Documents\\Python Scripts\\automate-stuff\\venv\\Lib\\site-packages\\PyPDF2\\generic.py:516\u001b[0m, in \u001b[0;36mDictionaryObject.__getitem__\u001b[1;34m(self, key)\u001b[0m\n\u001b[0;32m    515\u001b[0m \u001b[38;5;28;01mdef\u001b[39;00m \u001b[38;5;21m__getitem__\u001b[39m(\u001b[38;5;28mself\u001b[39m, key):\n\u001b[1;32m--> 516\u001b[0m     \u001b[38;5;28;01mreturn\u001b[39;00m \u001b[38;5;28;43mdict\u001b[39;49m\u001b[38;5;241;43m.\u001b[39;49m\u001b[38;5;21;43m__getitem__\u001b[39;49m\u001b[43m(\u001b[49m\u001b[38;5;28;43mself\u001b[39;49m\u001b[43m,\u001b[49m\u001b[43m \u001b[49m\u001b[43mkey\u001b[49m\u001b[43m)\u001b[49m\u001b[38;5;241;43m.\u001b[39;49m\u001b[43mgetObject\u001b[49m\u001b[43m(\u001b[49m\u001b[43m)\u001b[49m\n",
      "File \u001b[1;32m~\\Documents\\Python Scripts\\automate-stuff\\venv\\Lib\\site-packages\\PyPDF2\\generic.py:178\u001b[0m, in \u001b[0;36mIndirectObject.getObject\u001b[1;34m(self)\u001b[0m\n\u001b[0;32m    177\u001b[0m \u001b[38;5;28;01mdef\u001b[39;00m \u001b[38;5;21mgetObject\u001b[39m(\u001b[38;5;28mself\u001b[39m):\n\u001b[1;32m--> 178\u001b[0m     \u001b[38;5;28;01mreturn\u001b[39;00m \u001b[38;5;28;43mself\u001b[39;49m\u001b[38;5;241;43m.\u001b[39;49m\u001b[43mpdf\u001b[49m\u001b[38;5;241;43m.\u001b[39;49m\u001b[43mgetObject\u001b[49m\u001b[43m(\u001b[49m\u001b[38;5;28;43mself\u001b[39;49m\u001b[43m)\u001b[49m\u001b[38;5;241m.\u001b[39mgetObject()\n",
      "File \u001b[1;32m~\\Documents\\Python Scripts\\automate-stuff\\venv\\Lib\\site-packages\\PyPDF2\\pdf.py:1617\u001b[0m, in \u001b[0;36mPdfFileReader.getObject\u001b[1;34m(self, indirectReference)\u001b[0m\n\u001b[0;32m   1614\u001b[0m \u001b[38;5;28;01mif\u001b[39;00m \u001b[38;5;129;01mnot\u001b[39;00m \u001b[38;5;28mself\u001b[39m\u001b[38;5;241m.\u001b[39m_override_encryption \u001b[38;5;129;01mand\u001b[39;00m \u001b[38;5;28mself\u001b[39m\u001b[38;5;241m.\u001b[39misEncrypted:\n\u001b[0;32m   1615\u001b[0m     \u001b[38;5;66;03m# if we don't have the encryption key:\u001b[39;00m\n\u001b[0;32m   1616\u001b[0m     \u001b[38;5;28;01mif\u001b[39;00m \u001b[38;5;129;01mnot\u001b[39;00m \u001b[38;5;28mhasattr\u001b[39m(\u001b[38;5;28mself\u001b[39m, \u001b[38;5;124m'\u001b[39m\u001b[38;5;124m_decryption_key\u001b[39m\u001b[38;5;124m'\u001b[39m):\n\u001b[1;32m-> 1617\u001b[0m         \u001b[38;5;28;01mraise\u001b[39;00m utils\u001b[38;5;241m.\u001b[39mPdfReadError(\u001b[38;5;124m\"\u001b[39m\u001b[38;5;124mfile has not been decrypted\u001b[39m\u001b[38;5;124m\"\u001b[39m)\n\u001b[0;32m   1618\u001b[0m     \u001b[38;5;66;03m# otherwise, decrypt here...\u001b[39;00m\n\u001b[0;32m   1619\u001b[0m     \u001b[38;5;28;01mimport\u001b[39;00m \u001b[38;5;21;01mstruct\u001b[39;00m\n",
      "\u001b[1;31mPdfReadError\u001b[0m: file has not been decrypted"
     ]
    }
   ],
   "source": [
    "pdf_reader.getPage(0)"
   ]
  },
  {
   "cell_type": "markdown",
   "id": "8b6535dd-febb-4229-965a-19653d306ed1",
   "metadata": {},
   "source": [
    "Get Page errors out because pdf file is encrupted and has not been decripted. "
   ]
  },
  {
   "cell_type": "code",
   "execution_count": null,
   "id": "da8da260-209e-4b45-9323-a60b3dc249ae",
   "metadata": {},
   "outputs": [],
   "source": [
    "pdf_reader = PyPDF2.PdfFileReader(open('automate_online-materials\\\\encrypted.pdf', 'rb'))"
   ]
  },
  {
   "cell_type": "code",
   "execution_count": null,
   "id": "d6bd23c6-0bb8-48c4-b79a-1c3f3a66b633",
   "metadata": {},
   "outputs": [],
   "source": [
    "pdf_reader.decrypt('rosebud')"
   ]
  },
  {
   "cell_type": "code",
   "execution_count": null,
   "id": "55bc9f72-9602-4705-b498-3cc0719b6a41",
   "metadata": {},
   "outputs": [],
   "source": [
    "page_obj = pdf_reader.getPage(0)"
   ]
  },
  {
   "cell_type": "markdown",
   "id": "bd686d64-ec6f-45e9-911d-27cfa6afec09",
   "metadata": {},
   "source": [
    "## Creating PDFs"
   ]
  },
  {
   "cell_type": "markdown",
   "id": "e4ce2a37-a45b-4b10-9a42-18f13abecf8b",
   "metadata": {},
   "source": [
    "## Copying Pages"
   ]
  },
  {
   "cell_type": "code",
   "execution_count": null,
   "id": "5f750770-60af-4a00-9ef9-95e6f1d25f5c",
   "metadata": {},
   "outputs": [],
   "source": [
    "pdf_file_1 = open('automate_online-materials\\\\meetingminutes.pdf', 'rb')"
   ]
  },
  {
   "cell_type": "code",
   "execution_count": null,
   "id": "0877f9b1-fb29-4216-83b9-a51006e6e40a",
   "metadata": {},
   "outputs": [],
   "source": [
    "pdf_file_2 = open('automate_online-materials\\\\meetingminutes2.pdf', 'rb')"
   ]
  },
  {
   "cell_type": "code",
   "execution_count": null,
   "id": "613e3f16-fad2-4016-b059-522d0e8aff69",
   "metadata": {},
   "outputs": [],
   "source": [
    "pdf_reader_1 = PyPDF2.PdfFileReader(pdf_file_1)"
   ]
  },
  {
   "cell_type": "code",
   "execution_count": null,
   "id": "4c4a09f6-2d1d-4ab7-940a-25b0f1a68373",
   "metadata": {},
   "outputs": [],
   "source": [
    "pdf_reader_2 = PyPDF2.PdfFileReader(pdf_file_2)"
   ]
  },
  {
   "cell_type": "code",
   "execution_count": null,
   "id": "9a124cc4-9ff4-49a6-b5ad-5ded0be9bf3e",
   "metadata": {},
   "outputs": [],
   "source": [
    "pdf_writer = PyPDF2.PdfFileWriter()"
   ]
  },
  {
   "cell_type": "code",
   "execution_count": null,
   "id": "c94eaf21-2a15-4784-8684-da4b3dd2e0dd",
   "metadata": {},
   "outputs": [],
   "source": [
    "for page_num in range(pdf_reader_1.numPages):\n",
    "    page_obj = pdf_reader_1.getPage(page_num)\n",
    "    pdf_writer.addPage(page_obj)"
   ]
  },
  {
   "cell_type": "code",
   "execution_count": null,
   "id": "f5105cb0-d40c-4429-aa26-577a96d44d5d",
   "metadata": {},
   "outputs": [],
   "source": [
    "for page_num in range(pdf_reader_2.numPages):\n",
    "    page_obj = pdf_reader_2.getPage(page_num)\n",
    "    pdf_writer.addPage(page_obj)"
   ]
  },
  {
   "cell_type": "code",
   "execution_count": null,
   "id": "b8ab9254-2ed8-43cd-bd6f-410573163149",
   "metadata": {},
   "outputs": [],
   "source": [
    "pdf_output_file = open('automate_online-materials\\\\combines_minutes.pdf', 'wb')"
   ]
  },
  {
   "cell_type": "code",
   "execution_count": null,
   "id": "6afb6dcf-6eb8-4b34-88d1-5baae09cb3bc",
   "metadata": {},
   "outputs": [],
   "source": [
    "pdf_writer.write(pdf_output_file)\n",
    "pdf_output_file.close()\n",
    "pdf_file_1.close()\n",
    "pdf_file_2.close()"
   ]
  },
  {
   "cell_type": "markdown",
   "id": "13fd2de7-efd8-4924-a43a-0f8c61463928",
   "metadata": {},
   "source": [
    "## Rotating Pages"
   ]
  },
  {
   "cell_type": "markdown",
   "id": "bd2c5c87-ff06-4cf6-b778-d6359aac078b",
   "metadata": {},
   "source": [
    "The pages of a PDF can also be rotated in 90-degree increments with the rotateClockwise() and rotateCounterClockwise() methods."
   ]
  },
  {
   "cell_type": "code",
   "execution_count": 23,
   "id": "c9e20f70-71e6-454a-8ce5-03bf94d315aa",
   "metadata": {},
   "outputs": [
    {
     "data": {
      "text/plain": [
       "{'/Contents': [IndirectObject(961, 0),\n",
       "  IndirectObject(962, 0),\n",
       "  IndirectObject(963, 0),\n",
       "  IndirectObject(964, 0),\n",
       "  IndirectObject(965, 0),\n",
       "  IndirectObject(966, 0),\n",
       "  IndirectObject(967, 0),\n",
       "  IndirectObject(968, 0)],\n",
       " '/CropBox': [0, 0, 612, 792],\n",
       " '/MediaBox': [0, 0, 612, 792],\n",
       " '/Parent': {'/Count': 9,\n",
       "  '/Kids': [IndirectObject(959, 0),\n",
       "   IndirectObject(1, 0),\n",
       "   IndirectObject(11, 0),\n",
       "   IndirectObject(13, 0),\n",
       "   IndirectObject(15, 0),\n",
       "   IndirectObject(17, 0),\n",
       "   IndirectObject(19, 0),\n",
       "   IndirectObject(24, 0),\n",
       "   IndirectObject(26, 0)],\n",
       "  '/Parent': {'/Count': 19,\n",
       "   '/Kids': [IndirectObject(953, 0),\n",
       "    IndirectObject(954, 0),\n",
       "    IndirectObject(955, 0)],\n",
       "   '/Type': '/Pages'},\n",
       "  '/Type': '/Pages'},\n",
       " '/Resources': {'/ColorSpace': {'/CS0': ['/ICCBased', IndirectObject(969, 0)],\n",
       "   '/CS1': ['/ICCBased', IndirectObject(970, 0)],\n",
       "   '/CS2': ['/ICCBased', IndirectObject(970, 0)]},\n",
       "  '/ExtGState': {'/GS0': {'/AIS': <PyPDF2.generic.BooleanObject at 0x112f6af54c0>,\n",
       "    '/BM': '/Normal',\n",
       "    '/CA': 1,\n",
       "    '/OP': <PyPDF2.generic.BooleanObject at 0x112f6af75f0>,\n",
       "    '/OPM': 1,\n",
       "    '/SA': <PyPDF2.generic.BooleanObject at 0x112f6af7f80>,\n",
       "    '/SMask': '/None',\n",
       "    '/Type': '/ExtGState',\n",
       "    '/ca': 1,\n",
       "    '/op': <PyPDF2.generic.BooleanObject at 0x112f6af6f90>}},\n",
       "  '/Font': {'/TT0': {'/BaseFont': '/Arial-Black',\n",
       "    '/Encoding': '/WinAnsiEncoding',\n",
       "    '/FirstChar': 0,\n",
       "    '/FontDescriptor': {'/Ascent': 1083,\n",
       "     '/CapHeight': 716,\n",
       "     '/Descent': -307,\n",
       "     '/Flags': 32,\n",
       "     '/FontBBox': [-194, -307, 1688, 1083],\n",
       "     '/FontFamily': 'Arial Black',\n",
       "     '/FontName': '/Arial-Black',\n",
       "     '/FontStretch': '/Normal',\n",
       "     '/FontWeight': 900,\n",
       "     '/ItalicAngle': 0,\n",
       "     '/StemV': 200,\n",
       "     '/Type': '/FontDescriptor',\n",
       "     '/XHeight': 519},\n",
       "    '/LastChar': 255,\n",
       "    '/Subtype': '/TrueType',\n",
       "    '/Type': '/Font',\n",
       "    '/Widths': [750,\n",
       "     333,\n",
       "     333,\n",
       "     333,\n",
       "     333,\n",
       "     333,\n",
       "     333,\n",
       "     333,\n",
       "     333,\n",
       "     333,\n",
       "     333,\n",
       "     333,\n",
       "     333,\n",
       "     333,\n",
       "     333,\n",
       "     333,\n",
       "     333,\n",
       "     333,\n",
       "     333,\n",
       "     333,\n",
       "     333,\n",
       "     333,\n",
       "     333,\n",
       "     333,\n",
       "     333,\n",
       "     333,\n",
       "     333,\n",
       "     333,\n",
       "     333,\n",
       "     333,\n",
       "     333,\n",
       "     333,\n",
       "     333,\n",
       "     333,\n",
       "     500,\n",
       "     660,\n",
       "     667,\n",
       "     1000,\n",
       "     889,\n",
       "     278,\n",
       "     389,\n",
       "     389,\n",
       "     556,\n",
       "     660,\n",
       "     333,\n",
       "     333,\n",
       "     333,\n",
       "     278,\n",
       "     667,\n",
       "     667,\n",
       "     667,\n",
       "     667,\n",
       "     667,\n",
       "     667,\n",
       "     667,\n",
       "     667,\n",
       "     667,\n",
       "     667,\n",
       "     333,\n",
       "     333,\n",
       "     660,\n",
       "     660,\n",
       "     660,\n",
       "     611,\n",
       "     740,\n",
       "     778,\n",
       "     778,\n",
       "     778,\n",
       "     778,\n",
       "     722,\n",
       "     667,\n",
       "     833,\n",
       "     833,\n",
       "     389,\n",
       "     667,\n",
       "     833,\n",
       "     667,\n",
       "     944,\n",
       "     833,\n",
       "     833,\n",
       "     722,\n",
       "     833,\n",
       "     778,\n",
       "     722,\n",
       "     722,\n",
       "     833,\n",
       "     778,\n",
       "     1000,\n",
       "     778,\n",
       "     778,\n",
       "     722,\n",
       "     389,\n",
       "     278,\n",
       "     389,\n",
       "     660,\n",
       "     500,\n",
       "     333,\n",
       "     667,\n",
       "     667,\n",
       "     667,\n",
       "     667,\n",
       "     667,\n",
       "     389,\n",
       "     667,\n",
       "     667,\n",
       "     333,\n",
       "     333,\n",
       "     667,\n",
       "     333,\n",
       "     1000,\n",
       "     667,\n",
       "     667,\n",
       "     667,\n",
       "     667,\n",
       "     444,\n",
       "     611,\n",
       "     444,\n",
       "     667,\n",
       "     611,\n",
       "     944,\n",
       "     667,\n",
       "     611,\n",
       "     556,\n",
       "     389,\n",
       "     278,\n",
       "     389,\n",
       "     660,\n",
       "     500,\n",
       "     667,\n",
       "     500,\n",
       "     278,\n",
       "     667,\n",
       "     500,\n",
       "     1000,\n",
       "     667,\n",
       "     667,\n",
       "     333,\n",
       "     1000,\n",
       "     722,\n",
       "     333,\n",
       "     1000,\n",
       "     500,\n",
       "     722,\n",
       "     500,\n",
       "     500,\n",
       "     278,\n",
       "     278,\n",
       "     500,\n",
       "     500,\n",
       "     500,\n",
       "     500,\n",
       "     1000,\n",
       "     333,\n",
       "     950,\n",
       "     611,\n",
       "     333,\n",
       "     1000,\n",
       "     500,\n",
       "     556,\n",
       "     778,\n",
       "     333,\n",
       "     333,\n",
       "     667,\n",
       "     667,\n",
       "     660,\n",
       "     667,\n",
       "     278,\n",
       "     667,\n",
       "     333,\n",
       "     800,\n",
       "     400,\n",
       "     667,\n",
       "     660,\n",
       "     333,\n",
       "     800,\n",
       "     500,\n",
       "     400,\n",
       "     660,\n",
       "     400,\n",
       "     400,\n",
       "     333,\n",
       "     667,\n",
       "     850,\n",
       "     333,\n",
       "     333,\n",
       "     400,\n",
       "     400,\n",
       "     667,\n",
       "     1000,\n",
       "     1000,\n",
       "     1000,\n",
       "     611,\n",
       "     778,\n",
       "     778,\n",
       "     778,\n",
       "     778,\n",
       "     778,\n",
       "     778,\n",
       "     1000,\n",
       "     778,\n",
       "     722,\n",
       "     722,\n",
       "     722,\n",
       "     722,\n",
       "     389,\n",
       "     389,\n",
       "     389,\n",
       "     389,\n",
       "     778,\n",
       "     833,\n",
       "     833,\n",
       "     833,\n",
       "     833,\n",
       "     833,\n",
       "     833,\n",
       "     660,\n",
       "     833,\n",
       "     833,\n",
       "     833,\n",
       "     833,\n",
       "     833,\n",
       "     778,\n",
       "     722,\n",
       "     667,\n",
       "     667,\n",
       "     667,\n",
       "     667,\n",
       "     667,\n",
       "     667,\n",
       "     667,\n",
       "     1000,\n",
       "     667,\n",
       "     667,\n",
       "     667,\n",
       "     667,\n",
       "     667,\n",
       "     333,\n",
       "     333,\n",
       "     333,\n",
       "     333,\n",
       "     667,\n",
       "     667,\n",
       "     667,\n",
       "     667,\n",
       "     667,\n",
       "     667,\n",
       "     667,\n",
       "     660,\n",
       "     667,\n",
       "     667,\n",
       "     667,\n",
       "     667,\n",
       "     667,\n",
       "     611,\n",
       "     667,\n",
       "     611]},\n",
       "   '/TT1': {'/BaseFont': '/ArialMT',\n",
       "    '/Encoding': '/WinAnsiEncoding',\n",
       "    '/FirstChar': 0,\n",
       "    '/FontDescriptor': {'/Ascent': 1006,\n",
       "     '/CapHeight': 716,\n",
       "     '/Descent': -325,\n",
       "     '/Flags': 32,\n",
       "     '/FontBBox': [-665, -325, 2000, 1006],\n",
       "     '/FontFamily': 'Arial',\n",
       "     '/FontName': '/ArialMT',\n",
       "     '/FontStretch': '/Normal',\n",
       "     '/FontWeight': 400,\n",
       "     '/ItalicAngle': 0,\n",
       "     '/StemV': 88,\n",
       "     '/Type': '/FontDescriptor',\n",
       "     '/XHeight': 519},\n",
       "    '/LastChar': 255,\n",
       "    '/Subtype': '/TrueType',\n",
       "    '/Type': '/Font',\n",
       "    '/Widths': [750,\n",
       "     750,\n",
       "     750,\n",
       "     750,\n",
       "     750,\n",
       "     750,\n",
       "     750,\n",
       "     750,\n",
       "     750,\n",
       "     750,\n",
       "     750,\n",
       "     750,\n",
       "     750,\n",
       "     750,\n",
       "     750,\n",
       "     750,\n",
       "     750,\n",
       "     750,\n",
       "     750,\n",
       "     750,\n",
       "     750,\n",
       "     750,\n",
       "     750,\n",
       "     750,\n",
       "     750,\n",
       "     750,\n",
       "     750,\n",
       "     750,\n",
       "     750,\n",
       "     750,\n",
       "     750,\n",
       "     750,\n",
       "     278,\n",
       "     278,\n",
       "     355,\n",
       "     556,\n",
       "     556,\n",
       "     889,\n",
       "     667,\n",
       "     191,\n",
       "     333,\n",
       "     333,\n",
       "     389,\n",
       "     584,\n",
       "     278,\n",
       "     333,\n",
       "     278,\n",
       "     278,\n",
       "     556,\n",
       "     556,\n",
       "     556,\n",
       "     556,\n",
       "     556,\n",
       "     556,\n",
       "     556,\n",
       "     556,\n",
       "     556,\n",
       "     556,\n",
       "     278,\n",
       "     278,\n",
       "     584,\n",
       "     584,\n",
       "     584,\n",
       "     556,\n",
       "     1015,\n",
       "     667,\n",
       "     667,\n",
       "     722,\n",
       "     722,\n",
       "     667,\n",
       "     611,\n",
       "     778,\n",
       "     722,\n",
       "     278,\n",
       "     500,\n",
       "     667,\n",
       "     556,\n",
       "     833,\n",
       "     722,\n",
       "     778,\n",
       "     667,\n",
       "     778,\n",
       "     722,\n",
       "     667,\n",
       "     611,\n",
       "     722,\n",
       "     667,\n",
       "     944,\n",
       "     667,\n",
       "     667,\n",
       "     611,\n",
       "     278,\n",
       "     278,\n",
       "     278,\n",
       "     469,\n",
       "     556,\n",
       "     333,\n",
       "     556,\n",
       "     556,\n",
       "     500,\n",
       "     556,\n",
       "     556,\n",
       "     278,\n",
       "     556,\n",
       "     556,\n",
       "     222,\n",
       "     222,\n",
       "     500,\n",
       "     222,\n",
       "     833,\n",
       "     556,\n",
       "     556,\n",
       "     556,\n",
       "     556,\n",
       "     333,\n",
       "     500,\n",
       "     278,\n",
       "     556,\n",
       "     500,\n",
       "     722,\n",
       "     500,\n",
       "     500,\n",
       "     500,\n",
       "     334,\n",
       "     260,\n",
       "     334,\n",
       "     584,\n",
       "     350,\n",
       "     556,\n",
       "     350,\n",
       "     222,\n",
       "     556,\n",
       "     333,\n",
       "     1000,\n",
       "     556,\n",
       "     556,\n",
       "     333,\n",
       "     1000,\n",
       "     667,\n",
       "     333,\n",
       "     1000,\n",
       "     350,\n",
       "     611,\n",
       "     350,\n",
       "     350,\n",
       "     222,\n",
       "     222,\n",
       "     333,\n",
       "     333,\n",
       "     350,\n",
       "     556,\n",
       "     1000,\n",
       "     333,\n",
       "     1000,\n",
       "     500,\n",
       "     333,\n",
       "     944,\n",
       "     350,\n",
       "     500,\n",
       "     667,\n",
       "     278,\n",
       "     333,\n",
       "     556,\n",
       "     556,\n",
       "     556,\n",
       "     556,\n",
       "     260,\n",
       "     556,\n",
       "     333,\n",
       "     737,\n",
       "     370,\n",
       "     556,\n",
       "     584,\n",
       "     333,\n",
       "     737,\n",
       "     552,\n",
       "     400,\n",
       "     549,\n",
       "     333,\n",
       "     333,\n",
       "     333,\n",
       "     576,\n",
       "     537,\n",
       "     333,\n",
       "     333,\n",
       "     333,\n",
       "     365,\n",
       "     556,\n",
       "     834,\n",
       "     834,\n",
       "     834,\n",
       "     611,\n",
       "     667,\n",
       "     667,\n",
       "     667,\n",
       "     667,\n",
       "     667,\n",
       "     667,\n",
       "     1000,\n",
       "     722,\n",
       "     667,\n",
       "     667,\n",
       "     667,\n",
       "     667,\n",
       "     278,\n",
       "     278,\n",
       "     278,\n",
       "     278,\n",
       "     722,\n",
       "     722,\n",
       "     778,\n",
       "     778,\n",
       "     778,\n",
       "     778,\n",
       "     778,\n",
       "     584,\n",
       "     778,\n",
       "     722,\n",
       "     722,\n",
       "     722,\n",
       "     722,\n",
       "     667,\n",
       "     667,\n",
       "     611,\n",
       "     556,\n",
       "     556,\n",
       "     556,\n",
       "     556,\n",
       "     556,\n",
       "     556,\n",
       "     889,\n",
       "     500,\n",
       "     556,\n",
       "     556,\n",
       "     556,\n",
       "     556,\n",
       "     278,\n",
       "     278,\n",
       "     278,\n",
       "     278,\n",
       "     556,\n",
       "     556,\n",
       "     556,\n",
       "     556,\n",
       "     556,\n",
       "     556,\n",
       "     556,\n",
       "     549,\n",
       "     611,\n",
       "     556,\n",
       "     556,\n",
       "     556,\n",
       "     556,\n",
       "     500,\n",
       "     556,\n",
       "     500]},\n",
       "   '/TT2': {'/BaseFont': '/Tahoma-Bold',\n",
       "    '/Encoding': '/WinAnsiEncoding',\n",
       "    '/FirstChar': 0,\n",
       "    '/FontDescriptor': {'/Ascent': 1065,\n",
       "     '/CapHeight': 727,\n",
       "     '/Descent': -216,\n",
       "     '/Flags': 32,\n",
       "     '/FontBBox': [-698, -216, 1625, 1065],\n",
       "     '/FontFamily': 'Tahoma',\n",
       "     '/FontName': '/Tahoma-Bold',\n",
       "     '/FontStretch': '/Normal',\n",
       "     '/FontWeight': 700,\n",
       "     '/ItalicAngle': 0,\n",
       "     '/StemV': 172,\n",
       "     '/Type': '/FontDescriptor',\n",
       "     '/XHeight': 548},\n",
       "    '/LastChar': 255,\n",
       "    '/Subtype': '/TrueType',\n",
       "    '/Type': '/Font',\n",
       "    '/Widths': [1000,\n",
       "     1000,\n",
       "     1000,\n",
       "     1000,\n",
       "     1000,\n",
       "     1000,\n",
       "     1000,\n",
       "     1000,\n",
       "     1000,\n",
       "     1000,\n",
       "     1000,\n",
       "     1000,\n",
       "     1000,\n",
       "     1000,\n",
       "     1000,\n",
       "     1000,\n",
       "     1000,\n",
       "     1000,\n",
       "     1000,\n",
       "     1000,\n",
       "     1000,\n",
       "     1000,\n",
       "     1000,\n",
       "     1000,\n",
       "     1000,\n",
       "     1000,\n",
       "     1000,\n",
       "     1000,\n",
       "     1000,\n",
       "     1000,\n",
       "     1000,\n",
       "     1000,\n",
       "     293,\n",
       "     343,\n",
       "     489,\n",
       "     818,\n",
       "     637,\n",
       "     1199,\n",
       "     781,\n",
       "     275,\n",
       "     454,\n",
       "     454,\n",
       "     637,\n",
       "     818,\n",
       "     313,\n",
       "     431,\n",
       "     313,\n",
       "     577,\n",
       "     637,\n",
       "     637,\n",
       "     637,\n",
       "     637,\n",
       "     637,\n",
       "     637,\n",
       "     637,\n",
       "     637,\n",
       "     637,\n",
       "     637,\n",
       "     363,\n",
       "     363,\n",
       "     818,\n",
       "     818,\n",
       "     818,\n",
       "     566,\n",
       "     920,\n",
       "     685,\n",
       "     686,\n",
       "     667,\n",
       "     757,\n",
       "     615,\n",
       "     581,\n",
       "     745,\n",
       "     764,\n",
       "     483,\n",
       "     500,\n",
       "     696,\n",
       "     572,\n",
       "     893,\n",
       "     771,\n",
       "     770,\n",
       "     657,\n",
       "     770,\n",
       "     726,\n",
       "     633,\n",
       "     612,\n",
       "     739,\n",
       "     675,\n",
       "     1028,\n",
       "     685,\n",
       "     670,\n",
       "     623,\n",
       "     454,\n",
       "     577,\n",
       "     454,\n",
       "     818,\n",
       "     637,\n",
       "     546,\n",
       "     599,\n",
       "     632,\n",
       "     527,\n",
       "     629,\n",
       "     594,\n",
       "     382,\n",
       "     629,\n",
       "     640,\n",
       "     302,\n",
       "     363,\n",
       "     603,\n",
       "     302,\n",
       "     954,\n",
       "     640,\n",
       "     617,\n",
       "     629,\n",
       "     629,\n",
       "     434,\n",
       "     515,\n",
       "     416,\n",
       "     640,\n",
       "     579,\n",
       "     890,\n",
       "     604,\n",
       "     576,\n",
       "     526,\n",
       "     623,\n",
       "     637,\n",
       "     623,\n",
       "     818,\n",
       "     637,\n",
       "     637,\n",
       "     637,\n",
       "     275,\n",
       "     637,\n",
       "     489,\n",
       "     1000,\n",
       "     637,\n",
       "     637,\n",
       "     546,\n",
       "     1676,\n",
       "     633,\n",
       "     425,\n",
       "     1037,\n",
       "     637,\n",
       "     623,\n",
       "     637,\n",
       "     637,\n",
       "     275,\n",
       "     275,\n",
       "     489,\n",
       "     489,\n",
       "     637,\n",
       "     637,\n",
       "     909,\n",
       "     546,\n",
       "     861,\n",
       "     515,\n",
       "     425,\n",
       "     985,\n",
       "     637,\n",
       "     526,\n",
       "     670,\n",
       "     293,\n",
       "     343,\n",
       "     637,\n",
       "     637,\n",
       "     637,\n",
       "     637,\n",
       "     637,\n",
       "     637,\n",
       "     546,\n",
       "     929,\n",
       "     508,\n",
       "     703,\n",
       "     818,\n",
       "     431,\n",
       "     929,\n",
       "     637,\n",
       "     520,\n",
       "     818,\n",
       "     539,\n",
       "     539,\n",
       "     546,\n",
       "     651,\n",
       "     637,\n",
       "     363,\n",
       "     546,\n",
       "     539,\n",
       "     539,\n",
       "     703,\n",
       "     1128,\n",
       "     1128,\n",
       "     1128,\n",
       "     566,\n",
       "     685,\n",
       "     685,\n",
       "     685,\n",
       "     685,\n",
       "     685,\n",
       "     685,\n",
       "     989,\n",
       "     667,\n",
       "     615,\n",
       "     615,\n",
       "     615,\n",
       "     615,\n",
       "     483,\n",
       "     483,\n",
       "     483,\n",
       "     483,\n",
       "     774,\n",
       "     771,\n",
       "     770,\n",
       "     770,\n",
       "     770,\n",
       "     770,\n",
       "     770,\n",
       "     818,\n",
       "     770,\n",
       "     739,\n",
       "     739,\n",
       "     739,\n",
       "     739,\n",
       "     670,\n",
       "     659,\n",
       "     646,\n",
       "     599,\n",
       "     599,\n",
       "     599,\n",
       "     599,\n",
       "     599,\n",
       "     599,\n",
       "     937,\n",
       "     527,\n",
       "     594,\n",
       "     594,\n",
       "     594,\n",
       "     594,\n",
       "     302,\n",
       "     302,\n",
       "     302,\n",
       "     302,\n",
       "     620,\n",
       "     640,\n",
       "     617,\n",
       "     617,\n",
       "     617,\n",
       "     617,\n",
       "     617,\n",
       "     818,\n",
       "     617,\n",
       "     640,\n",
       "     640,\n",
       "     640,\n",
       "     640,\n",
       "     576,\n",
       "     629,\n",
       "     576]},\n",
       "   '/TT3': {'/BaseFont': '/Arial-BoldMT',\n",
       "    '/Encoding': '/WinAnsiEncoding',\n",
       "    '/FirstChar': 0,\n",
       "    '/FontDescriptor': {'/Ascent': 1018,\n",
       "     '/CapHeight': 716,\n",
       "     '/Descent': -376,\n",
       "     '/Flags': 32,\n",
       "     '/FontBBox': [-628, -376, 2000, 1018],\n",
       "     '/FontFamily': 'Arial',\n",
       "     '/FontName': '/Arial-BoldMT',\n",
       "     '/FontStretch': '/Normal',\n",
       "     '/FontWeight': 700,\n",
       "     '/ItalicAngle': 0,\n",
       "     '/StemV': 136,\n",
       "     '/Type': '/FontDescriptor',\n",
       "     '/XHeight': 519},\n",
       "    '/LastChar': 255,\n",
       "    '/Subtype': '/TrueType',\n",
       "    '/Type': '/Font',\n",
       "    '/Widths': [750,\n",
       "     750,\n",
       "     750,\n",
       "     750,\n",
       "     750,\n",
       "     750,\n",
       "     750,\n",
       "     750,\n",
       "     750,\n",
       "     750,\n",
       "     750,\n",
       "     750,\n",
       "     750,\n",
       "     750,\n",
       "     750,\n",
       "     750,\n",
       "     750,\n",
       "     750,\n",
       "     750,\n",
       "     750,\n",
       "     750,\n",
       "     750,\n",
       "     750,\n",
       "     750,\n",
       "     750,\n",
       "     750,\n",
       "     750,\n",
       "     750,\n",
       "     750,\n",
       "     750,\n",
       "     750,\n",
       "     750,\n",
       "     278,\n",
       "     333,\n",
       "     474,\n",
       "     556,\n",
       "     556,\n",
       "     889,\n",
       "     722,\n",
       "     238,\n",
       "     333,\n",
       "     333,\n",
       "     389,\n",
       "     584,\n",
       "     278,\n",
       "     333,\n",
       "     278,\n",
       "     278,\n",
       "     556,\n",
       "     556,\n",
       "     556,\n",
       "     556,\n",
       "     556,\n",
       "     556,\n",
       "     556,\n",
       "     556,\n",
       "     556,\n",
       "     556,\n",
       "     333,\n",
       "     333,\n",
       "     584,\n",
       "     584,\n",
       "     584,\n",
       "     611,\n",
       "     975,\n",
       "     722,\n",
       "     722,\n",
       "     722,\n",
       "     722,\n",
       "     667,\n",
       "     611,\n",
       "     778,\n",
       "     722,\n",
       "     278,\n",
       "     556,\n",
       "     722,\n",
       "     611,\n",
       "     833,\n",
       "     722,\n",
       "     778,\n",
       "     667,\n",
       "     778,\n",
       "     722,\n",
       "     667,\n",
       "     611,\n",
       "     722,\n",
       "     667,\n",
       "     944,\n",
       "     667,\n",
       "     667,\n",
       "     611,\n",
       "     333,\n",
       "     278,\n",
       "     333,\n",
       "     584,\n",
       "     556,\n",
       "     333,\n",
       "     556,\n",
       "     611,\n",
       "     556,\n",
       "     611,\n",
       "     556,\n",
       "     333,\n",
       "     611,\n",
       "     611,\n",
       "     278,\n",
       "     278,\n",
       "     556,\n",
       "     278,\n",
       "     889,\n",
       "     611,\n",
       "     611,\n",
       "     611,\n",
       "     611,\n",
       "     389,\n",
       "     556,\n",
       "     333,\n",
       "     611,\n",
       "     556,\n",
       "     778,\n",
       "     556,\n",
       "     556,\n",
       "     500,\n",
       "     389,\n",
       "     280,\n",
       "     389,\n",
       "     584,\n",
       "     350,\n",
       "     556,\n",
       "     350,\n",
       "     278,\n",
       "     556,\n",
       "     500,\n",
       "     1000,\n",
       "     556,\n",
       "     556,\n",
       "     333,\n",
       "     1000,\n",
       "     667,\n",
       "     333,\n",
       "     1000,\n",
       "     350,\n",
       "     611,\n",
       "     350,\n",
       "     350,\n",
       "     278,\n",
       "     278,\n",
       "     500,\n",
       "     500,\n",
       "     350,\n",
       "     556,\n",
       "     1000,\n",
       "     333,\n",
       "     1000,\n",
       "     556,\n",
       "     333,\n",
       "     944,\n",
       "     350,\n",
       "     500,\n",
       "     667,\n",
       "     278,\n",
       "     333,\n",
       "     556,\n",
       "     556,\n",
       "     556,\n",
       "     556,\n",
       "     280,\n",
       "     556,\n",
       "     333,\n",
       "     737,\n",
       "     370,\n",
       "     556,\n",
       "     584,\n",
       "     333,\n",
       "     737,\n",
       "     552,\n",
       "     400,\n",
       "     549,\n",
       "     333,\n",
       "     333,\n",
       "     333,\n",
       "     576,\n",
       "     556,\n",
       "     333,\n",
       "     333,\n",
       "     333,\n",
       "     365,\n",
       "     556,\n",
       "     834,\n",
       "     834,\n",
       "     834,\n",
       "     611,\n",
       "     722,\n",
       "     722,\n",
       "     722,\n",
       "     722,\n",
       "     722,\n",
       "     722,\n",
       "     1000,\n",
       "     722,\n",
       "     667,\n",
       "     667,\n",
       "     667,\n",
       "     667,\n",
       "     278,\n",
       "     278,\n",
       "     278,\n",
       "     278,\n",
       "     722,\n",
       "     722,\n",
       "     778,\n",
       "     778,\n",
       "     778,\n",
       "     778,\n",
       "     778,\n",
       "     584,\n",
       "     778,\n",
       "     722,\n",
       "     722,\n",
       "     722,\n",
       "     722,\n",
       "     667,\n",
       "     667,\n",
       "     611,\n",
       "     556,\n",
       "     556,\n",
       "     556,\n",
       "     556,\n",
       "     556,\n",
       "     556,\n",
       "     889,\n",
       "     556,\n",
       "     556,\n",
       "     556,\n",
       "     556,\n",
       "     556,\n",
       "     278,\n",
       "     278,\n",
       "     278,\n",
       "     278,\n",
       "     611,\n",
       "     611,\n",
       "     611,\n",
       "     611,\n",
       "     611,\n",
       "     611,\n",
       "     611,\n",
       "     549,\n",
       "     611,\n",
       "     611,\n",
       "     611,\n",
       "     611,\n",
       "     611,\n",
       "     556,\n",
       "     611,\n",
       "     556]},\n",
       "   '/TT4': {'/BaseFont': '/TimesNewRomanPSMT',\n",
       "    '/Encoding': '/WinAnsiEncoding',\n",
       "    '/FirstChar': 0,\n",
       "    '/FontDescriptor': {'/Ascent': 1007,\n",
       "     '/CapHeight': 662,\n",
       "     '/Descent': -307,\n",
       "     '/Flags': 34,\n",
       "     '/FontBBox': [-568, -307, 2000, 1007],\n",
       "     '/FontFamily': 'Times New Roman',\n",
       "     '/FontName': '/TimesNewRomanPSMT',\n",
       "     '/FontStretch': '/Normal',\n",
       "     '/FontWeight': 400,\n",
       "     '/ItalicAngle': 0,\n",
       "     '/StemV': 80,\n",
       "     '/Type': '/FontDescriptor',\n",
       "     '/XHeight': 448},\n",
       "    '/LastChar': 255,\n",
       "    '/Subtype': '/TrueType',\n",
       "    '/Type': '/Font',\n",
       "    '/Widths': [778,\n",
       "     778,\n",
       "     778,\n",
       "     778,\n",
       "     778,\n",
       "     778,\n",
       "     778,\n",
       "     778,\n",
       "     778,\n",
       "     778,\n",
       "     778,\n",
       "     778,\n",
       "     778,\n",
       "     778,\n",
       "     778,\n",
       "     778,\n",
       "     778,\n",
       "     778,\n",
       "     778,\n",
       "     778,\n",
       "     778,\n",
       "     778,\n",
       "     778,\n",
       "     778,\n",
       "     778,\n",
       "     778,\n",
       "     778,\n",
       "     778,\n",
       "     778,\n",
       "     778,\n",
       "     778,\n",
       "     778,\n",
       "     250,\n",
       "     333,\n",
       "     408,\n",
       "     500,\n",
       "     500,\n",
       "     833,\n",
       "     778,\n",
       "     180,\n",
       "     333,\n",
       "     333,\n",
       "     500,\n",
       "     564,\n",
       "     250,\n",
       "     333,\n",
       "     250,\n",
       "     278,\n",
       "     500,\n",
       "     500,\n",
       "     500,\n",
       "     500,\n",
       "     500,\n",
       "     500,\n",
       "     500,\n",
       "     500,\n",
       "     500,\n",
       "     500,\n",
       "     278,\n",
       "     278,\n",
       "     564,\n",
       "     564,\n",
       "     564,\n",
       "     444,\n",
       "     921,\n",
       "     722,\n",
       "     667,\n",
       "     667,\n",
       "     722,\n",
       "     611,\n",
       "     556,\n",
       "     722,\n",
       "     722,\n",
       "     333,\n",
       "     389,\n",
       "     722,\n",
       "     611,\n",
       "     889,\n",
       "     722,\n",
       "     722,\n",
       "     556,\n",
       "     722,\n",
       "     667,\n",
       "     556,\n",
       "     611,\n",
       "     722,\n",
       "     722,\n",
       "     944,\n",
       "     722,\n",
       "     722,\n",
       "     611,\n",
       "     333,\n",
       "     278,\n",
       "     333,\n",
       "     469,\n",
       "     500,\n",
       "     333,\n",
       "     444,\n",
       "     500,\n",
       "     444,\n",
       "     500,\n",
       "     444,\n",
       "     333,\n",
       "     500,\n",
       "     500,\n",
       "     278,\n",
       "     278,\n",
       "     500,\n",
       "     278,\n",
       "     778,\n",
       "     500,\n",
       "     500,\n",
       "     500,\n",
       "     500,\n",
       "     333,\n",
       "     389,\n",
       "     278,\n",
       "     500,\n",
       "     500,\n",
       "     722,\n",
       "     500,\n",
       "     500,\n",
       "     444,\n",
       "     480,\n",
       "     200,\n",
       "     480,\n",
       "     541,\n",
       "     350,\n",
       "     500,\n",
       "     350,\n",
       "     333,\n",
       "     500,\n",
       "     444,\n",
       "     1000,\n",
       "     500,\n",
       "     500,\n",
       "     333,\n",
       "     1000,\n",
       "     556,\n",
       "     333,\n",
       "     889,\n",
       "     350,\n",
       "     611,\n",
       "     350,\n",
       "     350,\n",
       "     333,\n",
       "     333,\n",
       "     444,\n",
       "     444,\n",
       "     350,\n",
       "     500,\n",
       "     1000,\n",
       "     333,\n",
       "     980,\n",
       "     389,\n",
       "     333,\n",
       "     722,\n",
       "     350,\n",
       "     444,\n",
       "     722,\n",
       "     250,\n",
       "     333,\n",
       "     500,\n",
       "     500,\n",
       "     500,\n",
       "     500,\n",
       "     200,\n",
       "     500,\n",
       "     333,\n",
       "     760,\n",
       "     276,\n",
       "     500,\n",
       "     564,\n",
       "     333,\n",
       "     760,\n",
       "     500,\n",
       "     400,\n",
       "     549,\n",
       "     300,\n",
       "     300,\n",
       "     333,\n",
       "     576,\n",
       "     453,\n",
       "     333,\n",
       "     333,\n",
       "     300,\n",
       "     310,\n",
       "     500,\n",
       "     750,\n",
       "     750,\n",
       "     750,\n",
       "     444,\n",
       "     722,\n",
       "     722,\n",
       "     722,\n",
       "     722,\n",
       "     722,\n",
       "     722,\n",
       "     889,\n",
       "     667,\n",
       "     611,\n",
       "     611,\n",
       "     611,\n",
       "     611,\n",
       "     333,\n",
       "     333,\n",
       "     333,\n",
       "     333,\n",
       "     722,\n",
       "     722,\n",
       "     722,\n",
       "     722,\n",
       "     722,\n",
       "     722,\n",
       "     722,\n",
       "     564,\n",
       "     722,\n",
       "     722,\n",
       "     722,\n",
       "     722,\n",
       "     722,\n",
       "     722,\n",
       "     556,\n",
       "     500,\n",
       "     444,\n",
       "     444,\n",
       "     444,\n",
       "     444,\n",
       "     444,\n",
       "     444,\n",
       "     667,\n",
       "     444,\n",
       "     444,\n",
       "     444,\n",
       "     444,\n",
       "     444,\n",
       "     278,\n",
       "     278,\n",
       "     278,\n",
       "     278,\n",
       "     500,\n",
       "     500,\n",
       "     500,\n",
       "     500,\n",
       "     500,\n",
       "     500,\n",
       "     500,\n",
       "     549,\n",
       "     500,\n",
       "     500,\n",
       "     500,\n",
       "     500,\n",
       "     500,\n",
       "     500,\n",
       "     500,\n",
       "     500]},\n",
       "   '/TT5': {'/BaseFont': '/ZNNWAA+LucidaCalligraphy-Italic',\n",
       "    '/Encoding': '/WinAnsiEncoding',\n",
       "    '/FirstChar': 32,\n",
       "    '/FontDescriptor': {'/Ascent': 958,\n",
       "     '/CapHeight': 741,\n",
       "     '/Descent': -325,\n",
       "     '/Flags': 98,\n",
       "     '/FontBBox': [-290, -325, 1287, 958],\n",
       "     '/FontFamily': 'Lucida Calligraphy',\n",
       "     '/FontFile2': {'/Filter': '/FlateDecode', '/Length1': 11512},\n",
       "     '/FontName': '/ZNNWAA+LucidaCalligraphy-Italic',\n",
       "     '/FontStretch': '/Normal',\n",
       "     '/FontWeight': 400,\n",
       "     '/ItalicAngle': -12,\n",
       "     '/StemV': 100,\n",
       "     '/Type': '/FontDescriptor',\n",
       "     '/XHeight': 541},\n",
       "    '/LastChar': 121,\n",
       "    '/Subtype': '/TrueType',\n",
       "    '/ToUnicode': {'/Filter': '/FlateDecode'},\n",
       "    '/Type': '/Font',\n",
       "    '/Widths': [332,\n",
       "     0,\n",
       "     0,\n",
       "     0,\n",
       "     0,\n",
       "     0,\n",
       "     0,\n",
       "     0,\n",
       "     0,\n",
       "     0,\n",
       "     0,\n",
       "     0,\n",
       "     283,\n",
       "     0,\n",
       "     283,\n",
       "     0,\n",
       "     0,\n",
       "     0,\n",
       "     0,\n",
       "     0,\n",
       "     0,\n",
       "     0,\n",
       "     0,\n",
       "     0,\n",
       "     0,\n",
       "     0,\n",
       "     0,\n",
       "     0,\n",
       "     0,\n",
       "     0,\n",
       "     0,\n",
       "     0,\n",
       "     0,\n",
       "     0,\n",
       "     786,\n",
       "     0,\n",
       "     0,\n",
       "     735,\n",
       "     0,\n",
       "     0,\n",
       "     0,\n",
       "     0,\n",
       "     0,\n",
       "     0,\n",
       "     669,\n",
       "     0,\n",
       "     0,\n",
       "     0,\n",
       "     0,\n",
       "     0,\n",
       "     0,\n",
       "     581,\n",
       "     715,\n",
       "     0,\n",
       "     0,\n",
       "     0,\n",
       "     0,\n",
       "     0,\n",
       "     0,\n",
       "     0,\n",
       "     0,\n",
       "     0,\n",
       "     0,\n",
       "     0,\n",
       "     0,\n",
       "     668,\n",
       "     615,\n",
       "     546,\n",
       "     668,\n",
       "     542,\n",
       "     409,\n",
       "     614,\n",
       "     664,\n",
       "     376,\n",
       "     0,\n",
       "     631,\n",
       "     339,\n",
       "     1024,\n",
       "     711,\n",
       "     583,\n",
       "     664,\n",
       "     0,\n",
       "     563,\n",
       "     451,\n",
       "     456,\n",
       "     697,\n",
       "     705,\n",
       "     945,\n",
       "     710,\n",
       "     693]}},\n",
       "  '/XObject': {'/Im0': {'/BitsPerComponent': 8,\n",
       "    '/ColorSpace': ['/ICCBased', IndirectObject(970, 0)],\n",
       "    '/DecodeParms': {'/BitsPerComponent': 8, '/Colors': 3, '/Columns': 309},\n",
       "    '/Filter': '/FlateDecode',\n",
       "    '/Height': 309,\n",
       "    '/Name': '/X',\n",
       "    '/Subtype': '/Image',\n",
       "    '/Type': '/XObject',\n",
       "    '/Width': 309}}},\n",
       " '/Rotate': 90,\n",
       " '/StructParents': 0,\n",
       " '/Type': '/Page'}"
      ]
     },
     "execution_count": 23,
     "metadata": {},
     "output_type": "execute_result"
    }
   ],
   "source": [
    "minutes_file = open('automate_online-materials\\\\meetingminutes.pdf', 'rb')\n",
    "pdf_reader = PyPDF2.PdfFileReader(minutes_file)\n",
    "page = pdf_reader.getPage(0)\n",
    "page.rotateClockwise(90)"
   ]
  },
  {
   "cell_type": "code",
   "execution_count": 24,
   "id": "ef9b7a86-5606-4091-ab9f-7c16b323aa34",
   "metadata": {},
   "outputs": [],
   "source": [
    "pdf_writer = PyPDF2.PdfFileWriter()\n",
    "pdf_writer.addPage(page)\n",
    "result_pdf_file = open('automate_online-materials\\\\my_rotated_page.pdf', 'wb')\n",
    "pdf_writer.write(result_pdf_file)\n",
    "result_pdf_file.close()\n",
    "minutes_file.close()"
   ]
  },
  {
   "cell_type": "markdown",
   "id": "1f5dcdc3-1138-4612-b589-066bdc7602bb",
   "metadata": {},
   "source": [
    "## Overlaying Pages"
   ]
  },
  {
   "cell_type": "code",
   "execution_count": 27,
   "id": "e6d1270e-81e0-4ce4-ac12-a9f7ead99bc9",
   "metadata": {},
   "outputs": [],
   "source": [
    "minutes_file = open('automate_online-materials\\\\meetingminutes.pdf', 'rb')\n",
    "pdf_reader = PyPDF2.PdfFileReader(minutes_file)\n",
    "minutes_first_page = pdf_reader.getPage(0)\n",
    "pdf_watermark_reader = PyPDF2.PdfFileReader(open('automate_online-materials\\\\watermark.pdf', 'rb'))\n",
    "minutes_first_page.mergePage(pdf_watermark_reader.getPage(0))\n",
    "pdf_writer = PyPDF2.PdfFileWriter()\n",
    "pdf_writer.addPage(minutes_first_page)"
   ]
  },
  {
   "cell_type": "code",
   "execution_count": 28,
   "id": "d33477b0-f43e-4a0f-900f-2c2e46299743",
   "metadata": {},
   "outputs": [],
   "source": [
    "for page_num in range(1, pdf_reader.numPages):\n",
    "    page_obj = pdf_reader.getPage(page_num)\n",
    "    pdf_writer.addPage(page_obj)"
   ]
  },
  {
   "cell_type": "code",
   "execution_count": 34,
   "id": "606ffd0a-ae88-445e-8e0b-458b1f67c5ed",
   "metadata": {},
   "outputs": [],
   "source": [
    "result_pdf_file = open('automate_online-materials\\\\my_watermarked_cover.pdf', 'wb')\n",
    "pdf_writer.write(result_pdf_file)\n",
    "minutes_file.close()\n",
    "result_pdf_file.close()"
   ]
  },
  {
   "cell_type": "markdown",
   "id": "81121147-7483-4234-a3a9-013c14da2ca0",
   "metadata": {},
   "source": [
    "## Encrypting PDFs"
   ]
  },
  {
   "cell_type": "code",
   "execution_count": 35,
   "id": "3c501359-5139-4e40-a18f-ff4621d44d74",
   "metadata": {},
   "outputs": [],
   "source": [
    "pdf_file = open('automate_online-materials\\\\meetingminutes.pdf', 'rb')\n",
    "pdf_reader = PyPDF2.PdfFileReader(pdf_file)\n",
    "pdf_writer = PyPDF2.PdfFileWriter()\n",
    "\n",
    "for page_num in range(pdf_reader.numPages):\n",
    "    pdf_writer.addPage(pdf_reader.getPage(page_num))\n",
    "\n",
    "pdf_writer.encrypt('swordfish')\n",
    "result_pdf = open('automate_online-materials\\\\my_encrypted_minutes.pdf', 'wb')\n",
    "pdf_writer.write(result_pdf)\n",
    "result_pdf.close()"
   ]
  },
  {
   "cell_type": "markdown",
   "id": "8e4c98b3-9d2a-4697-89a2-4f61a9371347",
   "metadata": {},
   "source": [
    "# Word Documents"
   ]
  },
  {
   "cell_type": "markdown",
   "id": "cdc3f837-e5d7-47c0-9ae2-6dc977f12b72",
   "metadata": {},
   "source": [
    "`pip install python-docx`"
   ]
  },
  {
   "cell_type": "code",
   "execution_count": 51,
   "id": "c09437f0-f755-4922-bee1-afc1a7f41c9f",
   "metadata": {},
   "outputs": [],
   "source": [
    "import docx"
   ]
  },
  {
   "cell_type": "markdown",
   "id": "b7e6266e-bb1a-4494-935f-2a5ee23d824f",
   "metadata": {},
   "source": [
    "## Reading a Word Document"
   ]
  },
  {
   "cell_type": "code",
   "execution_count": 52,
   "id": "3e7e1e91-065d-45d0-a5b4-0de90e683855",
   "metadata": {},
   "outputs": [],
   "source": [
    "doc = docx.Document('automate_online-materials\\\\demo.docx')"
   ]
  },
  {
   "cell_type": "code",
   "execution_count": 53,
   "id": "c0320a31-beca-4902-a005-e6329d880ba4",
   "metadata": {},
   "outputs": [
    {
     "data": {
      "text/plain": [
       "7"
      ]
     },
     "execution_count": 53,
     "metadata": {},
     "output_type": "execute_result"
    }
   ],
   "source": [
    "len(doc.paragraphs)"
   ]
  },
  {
   "cell_type": "code",
   "execution_count": 54,
   "id": "e9014447-d059-4d10-9eb3-4f1b85d52b51",
   "metadata": {},
   "outputs": [
    {
     "data": {
      "text/plain": [
       "'Document Title'"
      ]
     },
     "execution_count": 54,
     "metadata": {},
     "output_type": "execute_result"
    }
   ],
   "source": [
    "doc.paragraphs[0].text"
   ]
  },
  {
   "cell_type": "code",
   "execution_count": 55,
   "id": "f50400d6-8b52-4993-8eb3-101cdeb0f19b",
   "metadata": {},
   "outputs": [
    {
     "data": {
      "text/plain": [
       "'A plain paragraph with some bold and some italic'"
      ]
     },
     "execution_count": 55,
     "metadata": {},
     "output_type": "execute_result"
    }
   ],
   "source": [
    "doc.paragraphs[1].text"
   ]
  },
  {
   "cell_type": "code",
   "execution_count": 56,
   "id": "bee9f238-b372-4caf-a5ac-28d24e071ff4",
   "metadata": {},
   "outputs": [
    {
     "data": {
      "text/plain": [
       "4"
      ]
     },
     "execution_count": 56,
     "metadata": {},
     "output_type": "execute_result"
    }
   ],
   "source": [
    "len(doc.paragraphs[1].runs)"
   ]
  },
  {
   "cell_type": "code",
   "execution_count": 57,
   "id": "4b69b02b-bf8d-4980-8b25-717ec9bb79f5",
   "metadata": {},
   "outputs": [
    {
     "data": {
      "text/plain": [
       "'A plain paragraph with some '"
      ]
     },
     "execution_count": 57,
     "metadata": {},
     "output_type": "execute_result"
    }
   ],
   "source": [
    "doc.paragraphs[1].runs[0].text"
   ]
  },
  {
   "cell_type": "code",
   "execution_count": 58,
   "id": "35884e35-b6a6-4295-b81a-a0640bc52f2d",
   "metadata": {},
   "outputs": [
    {
     "name": "stdout",
     "output_type": "stream",
     "text": [
      "A plain paragraph with some \n",
      "bold\n",
      " and some \n",
      "italic\n"
     ]
    }
   ],
   "source": [
    "for run in range(0, len(doc.paragraphs[1].runs)):\n",
    "    print(doc.paragraphs[1].runs[run].text)"
   ]
  },
  {
   "cell_type": "markdown",
   "id": "d0431d8f-aab7-45aa-96b7-558d9a2f3cf9",
   "metadata": {},
   "source": [
    "## Getting the Full Text from a .docx File"
   ]
  },
  {
   "cell_type": "code",
   "execution_count": 59,
   "id": "dc78f817-cae8-42d5-b989-e97f42245766",
   "metadata": {},
   "outputs": [],
   "source": [
    "def get_text(filename):\n",
    "    doc = docx.Document(filename)\n",
    "    full_text = []\n",
    "    for para in doc.paragraphs:\n",
    "        full_text.append('  ' + para.text)\n",
    "    return '\\n\\n'.join(full_text)"
   ]
  },
  {
   "cell_type": "code",
   "execution_count": 60,
   "id": "850f59fe-f1b1-4977-bea7-df06ce91f505",
   "metadata": {},
   "outputs": [
    {
     "name": "stdout",
     "output_type": "stream",
     "text": [
      "  Document Title\n",
      "\n",
      "  A plain paragraph with some bold and some italic\n",
      "\n",
      "  Heading, level 1\n",
      "\n",
      "  Intense quote\n",
      "\n",
      "  first item in unordered list\n",
      "\n",
      "  first item in ordered list\n",
      "\n",
      "  \n"
     ]
    }
   ],
   "source": [
    "print(get_text('automate_online-materials\\\\demo.docx'))"
   ]
  },
  {
   "cell_type": "markdown",
   "id": "12b858a7-9f64-4249-b1a6-fd0bb630ebe9",
   "metadata": {},
   "source": [
    "## Stylingn Paragraphs and Run Objects"
   ]
  },
  {
   "cell_type": "markdown",
   "id": "3c166eff-b61b-46ae-81e5-7c51e307d7b8",
   "metadata": {},
   "source": [
    "When using a linked style for a Run object, you will need to add ' Char' to the end of its name. For example, to set the Quote linked style for a Paragraph object, you would use paragraphObj.style = 'Quote', but for a Run object, you would use runObj.style = 'Quote Char'."
   ]
  },
  {
   "cell_type": "markdown",
   "id": "5698983c-3ca4-4fc8-9607-688934e5efdf",
   "metadata": {},
   "source": [
    "## Creating Word Documents with Nondefault Styles"
   ]
  },
  {
   "cell_type": "markdown",
   "id": "29a3f1cb-3700-4df3-a358-1422404d74dd",
   "metadata": {},
   "source": [
    "## Run Attributes"
   ]
  },
  {
   "cell_type": "markdown",
   "id": "c6200020-ca27-42fb-ab0c-103f95e20ad5",
   "metadata": {},
   "source": [
    "Runs can be further styled using text attributes. Each attribute can be set to one of three values: True (the attribute is always enabled, no matter what other styles are applied to the run), False (the attribute is always disabled), or None (defaults to whatever the run’s style is set to)."
   ]
  },
  {
   "cell_type": "code",
   "execution_count": 61,
   "id": "4c878dd8-e446-4759-b2bf-4c8fdc1173b1",
   "metadata": {},
   "outputs": [
    {
     "data": {
      "text/plain": [
       "'Document Title'"
      ]
     },
     "execution_count": 61,
     "metadata": {},
     "output_type": "execute_result"
    }
   ],
   "source": [
    "doc.paragraphs[0].text"
   ]
  },
  {
   "cell_type": "code",
   "execution_count": 62,
   "id": "25716f0d-c9a1-4908-9f23-28a92f405784",
   "metadata": {},
   "outputs": [
    {
     "data": {
      "text/plain": [
       "_ParagraphStyle('Title') id: 2149730641840"
      ]
     },
     "execution_count": 62,
     "metadata": {},
     "output_type": "execute_result"
    }
   ],
   "source": [
    "doc.paragraphs[0].style"
   ]
  },
  {
   "cell_type": "code",
   "execution_count": 63,
   "id": "f9967d41-aff8-4416-b876-0d68f3506d60",
   "metadata": {},
   "outputs": [],
   "source": [
    "doc.paragraphs[0].style = 'Normal'"
   ]
  },
  {
   "cell_type": "code",
   "execution_count": 64,
   "id": "f4fae58a-4c44-40ae-a4ac-6bc269092810",
   "metadata": {},
   "outputs": [
    {
     "data": {
      "text/plain": [
       "'A plain paragraph with some bold and some italic'"
      ]
     },
     "execution_count": 64,
     "metadata": {},
     "output_type": "execute_result"
    }
   ],
   "source": [
    "doc.paragraphs[1].text"
   ]
  },
  {
   "cell_type": "code",
   "execution_count": 65,
   "id": "64bd6bcf-f13d-4b41-8b25-aeb4c317a631",
   "metadata": {},
   "outputs": [
    {
     "data": {
      "text/plain": [
       "('A plain paragraph with some ', 'bold', ' and some ', 'italic')"
      ]
     },
     "execution_count": 65,
     "metadata": {},
     "output_type": "execute_result"
    }
   ],
   "source": [
    "(doc.paragraphs[1].runs[0].text, doc.paragraphs[1].runs[1].text, doc.\n",
    "paragraphs[1].runs[2].text, doc.paragraphs[1].runs[3].text)"
   ]
  },
  {
   "cell_type": "code",
   "execution_count": 66,
   "id": "68a97da7-6978-4678-b34b-3e466f6e7530",
   "metadata": {},
   "outputs": [],
   "source": [
    "doc.paragraphs[1].runs[0].style = 'Quote Char'"
   ]
  },
  {
   "cell_type": "code",
   "execution_count": 67,
   "id": "8a845ff1-5012-4e15-a78f-5aff0fb8c6df",
   "metadata": {},
   "outputs": [],
   "source": [
    "doc.paragraphs[1].runs[1].underline = True"
   ]
  },
  {
   "cell_type": "code",
   "execution_count": 68,
   "id": "12ec39be-dce6-47b3-a0c5-8350028cb887",
   "metadata": {},
   "outputs": [],
   "source": [
    "doc.paragraphs[1].runs[3].underline = True"
   ]
  },
  {
   "cell_type": "code",
   "execution_count": 69,
   "id": "b582730a-457d-42f1-b1aa-954a5933ca4c",
   "metadata": {},
   "outputs": [],
   "source": [
    "doc.save('automate_online-materials\\\\restyled.docx')"
   ]
  },
  {
   "cell_type": "markdown",
   "id": "80cfb576-6ba5-4a3e-869c-183b52436833",
   "metadata": {},
   "source": [
    "## Writing Word Documents"
   ]
  },
  {
   "cell_type": "code",
   "execution_count": 70,
   "id": "32214018-5627-4fd7-a667-40af845c86f0",
   "metadata": {},
   "outputs": [
    {
     "data": {
      "text/plain": [
       "<docx.text.paragraph.Paragraph at 0x1f485effbf0>"
      ]
     },
     "execution_count": 70,
     "metadata": {},
     "output_type": "execute_result"
    }
   ],
   "source": [
    "doc = docx.Document()\n",
    "doc.add_paragraph('Hello, world!')"
   ]
  },
  {
   "cell_type": "code",
   "execution_count": 73,
   "id": "af7f60f2-5b1f-4158-bae5-057a2acb0620",
   "metadata": {},
   "outputs": [],
   "source": [
    "doc.save('automate_online-materials\\\\hello_world.docx')"
   ]
  },
  {
   "cell_type": "markdown",
   "id": "a6be543e-32d8-4746-bacb-0f1abbc7b48e",
   "metadata": {},
   "source": [
    "You can add paragraphs by calling the add_paragraph() method again with the new paragraph’s text. Or to add text to the end of an existing paragraph, you can call the paragraph’s add_run() method and pass it a string. "
   ]
  },
  {
   "cell_type": "code",
   "execution_count": 74,
   "id": "89ec4361-0118-4cb2-95c3-1746becf2da9",
   "metadata": {},
   "outputs": [],
   "source": [
    "para_obj_1 = doc.add_paragraph('This is a second paragraph.')"
   ]
  },
  {
   "cell_type": "code",
   "execution_count": 75,
   "id": "7ac81241-587f-4cef-add1-a80fca20c438",
   "metadata": {},
   "outputs": [],
   "source": [
    "para_obs_2 = doc.add_paragraph('This is yet another paragraph.')"
   ]
  },
  {
   "cell_type": "code",
   "execution_count": 76,
   "id": "103d9765-33ef-47e1-b8d7-0d99e13d0cf7",
   "metadata": {},
   "outputs": [
    {
     "data": {
      "text/plain": [
       "<docx.text.run.Run at 0x1f486f9bf50>"
      ]
     },
     "execution_count": 76,
     "metadata": {},
     "output_type": "execute_result"
    }
   ],
   "source": [
    "para_obj_1.add_run(' This text is being added to the second paragraph.')"
   ]
  },
  {
   "cell_type": "code",
   "execution_count": 77,
   "id": "1da5ed0f-d98d-422e-b8ff-25f117c50058",
   "metadata": {},
   "outputs": [],
   "source": [
    "doc.save('automate_online-materials\\\\multiple_paragraphs.docx')"
   ]
  },
  {
   "cell_type": "markdown",
   "id": "e151c781-6130-437f-9a7f-a5f3c690b3e3",
   "metadata": {},
   "source": [
    "Both add_paragraph() and add_run() accept an optional second argument that is a string of the Paragraph or Run object’s style. "
   ]
  },
  {
   "cell_type": "markdown",
   "id": "3810b1e5-fab7-4444-858f-68ac2b7323ce",
   "metadata": {},
   "source": [
    "`doc.add_paragraph('Hello, world!', 'Title')`"
   ]
  },
  {
   "cell_type": "markdown",
   "id": "5100c1e0-c540-4ee9-b819-cb11705576b7",
   "metadata": {},
   "source": [
    "## Adding Headings"
   ]
  },
  {
   "cell_type": "code",
   "execution_count": 78,
   "id": "340c0d85-219e-4d90-bef0-c50d27289f92",
   "metadata": {},
   "outputs": [
    {
     "data": {
      "text/plain": [
       "<docx.text.paragraph.Paragraph at 0x1f485f7a570>"
      ]
     },
     "execution_count": 78,
     "metadata": {},
     "output_type": "execute_result"
    }
   ],
   "source": [
    "doc = docx.Document()\n",
    "doc.add_heading('Header 0', 0)"
   ]
  },
  {
   "cell_type": "code",
   "execution_count": 79,
   "id": "9252fbeb-0103-4bc7-84b3-dfa174e3ba60",
   "metadata": {},
   "outputs": [
    {
     "data": {
      "text/plain": [
       "<docx.text.paragraph.Paragraph at 0x1f485f09760>"
      ]
     },
     "execution_count": 79,
     "metadata": {},
     "output_type": "execute_result"
    }
   ],
   "source": [
    "doc.add_heading('Header 1', 1)"
   ]
  },
  {
   "cell_type": "code",
   "execution_count": 80,
   "id": "c09b0296-5ed3-4195-97d6-cfcae62f56da",
   "metadata": {},
   "outputs": [
    {
     "data": {
      "text/plain": [
       "<docx.text.paragraph.Paragraph at 0x1f485efcf20>"
      ]
     },
     "execution_count": 80,
     "metadata": {},
     "output_type": "execute_result"
    }
   ],
   "source": [
    "doc.add_heading('Header 2', 2)\n",
    "doc.add_heading('Header 3', 3)\n",
    "doc.add_heading('Header 4', 4)"
   ]
  },
  {
   "cell_type": "code",
   "execution_count": 81,
   "id": "212149d8-8d08-4f37-95af-cb7c1b4aef9f",
   "metadata": {},
   "outputs": [],
   "source": [
    "doc.save('automate_online-materials\\\\headings.docx')"
   ]
  },
  {
   "cell_type": "markdown",
   "id": "92b4d8fe-8c91-4dde-8114-77559a710573",
   "metadata": {},
   "source": [
    "## Adding Line and Page Breaks"
   ]
  },
  {
   "cell_type": "markdown",
   "id": "c7081a25-565b-4a58-ad6b-d9b92a117061",
   "metadata": {},
   "source": [
    "To add a line break (rather than starting a whole new paragraph), you can call the `add_break()` method on the Run object you want to have the break appear after. If you want to add a page break instead, you need to pass the value `docx.enum.text.WD_BREAK.PAGE` as a lone argument to `add_break()`"
   ]
  },
  {
   "cell_type": "code",
   "execution_count": 88,
   "id": "c1c67c3f-8d69-43c6-a05a-8202cd6f6c53",
   "metadata": {},
   "outputs": [
    {
     "data": {
      "text/plain": [
       "<docx.text.paragraph.Paragraph at 0x1f486fd0830>"
      ]
     },
     "execution_count": 88,
     "metadata": {},
     "output_type": "execute_result"
    }
   ],
   "source": [
    "doc = docx.Document()\n",
    "doc.add_paragraph('This is a paragraph on the first page.')"
   ]
  },
  {
   "cell_type": "code",
   "execution_count": 89,
   "id": "74d7580d-e261-44d1-9c8e-9a024ee5250d",
   "metadata": {},
   "outputs": [],
   "source": [
    "doc.paragraphs[0].runs[0].add_break(docx.enum.text.WD_BREAK.PAGE)"
   ]
  },
  {
   "cell_type": "code",
   "execution_count": 90,
   "id": "536e07ef-ce54-42d2-9454-c00a2b113ef1",
   "metadata": {},
   "outputs": [
    {
     "data": {
      "text/plain": [
       "<docx.text.paragraph.Paragraph at 0x1f486f9a210>"
      ]
     },
     "execution_count": 90,
     "metadata": {},
     "output_type": "execute_result"
    }
   ],
   "source": [
    "doc.add_paragraph('This is on the second page.')"
   ]
  },
  {
   "cell_type": "markdown",
   "id": "e43dabb4-0f2e-46a2-af9b-c61974e8aa76",
   "metadata": {},
   "source": [
    "## Adding Pictures"
   ]
  },
  {
   "cell_type": "code",
   "execution_count": 91,
   "id": "ab9fb0fc-0604-47e6-8b13-334479dbd023",
   "metadata": {},
   "outputs": [
    {
     "data": {
      "text/plain": [
       "<docx.shape.InlineShape at 0x1f484aa93d0>"
      ]
     },
     "execution_count": 91,
     "metadata": {},
     "output_type": "execute_result"
    }
   ],
   "source": [
    "doc.add_picture('automate_online-materials\\\\zophie.png', width=docx.shared.Inches(1), height=docx.shared.Cm(4))"
   ]
  },
  {
   "cell_type": "code",
   "execution_count": 93,
   "id": "64afc25d-9b5f-4b62-b9d9-0c06dd7ea21e",
   "metadata": {},
   "outputs": [],
   "source": [
    "doc.save('automate_online-materials\\\\two_page.docx')"
   ]
  },
  {
   "cell_type": "markdown",
   "id": "7386da79-504c-4e6e-af04-4e1bb4b4c1ec",
   "metadata": {},
   "source": [
    "## Creating PDFs from Word Documents"
   ]
  },
  {
   "cell_type": "code",
   "execution_count": 129,
   "id": "948734c3-617a-474a-9b53-d3c5634feecf",
   "metadata": {},
   "outputs": [],
   "source": [
    "import win32com.client\n",
    "word_filename = 'C:\\\\Users\\\\tg715c\\\\Documents\\\\Python Scripts\\\\automate-stuff\\\\automate_online-materials\\\\two_page_word.docx'\n",
    "pdf_filename = 'C:\\\\Users\\\\tg715c\\\\Documents\\\\Python Scripts\\\\automate-stuff\\\\automate_online-materials\\\\two_page_pdf.pdf'\n",
    "wdFormatPDF = 17"
   ]
  },
  {
   "cell_type": "code",
   "execution_count": 131,
   "id": "c4b414b6-f8a8-40a7-8830-43ce276ee758",
   "metadata": {},
   "outputs": [],
   "source": [
    "doc = docx.Document()\n",
    "doc.add_paragraph('This is a paragraph on the first page.')\n",
    "doc.paragraphs[0].runs[0].add_break(docx.enum.text.WD_BREAK.PAGE)\n",
    "doc.add_paragraph('This is on the second page.')\n",
    "doc.add_picture('automate_online-materials\\\\zophie.png', width=docx.shared.Inches(1), height=docx.shared.Cm(4))\n",
    "doc.save(word_filename)\n",
    "\n",
    "word_obj = win32com.client.Dispatch('Word.Application')"
   ]
  },
  {
   "cell_type": "code",
   "execution_count": 132,
   "id": "3ceca5f2-accf-4002-b282-9313b3601579",
   "metadata": {},
   "outputs": [],
   "source": [
    "doc_obj = word_obj.Documents.Open(word_filename)"
   ]
  },
  {
   "cell_type": "code",
   "execution_count": 133,
   "id": "5fef13e0-608f-439b-accc-e466d496b466",
   "metadata": {},
   "outputs": [],
   "source": [
    "doc_obj.SaveAs(pdf_filename, FileFormat=wdFormatPDF)\n",
    "doc_obj.Close()\n",
    "word_obj.Quit()"
   ]
  },
  {
   "cell_type": "code",
   "execution_count": 118,
   "id": "4a91efa1-ca5d-46e8-940f-b1ad4e3cc5c4",
   "metadata": {},
   "outputs": [
    {
     "data": {
      "text/plain": [
       "'automate_online-materials\\\\two_page_word.docx'"
      ]
     },
     "execution_count": 118,
     "metadata": {},
     "output_type": "execute_result"
    }
   ],
   "source": [
    "word_filename"
   ]
  },
  {
   "cell_type": "code",
   "execution_count": null,
   "id": "e9ec6f14-6cf1-4b20-8e65-9d5fdafe8f0d",
   "metadata": {},
   "outputs": [],
   "source": []
  }
 ],
 "metadata": {
  "kernelspec": {
   "display_name": "Python 3 (ipykernel)",
   "language": "python",
   "name": "python3"
  },
  "language_info": {
   "codemirror_mode": {
    "name": "ipython",
    "version": 3
   },
   "file_extension": ".py",
   "mimetype": "text/x-python",
   "name": "python",
   "nbconvert_exporter": "python",
   "pygments_lexer": "ipython3",
   "version": "3.12.1"
  }
 },
 "nbformat": 4,
 "nbformat_minor": 5
}
