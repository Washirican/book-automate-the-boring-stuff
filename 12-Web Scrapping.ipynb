{
 "cells": [
  {
   "cell_type": "markdown",
   "id": "325d6a74-92f6-42bc-a248-dc96d606cd83",
   "metadata": {},
   "source": [
    "## Overview"
   ]
  },
  {
   "cell_type": "markdown",
   "id": "10b881e0-e173-4f6d-b1bc-8eb48eee36e6",
   "metadata": {},
   "source": [
    "Web scraping is the term for using a program to download and process content from the web.\n",
    "In this chapter, you will learn about several modules that make it easy to scrape web pages in Python.\n",
    "* `webbrowser` Comes with Python and opens a browser to a specific page.\n",
    "* `requests` Downloads files and web pages from the internet.\n",
    "* `bs4` Parses HTML, the format that web pages are written in.\n",
    "* `selenium` Launches and controls a web browser. The `selenium` module is able to fill in forms and simulate mouse clicks in this browser."
   ]
  },
  {
   "cell_type": "markdown",
   "id": "bee6a897-4766-4ac6-b2b0-ec837aaeee70",
   "metadata": {},
   "source": [
    "## Project: mapIt.py with the webbrowser Module"
   ]
  },
  {
   "cell_type": "code",
   "execution_count": 1,
   "id": "3e3a644c-9e9d-4e35-9468-994d44e7b43e",
   "metadata": {},
   "outputs": [
    {
     "data": {
      "text/plain": [
       "True"
      ]
     },
     "execution_count": 1,
     "metadata": {},
     "output_type": "execute_result"
    }
   ],
   "source": [
    "import webbrowser\n",
    "webbrowser.open('https://inventwithpython.com/')"
   ]
  },
  {
   "cell_type": "markdown",
   "id": "5586a1aa-b08f-42ac-85ac-759cea4f5f46",
   "metadata": {},
   "source": [
    "## Downloading Files from the Web with the requests Module"
   ]
  },
  {
   "cell_type": "markdown",
   "id": "38ad0f86-5deb-4a75-b5fe-3989372d3fe8",
   "metadata": {},
   "source": [
    "The `requests` module lets you easily download files from the web without having to worry about complicated issues such as network errors, connection problems, and data compression."
   ]
  },
  {
   "cell_type": "markdown",
   "id": "a1fedf66-187a-441b-9c22-568f60d5b53a",
   "metadata": {},
   "source": [
    "## Downloading a Web Page with the requests.get() Function"
   ]
  },
  {
   "cell_type": "code",
   "execution_count": 4,
   "id": "ce18296b-18bc-498a-b2f7-5a32d672e49a",
   "metadata": {},
   "outputs": [],
   "source": [
    "import requests"
   ]
  },
  {
   "cell_type": "code",
   "execution_count": 25,
   "id": "72d36735-2e5b-4762-a4f5-94a5fdf4ae2a",
   "metadata": {},
   "outputs": [],
   "source": [
    "res = requests.get('https://automatetheboringstuff.com/files/rj.txt')"
   ]
  },
  {
   "cell_type": "code",
   "execution_count": 6,
   "id": "ff7ec862-c9a9-4cfc-9429-6ddb0be612a7",
   "metadata": {},
   "outputs": [
    {
     "data": {
      "text/plain": [
       "requests.models.Response"
      ]
     },
     "execution_count": 6,
     "metadata": {},
     "output_type": "execute_result"
    }
   ],
   "source": [
    "type(res)"
   ]
  },
  {
   "cell_type": "code",
   "execution_count": 7,
   "id": "e30136dc-3922-4ed9-983e-f5a19d97c817",
   "metadata": {},
   "outputs": [
    {
     "data": {
      "text/plain": [
       "200"
      ]
     },
     "execution_count": 7,
     "metadata": {},
     "output_type": "execute_result"
    }
   ],
   "source": [
    "requests.codes.ok"
   ]
  },
  {
   "cell_type": "code",
   "execution_count": 9,
   "id": "d348dde1-5ac9-4d62-8930-18aef296af5b",
   "metadata": {},
   "outputs": [
    {
     "data": {
      "text/plain": [
       "200"
      ]
     },
     "execution_count": 9,
     "metadata": {},
     "output_type": "execute_result"
    }
   ],
   "source": [
    "res.status_code"
   ]
  },
  {
   "cell_type": "code",
   "execution_count": 10,
   "id": "9d3069ba-20aa-444e-a653-0d9b4e7da401",
   "metadata": {},
   "outputs": [
    {
     "name": "stdout",
     "output_type": "stream",
     "text": [
      "The Project Gutenberg EBook of Romeo and Juliet, by William Shakespeare\n",
      "\n",
      "This eBook is for the use of anyone anywhere at no cost and with\n",
      "almost no restrictions whatsoever.  You may copy it, give it away or\n",
      "re-use it under the terms of the Projec\n"
     ]
    }
   ],
   "source": [
    "print(res.text[:250])"
   ]
  },
  {
   "cell_type": "code",
   "execution_count": 29,
   "id": "fe88e031-328a-4d23-9f0b-dbaaf60430e5",
   "metadata": {},
   "outputs": [
    {
     "data": {
      "text/plain": [
       "178978"
      ]
     },
     "execution_count": 29,
     "metadata": {},
     "output_type": "execute_result"
    }
   ],
   "source": [
    "len(res.text)"
   ]
  },
  {
   "cell_type": "markdown",
   "id": "10b984db-b9c4-4782-b43c-9ed2e62e9a68",
   "metadata": {},
   "source": [
    "## Checking for Errors"
   ]
  },
  {
   "cell_type": "markdown",
   "id": "80bd2182-78af-4d94-8052-6accc74f6187",
   "metadata": {},
   "source": [
    "As you’ve seen, the `Response` object has a `status_code` attribute that can be checked against `requests.codes.ok` (a variable that has the integer value `200`) to see whether the download succeeded. A simpler way to check for success is to call the `raise_for_status()` method on the `Response` object. This will raise an exception if there was an error downloading the file and will do nothing if the download succeeded. "
   ]
  },
  {
   "cell_type": "code",
   "execution_count": 12,
   "id": "692956ff-0122-47aa-a153-d2e12e8c83ed",
   "metadata": {},
   "outputs": [],
   "source": [
    "res = requests.get('https://inventwithpython.com/page_that_does_not_exist')"
   ]
  },
  {
   "cell_type": "code",
   "execution_count": 13,
   "id": "eaf3428b-3e41-478e-b9a2-d545f412c06a",
   "metadata": {},
   "outputs": [
    {
     "ename": "HTTPError",
     "evalue": "404 Client Error: Not Found for url: https://inventwithpython.com/page_that_does_not_exist",
     "output_type": "error",
     "traceback": [
      "\u001b[1;31m---------------------------------------------------------------------------\u001b[0m",
      "\u001b[1;31mHTTPError\u001b[0m                                 Traceback (most recent call last)",
      "Cell \u001b[1;32mIn[13], line 1\u001b[0m\n\u001b[1;32m----> 1\u001b[0m \u001b[43mres\u001b[49m\u001b[38;5;241;43m.\u001b[39;49m\u001b[43mraise_for_status\u001b[49m\u001b[43m(\u001b[49m\u001b[43m)\u001b[49m\n",
      "File \u001b[1;32m~\\Documents\\Python Scripts\\automate-stuff\\venv\\Lib\\site-packages\\requests\\models.py:1021\u001b[0m, in \u001b[0;36mResponse.raise_for_status\u001b[1;34m(self)\u001b[0m\n\u001b[0;32m   1016\u001b[0m     http_error_msg \u001b[38;5;241m=\u001b[39m (\n\u001b[0;32m   1017\u001b[0m         \u001b[38;5;124mf\u001b[39m\u001b[38;5;124m\"\u001b[39m\u001b[38;5;132;01m{\u001b[39;00m\u001b[38;5;28mself\u001b[39m\u001b[38;5;241m.\u001b[39mstatus_code\u001b[38;5;132;01m}\u001b[39;00m\u001b[38;5;124m Server Error: \u001b[39m\u001b[38;5;132;01m{\u001b[39;00mreason\u001b[38;5;132;01m}\u001b[39;00m\u001b[38;5;124m for url: \u001b[39m\u001b[38;5;132;01m{\u001b[39;00m\u001b[38;5;28mself\u001b[39m\u001b[38;5;241m.\u001b[39murl\u001b[38;5;132;01m}\u001b[39;00m\u001b[38;5;124m\"\u001b[39m\n\u001b[0;32m   1018\u001b[0m     )\n\u001b[0;32m   1020\u001b[0m \u001b[38;5;28;01mif\u001b[39;00m http_error_msg:\n\u001b[1;32m-> 1021\u001b[0m     \u001b[38;5;28;01mraise\u001b[39;00m HTTPError(http_error_msg, response\u001b[38;5;241m=\u001b[39m\u001b[38;5;28mself\u001b[39m)\n",
      "\u001b[1;31mHTTPError\u001b[0m: 404 Client Error: Not Found for url: https://inventwithpython.com/page_that_does_not_exist"
     ]
    }
   ],
   "source": [
    "res.raise_for_status()"
   ]
  },
  {
   "cell_type": "markdown",
   "id": "25f7c2c3-ca4c-498a-b4f2-730df7b4f4db",
   "metadata": {},
   "source": [
    "Always call `raise_for_status()` after calling `requests.get()`. You want to be sure that the download has actually worked before your program continues."
   ]
  },
  {
   "cell_type": "markdown",
   "id": "8e7385fb-31d8-432a-b4bf-1a46e0664e8d",
   "metadata": {},
   "source": [
    "## Saving Downloaded Files to the Hard Drive"
   ]
  },
  {
   "cell_type": "markdown",
   "id": "db8d2a39-9a75-41f8-96d3-9f416a63c1d3",
   "metadata": {},
   "source": [
    "You can save the web page to a file on your hard drive with the standard `open()` function and `write()` method. \n",
    "First, you must open the file in write binary mode by passing the string `'wb'` as the second argument to `open()` to maintain the Unicode encoding of the text.\n"
   ]
  },
  {
   "cell_type": "code",
   "execution_count": 26,
   "id": "76c823ef-cf25-480d-8d7f-8f9418aaf2db",
   "metadata": {},
   "outputs": [],
   "source": [
    "playFile = open('RomeoAndJuliet.txt', 'wb')"
   ]
  },
  {
   "cell_type": "code",
   "execution_count": 27,
   "id": "19412809-0daf-415f-9ff6-cac5d388fc9c",
   "metadata": {},
   "outputs": [],
   "source": [
    "for chunk in res.iter_content(100000):\n",
    "        playFile.write(chunk)"
   ]
  },
  {
   "cell_type": "code",
   "execution_count": 28,
   "id": "123a3128-ace3-440b-ba9d-8167eca6735a",
   "metadata": {},
   "outputs": [],
   "source": [
    "playFile.close()"
   ]
  },
  {
   "cell_type": "markdown",
   "id": "9a4382ce-b9c2-493a-8b3b-c1d3b2ac8c86",
   "metadata": {},
   "source": [
    "To review, here’s the complete process for downloading and saving a file:\n",
    "* Call `requests.get()` to download the file.\n",
    "* Call `open()` with `'wb'` to create a new file in write binary mode.\n",
    "* Loop over the Response object’s `iter_content()` method.\n",
    "* Call `write()` on each iteration to write the content to the file.\n",
    "* Call `close()` to close the file.\n",
    "\n",
    "That’s all there is to the requests module! The `for` loop and `iter_content()` stuff may seem complicated compared to the `open()/write()/close()` workflow you’ve been using to write text files, but it’s to ensure that the `requests` module doesn’t eat up too much memory even if you download massive files. "
   ]
  },
  {
   "cell_type": "markdown",
   "id": "efbc7d73-e3b6-45b5-9455-b468e52f08b0",
   "metadata": {},
   "source": [
    "## HTML"
   ]
  },
  {
   "cell_type": "markdown",
   "id": "87bb4dd7-8686-4987-a1b2-7d8f2156868d",
   "metadata": {},
   "source": [
    "## Parsing HTML with the bs4 Module"
   ]
  },
  {
   "cell_type": "code",
   "execution_count": null,
   "id": "7de26fab-5321-41db-a2c6-bce28dcff849",
   "metadata": {},
   "outputs": [],
   "source": []
  }
 ],
 "metadata": {
  "kernelspec": {
   "display_name": "Python 3 (ipykernel)",
   "language": "python",
   "name": "python3"
  },
  "language_info": {
   "codemirror_mode": {
    "name": "ipython",
    "version": 3
   },
   "file_extension": ".py",
   "mimetype": "text/x-python",
   "name": "python",
   "nbconvert_exporter": "python",
   "pygments_lexer": "ipython3",
   "version": "3.12.1"
  }
 },
 "nbformat": 4,
 "nbformat_minor": 5
}
