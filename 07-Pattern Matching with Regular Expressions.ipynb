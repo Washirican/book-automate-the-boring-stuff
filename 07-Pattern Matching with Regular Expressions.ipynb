{
 "cells": [
  {
   "cell_type": "markdown",
   "id": "c156aa4b-f772-444c-b816-5664c4da2939",
   "metadata": {},
   "source": [
    "## Finding Pattersn of Text with Regular Expressions"
   ]
  },
  {
   "cell_type": "markdown",
   "id": "e55f3d2d-dc95-49a7-9b57-074e103ecb51",
   "metadata": {},
   "source": [
    "Regular expressions, called regexes for short, are descriptions for a pattern of text."
   ]
  },
  {
   "cell_type": "markdown",
   "id": "ea2bf125-3cf9-4565-815c-1a2dc46a619a",
   "metadata": {},
   "source": [
    "## Creating RegEx Objects"
   ]
  },
  {
   "cell_type": "code",
   "execution_count": 3,
   "id": "2826e5c0-9fc0-45e8-9752-8275773ceef4",
   "metadata": {},
   "outputs": [],
   "source": [
    "import re"
   ]
  },
  {
   "cell_type": "markdown",
   "id": "707eb81e-4801-41dc-8690-923f32631f5b",
   "metadata": {},
   "source": [
    "Passing a string value representing your regular expression to `re.compile()` returns a Regex pattern object (or simply, a Regex object)."
   ]
  },
  {
   "cell_type": "code",
   "execution_count": 4,
   "id": "ab1486ac-56de-4281-95ce-32d1f6ae1512",
   "metadata": {},
   "outputs": [],
   "source": [
    "phone_num_regex = re.compile(r'\\d\\d\\d-\\d\\d\\d-\\d\\d\\d\\d')"
   ]
  },
  {
   "cell_type": "code",
   "execution_count": 5,
   "id": "5f86d4a2-1a7d-4783-9303-aac0d116d267",
   "metadata": {},
   "outputs": [
    {
     "data": {
      "text/plain": [
       "re.compile(r'\\d\\d\\d-\\d\\d\\d-\\d\\d\\d\\d', re.UNICODE)"
      ]
     },
     "execution_count": 5,
     "metadata": {},
     "output_type": "execute_result"
    }
   ],
   "source": [
    "phone_num_regex"
   ]
  },
  {
   "cell_type": "markdown",
   "id": "1c6058c9-a6c3-43a5-b60a-2a54e404c0ec",
   "metadata": {},
   "source": [
    "## Matching RegEx Objects"
   ]
  },
  {
   "cell_type": "markdown",
   "id": "06e9ff54-f304-4024-a7bf-7ae4448e248f",
   "metadata": {},
   "source": [
    "A Regex object’s `search()` method searches the string it is passed for any matches to the regex. The `search()` method will return `None` if the regex pattern is not found in the string. If the pattern is found, the `search()` method returns a `Match` object, which have a `group()` method that will return the actual matched text from the searched string."
   ]
  },
  {
   "cell_type": "code",
   "execution_count": 6,
   "id": "af27cc30-d2b2-4ccc-88c2-e528a20c6f5f",
   "metadata": {},
   "outputs": [
    {
     "name": "stdout",
     "output_type": "stream",
     "text": [
      "Phone number found: 415-555-4242\n"
     ]
    }
   ],
   "source": [
    "phone_num_regex = re.compile(r'\\d{3}-\\d{3}-\\d{4}')\n",
    "mo = phone_num_regex.search('My number is 415-555-4242.')\n",
    "print('Phone number found: ' + mo.group())"
   ]
  },
  {
   "cell_type": "markdown",
   "id": "3ab93ccf-8df6-4cce-8aca-dee9ff9f740f",
   "metadata": {},
   "source": [
    "## Review of Regular Expression Matching\n"
   ]
  },
  {
   "cell_type": "markdown",
   "id": "e758d19b-2bb9-4680-84fb-cb12376781e2",
   "metadata": {},
   "source": [
    "While there are several steps to using regular expressions in Python, each step is fairly simple.\n",
    "\n",
    "1. Import the regex module with `import re`.\n",
    "2. Create a Regex object with the `re.compile()` function. (Remember to use a raw string.)\n",
    "3. Pass the string you want to search into the Regex object’s `search()` method. This returns a `Match` object.\n",
    "4. Call the `Match` object’s `group()` method to return a string of the actual matched text."
   ]
  },
  {
   "cell_type": "markdown",
   "id": "404706cf-2c24-4c87-8036-fc392b429989",
   "metadata": {},
   "source": [
    "## More Pattern Matching with Regular Expressions"
   ]
  },
  {
   "cell_type": "markdown",
   "id": "d877150d-7df0-4296-bedd-44045f821907",
   "metadata": {},
   "source": [
    "## Grouping with Parentheses"
   ]
  },
  {
   "cell_type": "markdown",
   "id": "5083bd4f-c751-4788-ad6b-cb41405d1a0d",
   "metadata": {},
   "source": [
    "Adding parentheses will create groups in the regex: (\\d\\d\\d)-(\\d\\d\\d-\\d\\d\\d\\d). Then you can use the group() match object method to grab the matching text from just one group."
   ]
  },
  {
   "cell_type": "markdown",
   "id": "882c1be6-a9d4-4931-9661-45a01c4a628a",
   "metadata": {},
   "source": [
    "The first set of parentheses in a regex string will be group 1. The second set will be group 2. By passing the integer 1 or 2 to the `group()` match object method, you can grab different parts of the matched text. Passing 0 or nothing to the `group()` method will return the entire matched text."
   ]
  },
  {
   "cell_type": "code",
   "execution_count": 7,
   "id": "8da71f30-5d67-44c9-8abd-8c0a856baec8",
   "metadata": {},
   "outputs": [],
   "source": [
    "phone_num_regex = re.compile(r'(\\d\\d\\d)-(\\d\\d\\d-\\d\\d\\d\\d)')\n",
    "mo = phone_num_regex.search('My number is 415-555-4242.')"
   ]
  },
  {
   "cell_type": "code",
   "execution_count": 8,
   "id": "766aa624-1bac-4e60-bc2e-ad5923db2667",
   "metadata": {},
   "outputs": [
    {
     "data": {
      "text/plain": [
       "'415'"
      ]
     },
     "execution_count": 8,
     "metadata": {},
     "output_type": "execute_result"
    }
   ],
   "source": [
    "mo.group(1)"
   ]
  },
  {
   "cell_type": "code",
   "execution_count": 9,
   "id": "01ffe3d9-1bb9-4b1f-b3e1-a01673ace447",
   "metadata": {},
   "outputs": [
    {
     "data": {
      "text/plain": [
       "'555-4242'"
      ]
     },
     "execution_count": 9,
     "metadata": {},
     "output_type": "execute_result"
    }
   ],
   "source": [
    "mo.group(2)"
   ]
  },
  {
   "cell_type": "code",
   "execution_count": 10,
   "id": "003031e1-1f34-4b6a-8a0e-475da32fffeb",
   "metadata": {},
   "outputs": [
    {
     "data": {
      "text/plain": [
       "'415-555-4242'"
      ]
     },
     "execution_count": 10,
     "metadata": {},
     "output_type": "execute_result"
    }
   ],
   "source": [
    "mo.group(0)"
   ]
  },
  {
   "cell_type": "code",
   "execution_count": 11,
   "id": "905d67cf-a374-47a3-abb4-fc5714449f5e",
   "metadata": {},
   "outputs": [
    {
     "data": {
      "text/plain": [
       "'415-555-4242'"
      ]
     },
     "execution_count": 11,
     "metadata": {},
     "output_type": "execute_result"
    }
   ],
   "source": [
    "mo.group()"
   ]
  },
  {
   "cell_type": "markdown",
   "id": "99289062-2a7f-4153-b2d2-d8cc9e2fe9f7",
   "metadata": {},
   "source": [
    "If you would like to retrieve all the groups at once, use the `groups()` method—note the plural form for the name."
   ]
  },
  {
   "cell_type": "code",
   "execution_count": 12,
   "id": "100b7d4f-8663-402f-a1ff-c9b42937ca21",
   "metadata": {},
   "outputs": [
    {
     "data": {
      "text/plain": [
       "('415', '555-4242')"
      ]
     },
     "execution_count": 12,
     "metadata": {},
     "output_type": "execute_result"
    }
   ],
   "source": [
    "mo.groups()"
   ]
  },
  {
   "cell_type": "code",
   "execution_count": 13,
   "id": "db8ba073-de11-409c-8470-4c792fdc540e",
   "metadata": {},
   "outputs": [],
   "source": [
    "area_code, main_number = mo.groups()"
   ]
  },
  {
   "cell_type": "code",
   "execution_count": 14,
   "id": "e172caa2-ad51-459d-bdf3-b093c8bf8780",
   "metadata": {},
   "outputs": [
    {
     "name": "stdout",
     "output_type": "stream",
     "text": [
      "415\n"
     ]
    }
   ],
   "source": [
    "print(area_code)"
   ]
  },
  {
   "cell_type": "code",
   "execution_count": 15,
   "id": "13ec6a90-bc63-4d4d-8020-1519b781dab6",
   "metadata": {},
   "outputs": [
    {
     "name": "stdout",
     "output_type": "stream",
     "text": [
      "555-4242\n"
     ]
    }
   ],
   "source": [
    "print(main_number)"
   ]
  },
  {
   "cell_type": "markdown",
   "id": "cc1c0375-b52c-42b7-99cb-9fca927075ba",
   "metadata": {},
   "source": [
    "Since `mo.groups()` returns a tuple of multiple values, you can use the multiple-assignment trick to assign each value to a separate variable, as in the previous `area_code, main_number = mo.groups()` line.\n",
    "\n",
    "Parentheses have a special meaning in regular expressions, but what do you do if you need to match a parenthesis in your text? For instance, maybe the phone numbers you are trying to match have the area code set in parentheses. In this case, you need to escape the ( and ) characters with a backslash."
   ]
  },
  {
   "cell_type": "code",
   "execution_count": 16,
   "id": "6f2fb9cc-7b3d-45df-864e-8a916008a1d4",
   "metadata": {},
   "outputs": [
    {
     "data": {
      "text/plain": [
       "'(415)'"
      ]
     },
     "execution_count": 16,
     "metadata": {},
     "output_type": "execute_result"
    }
   ],
   "source": [
    "phone_num_regex = re.compile(r'(\\(\\d\\d\\d\\)) (\\d\\d\\d-\\d\\d\\d\\d)')\n",
    "mo = phone_num_regex.search('My phone number is (415) 555-4242.')\n",
    "mo.group(1)"
   ]
  },
  {
   "cell_type": "code",
   "execution_count": 17,
   "id": "9a31a68b-8187-40fd-b2f8-d296e74b65e4",
   "metadata": {},
   "outputs": [
    {
     "data": {
      "text/plain": [
       "'555-4242'"
      ]
     },
     "execution_count": 17,
     "metadata": {},
     "output_type": "execute_result"
    }
   ],
   "source": [
    "mo.group(2)"
   ]
  },
  {
   "cell_type": "markdown",
   "id": "91daac28-deb6-4f4b-987c-e3849a496bc2",
   "metadata": {},
   "source": [
    "The `\\(` and `\\)` escape characters in the raw string passed to `re.compile()` will match actual parenthesis characters. In regular expressions, the following characters have special meanings:\n",
    "\n",
    "`.  ^  $  *  +  ?  {  }  [  ]  \\  |  (  )`\n",
    "\n",
    "If you want to detect these characters as part of your text pattern, you need to escape them with a backslash:\n",
    "\n",
    "`\\.  \\^  \\$  \\*  \\+  \\?  \\{  \\}  \\[  \\]  \\\\  \\|  \\(  \\)`"
   ]
  },
  {
   "cell_type": "markdown",
   "id": "d75aa368-fabb-45ba-a14f-ddec8b8659ee",
   "metadata": {},
   "source": [
    "## Matching Multiple Groups with the Pipe"
   ]
  },
  {
   "cell_type": "markdown",
   "id": "3d912d8d-a8b2-49e7-a8e8-01846baa8d51",
   "metadata": {},
   "source": [
    "The `|` character is called a pipe. You can use it anywhere you want to match one of many expressions. For example, the regular expression `r'Batman|Tina Fey'` will match either `'Batman'` or `'Tina Fey'`.\n",
    "\n",
    "When both `Batman` and `Tina Fey` occur in the searched string, the first occurrence of matching text will be returned as the Match object. "
   ]
  },
  {
   "cell_type": "code",
   "execution_count": 18,
   "id": "36f264b8-ce47-474e-831f-75ac7f52fada",
   "metadata": {},
   "outputs": [
    {
     "data": {
      "text/plain": [
       "'Batman'"
      ]
     },
     "execution_count": 18,
     "metadata": {},
     "output_type": "execute_result"
    }
   ],
   "source": [
    "heroRegex = re.compile (r'Batman|Tina Fey')\n",
    "mo1 = heroRegex.search('Batman and Tina Fey')\n",
    "mo1.group()"
   ]
  },
  {
   "cell_type": "code",
   "execution_count": 19,
   "id": "808a94b8-7953-41b1-b420-3aa7c6f3bde2",
   "metadata": {},
   "outputs": [],
   "source": [
    "mo2 = heroRegex.search('Tina Fey and Batman')"
   ]
  },
  {
   "cell_type": "code",
   "execution_count": 20,
   "id": "dc51e89e-2fe7-4203-a4d9-d40d841fd76e",
   "metadata": {},
   "outputs": [
    {
     "data": {
      "text/plain": [
       "'Tina Fey'"
      ]
     },
     "execution_count": 20,
     "metadata": {},
     "output_type": "execute_result"
    }
   ],
   "source": [
    " mo2.group()"
   ]
  },
  {
   "cell_type": "markdown",
   "id": "ff1a26b0-163f-4d6c-b858-a5d2f7eb0a9a",
   "metadata": {},
   "source": [
    "You can also use the pipe to match one of several patterns as part of your regex. For example, say you wanted to match any of the strings 'Batman', 'Batmobile', 'Batcopter', and 'Batbat'. Since all these strings start with Bat, it would be nice if you could specify that prefix only once. This can be done with parentheses."
   ]
  },
  {
   "cell_type": "code",
   "execution_count": 21,
   "id": "28283133-8af5-4905-836f-040755f30398",
   "metadata": {},
   "outputs": [
    {
     "data": {
      "text/plain": [
       "'Batmobile'"
      ]
     },
     "execution_count": 21,
     "metadata": {},
     "output_type": "execute_result"
    }
   ],
   "source": [
    "batRegex = re.compile(r'Bat(man|mobile|copter|bat)')\n",
    "mo = batRegex.search('Batmobile lost a wheel')\n",
    "mo.group()"
   ]
  },
  {
   "cell_type": "code",
   "execution_count": 22,
   "id": "8cc21f33-8f06-4bd9-a92f-1df11da31e57",
   "metadata": {},
   "outputs": [
    {
     "data": {
      "text/plain": [
       "'mobile'"
      ]
     },
     "execution_count": 22,
     "metadata": {},
     "output_type": "execute_result"
    }
   ],
   "source": [
    "mo.group(1)"
   ]
  },
  {
   "cell_type": "markdown",
   "id": "761097be-b62e-4c0d-9850-17a3796d77d5",
   "metadata": {},
   "source": [
    "## Optional Matching with the Question Mark"
   ]
  },
  {
   "cell_type": "markdown",
   "id": "3e77fc19-1e07-4ac4-bc65-d9a7b3c0847a",
   "metadata": {},
   "source": [
    "Sometimes there is a pattern that you want to match only optionally. That is, the regex should find a match regardless of whether that bit of text is there. The ? character flags the group that precedes it as an optional part of the pattern."
   ]
  },
  {
   "cell_type": "code",
   "execution_count": 23,
   "id": "04fc9bf4-77de-4269-bf38-185daa0bdc2f",
   "metadata": {},
   "outputs": [
    {
     "data": {
      "text/plain": [
       "'Batman'"
      ]
     },
     "execution_count": 23,
     "metadata": {},
     "output_type": "execute_result"
    }
   ],
   "source": [
    "batRegex = re.compile(r'Bat(wo)?man')\n",
    "mo1 = batRegex.search('The Adventures of Batman')\n",
    "mo1.group()"
   ]
  },
  {
   "cell_type": "code",
   "execution_count": 24,
   "id": "1794443b-7568-40bb-b901-7b2c44cff6d1",
   "metadata": {},
   "outputs": [],
   "source": [
    "mo2 = batRegex.search('The Adventures of Batwoman')"
   ]
  },
  {
   "cell_type": "code",
   "execution_count": 25,
   "id": "4e5f2fbe-5bd9-466e-bada-83c3ca6ecc10",
   "metadata": {},
   "outputs": [
    {
     "data": {
      "text/plain": [
       "'Batwoman'"
      ]
     },
     "execution_count": 25,
     "metadata": {},
     "output_type": "execute_result"
    }
   ],
   "source": [
    "mo2.group()"
   ]
  },
  {
   "cell_type": "markdown",
   "id": "761c6631-2c97-4c5f-ae41-a6da789d2f52",
   "metadata": {},
   "source": [
    "The (wo)? part of the regular expression means that the pattern wo is an optional group. The regex will match text that has zero instances or one instance of wo in it. This is why the regex matches both 'Batwoman' and 'Batman'.\n",
    "\n",
    "Using the earlier phone number example, you can make the regex look for phone numbers that do or do not have an area code. Enter the following into the interactive shell:"
   ]
  },
  {
   "cell_type": "code",
   "execution_count": 26,
   "id": "dc62c9ef-79a7-4551-959e-033e8c72b222",
   "metadata": {},
   "outputs": [
    {
     "data": {
      "text/plain": [
       "'415-555-4242'"
      ]
     },
     "execution_count": 26,
     "metadata": {},
     "output_type": "execute_result"
    }
   ],
   "source": [
    "phoneRegex = re.compile(r'(\\d{3}-)?\\d{3}-\\d{4}')\n",
    "mo1 = phoneRegex.search('My number is 415-555-4242')\n",
    "mo1.group()"
   ]
  },
  {
   "cell_type": "code",
   "execution_count": 27,
   "id": "eefe6939-88a7-4f14-a658-8e1961dc61aa",
   "metadata": {},
   "outputs": [
    {
     "data": {
      "text/plain": [
       "'555-4242'"
      ]
     },
     "execution_count": 27,
     "metadata": {},
     "output_type": "execute_result"
    }
   ],
   "source": [
    "mo2 = phoneRegex.search('My number is 555-4242')\n",
    "mo2.group()"
   ]
  },
  {
   "cell_type": "markdown",
   "id": "b36ebc42-f733-41f5-acc2-3979b63220c2",
   "metadata": {},
   "source": [
    "## Matching Zero or More with the Star"
   ]
  },
  {
   "cell_type": "markdown",
   "id": "ead94e0a-c7e2-4787-8ab1-df0c2e4e8f10",
   "metadata": {},
   "source": [
    "The * (called the star or asterisk) means “match zero or more”—the group that precedes the star can occur any number of times in the text. It can be completely absent or repeated over and over again. Let’s look at the Batman example again."
   ]
  },
  {
   "cell_type": "code",
   "execution_count": 36,
   "id": "dc45337c-9c2b-489b-9431-17e94e4d64a7",
   "metadata": {},
   "outputs": [],
   "source": [
    "batRegex = re.compile(r'Bat(wo)*man')"
   ]
  },
  {
   "cell_type": "code",
   "execution_count": 37,
   "id": "6d695529-0381-4050-90f6-805b56188c27",
   "metadata": {},
   "outputs": [
    {
     "data": {
      "text/plain": [
       "'Batman'"
      ]
     },
     "execution_count": 37,
     "metadata": {},
     "output_type": "execute_result"
    }
   ],
   "source": [
    "mo1 = batRegex.search('The Adventures of Batman')\n",
    "mo1.group()"
   ]
  },
  {
   "cell_type": "code",
   "execution_count": 38,
   "id": "0717a63d-e881-47b9-ae03-be5d7f8cb9bf",
   "metadata": {},
   "outputs": [
    {
     "data": {
      "text/plain": [
       "'Batwoman'"
      ]
     },
     "execution_count": 38,
     "metadata": {},
     "output_type": "execute_result"
    }
   ],
   "source": [
    "mo2 = batRegex.search('The Adventures of Batwoman')\n",
    "mo2.group()"
   ]
  },
  {
   "cell_type": "code",
   "execution_count": 39,
   "id": "bda7ad52-f3bc-470a-8346-c3046c783de9",
   "metadata": {},
   "outputs": [
    {
     "data": {
      "text/plain": [
       "'Batwowowowoman'"
      ]
     },
     "execution_count": 39,
     "metadata": {},
     "output_type": "execute_result"
    }
   ],
   "source": [
    "mo3 = batRegex.search('The Adventures of Batwowowowoman')\n",
    "mo3.group()"
   ]
  },
  {
   "cell_type": "markdown",
   "id": "f707fa0e-079b-4c85-8f02-44b8dadc088f",
   "metadata": {},
   "source": [
    "## Matching One or More with the plus"
   ]
  },
  {
   "cell_type": "markdown",
   "id": "6e731f48-04bd-45b4-a85b-59e074b85b0d",
   "metadata": {},
   "source": [
    "While `*` means “match zero or more,” the `+` (or plus) means “match one or more.” Unlike the star, which does not require its group to appear in the matched string, the group preceding a plus must appear at least once. It is not optional."
   ]
  },
  {
   "cell_type": "code",
   "execution_count": 40,
   "id": "3f5520a0-559f-45a1-afe4-9d492c3be7d1",
   "metadata": {},
   "outputs": [],
   "source": [
    "batRegex = re.compile(r'Bat(wo)+man')"
   ]
  },
  {
   "cell_type": "code",
   "execution_count": 41,
   "id": "d190b19c-196a-4024-8cd9-3cbdd8eef5f1",
   "metadata": {},
   "outputs": [
    {
     "data": {
      "text/plain": [
       "'Batwoman'"
      ]
     },
     "execution_count": 41,
     "metadata": {},
     "output_type": "execute_result"
    }
   ],
   "source": [
    "mo1 = batRegex.search('The Adventures of Batwoman')\n",
    "mo1.group()"
   ]
  },
  {
   "cell_type": "code",
   "execution_count": 42,
   "id": "df4e46fe-f8aa-4721-af21-512f4a54ac29",
   "metadata": {},
   "outputs": [
    {
     "data": {
      "text/plain": [
       "'Batwowowowoman'"
      ]
     },
     "execution_count": 42,
     "metadata": {},
     "output_type": "execute_result"
    }
   ],
   "source": [
    "mo2 = batRegex.search('The Adventures of Batwowowowoman')\n",
    "mo2.group()"
   ]
  },
  {
   "cell_type": "code",
   "execution_count": 43,
   "id": "b7e69051-b720-4e21-8275-893ec442c6f3",
   "metadata": {},
   "outputs": [
    {
     "data": {
      "text/plain": [
       "True"
      ]
     },
     "execution_count": 43,
     "metadata": {},
     "output_type": "execute_result"
    }
   ],
   "source": [
    "mo3 = batRegex.search('The Adventures of Batman')\n",
    "mo3 == None"
   ]
  },
  {
   "cell_type": "markdown",
   "id": "14f1dc20-f9b9-4d01-9ef3-94224eb971f6",
   "metadata": {},
   "source": [
    "## Matching Specific Repetitions with Braces"
   ]
  },
  {
   "cell_type": "markdown",
   "id": "aeddf359-3eba-40b5-a176-4d01dcf268a1",
   "metadata": {},
   "source": [
    "If you have a group that you want to repeat a specific number of times, follow the group in your regex with a number in braces. For example, the regex (Ha){3} will match the string 'HaHaHa', but it will not match 'HaHa', since the latter has only two repeats of the (Ha) group.\n",
    "\n",
    "Instead of one number, you can specify a range by writing a minimum, a comma, and a maximum in between the braces. For example, the regex (Ha){3,5} will match 'HaHaHa', 'HaHaHaHa', and 'HaHaHaHaHa'.\n",
    "\n",
    "You can also leave out the first or second number in the braces to leave the minimum or maximum unbounded. For example, (Ha){3,} will match three or more instances of the (Ha) group, while (Ha){,5} will match zero to five instances. Braces can help make your regular expressions shorter."
   ]
  },
  {
   "cell_type": "code",
   "execution_count": 44,
   "id": "2805468e-d560-4113-9daf-b9d206892529",
   "metadata": {},
   "outputs": [],
   "source": [
    "haRegex = re.compile(r'(Ha){3}')"
   ]
  },
  {
   "cell_type": "code",
   "execution_count": 45,
   "id": "5b083324-7878-4512-8f85-e3fa9b10cd6c",
   "metadata": {},
   "outputs": [
    {
     "data": {
      "text/plain": [
       "'HaHaHa'"
      ]
     },
     "execution_count": 45,
     "metadata": {},
     "output_type": "execute_result"
    }
   ],
   "source": [
    "mo1 = haRegex.search('HaHaHa')\n",
    "mo1.group()"
   ]
  },
  {
   "cell_type": "code",
   "execution_count": 46,
   "id": "83ffd28b-eda7-4d15-b6fb-cc23a6aedd74",
   "metadata": {},
   "outputs": [
    {
     "data": {
      "text/plain": [
       "True"
      ]
     },
     "execution_count": 46,
     "metadata": {},
     "output_type": "execute_result"
    }
   ],
   "source": [
    "mo2 = haRegex.search('Ha')\n",
    "mo2 == None"
   ]
  },
  {
   "cell_type": "markdown",
   "id": "1c26293c-e938-43ec-9800-9e572705a8f0",
   "metadata": {},
   "source": [
    "## Greedy and Non-greedy Matching"
   ]
  },
  {
   "cell_type": "markdown",
   "id": "3feb2be0-1148-4f85-a120-831df79f293c",
   "metadata": {},
   "source": [
    "Python’s regular expressions are greedy by default, which means that in ambiguous situations they will match the longest string possible. The non-greedy (also called lazy) version of the braces, which matches the shortest string possible, has the closing brace followed by a question mark."
   ]
  },
  {
   "cell_type": "code",
   "execution_count": 47,
   "id": "ec9a4c19-8381-4833-a553-99bb5abe9b74",
   "metadata": {},
   "outputs": [],
   "source": [
    "greedyHaRegex = re.compile(r'(Ha){3,5}')"
   ]
  },
  {
   "cell_type": "code",
   "execution_count": 48,
   "id": "aa855977-aec9-4e42-a101-2440c2b6e8bb",
   "metadata": {},
   "outputs": [
    {
     "data": {
      "text/plain": [
       "'HaHaHaHaHa'"
      ]
     },
     "execution_count": 48,
     "metadata": {},
     "output_type": "execute_result"
    }
   ],
   "source": [
    "mo1 = greedyHaRegex.search('HaHaHaHaHa')\n",
    "mo1.group()"
   ]
  },
  {
   "cell_type": "code",
   "execution_count": 49,
   "id": "6c436db6-096d-495a-a307-5a275543e503",
   "metadata": {},
   "outputs": [],
   "source": [
    "nongreedyHaRegex = re.compile(r'(Ha){3,5}?')"
   ]
  },
  {
   "cell_type": "code",
   "execution_count": 50,
   "id": "96365fe6-a5aa-49e0-9096-1dad21576979",
   "metadata": {},
   "outputs": [
    {
     "data": {
      "text/plain": [
       "'HaHaHa'"
      ]
     },
     "execution_count": 50,
     "metadata": {},
     "output_type": "execute_result"
    }
   ],
   "source": [
    "mo2 = nongreedyHaRegex.search('HaHaHaHaHa')\n",
    "mo2.group()"
   ]
  },
  {
   "cell_type": "markdown",
   "id": "40c69ac8-4870-41ec-b74f-d726ca3b3d41",
   "metadata": {},
   "source": [
    "Note that the question mark can have two meanings in regular expressions: declaring a non-greedy match or flagging an optional group. These meanings are entirely unrelated."
   ]
  },
  {
   "cell_type": "markdown",
   "id": "f3f2e4d2-8c4e-4a63-84b5-a257b2a46d05",
   "metadata": {},
   "source": [
    "The `findall()` Method"
   ]
  },
  {
   "cell_type": "markdown",
   "id": "f087494f-8409-4580-bdd4-42c92ed5cacd",
   "metadata": {},
   "source": [
    "In addition to the `search()` method, Regex objects also have a `findall()` method. While `search()` will return a Match object of the first matched text in the searched string, the `findall()` method will return the strings of every match in the searched string. To see how `search()` returns a Match object only on the first instance of matching text, enter the following into the interactive shell:"
   ]
  },
  {
   "cell_type": "code",
   "execution_count": 54,
   "id": "56495e24-3304-4f77-8fb5-0f2b8680aac0",
   "metadata": {},
   "outputs": [
    {
     "data": {
      "text/plain": [
       "'415-555-9999'"
      ]
     },
     "execution_count": 54,
     "metadata": {},
     "output_type": "execute_result"
    }
   ],
   "source": [
    "phoneNumRegex = re.compile(r'\\d\\d\\d-\\d\\d\\d-\\d\\d\\d\\d') # has no groups\n",
    "mo = phoneNumRegex.search('Cell: 415-555-9999 Work: 212-555-0000')\n",
    "mo.group()"
   ]
  },
  {
   "cell_type": "markdown",
   "id": "c6f56099-c988-4fc0-8bc4-d5b1ccc2e624",
   "metadata": {},
   "source": [
    "On the other hand, `findall()` will not return a Match object but a list of strings-*as long as there are no groups in the regular expression*. Each string in the list is a piece of the searched text that matched the regular expression. Enter the following into the interactive shell:"
   ]
  },
  {
   "cell_type": "code",
   "execution_count": 55,
   "id": "3bda11b8-af3d-4cc7-9730-54ad713a1ce3",
   "metadata": {},
   "outputs": [
    {
     "data": {
      "text/plain": [
       "['415-555-9999', '212-555-0000']"
      ]
     },
     "execution_count": 55,
     "metadata": {},
     "output_type": "execute_result"
    }
   ],
   "source": [
    "phoneNumRegex.findall('Cell: 415-555-9999 Work: 212-555-0000')"
   ]
  },
  {
   "cell_type": "markdown",
   "id": "b082d977-577c-40a2-af6b-c55eaf1a7498",
   "metadata": {},
   "source": [
    "If there are groups in the regular expression, then `findall()` will return a list of tuples. Each tuple represents a found match, and its items are the matched strings for each group in the regex. To see `findall()` in action, enter the following into the interactive shell (notice that the regular expression being compiled now has groups in parentheses):"
   ]
  },
  {
   "cell_type": "code",
   "execution_count": 56,
   "id": "4a32adec-9605-4077-8c46-a1f52d9d9933",
   "metadata": {},
   "outputs": [
    {
     "data": {
      "text/plain": [
       "[('415', '555', '9999'), ('212', '555', '0000')]"
      ]
     },
     "execution_count": 56,
     "metadata": {},
     "output_type": "execute_result"
    }
   ],
   "source": [
    "phoneNumRegex = re.compile(r'(\\d\\d\\d)-(\\d\\d\\d)-(\\d\\d\\d\\d)') # has groups\n",
    "phoneNumRegex.findall('Cell: 415-555-9999 Work: 212-555-0000')"
   ]
  },
  {
   "cell_type": "markdown",
   "id": "0784c475-bf44-4ea5-8f4d-3fb1878d64fa",
   "metadata": {},
   "source": [
    "## Character Classes"
   ]
  },
  {
   "attachments": {
    "4b3eadf5-85ad-4a7e-a54d-2ebe761f019b.png": {
     "image/png": "[encoded data removed]"
    }
   },
   "cell_type": "markdown",
   "id": "a0faa11c-42a5-4492-bce2-872aeed66fc9",
   "metadata": {},
   "source": [
    "![image.png](attachment:4b3eadf5-85ad-4a7e-a54d-2ebe761f019b.png)"
   ]
  },
  {
   "cell_type": "markdown",
   "id": "9c4c7d52-e061-4602-a063-3f96308ff41c",
   "metadata": {},
   "source": [
    "Character classes are nice for shortening regular expressions. The character class [0-5] will match only the numbers 0 to 5; this is much shorter than typing (0|1|2|3|4|5). Note that while \\d matches digits and \\w matches digits, letters, and the underscore, there is no shorthand character class that matches only letters. (Though you can use the [a-zA-Z] character class, as explained next.)"
   ]
  },
  {
   "cell_type": "code",
   "execution_count": 57,
   "id": "1c971452-99f4-45e5-b281-1ed91300cfc4",
   "metadata": {},
   "outputs": [
    {
     "data": {
      "text/plain": [
       "['12 drummers',\n",
       " '11 pipers',\n",
       " '10 lords',\n",
       " '9 ladies',\n",
       " '8 maids',\n",
       " '7 swans',\n",
       " '6 geese',\n",
       " '5 rings',\n",
       " '4 birds',\n",
       " '3 hens',\n",
       " '2 doves',\n",
       " '1 partridge']"
      ]
     },
     "execution_count": 57,
     "metadata": {},
     "output_type": "execute_result"
    }
   ],
   "source": [
    "xmasRegex = re.compile(r'\\d+\\s\\w+')\n",
    "xmasRegex.findall('12 drummers, 11 pipers, 10 lords, 9 ladies, 8 maids, 7 swans, 6 geese, 5 rings, 4 birds, 3 hens, 2 doves, 1 partridge')"
   ]
  },
  {
   "cell_type": "markdown",
   "id": "5e0b9fce-127c-47b3-8fd0-87bfb878932f",
   "metadata": {},
   "source": [
    "The regular expression `\\d+\\s\\w+` will match text that has one or more numeric digits (`\\d+`), followed by a whitespace character (`\\s`), followed by one or more letter/digit/underscore characters (`\\w+`). The `findall()` method returns all matching strings of the regex pattern in a list."
   ]
  }
 ],
 "metadata": {
  "kernelspec": {
   "display_name": "Python 3 (ipykernel)",
   "language": "python",
   "name": "python3"
  },
  "language_info": {
   "codemirror_mode": {
    "name": "ipython",
    "version": 3
   },
   "file_extension": ".py",
   "mimetype": "text/x-python",
   "name": "python",
   "nbconvert_exporter": "python",
   "pygments_lexer": "ipython3",
   "version": "3.12.1"
  }
 },
 "nbformat": 4,
 "nbformat_minor": 5
}
