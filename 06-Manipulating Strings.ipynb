{
 "cells": [
  {
   "cell_type": "markdown",
   "id": "0d8896cc-a4f6-4045-91d4-5d330c5f26d6",
   "metadata": {},
   "source": [
    "## Working with Strings"
   ]
  },
  {
   "cell_type": "markdown",
   "id": "84dd20f8-ccc4-475f-98d2-225fc7ecd069",
   "metadata": {},
   "source": [
    "String Literals"
   ]
  },
  {
   "cell_type": "markdown",
   "id": "2a56dab8-31ef-472b-8f6e-5064581387a6",
   "metadata": {},
   "source": [
    "Double Quotes"
   ]
  },
  {
   "cell_type": "markdown",
   "id": "c3cbaf6e-001e-400f-8e63-28a014f44e3b",
   "metadata": {},
   "source": [
    "Escape Character"
   ]
  },
  {
   "cell_type": "markdown",
   "id": "9102749f-5c77-43f6-89a3-fe38d8e92853",
   "metadata": {},
   "source": [
    "Raw String"
   ]
  },
  {
   "cell_type": "markdown",
   "id": "ea90a966-2149-4e39-b872-8a7bff023efe",
   "metadata": {},
   "source": [
    "You can place an r before the beginning quotation mark of a string to make it a raw string. A raw string completely ignores all escape characters and prints any backslash that appears in the string."
   ]
  },
  {
   "cell_type": "code",
   "execution_count": 2,
   "id": "006c4831-1fdd-424e-8b34-fc8db3788f54",
   "metadata": {},
   "outputs": [
    {
     "name": "stdout",
     "output_type": "stream",
     "text": [
      "That is Carol\\'s cat.\n"
     ]
    }
   ],
   "source": [
    "print(r'That is Carol\\'s cat.')"
   ]
  },
  {
   "cell_type": "markdown",
   "id": "92df9ae7-055d-4dce-97d1-e03106164950",
   "metadata": {},
   "source": [
    "Because this is a raw string, Python considers the backslash as part of the string and not as the start of an escape character. Raw strings are helpful if you are typing string values that contain many backslashes, such as the strings used for Windows file paths like r'C:\\Users\\Al\\Desktop' or regular expressions described in the next chapter."
   ]
  },
  {
   "cell_type": "markdown",
   "id": "01763579-7dc0-4a7c-9cc6-3aa6b5161300",
   "metadata": {},
   "source": [
    "## Multiline Strings with Tripple Quotes"
   ]
  },
  {
   "cell_type": "markdown",
   "id": "0d3e5326-d82f-4e04-927c-6e231bb87ef8",
   "metadata": {},
   "source": [
    "While you can use the `\\n` escape character to put a newline into a string, it is often easier to use multiline strings. A multiline string in Python begins and ends with either three single quotes or three double quotes. Any quotes, tabs, or newlines in between the “triple quotes” are considered part of the string. Python’s indentation rules for blocks do not apply to lines inside a multiline string."
   ]
  },
  {
   "cell_type": "code",
   "execution_count": 3,
   "id": "e6e3f9ea-7f66-4eb6-b411-9d9c97ced40e",
   "metadata": {},
   "outputs": [
    {
     "name": "stdout",
     "output_type": "stream",
     "text": [
      "Dear Alice,\n",
      "Eve's cat has been arrested for catnapping, cat burglary, and extortion.\n",
      "Sincerely,\n",
      "Bob\n"
     ]
    }
   ],
   "source": [
    "print('''Dear Alice,\n",
    "Eve's cat has been arrested for catnapping, cat burglary, and extortion.\n",
    "Sincerely,\n",
    "Bob''')"
   ]
  },
  {
   "cell_type": "markdown",
   "id": "f9fb07c1-e11d-435d-80fa-427a7d847fd8",
   "metadata": {},
   "source": [
    "## Multiline Comments"
   ]
  },
  {
   "cell_type": "markdown",
   "id": "88768678-0ade-4a53-a637-aa3579acc2e1",
   "metadata": {},
   "source": [
    "While the hash character (`#`) marks the beginning of a comment for the rest of the line, a multiline string is often used for comments that span multiple lines. "
   ]
  },
  {
   "cell_type": "markdown",
   "id": "9e07d21e-9d67-4209-825f-30016d946918",
   "metadata": {},
   "source": [
    "## Indexing and Slicing Strings"
   ]
  },
  {
   "cell_type": "markdown",
   "id": "ff2a1981-1a27-4c87-97ff-f641b90b72eb",
   "metadata": {},
   "source": [
    "Strings use indexes and slices the same way lists do. "
   ]
  },
  {
   "cell_type": "code",
   "execution_count": 4,
   "id": "75cd29de-bf0f-4dd5-b1ee-5485df936904",
   "metadata": {},
   "outputs": [
    {
     "data": {
      "text/plain": [
       "'H'"
      ]
     },
     "execution_count": 4,
     "metadata": {},
     "output_type": "execute_result"
    }
   ],
   "source": [
    "spam = 'Hello, world!'\n",
    "spam[0]"
   ]
  },
  {
   "cell_type": "code",
   "execution_count": 5,
   "id": "e7fc9f7a-20fa-40fd-b533-23f3fa730433",
   "metadata": {},
   "outputs": [],
   "source": [
    "fizz = spam[0:5]"
   ]
  },
  {
   "cell_type": "code",
   "execution_count": 6,
   "id": "8e8c7f4a-0e94-4992-9038-573ce794c394",
   "metadata": {},
   "outputs": [
    {
     "data": {
      "text/plain": [
       "'Hello'"
      ]
     },
     "execution_count": 6,
     "metadata": {},
     "output_type": "execute_result"
    }
   ],
   "source": [
    "fizz"
   ]
  },
  {
   "cell_type": "markdown",
   "id": "e0c75a38-e162-4418-bd90-662ae6d50ff0",
   "metadata": {},
   "source": [
    "## The `in` and `not in`Operators in Strings"
   ]
  },
  {
   "cell_type": "markdown",
   "id": "d342367d-c777-4edb-a02b-e8df92904648",
   "metadata": {},
   "source": [
    "The `in` and `not in` operators can be used with strings just like with list values. An expression with two strings joined using in or not in will evaluate to a Boolean `True` or `False`. "
   ]
  },
  {
   "cell_type": "code",
   "execution_count": 7,
   "id": "462bdddb-f968-4d10-8c55-ad08533ef801",
   "metadata": {},
   "outputs": [
    {
     "data": {
      "text/plain": [
       "False"
      ]
     },
     "execution_count": 7,
     "metadata": {},
     "output_type": "execute_result"
    }
   ],
   "source": [
    "'HELLO' in 'Hello, World'"
   ]
  },
  {
   "cell_type": "markdown",
   "id": "b67de078-43fe-4f8c-8de0-7ff0196a140d",
   "metadata": {},
   "source": [
    "## Putting Strings inside other Strings"
   ]
  },
  {
   "cell_type": "code",
   "execution_count": 11,
   "id": "5738b752-a131-46a0-850f-747f54c48e06",
   "metadata": {},
   "outputs": [],
   "source": [
    "name = 'Al'\n",
    "age = 40"
   ]
  },
  {
   "cell_type": "code",
   "execution_count": 12,
   "id": "41cd3b73-15f4-49ad-bf42-ea0cf6630d07",
   "metadata": {},
   "outputs": [
    {
     "data": {
      "text/plain": [
       "'Hello, my name is Al. I am 40 years old.'"
      ]
     },
     "execution_count": 12,
     "metadata": {},
     "output_type": "execute_result"
    }
   ],
   "source": [
    "'Hello, my name is ' + name + '. I am ' + str(age) + ' years old.'"
   ]
  },
  {
   "cell_type": "code",
   "execution_count": 13,
   "id": "072d1ecb-c9d9-4f43-a7ce-4ffc3548210c",
   "metadata": {},
   "outputs": [
    {
     "data": {
      "text/plain": [
       "'My name is Al. I am 40 years old.'"
      ]
     },
     "execution_count": 13,
     "metadata": {},
     "output_type": "execute_result"
    }
   ],
   "source": [
    "'My name is %s. I am %s years old.' % (name, age)"
   ]
  },
  {
   "cell_type": "code",
   "execution_count": 14,
   "id": "48b2f272-e60d-45eb-a0d3-5a6e1d733a92",
   "metadata": {},
   "outputs": [
    {
     "data": {
      "text/plain": [
       "'My name is Al. Next year I will be 41.'"
      ]
     },
     "execution_count": 14,
     "metadata": {},
     "output_type": "execute_result"
    }
   ],
   "source": [
    "f'My name is {name}. Next year I will be {age + 1}.'"
   ]
  },
  {
   "cell_type": "markdown",
   "id": "dbd346af-e116-487d-963f-c1acd71f2a2c",
   "metadata": {},
   "source": [
    "# Useful Sting Methods"
   ]
  },
  {
   "cell_type": "markdown",
   "id": "be240fc4-abb2-4382-9604-69e52d5848b2",
   "metadata": {},
   "source": [
    "Several string methods analyze strings or create transformed string values. "
   ]
  },
  {
   "cell_type": "markdown",
   "id": "5a5918ec-7b01-4f73-9c34-1c29c1ce2a8f",
   "metadata": {},
   "source": [
    "## The `upper()`, `lower()`, `isupper()`, and `islower()` Methods"
   ]
  },
  {
   "cell_type": "markdown",
   "id": "3fade4d0-6d1f-421e-a4a3-dd71b8f5d665",
   "metadata": {},
   "source": [
    "The `upper()` and `lower()` string methods return a new string where all the letters in the original string have been converted to uppercase or lowercase, respectively. Nonletter characters in the string remain unchanged."
   ]
  },
  {
   "cell_type": "code",
   "execution_count": 15,
   "id": "a6629957-47db-44fd-b1c3-74e43bcac9a2",
   "metadata": {},
   "outputs": [
    {
     "data": {
      "text/plain": [
       "'HELLO, WORLD!'"
      ]
     },
     "execution_count": 15,
     "metadata": {},
     "output_type": "execute_result"
    }
   ],
   "source": [
    "spam = 'Hello, world!'\n",
    "spam = spam.upper()\n",
    "spam"
   ]
  },
  {
   "cell_type": "markdown",
   "id": "9676bf78-49d3-4bbf-9cbb-bbcb808eddbd",
   "metadata": {},
   "source": [
    "The `isupper()` and `islower()` methods will return a Boolean `True` value if the string has at least one letter and all the letters are uppercase or lowercase, respectively. Otherwise, the method returns `False`."
   ]
  },
  {
   "cell_type": "code",
   "execution_count": 17,
   "id": "b9cf3653-ad2a-438b-96a3-6c21de937121",
   "metadata": {},
   "outputs": [
    {
     "data": {
      "text/plain": [
       "False"
      ]
     },
     "execution_count": 17,
     "metadata": {},
     "output_type": "execute_result"
    }
   ],
   "source": [
    "spam = 'Hello, world!'\n",
    "spam.islower()"
   ]
  },
  {
   "cell_type": "code",
   "execution_count": 18,
   "id": "9f25d59b-53ad-4be3-bd51-2362ce4e28fa",
   "metadata": {},
   "outputs": [
    {
     "data": {
      "text/plain": [
       "False"
      ]
     },
     "execution_count": 18,
     "metadata": {},
     "output_type": "execute_result"
    }
   ],
   "source": [
    "spam.isupper()"
   ]
  },
  {
   "cell_type": "markdown",
   "id": "a686687e-f4c7-4f72-a2b3-ddb9c616be66",
   "metadata": {},
   "source": [
    "## The `isX()` Method"
   ]
  },
  {
   "cell_type": "markdown",
   "id": "b53b5acf-c314-4421-a82f-0fc9a3ad8380",
   "metadata": {},
   "source": [
    "Along with `islower()` and `isupper()`, there are several other string methods that have names beginning with the word is. These methods return a Boolean value that describes the nature of the string. "
   ]
  },
  {
   "cell_type": "markdown",
   "id": "080e2612-81d7-4833-a9b1-5a5aaceb077c",
   "metadata": {},
   "source": [
    "* `isalpha()` Returns `True` if the string consists only of letters and isn’t blank\n",
    "* `isalnum()` Returns `True` if the string consists only of letters and numbers and is not blank\n",
    "* `isdecimal()` Returns `True` if the string consists only of numeric characters and is not blank\n",
    "* `isspace()` Returns `True` if the string consists only of spaces, tabs, and newlines and is not blank\n",
    "* `istitle()` Returns `True` if the string consists only of words that begin with an uppercase letter followed by only lowercase letters"
   ]
  },
  {
   "cell_type": "markdown",
   "id": "0ea6fa38-db20-4d68-ac44-9132d74122e4",
   "metadata": {},
   "source": [
    "The `isX()` string methods are helpful when you need to validate user input."
   ]
  },
  {
   "cell_type": "markdown",
   "id": "df390d04-8077-4566-a8a5-6210a2ca87a0",
   "metadata": {},
   "source": [
    "## The `startswith()` and `endswith()` Methods"
   ]
  },
  {
   "cell_type": "markdown",
   "id": "d6e8e0de-9cc3-470f-9a56-e8db29ecfa66",
   "metadata": {},
   "source": [
    "The `startswith()` and `endswith()` methods return `True` if the string value they are called on begins or ends (respectively) with the string passed to the method; otherwise, they return `False`. "
   ]
  },
  {
   "cell_type": "code",
   "execution_count": 19,
   "id": "02cd56e0-91fa-4730-b195-d3b06969e7f4",
   "metadata": {},
   "outputs": [
    {
     "data": {
      "text/plain": [
       "True"
      ]
     },
     "execution_count": 19,
     "metadata": {},
     "output_type": "execute_result"
    }
   ],
   "source": [
    "'Hello, world!'.startswith('Hello')"
   ]
  },
  {
   "cell_type": "code",
   "execution_count": 20,
   "id": "66503f53-c4be-472e-b3b7-a6935c702be1",
   "metadata": {},
   "outputs": [
    {
     "data": {
      "text/plain": [
       "False"
      ]
     },
     "execution_count": 20,
     "metadata": {},
     "output_type": "execute_result"
    }
   ],
   "source": [
    "'abc123'.endswith('12')"
   ]
  },
  {
   "cell_type": "markdown",
   "id": "0a9bf9fe-7bc9-4b34-9130-4436d93ab8d0",
   "metadata": {},
   "source": [
    "## The `join()` and `split()` Methods"
   ]
  },
  {
   "cell_type": "markdown",
   "id": "c60c9360-44dd-4ada-9f32-aa6e5871e9da",
   "metadata": {},
   "source": [
    "The `join()` method is useful when you have a list of strings that need to be joined together into a single string value. The `join()` method is called on a string, gets passed a list of strings, and returns a string. The returned string is the concatenation of each string in the passed-in list. "
   ]
  },
  {
   "cell_type": "code",
   "execution_count": 21,
   "id": "1c83af82-d11d-4297-b909-bbf9084cf623",
   "metadata": {},
   "outputs": [
    {
     "data": {
      "text/plain": [
       "'cats, rats, bats'"
      ]
     },
     "execution_count": 21,
     "metadata": {},
     "output_type": "execute_result"
    }
   ],
   "source": [
    "', '.join(['cats', 'rats', 'bats'])"
   ]
  },
  {
   "cell_type": "markdown",
   "id": "d87948cc-8e75-4c84-a953-861ad5f58f52",
   "metadata": {},
   "source": [
    "The `split()` method does the opposite: It’s called on a string value and returns a list of strings. "
   ]
  },
  {
   "cell_type": "code",
   "execution_count": 22,
   "id": "4c1e7bab-dff6-4563-af61-1a455b3d2836",
   "metadata": {},
   "outputs": [
    {
     "data": {
      "text/plain": [
       "['My', 'name', 'is', 'Simon']"
      ]
     },
     "execution_count": 22,
     "metadata": {},
     "output_type": "execute_result"
    }
   ],
   "source": [
    "'MyABCnameABCisABCSimon'.split('ABC')"
   ]
  },
  {
   "cell_type": "markdown",
   "id": "b9d3216c-1993-4b7f-93fb-8ee823fd4ba3",
   "metadata": {},
   "source": [
    "## Splitting Strings with the `partition()` Method"
   ]
  },
  {
   "cell_type": "markdown",
   "id": "37c12b60-e498-4007-8e88-7bf229468d84",
   "metadata": {},
   "source": [
    "The `partition()` string method can split a string into the text before and after a separator string. This method searches the string it is called on for the separator string it is passed, and returns a tuple of three substrings for the “before,” “separator,” and “after” substrings. "
   ]
  },
  {
   "cell_type": "code",
   "execution_count": 23,
   "id": "695ae14c-0770-41c6-837b-4d9d78b1c71b",
   "metadata": {},
   "outputs": [
    {
     "data": {
      "text/plain": [
       "('Hello, ', 'w', 'orld!')"
      ]
     },
     "execution_count": 23,
     "metadata": {},
     "output_type": "execute_result"
    }
   ],
   "source": [
    "'Hello, world!'.partition('w')"
   ]
  },
  {
   "cell_type": "markdown",
   "id": "0aa577a9-39e2-48aa-9824-cf9a25d924ef",
   "metadata": {},
   "source": [
    "If the separator string you pass to `partition()` occurs multiple times in the string that partition() calls on, the method splits the string only on the first occurrence."
   ]
  },
  {
   "cell_type": "code",
   "execution_count": 24,
   "id": "4af17504-dfeb-4af4-85fd-273edbe2d033",
   "metadata": {},
   "outputs": [
    {
     "data": {
      "text/plain": [
       "('Hell', 'o', ', world!')"
      ]
     },
     "execution_count": 24,
     "metadata": {},
     "output_type": "execute_result"
    }
   ],
   "source": [
    "'Hello, world!'.partition('o')"
   ]
  },
  {
   "cell_type": "markdown",
   "id": "76bfe873-234a-466a-9423-374c52a71a5b",
   "metadata": {},
   "source": [
    "If the separator string can’t be found, the first string returned in the tuple will be the entire string, and the other two strings will be empty"
   ]
  },
  {
   "cell_type": "code",
   "execution_count": 25,
   "id": "d13818a6-2db8-4afb-b7b7-e91906afdca3",
   "metadata": {},
   "outputs": [
    {
     "data": {
      "text/plain": [
       "('Hello, world!', '', '')"
      ]
     },
     "execution_count": 25,
     "metadata": {},
     "output_type": "execute_result"
    }
   ],
   "source": [
    "'Hello, world!'.partition('XYZ')"
   ]
  },
  {
   "cell_type": "code",
   "execution_count": 26,
   "id": "74d42901-4527-40cd-a244-23863569c62b",
   "metadata": {},
   "outputs": [],
   "source": [
    "before, sep, after = 'Hello, world!'.partition(' ')"
   ]
  },
  {
   "cell_type": "code",
   "execution_count": 27,
   "id": "d84b6f47-4985-456f-9293-961c8c25e380",
   "metadata": {},
   "outputs": [
    {
     "data": {
      "text/plain": [
       "'Hello,'"
      ]
     },
     "execution_count": 27,
     "metadata": {},
     "output_type": "execute_result"
    }
   ],
   "source": [
    "before"
   ]
  },
  {
   "cell_type": "code",
   "execution_count": 28,
   "id": "354cb5b2-11a1-4f10-9951-c9e1a1258263",
   "metadata": {},
   "outputs": [
    {
     "data": {
      "text/plain": [
       "'world!'"
      ]
     },
     "execution_count": 28,
     "metadata": {},
     "output_type": "execute_result"
    }
   ],
   "source": [
    "after"
   ]
  },
  {
   "cell_type": "code",
   "execution_count": 29,
   "id": "d6cd0b36-6113-49d0-b9b5-bdd3de3c84b6",
   "metadata": {},
   "outputs": [
    {
     "data": {
      "text/plain": [
       "' '"
      ]
     },
     "execution_count": 29,
     "metadata": {},
     "output_type": "execute_result"
    }
   ],
   "source": [
    "sep"
   ]
  },
  {
   "cell_type": "markdown",
   "id": "f5744658-d148-4dc7-9d94-f1ba4e85ed51",
   "metadata": {},
   "source": [
    "## Justifying Text with the `rjust()`, `ljust()`, and `center()` Methods"
   ]
  },
  {
   "cell_type": "markdown",
   "id": "03e20962-a0c4-4f4f-9360-b5cb81f75ed8",
   "metadata": {},
   "source": [
    "The `rjust()` and `ljust()` string methods return a padded version of the string they are called on, with spaces inserted to justify the text. The first argument to both methods is an integer length for the justified string. "
   ]
  },
  {
   "cell_type": "code",
   "execution_count": 30,
   "id": "40d8ece1-ddc9-4770-a2bb-d89a93f3cdc8",
   "metadata": {},
   "outputs": [
    {
     "data": {
      "text/plain": [
       "'     Hello'"
      ]
     },
     "execution_count": 30,
     "metadata": {},
     "output_type": "execute_result"
    }
   ],
   "source": [
    "'Hello'.rjust(10)"
   ]
  },
  {
   "cell_type": "code",
   "execution_count": 32,
   "id": "4fcc2288-f5e0-47bd-b00c-acc0a225761d",
   "metadata": {},
   "outputs": [
    {
     "data": {
      "text/plain": [
       "'Hello     '"
      ]
     },
     "execution_count": 32,
     "metadata": {},
     "output_type": "execute_result"
    }
   ],
   "source": [
    "'Hello'.ljust(10)"
   ]
  },
  {
   "cell_type": "markdown",
   "id": "c6875bc8-313b-42e8-8bf0-d290546be626",
   "metadata": {},
   "source": [
    "`'Hello'.rjust(10)` says that we want to right-justify 'Hello' in a string of *total* length 10. 'Hello' is five characters, so five spaces will be added to its left, giving us a string of 10 characters with 'Hello' justified right.\n",
    "\n",
    "An optional second argument to `rjust()` and `ljust()` will specify a fill character other than a space character."
   ]
  },
  {
   "cell_type": "code",
   "execution_count": 31,
   "id": "7e75538d-62b7-41c9-9f93-79451c2dcf9f",
   "metadata": {},
   "outputs": [
    {
     "data": {
      "text/plain": [
       "'***************Hello'"
      ]
     },
     "execution_count": 31,
     "metadata": {},
     "output_type": "execute_result"
    }
   ],
   "source": [
    "'Hello'.rjust(20, '*')"
   ]
  },
  {
   "cell_type": "markdown",
   "id": "7d61ba42-e916-4398-a1e4-a1e5fe15bfbc",
   "metadata": {},
   "source": [
    "The `center()` string method works like `ljust()` and `rjust()` but centers the text rather than justifying it to the left or right."
   ]
  },
  {
   "cell_type": "code",
   "execution_count": 33,
   "id": "0531bd36-b208-4678-8978-c5ae68a93c87",
   "metadata": {},
   "outputs": [
    {
     "data": {
      "text/plain": [
       "'       Hello        '"
      ]
     },
     "execution_count": 33,
     "metadata": {},
     "output_type": "execute_result"
    }
   ],
   "source": [
    "'Hello'.center(20)"
   ]
  },
  {
   "cell_type": "markdown",
   "id": "338a34fe-2535-400d-99db-2656c9d220ab",
   "metadata": {},
   "source": [
    "## Removing Whitespace with the `strip()`, `rstrip()`, and `lstrip()` Methods"
   ]
  },
  {
   "cell_type": "markdown",
   "id": "6d2c60ff-c6a8-485b-9f09-eabe4a238ff5",
   "metadata": {},
   "source": [
    "Sometimes you may want to strip off whitespace characters (space, tab, and newline) from the left side, right side, or both sides of a string. The `strip()` string method will return a new string without any whitespace characters at the beginning or end. The `lstrip()` and `rstrip()` methods will remove whitespace characters from the left and right ends, respectively. "
   ]
  },
  {
   "cell_type": "code",
   "execution_count": 34,
   "id": "d020fc11-8f24-4f38-8145-14d2cfee3b85",
   "metadata": {},
   "outputs": [],
   "source": [
    "spam = '    Hello, World    '"
   ]
  },
  {
   "cell_type": "code",
   "execution_count": 35,
   "id": "fde54085-e41d-40e4-82a9-ef561b8cdccc",
   "metadata": {},
   "outputs": [
    {
     "data": {
      "text/plain": [
       "'Hello, World'"
      ]
     },
     "execution_count": 35,
     "metadata": {},
     "output_type": "execute_result"
    }
   ],
   "source": [
    "spam.strip()"
   ]
  },
  {
   "cell_type": "code",
   "execution_count": 36,
   "id": "ff50b399-485e-44f8-b541-2472aaccf117",
   "metadata": {},
   "outputs": [
    {
     "data": {
      "text/plain": [
       "'Hello, World    '"
      ]
     },
     "execution_count": 36,
     "metadata": {},
     "output_type": "execute_result"
    }
   ],
   "source": [
    "spam.lstrip()"
   ]
  },
  {
   "cell_type": "code",
   "execution_count": 37,
   "id": "a282f10f-aa1c-41e3-be9b-b4cc18ef9a92",
   "metadata": {},
   "outputs": [
    {
     "data": {
      "text/plain": [
       "'    Hello, World'"
      ]
     },
     "execution_count": 37,
     "metadata": {},
     "output_type": "execute_result"
    }
   ],
   "source": [
    "spam.rstrip()"
   ]
  },
  {
   "cell_type": "markdown",
   "id": "618fefa0-a75a-4290-9769-40c9da81c5af",
   "metadata": {},
   "source": [
    "Optionally, a string argument will specify which characters on the ends should be stripped."
   ]
  },
  {
   "cell_type": "code",
   "execution_count": 38,
   "id": "01052ce6-975b-40a1-af24-56c021e64b3b",
   "metadata": {},
   "outputs": [],
   "source": [
    "spam = 'SpamSpamBaconSpamEggsSpamSpam'"
   ]
  },
  {
   "cell_type": "code",
   "execution_count": 39,
   "id": "75aaf2ca-080c-4891-ab32-ccbcc495b903",
   "metadata": {},
   "outputs": [
    {
     "data": {
      "text/plain": [
       "'BaconSpamEggs'"
      ]
     },
     "execution_count": 39,
     "metadata": {},
     "output_type": "execute_result"
    }
   ],
   "source": [
    "spam.strip('ampS')"
   ]
  },
  {
   "cell_type": "markdown",
   "id": "ebc1e507-6b2c-498b-9db0-a2fe3043acac",
   "metadata": {},
   "source": [
    "Passing `strip()` the argument `'ampS'` will tell it to strip occurrences of `a`, `m`, `p`, and capital `S` from the ends of the string stored in `spam`. The order of the characters in the string passed to `strip()` does not matter: `strip('ampS')` will do the same thing as `strip('mapS')` or `strip('Spam')`."
   ]
  },
  {
   "cell_type": "markdown",
   "id": "3e84caa7-76a7-4f49-bf6a-3cde2be04c3c",
   "metadata": {},
   "source": [
    "## Numeric Values of Characters with the `ord()` and `chr()` Functions"
   ]
  },
  {
   "cell_type": "markdown",
   "id": "2243c021-0c31-47d7-aff2-67b0d8b1c2ab",
   "metadata": {},
   "source": [
    "Computers store information as bytes—strings of binary numbers, which means we need to be able to convert text to numbers. Because of this, every text character has a corresponding numeric value called a Unicode code point. For example, the numeric code point is `65` for `'A'`, `52` for `'4'`, and `33` for `'!'`. You can use the `ord()` function to get the code point of a one-character string, and the `chr()` function to get the one-character string of an integer code point."
   ]
  },
  {
   "cell_type": "code",
   "execution_count": 40,
   "id": "8e64a7c0-31e3-436d-9baf-2d78f30705a2",
   "metadata": {},
   "outputs": [
    {
     "data": {
      "text/plain": [
       "65"
      ]
     },
     "execution_count": 40,
     "metadata": {},
     "output_type": "execute_result"
    }
   ],
   "source": [
    "ord('A')"
   ]
  },
  {
   "cell_type": "code",
   "execution_count": 41,
   "id": "1b65c000-e41a-4b8d-99fe-5b66f503bd88",
   "metadata": {},
   "outputs": [
    {
     "data": {
      "text/plain": [
       "'A'"
      ]
     },
     "execution_count": 41,
     "metadata": {},
     "output_type": "execute_result"
    }
   ],
   "source": [
    "chr(65)"
   ]
  },
  {
   "cell_type": "markdown",
   "id": "25d95b5d-1d7d-4684-819c-318a0ce56ba7",
   "metadata": {},
   "source": [
    "These functions are useful when you need to do an ordering or mathematical operation on characters"
   ]
  },
  {
   "cell_type": "code",
   "execution_count": 42,
   "id": "8f5b2d37-91e4-489c-9d2a-ac454f7769d5",
   "metadata": {},
   "outputs": [
    {
     "data": {
      "text/plain": [
       "True"
      ]
     },
     "execution_count": 42,
     "metadata": {},
     "output_type": "execute_result"
    }
   ],
   "source": [
    "ord('A') < ord('B')"
   ]
  },
  {
   "cell_type": "code",
   "execution_count": 43,
   "id": "64c702b6-07ac-4074-a526-2d55126292cf",
   "metadata": {},
   "outputs": [
    {
     "data": {
      "text/plain": [
       "'B'"
      ]
     },
     "execution_count": 43,
     "metadata": {},
     "output_type": "execute_result"
    }
   ],
   "source": [
    "chr(ord('A') + 1)"
   ]
  },
  {
   "cell_type": "markdown",
   "id": "96f1e15e-3859-415d-9a1e-15a80d61b4e5",
   "metadata": {},
   "source": [
    "## Copying and Pasting Strings with the `pyperclip` Module"
   ]
  },
  {
   "cell_type": "code",
   "execution_count": 44,
   "id": "c5eb52e2-90db-49ce-96b2-612302918689",
   "metadata": {},
   "outputs": [],
   "source": [
    "import pyperclip"
   ]
  },
  {
   "cell_type": "code",
   "execution_count": 46,
   "id": "b92c0c1e-4bf1-4667-9dc4-39f18710e011",
   "metadata": {},
   "outputs": [
    {
     "data": {
      "text/plain": [
       "'For example, if I copied this sentence to the clipboard and then called paste(), it would look like this:'"
      ]
     },
     "execution_count": 46,
     "metadata": {},
     "output_type": "execute_result"
    }
   ],
   "source": [
    "pyperclip.paste()"
   ]
  }
 ],
 "metadata": {
  "kernelspec": {
   "display_name": "Python 3 (ipykernel)",
   "language": "python",
   "name": "python3"
  },
  "language_info": {
   "codemirror_mode": {
    "name": "ipython",
    "version": 3
   },
   "file_extension": ".py",
   "mimetype": "text/x-python",
   "name": "python",
   "nbconvert_exporter": "python",
   "pygments_lexer": "ipython3",
   "version": "3.12.1"
  }
 },
 "nbformat": 4,
 "nbformat_minor": 5
}
