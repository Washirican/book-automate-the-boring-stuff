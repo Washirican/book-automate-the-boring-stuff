{
 "cells": [
  {
   "cell_type": "markdown",
   "id": "856663a9-f99a-4291-97e2-775228d9d54f",
   "metadata": {},
   "source": [
    "## The List Data Type"
   ]
  },
  {
   "cell_type": "markdown",
   "id": "efc4170c-088a-46d9-b64f-35f37fced0aa",
   "metadata": {},
   "source": [
    "A list is a value that contains multiple values in an ordered sequence. The term list value refers to the list itself (which is a value that can be stored in a variable or passed to a function like any other value), not the values inside the list value. A list value looks like this: `['cat', 'bat', 'rat', 'elephant']`. Just as string values are typed with quote characters to mark where the string begins and ends, a list begins with an opening square bracket and ends with a closing square bracket, []. Values inside the list are also called items. Items are separated with commas (that is, they are comma-delimited). "
   ]
  },
  {
   "cell_type": "markdown",
   "id": "d4e742d8-fa6a-4383-b1d3-af7a9a107bd4",
   "metadata": {},
   "source": [
    "## Getting Individual Values in a List with Indexes"
   ]
  },
  {
   "cell_type": "code",
   "execution_count": 1,
   "id": "18f60925-9cf0-4854-8b2c-28c033178956",
   "metadata": {},
   "outputs": [],
   "source": [
    "spam = ['cat', 'bat', 'rat', 'elephant']"
   ]
  },
  {
   "cell_type": "code",
   "execution_count": 2,
   "id": "47034206-f409-41eb-ab92-4a4d43c13f16",
   "metadata": {},
   "outputs": [
    {
     "data": {
      "text/plain": [
       "'cat'"
      ]
     },
     "execution_count": 2,
     "metadata": {},
     "output_type": "execute_result"
    }
   ],
   "source": [
    "spam[0]"
   ]
  },
  {
   "cell_type": "code",
   "execution_count": 3,
   "id": "0d87b240-5176-42e0-a920-86161f0160bc",
   "metadata": {},
   "outputs": [
    {
     "name": "stdout",
     "output_type": "stream",
     "text": [
      "Hello cat\n"
     ]
    }
   ],
   "source": [
    "print('Hello ' + spam[0])"
   ]
  },
  {
   "cell_type": "markdown",
   "id": "0ce5ae5d-ee52-4f34-bb2e-946d3fe3ff8b",
   "metadata": {},
   "source": [
    "Lists can also contain other list values. The values in these lists of lists can be accessed using multiple indexes, like so:"
   ]
  },
  {
   "cell_type": "code",
   "execution_count": 4,
   "id": "596d420e-39e2-4da5-8d9b-c71223156555",
   "metadata": {},
   "outputs": [],
   "source": [
    "spam = [['cat', 'bat'], [10, 20, 30, 40, 50]]"
   ]
  },
  {
   "cell_type": "code",
   "execution_count": 5,
   "id": "00891f45-5294-4f6f-baf3-46aa1477c905",
   "metadata": {},
   "outputs": [
    {
     "data": {
      "text/plain": [
       "['cat', 'bat']"
      ]
     },
     "execution_count": 5,
     "metadata": {},
     "output_type": "execute_result"
    }
   ],
   "source": [
    "spam[0]"
   ]
  },
  {
   "cell_type": "code",
   "execution_count": 6,
   "id": "a9c8cc85-4396-4df1-90b9-c9503c06e5b6",
   "metadata": {},
   "outputs": [
    {
     "data": {
      "text/plain": [
       "'cat'"
      ]
     },
     "execution_count": 6,
     "metadata": {},
     "output_type": "execute_result"
    }
   ],
   "source": [
    "spam[0][0]"
   ]
  },
  {
   "cell_type": "markdown",
   "id": "aef4c737-8da9-4864-894a-95fa95241bab",
   "metadata": {},
   "source": [
    "## Negative Indexes"
   ]
  },
  {
   "cell_type": "markdown",
   "id": "9598c6e0-87ed-46c2-9b64-00e68307068d",
   "metadata": {},
   "source": [
    "While indexes start at 0 and go up, you can also use negative integers for the index. The integer value -1 refers to the last index in a list, the value -2 refers to the second-to-last index in a list, and so on. Enter the following into the interactive shell:"
   ]
  },
  {
   "cell_type": "code",
   "execution_count": 9,
   "id": "2223f26c-4cb0-4cac-aae3-8606c859178c",
   "metadata": {},
   "outputs": [],
   "source": [
    "spam = ['cat', 'bat', 'rat', 'elephant']"
   ]
  },
  {
   "cell_type": "code",
   "execution_count": 10,
   "id": "f84d5563-b7d5-494b-99e8-91740f5e3a43",
   "metadata": {},
   "outputs": [
    {
     "data": {
      "text/plain": [
       "'elephant'"
      ]
     },
     "execution_count": 10,
     "metadata": {},
     "output_type": "execute_result"
    }
   ],
   "source": [
    "spam[-1]"
   ]
  },
  {
   "cell_type": "code",
   "execution_count": 11,
   "id": "6b73b8fb-7b0f-4332-a9a9-14ef574dc228",
   "metadata": {},
   "outputs": [
    {
     "data": {
      "text/plain": [
       "'The elephant is afraid of the bat.'"
      ]
     },
     "execution_count": 11,
     "metadata": {},
     "output_type": "execute_result"
    }
   ],
   "source": [
    "'The ' + spam[-1] + ' is afraid of the ' + spam[-3] + '.'"
   ]
  },
  {
   "cell_type": "markdown",
   "id": "4be03bfa-65f0-4301-8da3-e3a066a3daf5",
   "metadata": {},
   "source": [
    "## Getting a List from Another List with Slices"
   ]
  },
  {
   "cell_type": "code",
   "execution_count": 12,
   "id": "fd099813-6590-4869-a31a-fbde767309ad",
   "metadata": {},
   "outputs": [],
   "source": [
    "spam = ['cat', 'bat', 'rat', 'elephant']"
   ]
  },
  {
   "cell_type": "code",
   "execution_count": 13,
   "id": "a1eeb644-fdcb-42dc-88c4-65d1cea1be32",
   "metadata": {},
   "outputs": [
    {
     "data": {
      "text/plain": [
       "['bat', 'rat']"
      ]
     },
     "execution_count": 13,
     "metadata": {},
     "output_type": "execute_result"
    }
   ],
   "source": [
    "spam[1:3]"
   ]
  },
  {
   "cell_type": "markdown",
   "id": "4580975b-87d0-4e39-82f2-7d3e3c196c0d",
   "metadata": {},
   "source": [
    "## Getting a List’s Length with the `len()` Function"
   ]
  },
  {
   "cell_type": "code",
   "execution_count": 30,
   "id": "d5e1b008-dc60-49f1-b392-fa22887e1f94",
   "metadata": {},
   "outputs": [],
   "source": [
    "spam = ['cat', 'dog', 'moose']"
   ]
  },
  {
   "cell_type": "code",
   "execution_count": 31,
   "id": "aaa6f4fc-5d7b-4468-aafd-24e4d2362394",
   "metadata": {},
   "outputs": [
    {
     "data": {
      "text/plain": [
       "3"
      ]
     },
     "execution_count": 31,
     "metadata": {},
     "output_type": "execute_result"
    }
   ],
   "source": [
    "len(spam)"
   ]
  },
  {
   "cell_type": "markdown",
   "id": "c4e0e16d-d15f-4bb4-9508-8df4ac298992",
   "metadata": {},
   "source": [
    "## Changing Values in a List with Indexes"
   ]
  },
  {
   "cell_type": "code",
   "execution_count": 32,
   "id": "fbc2731d-5307-4297-9ee4-c25db8266d4c",
   "metadata": {},
   "outputs": [],
   "source": [
    "spam = ['cat', 'bat', 'rat', 'elephant']"
   ]
  },
  {
   "cell_type": "code",
   "execution_count": 33,
   "id": "ffd51e33-be25-4481-b2ea-31c6f05ae4b3",
   "metadata": {},
   "outputs": [],
   "source": [
    "spam[1] = 'aardvark'"
   ]
  },
  {
   "cell_type": "code",
   "execution_count": 34,
   "id": "91971f93-46bf-4b16-9e3b-925c7e3938d1",
   "metadata": {},
   "outputs": [
    {
     "data": {
      "text/plain": [
       "['cat', 'aardvark', 'rat', 'elephant']"
      ]
     },
     "execution_count": 34,
     "metadata": {},
     "output_type": "execute_result"
    }
   ],
   "source": [
    "spam"
   ]
  },
  {
   "cell_type": "markdown",
   "id": "de7474dc-dd97-49d7-b816-aec634b3a6bf",
   "metadata": {},
   "source": [
    "## List Concatenation and List Replication"
   ]
  },
  {
   "cell_type": "code",
   "execution_count": 35,
   "id": "e5122a09-9f4d-40f9-bbec-4eb658c20821",
   "metadata": {},
   "outputs": [
    {
     "data": {
      "text/plain": [
       "[1, 2, 3, 'A', 'B', 'C']"
      ]
     },
     "execution_count": 35,
     "metadata": {},
     "output_type": "execute_result"
    }
   ],
   "source": [
    " [1, 2, 3] + ['A', 'B', 'C']"
   ]
  },
  {
   "cell_type": "code",
   "execution_count": 36,
   "id": "066dc939-fec8-4b47-82e0-7dece8906e21",
   "metadata": {},
   "outputs": [
    {
     "data": {
      "text/plain": [
       "['X', 'Y', 'Z', 'X', 'Y', 'Z', 'X', 'Y', 'Z']"
      ]
     },
     "execution_count": 36,
     "metadata": {},
     "output_type": "execute_result"
    }
   ],
   "source": [
    "['X', 'Y', 'Z'] * 3"
   ]
  },
  {
   "cell_type": "code",
   "execution_count": 37,
   "id": "bdaec190-b0ac-4f67-b1cf-91a18a041ca9",
   "metadata": {},
   "outputs": [],
   "source": [
    "spam = [1, 2, 3]"
   ]
  },
  {
   "cell_type": "code",
   "execution_count": 38,
   "id": "400060df-8e3f-4bcc-8824-3dd72368afdc",
   "metadata": {},
   "outputs": [],
   "source": [
    "spam = spam + ['A', 'B', 'C']"
   ]
  },
  {
   "cell_type": "code",
   "execution_count": 39,
   "id": "2ac09425-63ff-4705-a6e1-6d40c0dfea96",
   "metadata": {},
   "outputs": [
    {
     "data": {
      "text/plain": [
       "[1, 2, 3, 'A', 'B', 'C']"
      ]
     },
     "execution_count": 39,
     "metadata": {},
     "output_type": "execute_result"
    }
   ],
   "source": [
    "spam"
   ]
  },
  {
   "cell_type": "markdown",
   "id": "cf785663-d23e-4161-a5d4-2478a3afeda7",
   "metadata": {},
   "source": [
    "## Removing Values from Lists with `del` Statements"
   ]
  },
  {
   "cell_type": "markdown",
   "id": "41db0740-0018-4b65-a095-726f1e69c060",
   "metadata": {},
   "source": [
    "The 'del' statement will delete values at an index in a list. All of the values in the list after the deleted value will be moved up one index. "
   ]
  },
  {
   "cell_type": "code",
   "execution_count": 40,
   "id": "75c38430-1b62-49a0-9956-caf1ba8046ef",
   "metadata": {},
   "outputs": [],
   "source": [
    "spam = ['cat', 'bat', 'rat', 'elephant']"
   ]
  },
  {
   "cell_type": "code",
   "execution_count": 41,
   "id": "6ddf2f7f-d31b-4279-bcc4-e0ababbcc619",
   "metadata": {},
   "outputs": [],
   "source": [
    "del spam[2]"
   ]
  },
  {
   "cell_type": "code",
   "execution_count": 43,
   "id": "43ab3128-cc03-47e0-8644-7eaa2bd0bb6a",
   "metadata": {},
   "outputs": [
    {
     "data": {
      "text/plain": [
       "['cat', 'bat', 'elephant']"
      ]
     },
     "execution_count": 43,
     "metadata": {},
     "output_type": "execute_result"
    }
   ],
   "source": [
    "spam"
   ]
  },
  {
   "cell_type": "code",
   "execution_count": 44,
   "id": "ab3af06c-1466-4b9e-9089-18373fa5845e",
   "metadata": {},
   "outputs": [],
   "source": [
    "del spam[2]"
   ]
  },
  {
   "cell_type": "code",
   "execution_count": 45,
   "id": "52513420-8136-4f43-ba4b-a9f18d59c784",
   "metadata": {},
   "outputs": [
    {
     "data": {
      "text/plain": [
       "['cat', 'bat']"
      ]
     },
     "execution_count": 45,
     "metadata": {},
     "output_type": "execute_result"
    }
   ],
   "source": [
    "spam"
   ]
  },
  {
   "cell_type": "markdown",
   "id": "2153f211-ff9d-40f2-8e0b-ff4bc8a816ee",
   "metadata": {},
   "source": [
    "## Working with Lists"
   ]
  },
  {
   "cell_type": "markdown",
   "id": "b86f81fe-470b-4ded-821c-670be1b71996",
   "metadata": {},
   "source": [
    "Instead of using multiple, repetitive variables, you can use a single variable that contains a list value"
   ]
  },
  {
   "cell_type": "markdown",
   "id": "29129da3-15a6-4d97-90c6-e2b698307e24",
   "metadata": {},
   "source": [
    "## Using for Loops with Lists"
   ]
  },
  {
   "cell_type": "code",
   "execution_count": 48,
   "id": "340520c4-1fb9-465a-b96e-92b0bbbca87a",
   "metadata": {},
   "outputs": [
    {
     "name": "stdout",
     "output_type": "stream",
     "text": [
      "0\n",
      "1\n",
      "2\n",
      "3\n",
      "4\n"
     ]
    }
   ],
   "source": [
    "for i in [0, 1, 2, 3, 4]:\n",
    "    print(i)"
   ]
  },
  {
   "cell_type": "markdown",
   "id": "79b028ee-97a7-4640-9dd4-39d6bc77b0bb",
   "metadata": {},
   "source": [
    "A common Python technique is to use range(len(someList)) with a for loop to iterate over the indexes of a list. For example, enter the following into the interactive shell:"
   ]
  },
  {
   "cell_type": "code",
   "execution_count": 49,
   "id": "d5995003-ace3-428c-b992-9a4acb81e57c",
   "metadata": {},
   "outputs": [
    {
     "name": "stdout",
     "output_type": "stream",
     "text": [
      "Index 0 in supplies is: pens\n",
      "Index 1 in supplies is: staplers\n",
      "Index 2 in supplies is: flamethrowers\n",
      "Index 3 in supplies is: binders\n"
     ]
    }
   ],
   "source": [
    "supplies = ['pens', 'staplers', 'flamethrowers', 'binders']\n",
    "for i in range(len(supplies)):\n",
    "    print('Index ' + str(i) + ' in supplies is: ' + supplies[i])"
   ]
  },
  {
   "cell_type": "markdown",
   "id": "06ed3537-c03a-4eb2-9907-88ba071847c4",
   "metadata": {},
   "source": [
    "## The `in` and `not in` Operators"
   ]
  },
  {
   "cell_type": "markdown",
   "id": "452ec09c-87b6-47be-a513-fd91d0da0850",
   "metadata": {},
   "source": [
    "You can determine whether a value is or isn’t in a list with the in and not in operators."
   ]
  },
  {
   "cell_type": "code",
   "execution_count": 50,
   "id": "3a47d4d4-3988-48d5-8667-3347164e175f",
   "metadata": {},
   "outputs": [
    {
     "data": {
      "text/plain": [
       "True"
      ]
     },
     "execution_count": 50,
     "metadata": {},
     "output_type": "execute_result"
    }
   ],
   "source": [
    "'howdy' in ['hello', 'hi', 'howdy', 'heyas']"
   ]
  },
  {
   "cell_type": "code",
   "execution_count": 51,
   "id": "cad0e1c3-37c5-418b-9080-2b063cdc0ece",
   "metadata": {},
   "outputs": [],
   "source": [
    "spam = ['hello', 'hi', 'howdy', 'heyas']"
   ]
  },
  {
   "cell_type": "code",
   "execution_count": 52,
   "id": "c71a5b96-1be8-44ce-9190-161a90d92f65",
   "metadata": {},
   "outputs": [
    {
     "data": {
      "text/plain": [
       "False"
      ]
     },
     "execution_count": 52,
     "metadata": {},
     "output_type": "execute_result"
    }
   ],
   "source": [
    "'cat' in spam"
   ]
  },
  {
   "cell_type": "code",
   "execution_count": 53,
   "id": "45e8b899-f993-4ff4-8cd9-dc55b8cc78ae",
   "metadata": {},
   "outputs": [
    {
     "data": {
      "text/plain": [
       "True"
      ]
     },
     "execution_count": 53,
     "metadata": {},
     "output_type": "execute_result"
    }
   ],
   "source": [
    "'cat' not in spam"
   ]
  },
  {
   "cell_type": "markdown",
   "id": "f282a4c5-3ab8-46b4-871d-5476db56602f",
   "metadata": {},
   "source": [
    "## The Multiple Assignment Trick"
   ]
  },
  {
   "cell_type": "markdown",
   "id": "703f641c-0039-42ab-b629-2e2c38b4642f",
   "metadata": {},
   "source": [
    "The multiple assignment trick (technically called tuple unpacking) is a shortcut that lets you assign multiple variables with the values in a list in one line of code. So instead of doing this:"
   ]
  },
  {
   "cell_type": "code",
   "execution_count": 54,
   "id": "c712f743-4cc9-4234-be70-444197f6ca93",
   "metadata": {},
   "outputs": [],
   "source": [
    "cat = ['fat', 'gray', 'loud']\n",
    "size = cat[0]\n",
    "color = cat[1]\n",
    "disposition = cat[2]"
   ]
  },
  {
   "cell_type": "markdown",
   "id": "44e3c281-cecf-4630-9940-c0959d1c6594",
   "metadata": {},
   "source": [
    "you could type this line of code:"
   ]
  },
  {
   "cell_type": "code",
   "execution_count": 55,
   "id": "d7a331f9-180e-44b7-9824-0c51366986ee",
   "metadata": {},
   "outputs": [],
   "source": [
    "cat = ['fat', 'gray', 'loud']"
   ]
  },
  {
   "cell_type": "code",
   "execution_count": 56,
   "id": "0ae1ec0e-0eac-4f12-b5db-023dce93c083",
   "metadata": {},
   "outputs": [],
   "source": [
    "size, color, disposition = cat"
   ]
  },
  {
   "cell_type": "code",
   "execution_count": 57,
   "id": "41d6b690-8a33-41eb-a1a9-a62066060669",
   "metadata": {},
   "outputs": [
    {
     "name": "stdout",
     "output_type": "stream",
     "text": [
      "fat\n"
     ]
    }
   ],
   "source": [
    "print(size)"
   ]
  },
  {
   "cell_type": "markdown",
   "id": "f82364be-d540-417f-a62f-fe3b5625787a",
   "metadata": {},
   "source": [
    "The number of variables and the length of the list must be exactly equal, or Python will give you a ValueError:"
   ]
  },
  {
   "cell_type": "markdown",
   "id": "9017a388-99d7-4f8d-90e5-d2665fcad2ff",
   "metadata": {},
   "source": [
    "## Using the `enumerate()` Function with Lists"
   ]
  },
  {
   "cell_type": "markdown",
   "id": "6eb0d551-35f1-4ba5-b9c8-d8e1f685fb54",
   "metadata": {},
   "source": [
    "Instead of using the `range(len(someList))` technique with a for loop to obtain the integer index of the items in the list, you can call the `enumerate()` function instead. On each iteration of the loop, `enumerate()` will return two values: the index of the item in the list, and the item in the list itself."
   ]
  },
  {
   "cell_type": "code",
   "execution_count": 58,
   "id": "5b176d6e-5f18-4f88-9f95-d89258cc519a",
   "metadata": {},
   "outputs": [],
   "source": [
    "supplies = ['pens', 'staplers', 'flamethrowers', 'binders']"
   ]
  },
  {
   "cell_type": "code",
   "execution_count": 59,
   "id": "35e73bb1-f322-4581-a5e3-977219a940da",
   "metadata": {},
   "outputs": [
    {
     "name": "stdout",
     "output_type": "stream",
     "text": [
      "Index 0 in supplies is: pens\n",
      "Index 1 in supplies is: staplers\n",
      "Index 2 in supplies is: flamethrowers\n",
      "Index 3 in supplies is: binders\n"
     ]
    }
   ],
   "source": [
    "for index, item in enumerate(supplies):\n",
    "    print('Index ' + str(index) + ' in supplies is: ' + item)"
   ]
  },
  {
   "cell_type": "markdown",
   "id": "831ef511-a1b1-47f8-9fad-d10c12b61f9e",
   "metadata": {},
   "source": [
    "## Using the `random.choice()` and `random.shuffle()` Functions with Lists"
   ]
  },
  {
   "cell_type": "markdown",
   "id": "eccc0b48-7df1-4aa4-b784-bc9308354382",
   "metadata": {},
   "source": [
    "The `random` module has a couple functions that accept lists for arguments. The `random.choice()` function will return a randomly selected item from the list. "
   ]
  },
  {
   "cell_type": "code",
   "execution_count": 60,
   "id": "54d69f20-23da-4ad3-a4c0-c0d1c07719eb",
   "metadata": {},
   "outputs": [],
   "source": [
    "import random"
   ]
  },
  {
   "cell_type": "code",
   "execution_count": 61,
   "id": "d363c2d4-4ca8-4178-8de0-9788411547c3",
   "metadata": {},
   "outputs": [],
   "source": [
    "pets = ['Dog', 'Cat', 'Moose']"
   ]
  },
  {
   "cell_type": "code",
   "execution_count": 62,
   "id": "e29167ed-bc44-422b-93d0-34e07f1cca5e",
   "metadata": {},
   "outputs": [
    {
     "data": {
      "text/plain": [
       "'Cat'"
      ]
     },
     "execution_count": 62,
     "metadata": {},
     "output_type": "execute_result"
    }
   ],
   "source": [
    "random.choice(pets)"
   ]
  },
  {
   "cell_type": "code",
   "execution_count": 63,
   "id": "c9b841a4-4dee-4952-95bb-81013c5f8cdc",
   "metadata": {},
   "outputs": [
    {
     "data": {
      "text/plain": [
       "'Moose'"
      ]
     },
     "execution_count": 63,
     "metadata": {},
     "output_type": "execute_result"
    }
   ],
   "source": [
    "random.choice(pets)"
   ]
  },
  {
   "cell_type": "markdown",
   "id": "4405a9ac-6ebe-43d1-ba06-ac6dff87fc01",
   "metadata": {},
   "source": [
    "The `random.shuffle()` function will reorder the items in a list. This function modifies the list in place, rather than returning a new list. "
   ]
  },
  {
   "cell_type": "code",
   "execution_count": 64,
   "id": "dfe524ff-7846-4235-aa10-b8545674bfc1",
   "metadata": {},
   "outputs": [],
   "source": [
    "import random"
   ]
  },
  {
   "cell_type": "code",
   "execution_count": 65,
   "id": "7348b35e-7daf-4b33-b16b-99ebdb64f936",
   "metadata": {},
   "outputs": [],
   "source": [
    "people = ['Alice', 'Bob', 'Carol', 'David']"
   ]
  },
  {
   "cell_type": "code",
   "execution_count": 66,
   "id": "8fa19fbb-9822-4a7a-97cd-3407d494db61",
   "metadata": {},
   "outputs": [],
   "source": [
    "random.shuffle(people)"
   ]
  },
  {
   "cell_type": "code",
   "execution_count": 67,
   "id": "3f98a199-7d34-4be9-9db6-2005cd7766b3",
   "metadata": {},
   "outputs": [
    {
     "data": {
      "text/plain": [
       "['David', 'Carol', 'Alice', 'Bob']"
      ]
     },
     "execution_count": 67,
     "metadata": {},
     "output_type": "execute_result"
    }
   ],
   "source": [
    "people"
   ]
  },
  {
   "cell_type": "markdown",
   "id": "1abfdb3b-294a-4a3c-aa1c-21aeb62f5c48",
   "metadata": {},
   "source": [
    "## Augmented Assignment Operators"
   ]
  },
  {
   "cell_type": "code",
   "execution_count": 5,
   "id": "ffade339-da53-491d-b37b-b5000083c548",
   "metadata": {},
   "outputs": [],
   "source": [
    "spam = 42"
   ]
  },
  {
   "cell_type": "code",
   "execution_count": 6,
   "id": "6155ea88-fd50-45bf-add0-dd7b4893aa59",
   "metadata": {},
   "outputs": [],
   "source": [
    "spam = spam + 1"
   ]
  },
  {
   "cell_type": "code",
   "execution_count": 7,
   "id": "d510ae22-3003-4b11-a5a2-37cba5401555",
   "metadata": {},
   "outputs": [
    {
     "data": {
      "text/plain": [
       "43"
      ]
     },
     "execution_count": 7,
     "metadata": {},
     "output_type": "execute_result"
    }
   ],
   "source": [
    "spam"
   ]
  },
  {
   "cell_type": "markdown",
   "id": "148c57af-60e6-4e85-a7c2-4aaa2b55ba36",
   "metadata": {},
   "source": [
    "As a shortcut, you can use the augmented assignment operator += to do the same thing:"
   ]
  },
  {
   "cell_type": "code",
   "execution_count": 8,
   "id": "23f2d95d-2090-412a-ae0e-c8b9b7142098",
   "metadata": {},
   "outputs": [],
   "source": [
    "spam = 42"
   ]
  },
  {
   "cell_type": "code",
   "execution_count": 9,
   "id": "d3a6027a-b6ba-44fb-bc22-5044bd8f7b0e",
   "metadata": {},
   "outputs": [],
   "source": [
    "spam += 1"
   ]
  },
  {
   "cell_type": "code",
   "execution_count": 10,
   "id": "37430513-34f1-476a-816e-708049354f34",
   "metadata": {},
   "outputs": [
    {
     "data": {
      "text/plain": [
       "43"
      ]
     },
     "execution_count": 10,
     "metadata": {},
     "output_type": "execute_result"
    }
   ],
   "source": [
    "spam"
   ]
  },
  {
   "cell_type": "markdown",
   "id": "7eaa2280-d016-4ba2-b369-d2964b301c0a",
   "metadata": {},
   "source": [
    "The `+=` operator can also do string and list concatenation, and the `*=` operator can do string and list replication. "
   ]
  },
  {
   "cell_type": "code",
   "execution_count": 14,
   "id": "289b7d7b-481b-47c4-a625-034c746bc704",
   "metadata": {},
   "outputs": [],
   "source": [
    "spam = 'Hello'"
   ]
  },
  {
   "cell_type": "code",
   "execution_count": 15,
   "id": "e54541f7-c223-40f1-b629-a0ad27b5abab",
   "metadata": {},
   "outputs": [],
   "source": [
    "spam += ' world!'"
   ]
  },
  {
   "cell_type": "code",
   "execution_count": 16,
   "id": "e0e614dc-b6bd-42d9-a120-50be6f5f76ba",
   "metadata": {},
   "outputs": [
    {
     "data": {
      "text/plain": [
       "'Hello world!'"
      ]
     },
     "execution_count": 16,
     "metadata": {},
     "output_type": "execute_result"
    }
   ],
   "source": [
    "spam"
   ]
  },
  {
   "cell_type": "code",
   "execution_count": 20,
   "id": "0937c346-b67d-4790-b21b-d6980b8685ca",
   "metadata": {},
   "outputs": [],
   "source": [
    "bacon = ['Marsha']"
   ]
  },
  {
   "cell_type": "code",
   "execution_count": 21,
   "id": "c465526e-c1f7-4c7f-8491-f2516c9bf595",
   "metadata": {},
   "outputs": [],
   "source": [
    "bacon *= 3"
   ]
  },
  {
   "cell_type": "code",
   "execution_count": 22,
   "id": "7625a104-11cf-434e-b7d6-eac4e20f8974",
   "metadata": {},
   "outputs": [
    {
     "data": {
      "text/plain": [
       "['Marsha', 'Marsha', 'Marsha']"
      ]
     },
     "execution_count": 22,
     "metadata": {},
     "output_type": "execute_result"
    }
   ],
   "source": [
    "bacon"
   ]
  },
  {
   "cell_type": "markdown",
   "id": "48c4a461-8918-4b52-9019-ae66ff6095fa",
   "metadata": {},
   "source": [
    "## Methods"
   ]
  },
  {
   "cell_type": "markdown",
   "id": "1e80a429-a270-4811-8c45-ca2cffcb8b90",
   "metadata": {},
   "source": [
    "A method is the same thing as a function, except it is “called on” a value. For example, if a list value were stored in spam, you would call the `index()` list method (which I’ll explain shortly) on that list like so: `spam.index('hello')`. The method part comes after the value, separated by a period.\n",
    "\n",
    "Each data type has its own set of methods. The list data type, for example, has several useful methods for finding, adding, removing, and otherwise manipulating values in a list."
   ]
  },
  {
   "cell_type": "markdown",
   "id": "5be7c5b1-f7d1-4586-b22f-0af75104e126",
   "metadata": {},
   "source": [
    "## Finding a Value in a List with the `index()` Method"
   ]
  },
  {
   "cell_type": "code",
   "execution_count": 23,
   "id": "3d09f7f0-576a-424c-94bb-e0449cdaf7ae",
   "metadata": {},
   "outputs": [],
   "source": [
    "spam = ['hello', 'hi', 'howdy', 'heyas']"
   ]
  },
  {
   "cell_type": "code",
   "execution_count": 24,
   "id": "1ff43dd4-6ae5-485b-b6d2-ff3411522946",
   "metadata": {},
   "outputs": [
    {
     "data": {
      "text/plain": [
       "0"
      ]
     },
     "execution_count": 24,
     "metadata": {},
     "output_type": "execute_result"
    }
   ],
   "source": [
    "spam.index('hello')"
   ]
  },
  {
   "cell_type": "markdown",
   "id": "962e9ad5-0df2-4f26-9397-5e2824e1c900",
   "metadata": {},
   "source": [
    "When there are duplicates of the value in the list, the index of its first appearance is returned. "
   ]
  },
  {
   "cell_type": "code",
   "execution_count": 25,
   "id": "b4888508-363f-4f64-baeb-f4f1c5e9ad51",
   "metadata": {},
   "outputs": [],
   "source": [
    "spam = ['Zophie', 'Pooka', 'Fat-tail', 'Pooka']"
   ]
  },
  {
   "cell_type": "code",
   "execution_count": 26,
   "id": "311071ed-2a85-49ef-ba5f-ce243d47c7e6",
   "metadata": {},
   "outputs": [
    {
     "data": {
      "text/plain": [
       "1"
      ]
     },
     "execution_count": 26,
     "metadata": {},
     "output_type": "execute_result"
    }
   ],
   "source": [
    "spam.index('Pooka')"
   ]
  },
  {
   "cell_type": "markdown",
   "id": "eee7867f-ec0d-45b4-8d50-5d3e5cc9310a",
   "metadata": {},
   "source": [
    "## Adding Values to Lists with the `append()` and `insert()` Methods"
   ]
  },
  {
   "cell_type": "markdown",
   "id": "78a39da3-ed7c-4cd6-b248-b7b479ad8184",
   "metadata": {},
   "source": [
    "To add new values to a list, use the `append()` and `insert()` methods."
   ]
  },
  {
   "cell_type": "code",
   "execution_count": 27,
   "id": "a527e2a5-70b0-487c-8730-e7eef1d4251a",
   "metadata": {},
   "outputs": [],
   "source": [
    "spam = ['cat', 'dog', 'bat']"
   ]
  },
  {
   "cell_type": "code",
   "execution_count": 28,
   "id": "ca910aba-d586-44d6-9164-44f16bd65e25",
   "metadata": {},
   "outputs": [],
   "source": [
    "spam.append('moose')"
   ]
  },
  {
   "cell_type": "code",
   "execution_count": 29,
   "id": "06d5b83c-0223-410a-a820-40327a35f05d",
   "metadata": {},
   "outputs": [
    {
     "data": {
      "text/plain": [
       "['cat', 'dog', 'bat', 'moose']"
      ]
     },
     "execution_count": 29,
     "metadata": {},
     "output_type": "execute_result"
    }
   ],
   "source": [
    "spam"
   ]
  },
  {
   "cell_type": "code",
   "execution_count": 30,
   "id": "1873e6e7-ac1f-49c5-9e8f-0492d5aa40b6",
   "metadata": {},
   "outputs": [],
   "source": [
    "spam = ['cat', 'dog', 'bat']"
   ]
  },
  {
   "cell_type": "code",
   "execution_count": 31,
   "id": "8727922e-3b14-4eb9-ad3d-fccafefd6485",
   "metadata": {},
   "outputs": [],
   "source": [
    "spam.insert(1, 'chicken')"
   ]
  },
  {
   "cell_type": "code",
   "execution_count": 32,
   "id": "ec88ef1c-6370-434e-b177-958435806398",
   "metadata": {},
   "outputs": [
    {
     "data": {
      "text/plain": [
       "['cat', 'chicken', 'dog', 'bat']"
      ]
     },
     "execution_count": 32,
     "metadata": {},
     "output_type": "execute_result"
    }
   ],
   "source": [
    "spam"
   ]
  },
  {
   "cell_type": "markdown",
   "id": "98e3c2d4-0679-491e-950f-1c6065c62289",
   "metadata": {},
   "source": [
    " Neither `append()` nor `insert()` gives the new value of spam as its return value. (In fact, the return value of `append()` and `insert()` is `None`, so you definitely wouldn’t want to store this as the new variable value.) Rather, the list is modified in place."
   ]
  },
  {
   "cell_type": "markdown",
   "id": "987a62ed-5b2e-4b06-8871-36164691b67f",
   "metadata": {},
   "source": [
    "## Removing Values from Lists with the `remove()` Method"
   ]
  },
  {
   "cell_type": "code",
   "execution_count": 33,
   "id": "958f2cbf-8dbe-4d4d-9f07-fc5464c957a9",
   "metadata": {},
   "outputs": [],
   "source": [
    "spam = ['cat', 'bat', 'rat', 'elephant']"
   ]
  },
  {
   "cell_type": "code",
   "execution_count": 34,
   "id": "459a673b-15af-45ee-a527-fe7f954ae1f6",
   "metadata": {},
   "outputs": [],
   "source": [
    "spam.remove('bat')"
   ]
  },
  {
   "cell_type": "code",
   "execution_count": 35,
   "id": "05a8d5b7-b6b5-45fd-a4c2-a1c50d06f1b1",
   "metadata": {},
   "outputs": [
    {
     "data": {
      "text/plain": [
       "['cat', 'rat', 'elephant']"
      ]
     },
     "execution_count": 35,
     "metadata": {},
     "output_type": "execute_result"
    }
   ],
   "source": [
    "spam"
   ]
  },
  {
   "cell_type": "markdown",
   "id": "2fa5b60f-0bd2-40ec-aff2-96f1d27dbf56",
   "metadata": {},
   "source": [
    "Attempting to delete a value that does not exist in the list will result in a `ValueError` error. \n",
    "If the value appears multiple times in the list, only the first instance of the value will be removed."
   ]
  },
  {
   "cell_type": "markdown",
   "id": "e158ec6e-73d2-4aca-9f18-b7c906c23c36",
   "metadata": {},
   "source": [
    "The `del` statement is good to use when you know the index of the value you want to remove from the list. The `remove()` method is useful when you know the value you want to remove from the list."
   ]
  },
  {
   "cell_type": "markdown",
   "id": "325195fa-19fa-4bae-b447-19bbbc2b518b",
   "metadata": {},
   "source": [
    "## Sorting the Values in a List with the `sort()` Method"
   ]
  },
  {
   "cell_type": "markdown",
   "id": "44d8e150-c923-4a5f-9278-cfd54a0befcd",
   "metadata": {},
   "source": [
    "Lists of number values or lists of strings can be sorted with the `sort()` method. "
   ]
  },
  {
   "cell_type": "code",
   "execution_count": 36,
   "id": "118cdafc-521c-458a-bae9-7fc009c016f6",
   "metadata": {},
   "outputs": [],
   "source": [
    "spam = [2, 5, 3.14, 1, -7]"
   ]
  },
  {
   "cell_type": "code",
   "execution_count": 37,
   "id": "4e149aa7-2556-4360-b270-711b2f91830f",
   "metadata": {},
   "outputs": [],
   "source": [
    "spam.sort()"
   ]
  },
  {
   "cell_type": "code",
   "execution_count": 38,
   "id": "e3a67d2d-09ed-480d-8086-86c99c431064",
   "metadata": {},
   "outputs": [
    {
     "data": {
      "text/plain": [
       "[-7, 1, 2, 3.14, 5]"
      ]
     },
     "execution_count": 38,
     "metadata": {},
     "output_type": "execute_result"
    }
   ],
   "source": [
    "spam"
   ]
  },
  {
   "cell_type": "markdown",
   "id": "96e2bb77-a56b-45d7-a5b2-099c3db47c0f",
   "metadata": {},
   "source": [
    "You can also pass True for the `reverse` keyword argument to have `sort()` sort the values in reverse order."
   ]
  },
  {
   "cell_type": "code",
   "execution_count": 39,
   "id": "861745e5-133d-45d1-8247-85d2f57401c5",
   "metadata": {},
   "outputs": [],
   "source": [
    "spam.sort(reverse=True)"
   ]
  },
  {
   "cell_type": "code",
   "execution_count": 40,
   "id": "ae0bcc79-dd74-463c-92c9-910a3f9b0505",
   "metadata": {},
   "outputs": [
    {
     "data": {
      "text/plain": [
       "[5, 3.14, 2, 1, -7]"
      ]
     },
     "execution_count": 40,
     "metadata": {},
     "output_type": "execute_result"
    }
   ],
   "source": [
    "spam"
   ]
  },
  {
   "cell_type": "markdown",
   "id": "a0f4958c-e353-4df9-bbf1-2bdcefb366e8",
   "metadata": {},
   "source": [
    "* The `sort()` method sorts the list in place.\n",
    "* You cannot sort lists that have both number values and string values in them, since Python doesn’t know how to compare these values. \n",
    "* The `sort()` method uses “ASCIIbetical order” rather than actual alphabetical order for sorting strings. This means uppercase letters come before lowercase letters. Therefore, the lowercase a is sorted so that it comes after the uppercase Z.\n",
    "\n",
    "If you need to sort the values in regular alphabetical order, pass `str.lower` for the key keyword argument in the `sort()` method call."
   ]
  },
  {
   "cell_type": "code",
   "execution_count": 41,
   "id": "c980c8ef-926a-423d-bc31-599c0dde656a",
   "metadata": {},
   "outputs": [],
   "source": [
    "spam = ['Alice', 'ants', 'Bob', 'badgers', 'Carol', 'cats']"
   ]
  },
  {
   "cell_type": "code",
   "execution_count": 42,
   "id": "06a8f353-e5e1-4c42-8b0b-fc78311ff107",
   "metadata": {},
   "outputs": [
    {
     "data": {
      "text/plain": [
       "['Alice', 'Bob', 'Carol', 'ants', 'badgers', 'cats']"
      ]
     },
     "execution_count": 42,
     "metadata": {},
     "output_type": "execute_result"
    }
   ],
   "source": [
    "spam.sort()\n",
    "spam"
   ]
  },
  {
   "cell_type": "code",
   "execution_count": 43,
   "id": "893875ad-4fd3-4f98-ba0f-5e93bd27c56f",
   "metadata": {},
   "outputs": [],
   "source": [
    "spam = ['a', 'z', 'A', 'Z']"
   ]
  },
  {
   "cell_type": "code",
   "execution_count": 44,
   "id": "7d556a7b-2887-4a34-9f6f-55a48b7985f4",
   "metadata": {},
   "outputs": [
    {
     "data": {
      "text/plain": [
       "['a', 'A', 'z', 'Z']"
      ]
     },
     "execution_count": 44,
     "metadata": {},
     "output_type": "execute_result"
    }
   ],
   "source": [
    "spam.sort(key=str.lower)\n",
    "spam"
   ]
  },
  {
   "cell_type": "markdown",
   "id": "9837b443-5d04-4e36-9bf0-d02b6957e3ea",
   "metadata": {},
   "source": [
    "This causes the `sort()` function to treat all the items in the list as if they were lowercase without actually changing the values in the list."
   ]
  },
  {
   "cell_type": "markdown",
   "id": "6a3f75b8-a4f1-4e44-8d4d-785583f1322b",
   "metadata": {},
   "source": [
    "## Reversing the Values in a List with the `reverse()` Method"
   ]
  },
  {
   "cell_type": "markdown",
   "id": "21727621-2ddc-4e7e-bbae-d2d5951a0fce",
   "metadata": {},
   "source": [
    "If you need to quickly reverse the order of the items in a list, you can call the `reverse()` list method."
   ]
  },
  {
   "cell_type": "code",
   "execution_count": 45,
   "id": "d5ab8d98-bfae-49c2-8b93-362564067b1e",
   "metadata": {},
   "outputs": [],
   "source": [
    "spam = ['cat', 'dog', 'moose']"
   ]
  },
  {
   "cell_type": "code",
   "execution_count": 46,
   "id": "3a19434c-c52f-41fc-8c53-9a2323144577",
   "metadata": {},
   "outputs": [
    {
     "data": {
      "text/plain": [
       "['moose', 'dog', 'cat']"
      ]
     },
     "execution_count": 46,
     "metadata": {},
     "output_type": "execute_result"
    }
   ],
   "source": [
    "spam.reverse()\n",
    "spam"
   ]
  },
  {
   "cell_type": "markdown",
   "id": "a3429386-4c0d-4149-b11f-a04e6be78506",
   "metadata": {},
   "source": [
    "## Sequence Data Types"
   ]
  },
  {
   "cell_type": "markdown",
   "id": "3ecca88c-015f-45fb-b90f-b282cf9f01d5",
   "metadata": {},
   "source": [
    "Lists aren’t the only data types that represent ordered sequences of values. For example, strings and lists are actually similar if you consider a string to be a “list” of single text characters. The Python sequence data types include lists, strings, range objects returned by `range()`, and tuples. Many of the things you can do with lists can also be done with strings and other values of sequence types: indexing; slicing; and using them with for loops, with `len()`, and with the in and not in operators. "
   ]
  },
  {
   "cell_type": "code",
   "execution_count": 47,
   "id": "ef5e0d28-7886-47d0-bd4b-07eb4bf7bf23",
   "metadata": {},
   "outputs": [],
   "source": [
    "name = 'Zophie'"
   ]
  },
  {
   "cell_type": "code",
   "execution_count": 48,
   "id": "82ec212c-fc2e-4017-80ac-ff0a422b132d",
   "metadata": {},
   "outputs": [
    {
     "data": {
      "text/plain": [
       "'Z'"
      ]
     },
     "execution_count": 48,
     "metadata": {},
     "output_type": "execute_result"
    }
   ],
   "source": [
    "name[0]"
   ]
  },
  {
   "cell_type": "code",
   "execution_count": 49,
   "id": "5b6981bf-e01c-41c3-95cb-46a52ca679a3",
   "metadata": {},
   "outputs": [
    {
     "data": {
      "text/plain": [
       "True"
      ]
     },
     "execution_count": 49,
     "metadata": {},
     "output_type": "execute_result"
    }
   ],
   "source": [
    "'Zo' in name"
   ]
  },
  {
   "cell_type": "code",
   "execution_count": 51,
   "id": "9a0e2509-7d49-4dfe-b0e0-2e00e747adb2",
   "metadata": {},
   "outputs": [
    {
     "data": {
      "text/plain": [
       "False"
      ]
     },
     "execution_count": 51,
     "metadata": {},
     "output_type": "execute_result"
    }
   ],
   "source": [
    "'p' not in name"
   ]
  },
  {
   "cell_type": "code",
   "execution_count": 52,
   "id": "77d74cdd-8bc1-4cfe-a01e-f48b482b433f",
   "metadata": {},
   "outputs": [
    {
     "name": "stdout",
     "output_type": "stream",
     "text": [
      "* * * Z * * *\n",
      "* * * o * * *\n",
      "* * * p * * *\n",
      "* * * h * * *\n",
      "* * * i * * *\n",
      "* * * e * * *\n"
     ]
    }
   ],
   "source": [
    "for i in name:\n",
    "    print('* * * ' + i + ' * * *')"
   ]
  },
  {
   "cell_type": "markdown",
   "id": "9ef7ab89-ad02-4740-aa5e-43f7bdab8fe3",
   "metadata": {},
   "source": [
    "## Mutable and Immutable Data Types"
   ]
  },
  {
   "cell_type": "markdown",
   "id": "4297bbee-7ec8-4883-94cc-1ca2162202d2",
   "metadata": {},
   "source": [
    "But lists and strings are different in an important way. A list value is a mutable data type: it can have values added, removed, or changed. However, a string is immutable: it cannot be changed. Trying to reassign a single character in a string results in a `TypeError` error."
   ]
  },
  {
   "cell_type": "markdown",
   "id": "cdb9d60b-236c-4c1c-b927-a8f5496b4c92",
   "metadata": {},
   "source": [
    "## The Tuple Data Type"
   ]
  },
  {
   "cell_type": "markdown",
   "id": "1e82cf66-a6be-459e-997e-e1b678eaf452",
   "metadata": {},
   "source": [
    "The tuple data type is almost identical to the list data type, except in two ways. First, tuples are typed with parentheses, `(` and `)`, instead of square brackets, `[` and `]`. "
   ]
  },
  {
   "cell_type": "code",
   "execution_count": 53,
   "id": "1f637fe0-6a6c-442b-a24b-e0166554e579",
   "metadata": {},
   "outputs": [],
   "source": [
    "eggs = ('hello', 42, 0.5)"
   ]
  },
  {
   "cell_type": "code",
   "execution_count": 54,
   "id": "6b9d65ae-193d-44b0-8919-5ae94b43e96a",
   "metadata": {},
   "outputs": [
    {
     "data": {
      "text/plain": [
       "'hello'"
      ]
     },
     "execution_count": 54,
     "metadata": {},
     "output_type": "execute_result"
    }
   ],
   "source": [
    "eggs[0]"
   ]
  },
  {
   "cell_type": "markdown",
   "id": "30c54c55-9359-414d-adbd-757756e72955",
   "metadata": {},
   "source": [
    "But the main way that tuples are different from lists is that tuples, like strings, are immutable. Tuples cannot have their values modified, appended, or removed."
   ]
  },
  {
   "cell_type": "markdown",
   "id": "1ccf5e29-2558-450b-ad34-ccef65a727c7",
   "metadata": {},
   "source": [
    "If you have only one value in your tuple, you can indicate this by placing a trailing comma after the value inside the parentheses."
   ]
  },
  {
   "cell_type": "code",
   "execution_count": 55,
   "id": "2207f028-9c9a-4e15-9726-f639c69d2afc",
   "metadata": {},
   "outputs": [
    {
     "data": {
      "text/plain": [
       "tuple"
      ]
     },
     "execution_count": 55,
     "metadata": {},
     "output_type": "execute_result"
    }
   ],
   "source": [
    "type(('hello',))"
   ]
  },
  {
   "cell_type": "code",
   "execution_count": 56,
   "id": "e1d84b72-5832-4663-9b02-bd4f2ee929b3",
   "metadata": {},
   "outputs": [
    {
     "data": {
      "text/plain": [
       "str"
      ]
     },
     "execution_count": 56,
     "metadata": {},
     "output_type": "execute_result"
    }
   ],
   "source": [
    "type(('hello'))"
   ]
  },
  {
   "cell_type": "markdown",
   "id": "d650283b-79f5-4f9a-bbad-a56b4bc18a7f",
   "metadata": {},
   "source": [
    "You can use tuples to convey to anyone reading your code that you don’t intend for that sequence of values to change. If you need an ordered sequence of values that never changes, use a tuple. A second benefit of using tuples instead of lists is that, because they are immutable and their contents don’t change, Python can implement some optimizations that make code using tuples slightly faster than code using lists."
   ]
  },
  {
   "cell_type": "markdown",
   "id": "2a312f86-ce6a-4558-b91f-8014cb614935",
   "metadata": {},
   "source": [
    "## Converting Types with the `list()` and `tuple()` Functions"
   ]
  },
  {
   "cell_type": "markdown",
   "id": "61422fca-e49b-4d10-bf7b-60bd684acb97",
   "metadata": {},
   "source": [
    "The functions `list()` and `tuple()` will return list and tuple versions of the values passed to them. "
   ]
  },
  {
   "cell_type": "code",
   "execution_count": 57,
   "id": "a37b6cdd-ed87-4ec2-b9e9-5bc56ecfa2dd",
   "metadata": {},
   "outputs": [
    {
     "data": {
      "text/plain": [
       "('cat', 'dog', 5)"
      ]
     },
     "execution_count": 57,
     "metadata": {},
     "output_type": "execute_result"
    }
   ],
   "source": [
    "tuple(['cat', 'dog', 5])"
   ]
  },
  {
   "cell_type": "code",
   "execution_count": 58,
   "id": "e9b0b3d2-c107-4790-95ec-9ea408320e1d",
   "metadata": {},
   "outputs": [
    {
     "data": {
      "text/plain": [
       "['cat', 'dog', 5]"
      ]
     },
     "execution_count": 58,
     "metadata": {},
     "output_type": "execute_result"
    }
   ],
   "source": [
    "list(('cat', 'dog', 5))"
   ]
  },
  {
   "cell_type": "code",
   "execution_count": 60,
   "id": "2a2a8628-8496-43c0-a7c7-20441e92891f",
   "metadata": {},
   "outputs": [
    {
     "data": {
      "text/plain": [
       "['h', 'e', 'l', 'l', 'o']"
      ]
     },
     "execution_count": 60,
     "metadata": {},
     "output_type": "execute_result"
    }
   ],
   "source": [
    "list('hello')"
   ]
  },
  {
   "cell_type": "markdown",
   "id": "ca8958da-6cf7-48ca-a8a1-c52e44633bb3",
   "metadata": {},
   "source": [
    "## References"
   ]
  },
  {
   "cell_type": "code",
   "execution_count": 61,
   "id": "a6f25571-8be1-4793-b4e6-f3f5cdf36004",
   "metadata": {},
   "outputs": [],
   "source": [
    "spam = [0, 1, 2, 3, 4, 5]"
   ]
  },
  {
   "cell_type": "code",
   "execution_count": 64,
   "id": "28ff91e3-769c-4d28-a4af-c9497f4b1b96",
   "metadata": {},
   "outputs": [],
   "source": [
    "cheese = spam # The reference is being copied, not the list."
   ]
  },
  {
   "cell_type": "code",
   "execution_count": 65,
   "id": "4706b6b1-3464-4e1b-b787-e2441740c752",
   "metadata": {},
   "outputs": [],
   "source": [
    "cheese[1] = 'Hello!' # This changes the list value."
   ]
  },
  {
   "cell_type": "code",
   "execution_count": 66,
   "id": "d6fcc7a3-990d-43f1-8e46-e357c21e8ce8",
   "metadata": {},
   "outputs": [
    {
     "data": {
      "text/plain": [
       "[0, 'Hello!', 2, 3, 4, 5]"
      ]
     },
     "execution_count": 66,
     "metadata": {},
     "output_type": "execute_result"
    }
   ],
   "source": [
    "spam"
   ]
  },
  {
   "cell_type": "code",
   "execution_count": 67,
   "id": "43c85ae0-9178-43a6-acc2-af2795c190a1",
   "metadata": {},
   "outputs": [
    {
     "data": {
      "text/plain": [
       "[0, 'Hello!', 2, 3, 4, 5]"
      ]
     },
     "execution_count": 67,
     "metadata": {},
     "output_type": "execute_result"
    }
   ],
   "source": [
    "cheese"
   ]
  },
  {
   "cell_type": "markdown",
   "id": "b132ac3f-875a-405a-8de0-1866b9201833",
   "metadata": {},
   "source": [
    "This means the values stored in `spam` and `cheese` now both refer to the same list. "
   ]
  },
  {
   "cell_type": "markdown",
   "id": "cc0f7d1d-e3f1-4a85-ac9b-c6b5f0678736",
   "metadata": {},
   "source": [
    "## Identity and the `id()` Function"
   ]
  },
  {
   "cell_type": "markdown",
   "id": "a16bb158-d99f-41d6-a5cd-63a06daf13e6",
   "metadata": {},
   "source": [
    "All values in Python have a unique identity that can be obtained with the `id()` function. "
   ]
  },
  {
   "cell_type": "code",
   "execution_count": 2,
   "id": "47ff977c-5bc7-44f4-a42d-84adace9941f",
   "metadata": {},
   "outputs": [
    {
     "data": {
      "text/plain": [
       "2239286817968"
      ]
     },
     "execution_count": 2,
     "metadata": {},
     "output_type": "execute_result"
    }
   ],
   "source": [
    "id('Hello')"
   ]
  },
  {
   "cell_type": "markdown",
   "id": "1f560894-d174-4b9a-92bd-f1efb8596265",
   "metadata": {},
   "source": [
    "The numeric memory address where the string is stored is returned by the `id()` function. "
   ]
  },
  {
   "cell_type": "markdown",
   "id": "38621ab9-49bf-4edc-9435-f91b4525ca61",
   "metadata": {},
   "source": [
    "If you “change” the string in a variable, a new string object is being made at a different place in memory, and the variable refers to this new string."
   ]
  },
  {
   "cell_type": "code",
   "execution_count": 11,
   "id": "e2ad83ec-fd59-4787-b603-254703c79f03",
   "metadata": {},
   "outputs": [],
   "source": [
    "bacon = 'Hello'"
   ]
  },
  {
   "cell_type": "code",
   "execution_count": 12,
   "id": "9c320dd3-f85f-42c5-86cf-b54498bdc385",
   "metadata": {},
   "outputs": [
    {
     "data": {
      "text/plain": [
       "2239286817968"
      ]
     },
     "execution_count": 12,
     "metadata": {},
     "output_type": "execute_result"
    }
   ],
   "source": [
    "id(bacon)"
   ]
  },
  {
   "cell_type": "code",
   "execution_count": 13,
   "id": "d59134b9-901c-4678-b380-ad0def7340f4",
   "metadata": {},
   "outputs": [],
   "source": [
    "bacon += ' world!' # A new string is made from 'Hello' and ' world!'."
   ]
  },
  {
   "cell_type": "code",
   "execution_count": 14,
   "id": "8754efd0-5bb2-478e-9be6-a0171d1a6e88",
   "metadata": {},
   "outputs": [
    {
     "data": {
      "text/plain": [
       "2239287186672"
      ]
     },
     "execution_count": 14,
     "metadata": {},
     "output_type": "execute_result"
    }
   ],
   "source": [
    "id(bacon) # bacon now refers to a completely different string."
   ]
  },
  {
   "cell_type": "code",
   "execution_count": 15,
   "id": "b008b92e-48cb-4e3c-a941-7973003667a9",
   "metadata": {},
   "outputs": [
    {
     "data": {
      "text/plain": [
       "'Hello world!'"
      ]
     },
     "execution_count": 15,
     "metadata": {},
     "output_type": "execute_result"
    }
   ],
   "source": [
    "bacon"
   ]
  },
  {
   "cell_type": "markdown",
   "id": "c9c2377c-18d4-4d65-ac12-be5c5c3492d9",
   "metadata": {},
   "source": [
    "However, lists can be modified because they are mutable objects. The `append()` method doesn’t create a new list object; it changes the existing list object. We call this “modifying the object in-place.”"
   ]
  },
  {
   "cell_type": "code",
   "execution_count": 16,
   "id": "dcf94add-5898-4eab-b7b5-f065aa0af051",
   "metadata": {},
   "outputs": [],
   "source": [
    "eggs = ['cat', 'dog'] # This creates a new list."
   ]
  },
  {
   "cell_type": "code",
   "execution_count": 17,
   "id": "af138511-5129-4814-879e-108dc38bcecb",
   "metadata": {},
   "outputs": [
    {
     "data": {
      "text/plain": [
       "2239287082816"
      ]
     },
     "execution_count": 17,
     "metadata": {},
     "output_type": "execute_result"
    }
   ],
   "source": [
    "id(eggs)"
   ]
  },
  {
   "cell_type": "code",
   "execution_count": 18,
   "id": "0619d614-23f5-4909-87b1-3e72a3f97877",
   "metadata": {},
   "outputs": [],
   "source": [
    "eggs.append('moose') # append() modifies the list \"in place\"."
   ]
  },
  {
   "cell_type": "code",
   "execution_count": 19,
   "id": "9d52c066-9b58-4803-b40b-477676ea51ac",
   "metadata": {},
   "outputs": [
    {
     "data": {
      "text/plain": [
       "2239287082816"
      ]
     },
     "execution_count": 19,
     "metadata": {},
     "output_type": "execute_result"
    }
   ],
   "source": [
    "id(eggs) # eggs still refers to the same list as before."
   ]
  },
  {
   "cell_type": "code",
   "execution_count": 20,
   "id": "de3242ef-9a06-40c7-915e-181f168f132b",
   "metadata": {},
   "outputs": [
    {
     "data": {
      "text/plain": [
       "2239287154944"
      ]
     },
     "execution_count": 20,
     "metadata": {},
     "output_type": "execute_result"
    }
   ],
   "source": [
    "eggs = ['bat', 'rat', 'cow'] # This creates a new list, which has a new identity.\n",
    "id(eggs) # eggs now refers to a completely different list."
   ]
  },
  {
   "cell_type": "code",
   "execution_count": 30,
   "id": "7fc8518e-38cf-4d32-be00-a9926387081e",
   "metadata": {},
   "outputs": [],
   "source": [
    "eggs = 100"
   ]
  },
  {
   "cell_type": "code",
   "execution_count": 31,
   "id": "32e578ba-1810-43a1-b4bb-997fd731667b",
   "metadata": {},
   "outputs": [
    {
     "data": {
      "text/plain": [
       "140726404793880"
      ]
     },
     "execution_count": 31,
     "metadata": {},
     "output_type": "execute_result"
    }
   ],
   "source": [
    "id(eggs)"
   ]
  },
  {
   "cell_type": "code",
   "execution_count": 32,
   "id": "1800b9ca-27f4-4932-90c6-02a5ec27756e",
   "metadata": {},
   "outputs": [],
   "source": [
    "cheese = eggs"
   ]
  },
  {
   "cell_type": "code",
   "execution_count": 33,
   "id": "d4b7ea85-2226-45bb-942b-b4d6460c6bbc",
   "metadata": {},
   "outputs": [
    {
     "data": {
      "text/plain": [
       "100"
      ]
     },
     "execution_count": 33,
     "metadata": {},
     "output_type": "execute_result"
    }
   ],
   "source": [
    "cheese"
   ]
  },
  {
   "cell_type": "code",
   "execution_count": 34,
   "id": "3f58a2ce-9f0d-4612-8929-79134b3b63e1",
   "metadata": {},
   "outputs": [
    {
     "data": {
      "text/plain": [
       "140726404793880"
      ]
     },
     "execution_count": 34,
     "metadata": {},
     "output_type": "execute_result"
    }
   ],
   "source": [
    "id(cheese)"
   ]
  },
  {
   "cell_type": "code",
   "execution_count": 36,
   "id": "832a8e0f-a1a9-4c87-9e12-cce4e412c2e4",
   "metadata": {},
   "outputs": [
    {
     "data": {
      "text/plain": [
       "True"
      ]
     },
     "execution_count": 36,
     "metadata": {},
     "output_type": "execute_result"
    }
   ],
   "source": [
    "id(eggs) == id(cheese)"
   ]
  },
  {
   "cell_type": "markdown",
   "id": "5b8fc88c-b23e-44a3-8abd-891ab9754611",
   "metadata": {},
   "source": [
    "If two variables refer to the same list (like spam and cheese in the previous section) and the list value itself changes, both variables are affected because they both refer to the same list. The `append()`, `extend()`, `remove()`, `sort()`, `reverse()`, and other list methods modify their lists in place."
   ]
  },
  {
   "cell_type": "markdown",
   "id": "8d2ee5b2-8400-4ed5-aeeb-d107a27bf250",
   "metadata": {},
   "source": [
    "## Passing References"
   ]
  },
  {
   "cell_type": "markdown",
   "id": "bcd8f2a1-acdb-459e-87bc-36d465151417",
   "metadata": {},
   "source": [
    "When a function is called, the values of the arguments are copied to the parameter variables. For lists (and dictionaries, which I’ll describe in the next chapter), this means a copy of the reference is used for the parameter. "
   ]
  },
  {
   "cell_type": "code",
   "execution_count": 40,
   "id": "d51c6a0d-0f5b-43ef-bb80-abe8bfdd0f75",
   "metadata": {},
   "outputs": [
    {
     "name": "stdout",
     "output_type": "stream",
     "text": [
      "spam ID: 2239293485760\n",
      "someParameter ID: 2239293485760\n",
      "[1, 2, 3, 'Hello']\n"
     ]
    }
   ],
   "source": [
    "def eggs(someParameter):\n",
    "    print(f\"someParameter ID: {id(someParameter)}\")\n",
    "    someParameter.append('Hello')\n",
    "\n",
    "spam = [1, 2, 3]\n",
    "print(f\"spam ID: {id(spam)}\")\n",
    "eggs(spam)\n",
    "print(spam)"
   ]
  },
  {
   "cell_type": "code",
   "execution_count": null,
   "id": "ff8618ad-8fd3-4d9b-83c3-841e1131c2cb",
   "metadata": {},
   "outputs": [],
   "source": []
  },
  {
   "cell_type": "code",
   "execution_count": null,
   "id": "9ba22187-1bf1-4efc-b8ab-731fbb3225e2",
   "metadata": {},
   "outputs": [],
   "source": []
  },
  {
   "cell_type": "markdown",
   "id": "8772850c-bab6-494b-944c-328a1e5829b4",
   "metadata": {},
   "source": [
    "Notice that when `eggs()` is called, a return value is not used to assign a new value to spam. Instead, it modifies the list in place, directly."
   ]
  },
  {
   "cell_type": "markdown",
   "id": "edb84360-b5ef-43b7-9f17-b431995b1eb1",
   "metadata": {},
   "source": [
    "Even though spam and someParameter contain separate references, they both refer to the same list. This is why the `append('Hello')` method call inside the function affects the list even after the function call has returned.\n",
    "\n",
    "Keep this behavior in mind: forgetting that Python handles list and dictionary variables this way can lead to confusing bugs."
   ]
  },
  {
   "cell_type": "markdown",
   "id": "bcebf898-fae4-493e-822c-46a59c88797c",
   "metadata": {},
   "source": [
    "## The `copy` Module’s `copy()` and `deepcopy()` Functions"
   ]
  },
  {
   "cell_type": "markdown",
   "id": "c82583bd-c006-4d4a-a5c9-c7310b5d37fa",
   "metadata": {},
   "source": [
    "Although passing around references is often the handiest way to deal with lists and dictionaries, if the function modifies the list or dictionary that is passed, you may not want these changes in the original list or dictionary value. For this, Python provides a module named `copy` that provides both the `copy()` and `deepcopy()` functions. The first of these, `copy.copy()`, can be used to make a duplicate copy of a mutable value like a list or dictionary, not just a copy of a reference. "
   ]
  },
  {
   "cell_type": "code",
   "execution_count": 41,
   "id": "47f96cd4-532e-48cb-a22b-052cb493ef7d",
   "metadata": {},
   "outputs": [],
   "source": [
    "import copy"
   ]
  },
  {
   "cell_type": "code",
   "execution_count": 42,
   "id": "1812b903-d566-4d87-8042-4c6fe26785db",
   "metadata": {},
   "outputs": [],
   "source": [
    "spam = ['A', 'B', 'C', 'D']"
   ]
  },
  {
   "cell_type": "code",
   "execution_count": 43,
   "id": "ea140b91-6aba-46fd-9a68-5884ebce4892",
   "metadata": {},
   "outputs": [
    {
     "data": {
      "text/plain": [
       "2239293527552"
      ]
     },
     "execution_count": 43,
     "metadata": {},
     "output_type": "execute_result"
    }
   ],
   "source": [
    "id(spam)"
   ]
  },
  {
   "cell_type": "code",
   "execution_count": 44,
   "id": "fa43544c-b474-4bcd-80aa-7e1d6880b548",
   "metadata": {},
   "outputs": [],
   "source": [
    "cheese = copy.copy(spam)"
   ]
  },
  {
   "cell_type": "code",
   "execution_count": 46,
   "id": "fff42e09-d32f-430f-977b-31696642b99c",
   "metadata": {},
   "outputs": [
    {
     "data": {
      "text/plain": [
       "2239293485760"
      ]
     },
     "execution_count": 46,
     "metadata": {},
     "output_type": "execute_result"
    }
   ],
   "source": [
    "id(cheese) # cheese is a different list with different identity."
   ]
  },
  {
   "cell_type": "code",
   "execution_count": 48,
   "id": "5e5bb999-0f80-4a3b-8b6a-c9a5c7e7db17",
   "metadata": {},
   "outputs": [],
   "source": [
    "cheese[1] = 42"
   ]
  },
  {
   "cell_type": "code",
   "execution_count": 49,
   "id": "64e06257-d9a8-407a-8936-b7e116ead7f6",
   "metadata": {},
   "outputs": [
    {
     "data": {
      "text/plain": [
       "['A', 'B', 'C', 'D']"
      ]
     },
     "execution_count": 49,
     "metadata": {},
     "output_type": "execute_result"
    }
   ],
   "source": [
    "spam"
   ]
  },
  {
   "cell_type": "code",
   "execution_count": 50,
   "id": "8e75a9ca-2cb6-499a-a9f0-176416d7609f",
   "metadata": {},
   "outputs": [
    {
     "data": {
      "text/plain": [
       "['A', 42, 'C', 'D']"
      ]
     },
     "execution_count": 50,
     "metadata": {},
     "output_type": "execute_result"
    }
   ],
   "source": [
    "cheese"
   ]
  },
  {
   "cell_type": "markdown",
   "id": "62919153-a185-4895-9cb5-1d766f491791",
   "metadata": {},
   "source": [
    "Now the `spam` and `cheese` variables refer to separate lists, which is why only the list in cheese is modified when you assign 42 at index 1. "
   ]
  },
  {
   "cell_type": "markdown",
   "id": "a9e46b22-4de2-4523-9c6b-e54f60ad442e",
   "metadata": {},
   "source": [
    "If the list you need to copy contains lists, then use the `copy.deepcopy()` function instead of `copy.copy()`. The `deepcopy()` function will copy these inner lists as well."
   ]
  }
 ],
 "metadata": {
  "kernelspec": {
   "display_name": "Python 3 (ipykernel)",
   "language": "python",
   "name": "python3"
  },
  "language_info": {
   "codemirror_mode": {
    "name": "ipython",
    "version": 3
   },
   "file_extension": ".py",
   "mimetype": "text/x-python",
   "name": "python",
   "nbconvert_exporter": "python",
   "pygments_lexer": "ipython3",
   "version": "3.12.1"
  }
 },
 "nbformat": 4,
 "nbformat_minor": 5
}
