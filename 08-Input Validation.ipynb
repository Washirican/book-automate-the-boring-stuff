{
 "cells": [
  {
   "cell_type": "markdown",
   "id": "0f357b5a-f818-4957-ba99-f0fdfd29a36e",
   "metadata": {},
   "source": [
    "## The PyInputPlus Module"
   ]
  },
  {
   "cell_type": "markdown",
   "id": "ed6e7daf-4933-4ddb-a6e0-9916bc6fa910",
   "metadata": {},
   "source": [
    "`inputStr()` Is like the built-in input() function but has the general PyInputPlus features. You can also pass a custom validation function to it\n",
    "\n",
    "`inputNum()` Ensures the user enters a number and returns an int or float, depending on if the number has a decimal point in it\n",
    "\n",
    "`inputChoice()` Ensures the user enters one of the provided choices\n",
    "\n",
    "`inputMenu()` Is similar to inputChoice(), but provides a menu with numbered or lettered options\n",
    "\n",
    "`inputDatetime()` Ensures the user enters a date and time\n",
    "\n",
    "`inputYesNo()` Ensures the user enters a “yes” or “no” response\n",
    "\n",
    "`inputBool()` Is similar to inputYesNo(), but takes a “True” or “False” response and returns a Boolean value\n",
    "\n",
    "`inputEmail()` Ensures the user enters a valid email address\n",
    "\n",
    "`inputFilepath()` Ensures the user enters a valid file path and filename, and can optionally check that a file with that name exists\n",
    "\n",
    "`inputPassword()` Is like the built-in input(), but displays * characters as the user types so that passwords, or other sensitive information, aren’t displayed on the screen"
   ]
  },
  {
   "cell_type": "code",
   "execution_count": 1,
   "id": "baa074f3-6611-40fc-bfb7-5189e9b3d1a1",
   "metadata": {},
   "outputs": [],
   "source": [
    "import pyinputplus as pyip"
   ]
  },
  {
   "cell_type": "code",
   "execution_count": 2,
   "id": "76174010-26a7-4c4d-a48a-0a9276319252",
   "metadata": {},
   "outputs": [
    {
     "name": "stdout",
     "output_type": "stream",
     "text": [
      "Enter a number: "
     ]
    },
    {
     "name": "stdin",
     "output_type": "stream",
     "text": [
      " tra\n"
     ]
    },
    {
     "name": "stdout",
     "output_type": "stream",
     "text": [
      "'tra' is not a number.\n",
      "Enter a number: "
     ]
    },
    {
     "name": "stdin",
     "output_type": "stream",
     "text": [
      " 4\n"
     ]
    }
   ],
   "source": [
    "response = pyip.inputNum('Enter a number: ')"
   ]
  },
  {
   "cell_type": "markdown",
   "id": "8c691a3e-9670-43ab-bf68-f287f3231a75",
   "metadata": {},
   "source": [
    "## The `min`, `max`, `greaterThan`, and `lessThan` Keyword Arguments"
   ]
  },
  {
   "cell_type": "markdown",
   "id": "a39ac30e-81be-41a7-8063-5bdccbb28dac",
   "metadata": {},
   "source": [
    "The `inputNum()`, `inputInt()`, and `inputFloat()` functions, which accept int and float numbers, also have min, max, greaterThan, and lessThan keyword arguments for specifying a range of valid values."
   ]
  },
  {
   "cell_type": "code",
   "execution_count": 3,
   "id": "09449a90-a5a9-4216-a0d9-084c1d27e7f4",
   "metadata": {},
   "outputs": [
    {
     "name": "stdout",
     "output_type": "stream",
     "text": [
      "Enter num: "
     ]
    },
    {
     "name": "stdin",
     "output_type": "stream",
     "text": [
      " 1\n"
     ]
    },
    {
     "name": "stdout",
     "output_type": "stream",
     "text": [
      "Number must be at minimum 4.\n",
      "Enter num: "
     ]
    },
    {
     "name": "stdin",
     "output_type": "stream",
     "text": [
      " 5\n"
     ]
    }
   ],
   "source": [
    "response = pyip.inputNum('Enter num: ', min=4)"
   ]
  },
  {
   "cell_type": "markdown",
   "id": "8fbb0c0b-8ceb-440a-855d-3d27d474d10c",
   "metadata": {},
   "source": [
    "## The `blank` Keyword Argument"
   ]
  },
  {
   "cell_type": "markdown",
   "id": "a2133e21-bfef-487f-a373-f1e741913b77",
   "metadata": {},
   "source": [
    "By default, `blank` input isn’t allowed unless the blank keyword argument is set to `True`."
   ]
  },
  {
   "cell_type": "markdown",
   "id": "c8770fcb-9c21-4c75-8d96-1aae86d4a103",
   "metadata": {},
   "source": [
    "## The `Limit`, `Timeout`, and `Default` Keyword Arguments"
   ]
  },
  {
   "cell_type": "markdown",
   "id": "ccbf32c2-614f-4ff9-800e-794ea9ad88b8",
   "metadata": {},
   "source": [
    "By default, the `PyInputPlus` functions will continue to ask the user for valid input forever (or for as long as the program runs). If you’d like a function to stop asking the user for input after a certain number of tries or a certain amount of time, you can use the `limit` and `timeout` keyword arguments. Pass an integer for the `limit` keyword argument to determine how many attempts a `PyInputPlus` function will make to receive valid input before giving up, and pass an integer for the `timeout` keyword argument to determine how many seconds the user has to enter valid input before the PyInputPlus function gives up.\n",
    "\n",
    "If the user fails to enter valid input, these keyword arguments will cause the function to raise a `RetryLimitException` or `TimeoutException`, respectively."
   ]
  },
  {
   "cell_type": "code",
   "execution_count": 4,
   "id": "c0c47037-374a-405a-93f8-62cd4c6994c1",
   "metadata": {},
   "outputs": [
    {
     "name": "stdin",
     "output_type": "stream",
     "text": [
      " tra\n"
     ]
    },
    {
     "name": "stdout",
     "output_type": "stream",
     "text": [
      "'tra' is not a number.\n"
     ]
    },
    {
     "name": "stdin",
     "output_type": "stream",
     "text": [
      " moco\n"
     ]
    },
    {
     "name": "stdout",
     "output_type": "stream",
     "text": [
      "'moco' is not a number.\n"
     ]
    },
    {
     "ename": "RetryLimitException",
     "evalue": "",
     "output_type": "error",
     "traceback": [
      "\u001b[1;31m---------------------------------------------------------------------------\u001b[0m",
      "\u001b[1;31mValueError\u001b[0m                                Traceback (most recent call last)",
      "File \u001b[1;32m~\\Documents\\Python Scripts\\automate-stuff\\venv\\Lib\\site-packages\\pysimplevalidate\\__init__.py:512\u001b[0m, in \u001b[0;36mvalidateNum\u001b[1;34m(value, blank, strip, allowRegexes, blockRegexes, _numType, min, max, lessThan, greaterThan, excMsg)\u001b[0m\n\u001b[0;32m    511\u001b[0m \u001b[38;5;28;01mtry\u001b[39;00m:\n\u001b[1;32m--> 512\u001b[0m     numericValue \u001b[38;5;241m=\u001b[39m \u001b[38;5;28;43mint\u001b[39;49m\u001b[43m(\u001b[49m\u001b[43mvalue\u001b[49m\u001b[43m)\u001b[49m\n\u001b[0;32m    513\u001b[0m \u001b[38;5;28;01mexcept\u001b[39;00m:\n",
      "\u001b[1;31mValueError\u001b[0m: invalid literal for int() with base 10: 'moco'",
      "\nDuring handling of the above exception, another exception occurred:\n",
      "\u001b[1;31mValidationException\u001b[0m                       Traceback (most recent call last)",
      "File \u001b[1;32m~\\Documents\\Python Scripts\\automate-stuff\\venv\\Lib\\site-packages\\pyinputplus\\__init__.py:167\u001b[0m, in \u001b[0;36m_genericInput\u001b[1;34m(prompt, default, timeout, limit, applyFunc, validationFunc, postValidateApplyFunc, passwordMask)\u001b[0m\n\u001b[0;32m    166\u001b[0m \u001b[38;5;28;01mtry\u001b[39;00m:\n\u001b[1;32m--> 167\u001b[0m     possibleNewUserInput \u001b[38;5;241m=\u001b[39m \u001b[43mvalidationFunc\u001b[49m\u001b[43m(\u001b[49m\n\u001b[0;32m    168\u001b[0m \u001b[43m        \u001b[49m\u001b[43muserInput\u001b[49m\n\u001b[0;32m    169\u001b[0m \u001b[43m    \u001b[49m\u001b[43m)\u001b[49m  \u001b[38;5;66;03m# If validation fails, this function will raise an exception. Returns an updated value to use as user input (e.g. stripped of whitespace, etc.)\u001b[39;00m\n\u001b[0;32m    170\u001b[0m     \u001b[38;5;28;01mif\u001b[39;00m possibleNewUserInput \u001b[38;5;129;01mis\u001b[39;00m \u001b[38;5;129;01mnot\u001b[39;00m \u001b[38;5;28;01mNone\u001b[39;00m:\n",
      "File \u001b[1;32m~\\Documents\\Python Scripts\\automate-stuff\\venv\\Lib\\site-packages\\pyinputplus\\__init__.py:385\u001b[0m, in \u001b[0;36minputNum.<locals>.<lambda>\u001b[1;34m(value)\u001b[0m\n\u001b[0;32m    383\u001b[0m pysv\u001b[38;5;241m.\u001b[39m_validateParamsFor_validateNum(\u001b[38;5;28mmin\u001b[39m\u001b[38;5;241m=\u001b[39m\u001b[38;5;28mmin\u001b[39m, \u001b[38;5;28mmax\u001b[39m\u001b[38;5;241m=\u001b[39m\u001b[38;5;28mmax\u001b[39m, lessThan\u001b[38;5;241m=\u001b[39mlessThan, greaterThan\u001b[38;5;241m=\u001b[39mgreaterThan)\n\u001b[1;32m--> 385\u001b[0m validationFunc \u001b[38;5;241m=\u001b[39m \u001b[38;5;28;01mlambda\u001b[39;00m value: \u001b[43mpysv\u001b[49m\u001b[38;5;241;43m.\u001b[39;49m\u001b[43mvalidateNum\u001b[49m\u001b[43m(\u001b[49m\n\u001b[0;32m    386\u001b[0m \u001b[43m    \u001b[49m\u001b[43mvalue\u001b[49m\u001b[43m,\u001b[49m\n\u001b[0;32m    387\u001b[0m \u001b[43m    \u001b[49m\u001b[43mblank\u001b[49m\u001b[38;5;241;43m=\u001b[39;49m\u001b[43mblank\u001b[49m\u001b[43m,\u001b[49m\n\u001b[0;32m    388\u001b[0m \u001b[43m    \u001b[49m\u001b[43mstrip\u001b[49m\u001b[38;5;241;43m=\u001b[39;49m\u001b[43mstrip\u001b[49m\u001b[43m,\u001b[49m\n\u001b[0;32m    389\u001b[0m \u001b[43m    \u001b[49m\u001b[43mallowRegexes\u001b[49m\u001b[38;5;241;43m=\u001b[39;49m\u001b[43mallowRegexes\u001b[49m\u001b[43m,\u001b[49m\n\u001b[0;32m    390\u001b[0m \u001b[43m    \u001b[49m\u001b[43mblockRegexes\u001b[49m\u001b[38;5;241;43m=\u001b[39;49m\u001b[43mblockRegexes\u001b[49m\u001b[43m,\u001b[49m\n\u001b[0;32m    391\u001b[0m \u001b[43m    \u001b[49m\u001b[38;5;28;43mmin\u001b[39;49m\u001b[38;5;241;43m=\u001b[39;49m\u001b[38;5;28;43mmin\u001b[39;49m\u001b[43m,\u001b[49m\n\u001b[0;32m    392\u001b[0m \u001b[43m    \u001b[49m\u001b[38;5;28;43mmax\u001b[39;49m\u001b[38;5;241;43m=\u001b[39;49m\u001b[38;5;28;43mmax\u001b[39;49m\u001b[43m,\u001b[49m\n\u001b[0;32m    393\u001b[0m \u001b[43m    \u001b[49m\u001b[43mlessThan\u001b[49m\u001b[38;5;241;43m=\u001b[39;49m\u001b[43mlessThan\u001b[49m\u001b[43m,\u001b[49m\n\u001b[0;32m    394\u001b[0m \u001b[43m    \u001b[49m\u001b[43mgreaterThan\u001b[49m\u001b[38;5;241;43m=\u001b[39;49m\u001b[43mgreaterThan\u001b[49m\u001b[43m,\u001b[49m\n\u001b[0;32m    395\u001b[0m \u001b[43m    \u001b[49m\u001b[43m_numType\u001b[49m\u001b[38;5;241;43m=\u001b[39;49m\u001b[38;5;124;43m\"\u001b[39;49m\u001b[38;5;124;43mnum\u001b[39;49m\u001b[38;5;124;43m\"\u001b[39;49m\u001b[43m,\u001b[49m\n\u001b[0;32m    396\u001b[0m \u001b[43m\u001b[49m\u001b[43m)\u001b[49m\n\u001b[0;32m    398\u001b[0m \u001b[38;5;28;01mreturn\u001b[39;00m _genericInput(\n\u001b[0;32m    399\u001b[0m     prompt\u001b[38;5;241m=\u001b[39mprompt,\n\u001b[0;32m    400\u001b[0m     default\u001b[38;5;241m=\u001b[39mdefault,\n\u001b[1;32m   (...)\u001b[0m\n\u001b[0;32m    405\u001b[0m     validationFunc\u001b[38;5;241m=\u001b[39mvalidationFunc,\n\u001b[0;32m    406\u001b[0m )\n",
      "File \u001b[1;32m~\\Documents\\Python Scripts\\automate-stuff\\venv\\Lib\\site-packages\\pysimplevalidate\\__init__.py:514\u001b[0m, in \u001b[0;36mvalidateNum\u001b[1;34m(value, blank, strip, allowRegexes, blockRegexes, _numType, min, max, lessThan, greaterThan, excMsg)\u001b[0m\n\u001b[0;32m    513\u001b[0m     \u001b[38;5;28;01mexcept\u001b[39;00m:\n\u001b[1;32m--> 514\u001b[0m         \u001b[43m_raiseValidationException\u001b[49m\u001b[43m(\u001b[49m\u001b[43m_\u001b[49m\u001b[43m(\u001b[49m\u001b[38;5;124;43m\"\u001b[39;49m\u001b[38;5;132;43;01m%r\u001b[39;49;00m\u001b[38;5;124;43m is not a number.\u001b[39;49m\u001b[38;5;124;43m\"\u001b[39;49m\u001b[43m)\u001b[49m\u001b[43m \u001b[49m\u001b[38;5;241;43m%\u001b[39;49m\u001b[43m \u001b[49m\u001b[43m(\u001b[49m\u001b[43m_errstr\u001b[49m\u001b[43m(\u001b[49m\u001b[43mvalue\u001b[49m\u001b[43m)\u001b[49m\u001b[43m)\u001b[49m\u001b[43m,\u001b[49m\u001b[43m \u001b[49m\u001b[43mexcMsg\u001b[49m\u001b[43m)\u001b[49m\n\u001b[0;32m    515\u001b[0m \u001b[38;5;28;01melif\u001b[39;00m _numType \u001b[38;5;241m==\u001b[39m \u001b[38;5;124m\"\u001b[39m\u001b[38;5;124mfloat\u001b[39m\u001b[38;5;124m\"\u001b[39m:\n",
      "File \u001b[1;32m~\\Documents\\Python Scripts\\automate-stuff\\venv\\Lib\\site-packages\\pysimplevalidate\\__init__.py:222\u001b[0m, in \u001b[0;36m_raiseValidationException\u001b[1;34m(standardExcMsg, customExcMsg)\u001b[0m\n\u001b[0;32m    221\u001b[0m \u001b[38;5;28;01mif\u001b[39;00m customExcMsg \u001b[38;5;129;01mis\u001b[39;00m \u001b[38;5;28;01mNone\u001b[39;00m:\n\u001b[1;32m--> 222\u001b[0m     \u001b[38;5;28;01mraise\u001b[39;00m ValidationException(\u001b[38;5;28mstr\u001b[39m(standardExcMsg))\n\u001b[0;32m    223\u001b[0m \u001b[38;5;28;01melse\u001b[39;00m:\n",
      "\u001b[1;31mValidationException\u001b[0m: 'moco' is not a number.",
      "\nDuring handling of the above exception, another exception occurred:\n",
      "\u001b[1;31mRetryLimitException\u001b[0m                       Traceback (most recent call last)",
      "Cell \u001b[1;32mIn[4], line 1\u001b[0m\n\u001b[1;32m----> 1\u001b[0m response \u001b[38;5;241m=\u001b[39m \u001b[43mpyip\u001b[49m\u001b[38;5;241;43m.\u001b[39;49m\u001b[43minputNum\u001b[49m\u001b[43m(\u001b[49m\u001b[43mlimit\u001b[49m\u001b[38;5;241;43m=\u001b[39;49m\u001b[38;5;241;43m2\u001b[39;49m\u001b[43m)\u001b[49m\n",
      "File \u001b[1;32m~\\Documents\\Python Scripts\\automate-stuff\\venv\\Lib\\site-packages\\pyinputplus\\__init__.py:398\u001b[0m, in \u001b[0;36minputNum\u001b[1;34m(prompt, default, blank, timeout, limit, strip, allowRegexes, blockRegexes, applyFunc, postValidateApplyFunc, min, max, greaterThan, lessThan)\u001b[0m\n\u001b[0;32m    383\u001b[0m pysv\u001b[38;5;241m.\u001b[39m_validateParamsFor_validateNum(\u001b[38;5;28mmin\u001b[39m\u001b[38;5;241m=\u001b[39m\u001b[38;5;28mmin\u001b[39m, \u001b[38;5;28mmax\u001b[39m\u001b[38;5;241m=\u001b[39m\u001b[38;5;28mmax\u001b[39m, lessThan\u001b[38;5;241m=\u001b[39mlessThan, greaterThan\u001b[38;5;241m=\u001b[39mgreaterThan)\n\u001b[0;32m    385\u001b[0m validationFunc \u001b[38;5;241m=\u001b[39m \u001b[38;5;28;01mlambda\u001b[39;00m value: pysv\u001b[38;5;241m.\u001b[39mvalidateNum(\n\u001b[0;32m    386\u001b[0m     value,\n\u001b[0;32m    387\u001b[0m     blank\u001b[38;5;241m=\u001b[39mblank,\n\u001b[1;32m   (...)\u001b[0m\n\u001b[0;32m    395\u001b[0m     _numType\u001b[38;5;241m=\u001b[39m\u001b[38;5;124m\"\u001b[39m\u001b[38;5;124mnum\u001b[39m\u001b[38;5;124m\"\u001b[39m,\n\u001b[0;32m    396\u001b[0m )\n\u001b[1;32m--> 398\u001b[0m \u001b[38;5;28;01mreturn\u001b[39;00m \u001b[43m_genericInput\u001b[49m\u001b[43m(\u001b[49m\n\u001b[0;32m    399\u001b[0m \u001b[43m    \u001b[49m\u001b[43mprompt\u001b[49m\u001b[38;5;241;43m=\u001b[39;49m\u001b[43mprompt\u001b[49m\u001b[43m,\u001b[49m\n\u001b[0;32m    400\u001b[0m \u001b[43m    \u001b[49m\u001b[43mdefault\u001b[49m\u001b[38;5;241;43m=\u001b[39;49m\u001b[43mdefault\u001b[49m\u001b[43m,\u001b[49m\n\u001b[0;32m    401\u001b[0m \u001b[43m    \u001b[49m\u001b[43mtimeout\u001b[49m\u001b[38;5;241;43m=\u001b[39;49m\u001b[43mtimeout\u001b[49m\u001b[43m,\u001b[49m\n\u001b[0;32m    402\u001b[0m \u001b[43m    \u001b[49m\u001b[43mlimit\u001b[49m\u001b[38;5;241;43m=\u001b[39;49m\u001b[43mlimit\u001b[49m\u001b[43m,\u001b[49m\n\u001b[0;32m    403\u001b[0m \u001b[43m    \u001b[49m\u001b[43mapplyFunc\u001b[49m\u001b[38;5;241;43m=\u001b[39;49m\u001b[43mapplyFunc\u001b[49m\u001b[43m,\u001b[49m\n\u001b[0;32m    404\u001b[0m \u001b[43m    \u001b[49m\u001b[43mpostValidateApplyFunc\u001b[49m\u001b[38;5;241;43m=\u001b[39;49m\u001b[43mpostValidateApplyFunc\u001b[49m\u001b[43m,\u001b[49m\n\u001b[0;32m    405\u001b[0m \u001b[43m    \u001b[49m\u001b[43mvalidationFunc\u001b[49m\u001b[38;5;241;43m=\u001b[39;49m\u001b[43mvalidationFunc\u001b[49m\u001b[43m,\u001b[49m\n\u001b[0;32m    406\u001b[0m \u001b[43m\u001b[49m\u001b[43m)\u001b[49m\n",
      "File \u001b[1;32m~\\Documents\\Python Scripts\\automate-stuff\\venv\\Lib\\site-packages\\pyinputplus\\__init__.py:188\u001b[0m, in \u001b[0;36m_genericInput\u001b[1;34m(prompt, default, timeout, limit, applyFunc, validationFunc, postValidateApplyFunc, passwordMask)\u001b[0m\n\u001b[0;32m    185\u001b[0m         \u001b[38;5;28;01mreturn\u001b[39;00m default\n\u001b[0;32m    186\u001b[0m     \u001b[38;5;28;01melse\u001b[39;00m:\n\u001b[0;32m    187\u001b[0m         \u001b[38;5;66;03m# If there is no default, then raise the timeout/limit exception.\u001b[39;00m\n\u001b[1;32m--> 188\u001b[0m         \u001b[38;5;28;01mraise\u001b[39;00m limitOrTimeoutException\n\u001b[0;32m    189\u001b[0m \u001b[38;5;28;01melse\u001b[39;00m:\n\u001b[0;32m    190\u001b[0m     \u001b[38;5;66;03m# If there was no timeout/limit exceeded, let the user enter input again.\u001b[39;00m\n\u001b[0;32m    191\u001b[0m     \u001b[38;5;28;01mcontinue\u001b[39;00m\n",
      "\u001b[1;31mRetryLimitException\u001b[0m: "
     ]
    }
   ],
   "source": [
    "response = pyip.inputNum(limit=2)"
   ]
  },
  {
   "cell_type": "code",
   "execution_count": 5,
   "id": "63ae3e31-9c8b-4b10-8883-90d4b654f364",
   "metadata": {},
   "outputs": [
    {
     "name": "stdin",
     "output_type": "stream",
     "text": [
      " tra\n"
     ]
    },
    {
     "name": "stdout",
     "output_type": "stream",
     "text": [
      "'tra' is not a number.\n"
     ]
    },
    {
     "name": "stdin",
     "output_type": "stream",
     "text": [
      " moco\n"
     ]
    },
    {
     "name": "stdout",
     "output_type": "stream",
     "text": [
      "'moco' is not a number.\n"
     ]
    }
   ],
   "source": [
    "response = pyip.inputNum(limit=2, default='N/A')"
   ]
  },
  {
   "cell_type": "code",
   "execution_count": 6,
   "id": "74682797-dee2-426d-956c-aaa65b45fc67",
   "metadata": {},
   "outputs": [
    {
     "data": {
      "text/plain": [
       "'N/A'"
      ]
     },
     "execution_count": 6,
     "metadata": {},
     "output_type": "execute_result"
    }
   ],
   "source": [
    "response"
   ]
  },
  {
   "cell_type": "markdown",
   "id": "e0fe540c-1b73-455b-a3d8-95657133fd3f",
   "metadata": {},
   "source": [
    "## The `allowRegexes` and `blockRegexes` Keyword Arguments"
   ]
  },
  {
   "cell_type": "markdown",
   "id": "b7670a66-d920-4a4a-8c10-4a97e79925e5",
   "metadata": {},
   "source": [
    "You can also use regular expressions to specify whether an input is allowed or not. The `allowRegexes` and `blockRegexes` keyword arguments take a list of regular expression strings to determine what the PyInputPlus function will accept or reject as valid input. "
   ]
  },
  {
   "cell_type": "code",
   "execution_count": 7,
   "id": "5e89ad43-244d-43c6-8ab2-8a503e67d86f",
   "metadata": {},
   "outputs": [
    {
     "name": "stdin",
     "output_type": "stream",
     "text": [
      " caca\n"
     ]
    },
    {
     "name": "stdout",
     "output_type": "stream",
     "text": [
      "'caca' is not a number.\n"
     ]
    },
    {
     "name": "stdin",
     "output_type": "stream",
     "text": [
      " V\n"
     ]
    }
   ],
   "source": [
    "response = pyip.inputNum(allowRegexes=[r'(I|V|X|L|C|D|M)+', r'zero'])"
   ]
  },
  {
   "cell_type": "markdown",
   "id": "2d641ac0-c4f7-4118-b1b5-3c77b27d50db",
   "metadata": {},
   "source": [
    "You can also specify a list of regular expression strings that a PyInputPlus function won’t accept by using the `blockRegexes` keyword argument."
   ]
  },
  {
   "cell_type": "code",
   "execution_count": 8,
   "id": "fe3b3181-3d0d-44dc-8416-9be17766cf4f",
   "metadata": {},
   "outputs": [
    {
     "name": "stdin",
     "output_type": "stream",
     "text": [
      " nejo\n"
     ]
    },
    {
     "name": "stdout",
     "output_type": "stream",
     "text": [
      "'nejo' is not a number.\n"
     ]
    },
    {
     "name": "stdin",
     "output_type": "stream",
     "text": [
      " 4\n"
     ]
    },
    {
     "name": "stdout",
     "output_type": "stream",
     "text": [
      "This response is invalid.\n"
     ]
    },
    {
     "name": "stdin",
     "output_type": "stream",
     "text": [
      " 1\n"
     ]
    }
   ],
   "source": [
    "response = pyip.inputNum(blockRegexes=[r'[02468]$'])"
   ]
  },
  {
   "cell_type": "markdown",
   "id": "cb91ee8e-8567-4e40-9818-6a6d3a17529f",
   "metadata": {},
   "source": [
    "If you specify both an `allowRegexes` and `blockRegexes` argument, the allow list overrides the block list. For example, enter the following into the interactive shell, which allows 'caterpillar' and 'category' but blocks anything else that has the word 'cat' in it:"
   ]
  },
  {
   "cell_type": "code",
   "execution_count": 9,
   "id": "6223fb31-617e-4f70-a358-69f27a952ce2",
   "metadata": {},
   "outputs": [
    {
     "name": "stdin",
     "output_type": "stream",
     "text": [
      " catastrphe\n"
     ]
    },
    {
     "name": "stdout",
     "output_type": "stream",
     "text": [
      "This response is invalid.\n"
     ]
    },
    {
     "name": "stdin",
     "output_type": "stream",
     "text": [
      " cat\n"
     ]
    },
    {
     "name": "stdout",
     "output_type": "stream",
     "text": [
      "This response is invalid.\n"
     ]
    },
    {
     "name": "stdin",
     "output_type": "stream",
     "text": [
      " caterpillar\n"
     ]
    }
   ],
   "source": [
    "response = pyip.inputStr(allowRegexes=[r'caterpillar', 'category'], blockRegexes=[r'cat'])"
   ]
  },
  {
   "cell_type": "markdown",
   "id": "0ffdb4e3-e40e-47e0-9d71-27716418969a",
   "metadata": {},
   "source": [
    "## Passing a Custom Validation Function to `inputCustom()`"
   ]
  },
  {
   "cell_type": "markdown",
   "id": "57ed1722-f991-4c42-937a-f5d4a9e7cdb6",
   "metadata": {},
   "source": [
    "For example, say you want the user to enter a series of digits that adds up to 10. There is no `pyinputplus.inputAddsUpToTen()` function, but you can create your own function that:\n",
    "\n",
    "* Accepts a single string argument of what the user entered\n",
    "* Raises an exception if the string fails validation\n",
    "* Returns None (or has no return statement) if inputCustom() should return the string unchanged\n",
    "* Returns a non-None value if `inputCustom()` should return a different string from the one the user entered\n",
    "* Is passed as the first argument to `inputCustom()`"
   ]
  },
  {
   "cell_type": "markdown",
   "id": "157478eb-e087-462d-8f7f-7d27adef12f5",
   "metadata": {},
   "source": [
    "For example, we can create our own `addsUpToTen()` function, and then pass it to `inputCustom()`. Note that the function call looks like `inputCustom(addsUpToTen)` and not inputCustom(`addsUpToTen()`) because we are passing the `addsUpToTen()` function itself to `inputCustom()`, not calling `addsUpToTen()` and passing its return value."
   ]
  },
  {
   "cell_type": "code",
   "execution_count": 16,
   "id": "e132232f-742e-4a2a-9257-4c018be3eb55",
   "metadata": {},
   "outputs": [],
   "source": [
    "import pyinputplus as pyip\n",
    "def addsUpToTen(numbers):\n",
    "    numbersList = list(numbers)\n",
    "    for i, digit in enumerate(numbersList):\n",
    "        numbersList[i] = int(digit)\n",
    "    if sum(numbersList) != 10:\n",
    "        raise Exception('The digits must add up to 10, not %s.' %(sum(numbersList)))\n",
    "    return int(numbers) # Return an int form of numbers."
   ]
  },
  {
   "cell_type": "code",
   "execution_count": 17,
   "id": "d062668b-ca18-487e-9267-4cc63e66eabf",
   "metadata": {},
   "outputs": [
    {
     "name": "stdin",
     "output_type": "stream",
     "text": [
      " 123\n"
     ]
    },
    {
     "name": "stdout",
     "output_type": "stream",
     "text": [
      "The digits must add up to 10, not 6.\n"
     ]
    },
    {
     "name": "stdin",
     "output_type": "stream",
     "text": [
      " hello\n"
     ]
    },
    {
     "name": "stdout",
     "output_type": "stream",
     "text": [
      "invalid literal for int() with base 10: 'h'\n"
     ]
    },
    {
     "name": "stdin",
     "output_type": "stream",
     "text": [
      " 55\n"
     ]
    }
   ],
   "source": [
    "response = pyip.inputCustom(addsUpToTen)"
   ]
  },
  {
   "cell_type": "code",
   "execution_count": 18,
   "id": "35dc38c5-5c7a-48f9-8d5a-b082e6565077",
   "metadata": {},
   "outputs": [
    {
     "data": {
      "text/plain": [
       "55"
      ]
     },
     "execution_count": 18,
     "metadata": {},
     "output_type": "execute_result"
    }
   ],
   "source": [
    "response"
   ]
  },
  {
   "cell_type": "markdown",
   "id": "71697d83-ce73-4d16-9f56-52c31b6da9a4",
   "metadata": {},
   "source": [
    "The `inputCustom()` function also supports the general PyInputPlus features, such as the `blank`, `limit`, `timeout`, `default`, `allowRegexes`, and `blockRegexes` keyword arguments. Writing your own custom validation function is useful when it’s otherwise difficult or impossible to write a regular expression for valid input, as in the “adds up to 10” example."
   ]
  },
  {
   "cell_type": "markdown",
   "id": "134c0222-4ea0-4333-92f1-b84f74c20d1f",
   "metadata": {},
   "source": [
    "You can also make use of the inputYesNo() function in non-English languages by passing yesVal and noVal keyword arguments. For example, the Spanish version of this program would have these two lines:\n",
    "\n",
    "`response = pyip.inputYesNo(prompt, yesVal='sí', noVal='no')`"
   ]
  }
 ],
 "metadata": {
  "kernelspec": {
   "display_name": "Python 3 (ipykernel)",
   "language": "python",
   "name": "python3"
  },
  "language_info": {
   "codemirror_mode": {
    "name": "ipython",
    "version": 3
   },
   "file_extension": ".py",
   "mimetype": "text/x-python",
   "name": "python",
   "nbconvert_exporter": "python",
   "pygments_lexer": "ipython3",
   "version": "3.12.1"
  }
 },
 "nbformat": 4,
 "nbformat_minor": 5
}
