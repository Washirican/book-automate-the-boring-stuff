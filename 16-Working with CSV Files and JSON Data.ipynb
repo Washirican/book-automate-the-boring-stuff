{
 "cells": [
  {
   "cell_type": "markdown",
   "id": "129392be-7709-45cb-ad6c-483da8df7ede",
   "metadata": {},
   "source": [
    "## The `csv` Module"
   ]
  },
  {
   "cell_type": "markdown",
   "id": "4b32c1be-38b6-4c77-ab5d-c0c95d6f99b8",
   "metadata": {},
   "source": [
    "## `reader` Objects"
   ]
  },
  {
   "cell_type": "markdown",
   "id": "b6e03dbb-0c04-4b1b-8bcf-3dcbe91ea8e4",
   "metadata": {},
   "source": [
    "To read data from a CSV file with the csv module, you need to create a reader object. A reader object lets you iterate over lines in the CSV file."
   ]
  },
  {
   "cell_type": "code",
   "execution_count": 1,
   "id": "f37b0031-ebdf-4a8e-9cc9-e77866ade4b7",
   "metadata": {},
   "outputs": [],
   "source": [
    "import csv\n",
    "example_file = open('automate_online-materials\\\\example.csv')\n",
    "example_reader = csv.reader(example_file)\n",
    "example_data = list(example_reader)"
   ]
  },
  {
   "cell_type": "code",
   "execution_count": 2,
   "id": "cf053e4d-8eda-452d-b8bd-d09b8ab1bdbd",
   "metadata": {},
   "outputs": [
    {
     "data": {
      "text/plain": [
       "[['4/5/2014 13:34', 'Apples', '73'],\n",
       " ['4/5/2014 3:41', 'Cherries', '85'],\n",
       " ['4/6/2014 12:46', 'Pears', '14'],\n",
       " ['4/8/2014 8:59', 'Oranges', '52'],\n",
       " ['4/10/2014 2:07', 'Apples', '152'],\n",
       " ['4/10/2014 18:10', 'Bananas', '23'],\n",
       " ['4/10/2014 2:40', 'Strawberries', '98']]"
      ]
     },
     "execution_count": 2,
     "metadata": {},
     "output_type": "execute_result"
    }
   ],
   "source": [
    "example_data"
   ]
  },
  {
   "cell_type": "code",
   "execution_count": 3,
   "id": "f96e4cd7-6583-4050-986e-3250de0724b2",
   "metadata": {},
   "outputs": [
    {
     "data": {
      "text/plain": [
       "'Apples'"
      ]
     },
     "execution_count": 3,
     "metadata": {},
     "output_type": "execute_result"
    }
   ],
   "source": [
    "example_data[0][1]"
   ]
  },
  {
   "cell_type": "markdown",
   "id": "8c30e599-c0a8-47c0-8893-8d8f588a2ead",
   "metadata": {},
   "source": [
    "## Reading Data from `reader` Objects in a for Loop"
   ]
  },
  {
   "cell_type": "code",
   "execution_count": 22,
   "id": "6b4bc37f-d3a3-492c-a8ba-597fe6026d0b",
   "metadata": {},
   "outputs": [],
   "source": [
    "example_file = open('automate_online-materials\\\\example.csv')\n",
    "example_reader = csv.reader(example_file)"
   ]
  },
  {
   "cell_type": "code",
   "execution_count": 23,
   "id": "da191ef2-9bc1-4a91-8edb-9f67e3147e4c",
   "metadata": {},
   "outputs": [
    {
     "name": "stdout",
     "output_type": "stream",
     "text": [
      "Row #1 ['4/5/2014 13:34', 'Apples', '73']\n",
      "Row #2 ['4/5/2014 3:41', 'Cherries', '85']\n",
      "Row #3 ['4/6/2014 12:46', 'Pears', '14']\n",
      "Row #4 ['4/8/2014 8:59', 'Oranges', '52']\n",
      "Row #5 ['4/10/2014 2:07', 'Apples', '152']\n",
      "Row #6 ['4/10/2014 18:10', 'Bananas', '23']\n",
      "Row #7 ['4/10/2014 2:40', 'Strawberries', '98']\n"
     ]
    }
   ],
   "source": [
    "for row in example_reader:\n",
    "    print(f'Row #{str(example_reader.line_num)} {str(row)}')"
   ]
  },
  {
   "cell_type": "markdown",
   "id": "38433e6f-ffd2-4174-b4eb-22aba901f2db",
   "metadata": {},
   "source": [
    "The `reader` object can be looped over only once. To reread the CSV file, you must call `csv.reader` to create a `reader` object. Running `for` loop again will not print any data since there are no more `rows` in `reader`."
   ]
  },
  {
   "cell_type": "code",
   "execution_count": 25,
   "id": "4ec7e9ff-7db4-4756-96bf-e3f00110a698",
   "metadata": {},
   "outputs": [],
   "source": [
    "for row in example_reader:\n",
    "    print(f'Row #{str(example_reader.line_num)} {str(row)}')"
   ]
  },
  {
   "cell_type": "markdown",
   "id": "be9dce99-0053-40dc-b80f-fafd901c3dab",
   "metadata": {},
   "source": [
    "`writer` Object"
   ]
  },
  {
   "cell_type": "markdown",
   "id": "2e4f1cb4-d724-4dae-b843-7a780bebd4cc",
   "metadata": {},
   "source": [
    "A writer object lets you write data to a CSV file. To create a writer object, you use the csv.writer() function."
   ]
  },
  {
   "cell_type": "code",
   "execution_count": 27,
   "id": "6523320c-aa00-4f1f-945b-9f7587c42139",
   "metadata": {},
   "outputs": [],
   "source": [
    "output_file = open('automate_online-materials\\\\my_output.csv', 'w', newline='')"
   ]
  },
  {
   "cell_type": "code",
   "execution_count": 28,
   "id": "9ccb886a-08f7-41f6-a6ee-c85ef4fcc3bc",
   "metadata": {},
   "outputs": [],
   "source": [
    "output_writer = csv.writer(output_file)"
   ]
  },
  {
   "cell_type": "code",
   "execution_count": 29,
   "id": "2458fd4b-3ebd-432c-92d2-c3604ae2a82b",
   "metadata": {},
   "outputs": [
    {
     "data": {
      "text/plain": [
       "21"
      ]
     },
     "execution_count": 29,
     "metadata": {},
     "output_type": "execute_result"
    }
   ],
   "source": [
    "output_writer.writerow(['spam', 'eggs', 'bacon', 'ham'])"
   ]
  },
  {
   "cell_type": "code",
   "execution_count": 31,
   "id": "e9b73f4c-4bdc-4f82-8ee6-978a3f1c9a6b",
   "metadata": {},
   "outputs": [
    {
     "data": {
      "text/plain": [
       "32"
      ]
     },
     "execution_count": 31,
     "metadata": {},
     "output_type": "execute_result"
    }
   ],
   "source": [
    "output_writer.writerow(['Hello, world!', 'eggs', 'bacon', 'ham'])"
   ]
  },
  {
   "cell_type": "code",
   "execution_count": 32,
   "id": "29ce47fe-aa83-4ea2-be38-82896ff15e40",
   "metadata": {},
   "outputs": [
    {
     "data": {
      "text/plain": [
       "16"
      ]
     },
     "execution_count": 32,
     "metadata": {},
     "output_type": "execute_result"
    }
   ],
   "source": [
    "output_writer.writerow([1, 2, 3.141592, 4])"
   ]
  },
  {
   "cell_type": "code",
   "execution_count": 33,
   "id": "8f5ea985-3eab-4d77-bc95-5585374f753b",
   "metadata": {},
   "outputs": [],
   "source": [
    "output_file.close()"
   ]
  },
  {
   "cell_type": "markdown",
   "id": "17438500-f219-4db4-9343-0b3639f2e92c",
   "metadata": {},
   "source": [
    "## The `delimiter` and `lineterminator` Keywords"
   ]
  },
  {
   "cell_type": "code",
   "execution_count": 34,
   "id": "20210eeb-f9e3-4c3f-9f43-980788a66d9f",
   "metadata": {},
   "outputs": [],
   "source": [
    "csv_file = open('automate_online-materials\\\\my_tsv_output.tsv', 'w', newline='')"
   ]
  },
  {
   "cell_type": "code",
   "execution_count": 35,
   "id": "22a4145a-8174-4005-9be1-0175e11d4c27",
   "metadata": {},
   "outputs": [],
   "source": [
    "csv_writer = csv.writer(csv_file, delimiter='\\t', lineterminator='\\n\\n')"
   ]
  },
  {
   "cell_type": "code",
   "execution_count": 37,
   "id": "9e259b97-e4b9-40ed-9a3e-2ce8f0ec289d",
   "metadata": {},
   "outputs": [
    {
     "data": {
      "text/plain": [
       "31"
      ]
     },
     "execution_count": 37,
     "metadata": {},
     "output_type": "execute_result"
    }
   ],
   "source": [
    "csv_writer.writerow(['apples', 'oranges', 'grapes'])\n",
    "csv_writer.writerow(['eggs', 'bacon', 'ham'])\n",
    "csv_writer.writerow(['spam', 'spam', 'spam', 'spam', 'spam', 'spam'])"
   ]
  },
  {
   "cell_type": "code",
   "execution_count": 38,
   "id": "7daf2c73-32a7-4f9c-84c6-8a1b6a3cd62a",
   "metadata": {},
   "outputs": [],
   "source": [
    "csv_file.close()"
   ]
  },
  {
   "cell_type": "markdown",
   "id": "692e5e54-633c-4638-ad2a-918eeea0ed09",
   "metadata": {},
   "source": [
    "## `DictReader` and `DictWriter` CSV Objects"
   ]
  },
  {
   "cell_type": "markdown",
   "id": "80d3177f-0036-45f7-ad71-309dea7da5a0",
   "metadata": {},
   "source": [
    "The reader and writer objects read and write to CSV file rows by using lists. The DictReader and DictWriter CSV objects perform the same functions but use dictionaries instead, and they use the first row of the CSV file as the keys of these dictionaries."
   ]
  },
  {
   "cell_type": "code",
   "execution_count": 58,
   "id": "6491e14d-0cc3-4c44-9478-29f7e24fbbea",
   "metadata": {},
   "outputs": [],
   "source": [
    "example_file = open('automate_online-materials\\\\exampleWithHeader.csv')\n",
    "example_dict_reader = csv.DictReader(example_file)"
   ]
  },
  {
   "cell_type": "code",
   "execution_count": 59,
   "id": "e1a338e1-7c45-4365-a820-06018e7eb24a",
   "metadata": {},
   "outputs": [
    {
     "name": "stdout",
     "output_type": "stream",
     "text": [
      "4/5/2014 13:34 Apples 73\n",
      "4/5/2014 3:41 Cherries 85\n",
      "4/6/2014 12:46 Pears 14\n",
      "4/8/2014 8:59 Oranges 52\n",
      "4/10/2014 2:07 Apples 152\n",
      "4/10/2014 18:10 Bananas 23\n",
      "4/10/2014 2:40 Strawberries 98\n"
     ]
    }
   ],
   "source": [
    "for row in example_dict_reader:\n",
    "    # print(row.items())\n",
    "    print(row['Timestamp'], row['Fruit'], row['Quantity'])"
   ]
  },
  {
   "cell_type": "code",
   "execution_count": 67,
   "id": "c8749830-e0a6-4e57-995e-cface6da983e",
   "metadata": {},
   "outputs": [],
   "source": [
    "example_file = open('automate_online-materials\\\\example.csv')\n",
    "example_dict_reader = csv.DictReader(example_file, ['time', 'name','amount'])"
   ]
  },
  {
   "cell_type": "code",
   "execution_count": 68,
   "id": "a7e40897-90cf-40c8-a4bc-1a43d823965b",
   "metadata": {},
   "outputs": [
    {
     "name": "stdout",
     "output_type": "stream",
     "text": [
      "4/5/2014 13:34 Apples 73\n",
      "4/5/2014 3:41 Cherries 85\n",
      "4/6/2014 12:46 Pears 14\n",
      "4/8/2014 8:59 Oranges 52\n",
      "4/10/2014 2:07 Apples 152\n",
      "4/10/2014 18:10 Bananas 23\n",
      "4/10/2014 2:40 Strawberries 98\n"
     ]
    }
   ],
   "source": [
    "for row in example_dict_reader:\n",
    "    # print(row.items())\n",
    "    print(row['time'], row['name'], row['amount'])"
   ]
  },
  {
   "cell_type": "markdown",
   "id": "fa25d6cb-b9b7-4cce-b5bf-26e1da3f1a6e",
   "metadata": {},
   "source": [
    "`DictWriter` objects use dictionaries to create CSV files."
   ]
  },
  {
   "cell_type": "code",
   "execution_count": 70,
   "id": "0b8fc804-82d7-419a-8595-b286868598af",
   "metadata": {},
   "outputs": [],
   "source": [
    "outputFile = open('automate_online-materials\\\\dict_writer_output.csv', 'w', newline='')\n",
    "outputDictWriter = csv.DictWriter(outputFile, ['Name', 'Pet', 'Phone'])\n",
    "outputDictWriter.writeheader()\n",
    "outputDictWriter.writerow({'Name': 'Alice', 'Pet': 'cat', 'Phone': '555-1234'})\n",
    "outputDictWriter.writerow({'Name': 'Bob', 'Phone': '555-9999'})\n",
    "outputDictWriter.writerow({'Phone': '555-5555', 'Name': 'Carol', 'Pet':'dog'})\n",
    "outputFile.close()"
   ]
  },
  {
   "cell_type": "markdown",
   "id": "3ebe1421-c761-4a6f-90a5-d9d58eb75563",
   "metadata": {},
   "source": [
    "Notice that the order of the key-value pairs in the dictionaries you passed to `writerow()` doesn’t matter: they’re written in the order of the keys given to `DictWriter()`."
   ]
  },
  {
   "cell_type": "markdown",
   "id": "7ce9f380-d0a1-485c-9cf7-3fced99ffdf8",
   "metadata": {},
   "source": [
    "## JSON and APIs"
   ]
  },
  {
   "cell_type": "markdown",
   "id": "ada98bb0-11ab-453c-b444-3531bf7e5a89",
   "metadata": {},
   "source": [
    "## The `json` Module"
   ]
  },
  {
   "cell_type": "markdown",
   "id": "772e2ae4-07eb-40b9-8aaf-38d1febe5d28",
   "metadata": {},
   "source": [
    "Python’s `json` module handles all the details of translating between a string with JSON data and Python values for the `json.loads()` and `json.dumps()` functions."
   ]
  },
  {
   "cell_type": "markdown",
   "id": "7d949f75-b99e-4f55-b0c3-b4ebbcfba791",
   "metadata": {},
   "source": [
    "## Reading JSON with the `loads()` Function"
   ]
  },
  {
   "cell_type": "code",
   "execution_count": 71,
   "id": "ff87ec09-d328-40dc-a209-6194b143ee24",
   "metadata": {},
   "outputs": [
    {
     "data": {
      "text/plain": [
       "{'name': 'Zophie', 'isCat': True, 'miceCaught': 0, 'felineIQ': None}"
      ]
     },
     "execution_count": 71,
     "metadata": {},
     "output_type": "execute_result"
    }
   ],
   "source": [
    "stringOfJsonData = '{\"name\": \"Zophie\", \"isCat\": true, \"miceCaught\": 0, \"felineIQ\": null}'\n",
    "\n",
    "import json\n",
    "jsonDataAsPythonValue = json.loads(stringOfJsonData)\n",
    "jsonDataAsPythonValue"
   ]
  },
  {
   "cell_type": "markdown",
   "id": "142a7512-6f79-4b76-9591-b9d40f1b7837",
   "metadata": {},
   "source": [
    "## Writing JSON with the `dumps()` Function"
   ]
  },
  {
   "cell_type": "code",
   "execution_count": 72,
   "id": "bbcd2d5c-639c-4847-811b-84adbd3bc78e",
   "metadata": {},
   "outputs": [
    {
     "data": {
      "text/plain": [
       "'{\"isCat\": true, \"miceCaught\": 0, \"name\": \"Zophie\", \"felineIQ\": null}'"
      ]
     },
     "execution_count": 72,
     "metadata": {},
     "output_type": "execute_result"
    }
   ],
   "source": [
    "pythonValue = {'isCat': True, 'miceCaught': 0, 'name': 'Zophie','felineIQ': None}\n",
    "import json\n",
    "stringOfJsonData = json.dumps(pythonValue)\n",
    "stringOfJsonData"
   ]
  },
  {
   "cell_type": "code",
   "execution_count": null,
   "id": "155dcdf4-dbec-46ae-b4b9-64b99439cf8a",
   "metadata": {},
   "outputs": [],
   "source": []
  }
 ],
 "metadata": {
  "kernelspec": {
   "display_name": "Python 3 (ipykernel)",
   "language": "python",
   "name": "python3"
  },
  "language_info": {
   "codemirror_mode": {
    "name": "ipython",
    "version": 3
   },
   "file_extension": ".py",
   "mimetype": "text/x-python",
   "name": "python",
   "nbconvert_exporter": "python",
   "pygments_lexer": "ipython3",
   "version": "3.12.1"
  }
 },
 "nbformat": 4,
 "nbformat_minor": 5
}
