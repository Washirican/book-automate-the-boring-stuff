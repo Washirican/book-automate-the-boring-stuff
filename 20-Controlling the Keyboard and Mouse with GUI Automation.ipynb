{
 "cells": [
  {
   "cell_type": "markdown",
   "id": "3ba8f209-e160-4bc0-a3a8-f0e5545bee9b",
   "metadata": {},
   "source": [
    "## Staying on Track"
   ]
  },
  {
   "cell_type": "markdown",
   "id": "093fc6ec-e8e2-49ff-a6c3-4b5350bf9c06",
   "metadata": {},
   "source": [
    "Before you jump into a GUI automation, you should know how to escape problems that may arise. Python can move your mouse and type keystrokes at an incredible speed. In fact, it might be too fast for other programs to keep up with. Also, if something goes wrong but your program keeps moving the mouse around, it will be hard to tell what exactly the program is doing or how to recover from the problem. Stopping the program can be difficult if the mouse is moving around on its own, preventing you from clicking the Mu Editor window to close it. Fortunately, there are several ways to prevent or recover from GUI automation problems."
   ]
  },
  {
   "cell_type": "markdown",
   "id": "f5973661-11c9-424c-ac37-e94372322f73",
   "metadata": {},
   "source": [
    "## Pauses and Fail-Safes"
   ]
  },
  {
   "cell_type": "markdown",
   "id": "f50c7116-4fcd-4dcb-b4e7-03c9efd782a9",
   "metadata": {},
   "source": [
    "If your program has a bug and you’re unable to use the keyboard and mouse to shut it down, you can use PyAutoGUI’s fail-safe feature. Quickly slide the mouse to one of the four corners of the screen. Every PyAutoGUI function call has a 10th-of-a-second delay after performing its action to give you enough time to move the mouse to a corner. If PyAutoGUI then finds that the mouse cursor is in a corner, it raises the `pyautogui.FailSafeException` exception. Non-PyAutoGUI instructions will not have this 10th-of-a-second delay.\n",
    "\n",
    "If you find yourself in a situation where you need to stop your PyAutoGUI program, just slam the mouse toward a corner to stop it."
   ]
  },
  {
   "cell_type": "markdown",
   "id": "64f52886-c46a-4d11-9cbf-df59753a5349",
   "metadata": {},
   "source": [
    "## Shutting down Everything by Logging Out"
   ]
  },
  {
   "cell_type": "markdown",
   "id": "61e5175b-dced-40e9-bff4-2a72f474550e",
   "metadata": {},
   "source": [
    "Perhaps the simplest way to stop an out-of-control GUI automation program is to log out, which will shut down all running programs. On Windows and Linux, the logout hotkey is `CTRL-ALT-DEL`. On macOS, it is -SHIFT-OPTION-Q. By logging out, you’ll lose any unsaved work, but at least you won’t have to wait for a full reboot of the computer."
   ]
  },
  {
   "cell_type": "markdown",
   "id": "8fdba7e9-6cf1-4bf7-95a5-3b4cf3a4caab",
   "metadata": {},
   "source": [
    "## Controlling Mouse Movement"
   ]
  },
  {
   "cell_type": "code",
   "execution_count": 1,
   "id": "e79b4cc6-925f-4317-8127-e153f55c0348",
   "metadata": {},
   "outputs": [],
   "source": [
    "import pyautogui"
   ]
  },
  {
   "cell_type": "code",
   "execution_count": 2,
   "id": "45a14df0-3b1b-4eef-9c60-45e86348a18d",
   "metadata": {},
   "outputs": [],
   "source": [
    "wh = pyautogui.size()"
   ]
  },
  {
   "cell_type": "code",
   "execution_count": 3,
   "id": "0ef932ca-778e-4c4d-aa55-f6eaf19a80c8",
   "metadata": {},
   "outputs": [
    {
     "data": {
      "text/plain": [
       "Size(width=1920, height=1080)"
      ]
     },
     "execution_count": 3,
     "metadata": {},
     "output_type": "execute_result"
    }
   ],
   "source": [
    "wh"
   ]
  },
  {
   "cell_type": "markdown",
   "id": "8d630936-7ab4-4427-828b-cadba9fbfe13",
   "metadata": {},
   "source": [
    "## Moving the Mouse"
   ]
  },
  {
   "cell_type": "code",
   "execution_count": 4,
   "id": "9238471d-6289-4e33-8c21-338aec4e50e8",
   "metadata": {},
   "outputs": [],
   "source": [
    "for i in range(2): # Move mouse in a square.\n",
    "      pyautogui.moveTo(100, 100, duration=0.25)\n",
    "      pyautogui.moveTo(200, 100, duration=0.25)\n",
    "      pyautogui.moveTo(200, 200, duration=0.25)\n",
    "      pyautogui.moveTo(100, 200, duration=0.25)"
   ]
  },
  {
   "cell_type": "markdown",
   "id": "91ee6c00-493c-440a-b36e-cdfc039c419c",
   "metadata": {},
   "source": [
    "This example moves the mouse cursor clockwise in a square pattern among the four coordinates provided a total of 10 times. Each movement takes a quarter of a second, as specified by the `duration=0.25` keyword argument. If you hadn’t passed a third argument to any of the `pyautogui.moveTo()` calls, the mouse cursor would have instantly teleported from point to point.\n",
    "\n",
    "The `pyautogui.move()` function moves the mouse cursor relative to its current position. The following example moves the mouse in the same square pattern, except it begins the square from wherever the mouse happens to be on the screen when the code starts running:"
   ]
  },
  {
   "cell_type": "code",
   "execution_count": 5,
   "id": "01fe6386-5841-452e-b8b7-d400545bc62d",
   "metadata": {},
   "outputs": [],
   "source": [
    "for i in range(2):\n",
    "      pyautogui.move(100, 0, duration=0.25)   # right\n",
    "      pyautogui.move(0, 100, duration=0.25)   # down\n",
    "      pyautogui.move(-100, 0, duration=0.25)  # left\n",
    "      pyautogui.move(0, -100, duration=0.25)  # up"
   ]
  },
  {
   "cell_type": "markdown",
   "id": "01d13c74-fd0d-4f9d-b8a6-5d9d5d75a7a3",
   "metadata": {},
   "source": [
    "The `pyautogui.move()` function also takes three arguments: how many pixels to move horizontally to the right, how many pixels to move vertically downward, and (optionally) how long it should take to complete the movement. A negative integer for the first or second argument will cause the mouse to move left or upward, respectively."
   ]
  },
  {
   "cell_type": "markdown",
   "id": "d81bc8ba-5e8e-447d-b923-6bdfa4d7bae0",
   "metadata": {},
   "source": [
    "## Getting the Mouse Position"
   ]
  },
  {
   "cell_type": "markdown",
   "id": "2bdc9780-176e-44f5-9fdd-926df38f3601",
   "metadata": {},
   "source": [
    "You can determine the mouse’s current position by calling the `pyautogui.position()` function, which will return a Point named tuple of the mouse cursor’s x and y positions at the time of the function call."
   ]
  },
  {
   "cell_type": "code",
   "execution_count": 11,
   "id": "1373ef7f-d312-4910-8c5a-476d7f69c6fb",
   "metadata": {},
   "outputs": [],
   "source": [
    "p = pyautogui.position() # Get current mouse position."
   ]
  },
  {
   "cell_type": "code",
   "execution_count": 12,
   "id": "7d61ed06-3e09-49f8-bca2-45b55ba0b7b8",
   "metadata": {},
   "outputs": [
    {
     "data": {
      "text/plain": [
       "2282"
      ]
     },
     "execution_count": 12,
     "metadata": {},
     "output_type": "execute_result"
    }
   ],
   "source": [
    "p[0]"
   ]
  },
  {
   "cell_type": "code",
   "execution_count": 13,
   "id": "80fa7ac1-0945-4e0f-8b2f-f790dd1521f5",
   "metadata": {},
   "outputs": [
    {
     "data": {
      "text/plain": [
       "350"
      ]
     },
     "execution_count": 13,
     "metadata": {},
     "output_type": "execute_result"
    }
   ],
   "source": [
    "p[1]"
   ]
  },
  {
   "cell_type": "markdown",
   "id": "839605b7-d53c-4f91-9cfb-695675d63910",
   "metadata": {},
   "source": [
    "## Controlling Mouse Interaction"
   ]
  },
  {
   "cell_type": "markdown",
   "id": "b0ac2f2f-f80f-4f56-aad8-b73ae5f7c14c",
   "metadata": {},
   "source": [
    "## Clicking the Mouse"
   ]
  },
  {
   "cell_type": "markdown",
   "id": "696ac4ff-8dfd-493c-b45d-19259aba2631",
   "metadata": {},
   "source": [
    "To send a virtual mouse click to your computer, call the `pyautogui.click()` method. By default, this click uses the left mouse button and takes place wherever the mouse cursor is currently located. You can pass x- and y-coordinates of the click as optional first and second arguments if you want it to take place somewhere other than the mouse’s current position.\n",
    "\n",
    "If you want to specify which mouse button to use, include the button keyword argument, with a value of `'left'`, `'middle'`, or `'right'`. For example, `pyautogui.click(100, 150, button='left')` will click the left mouse button at the coordinates `(100, 150)`, while `pyautogui.click(200, 250, button='right')` will perform a right-click at `(200, 250)`."
   ]
  },
  {
   "cell_type": "code",
   "execution_count": 16,
   "id": "68cf76f3-1da8-4f9d-a067-6fecb06a5ef0",
   "metadata": {},
   "outputs": [],
   "source": [
    "pyautogui.click(10, 5) # Move mouse to (10, 5) and click."
   ]
  },
  {
   "cell_type": "markdown",
   "id": "99c89784-d57a-43f6-93f4-d8216347bfda",
   "metadata": {},
   "source": [
    "A full “click” is defined as pushing a mouse button down and then releasing it back up without moving the cursor. You can also perform a click by calling `pyautogui.mouseDown()`, which only pushes the mouse button down, and `pyautogui.mouseUp()`, which only releases the button. These functions have the same arguments as `click()`."
   ]
  },
  {
   "cell_type": "markdown",
   "id": "d1562b8f-0019-4514-bd74-aff458db59fe",
   "metadata": {},
   "source": [
    "## Dragging the Mouse"
   ]
  },
  {
   "cell_type": "markdown",
   "id": "371c7196-079d-4cab-80eb-6cbf4f9645fe",
   "metadata": {},
   "source": [
    "Dragging means moving the mouse while holding down one of the mouse buttons. PyAutoGUI provides the `pyautogui.dragTo()` and `pyautogui.drag()` functions to drag the mouse cursor to a new location or a location relative to its current one. The arguments for `dragTo()` and `drag()` are the same as `moveTo()` and `move()`: the x-coordinate/horizontal movement, the y-coordinate/vertical movement, and an optional duration of time."
   ]
  },
  {
   "cell_type": "code",
   "execution_count": 22,
   "id": "6dbac5dc-22cb-4a31-90b2-1df531d3291a",
   "metadata": {},
   "outputs": [],
   "source": [
    "import pyautogui, time\n",
    "time.sleep(5)\n",
    "pyautogui.click()    # Click to make the window active.\n",
    "distance = 300\n",
    "change = 20\n",
    "while distance > 0:\n",
    "    pyautogui.drag(distance, 0, duration=0.2)   # Move right.\n",
    "    distance = distance - change\n",
    "    pyautogui.drag(0, distance, duration=0.2)   # Move down.\n",
    "    pyautogui.drag(-distance, 0, duration=0.2)  # Move left.\n",
    "    distance = distance - change\n",
    "    pyautogui.drag(0, -distance, duration=0.2)  # Move up."
   ]
  },
  {
   "cell_type": "markdown",
   "id": "55d88bcb-a5d2-4b11-9f32-a84ee3748b08",
   "metadata": {},
   "source": [
    "## Scrolling the Mouse"
   ]
  },
  {
   "cell_type": "markdown",
   "id": "24d1a85c-f69f-4637-9ca3-eea3b09a2544",
   "metadata": {},
   "source": [
    "The function `scroll()`, which you pass an integer argument for how many units you want to scroll the mouse up or down. The size of a unit varies for each operating system and application, so you’ll have to experiment to see exactly how far it scrolls in your particular situation. The scrolling takes place at the mouse cursor’s current position. Passing a positive integer scrolls up, and passing a negative integer scrolls down."
   ]
  },
  {
   "cell_type": "code",
   "execution_count": 28,
   "id": "912bf005-9ce7-4d6e-899c-735474554715",
   "metadata": {},
   "outputs": [],
   "source": [
    "time.sleep(5)\n",
    "pyautogui.scroll(200)"
   ]
  },
  {
   "cell_type": "markdown",
   "id": "03c661c0-6ba0-4029-b56a-44b815d67386",
   "metadata": {},
   "source": [
    "## Planning Your Mouse Movements"
   ]
  },
  {
   "cell_type": "markdown",
   "id": "ad88439f-e34d-428e-9806-04984def9df2",
   "metadata": {},
   "source": [
    "One of the difficulties of writing a program that will automate clicking the screen is finding the x- and y-coordinates of the things you’d like to click. The `pyautogui.mouseInfo()` function can help you with this.\n",
    "\n",
    "The `pyautogui.mouseInfo()` function is meant to be called from the interactive shell, rather than as part of your program. It launches a small application named MouseInfo that’s included with PyAutoGUI."
   ]
  },
  {
   "cell_type": "code",
   "execution_count": 40,
   "id": "9937f160-4359-4035-b7be-2f8671e7c95d",
   "metadata": {},
   "outputs": [],
   "source": [
    "import pyautogui\n",
    "pyautogui.mouseInfo()"
   ]
  },
  {
   "cell_type": "markdown",
   "id": "cce286aa-e073-4737-ae45-6fc028feafca",
   "metadata": {},
   "source": [
    "## Working with the Screen"
   ]
  },
  {
   "cell_type": "markdown",
   "id": "a16bfb4a-daf5-425e-842d-9c5103c287d9",
   "metadata": {},
   "source": [
    "`PyAutoGUI` has screenshot features that can create an image file based on the current contents of the screen. These functions can also return a Pillow `Image` object of the current screen’s appearance."
   ]
  },
  {
   "cell_type": "markdown",
   "id": "9595906e-f86e-49ff-8efa-c25302dfe073",
   "metadata": {},
   "source": [
    "## Getting a Screenshot"
   ]
  },
  {
   "cell_type": "code",
   "execution_count": 1,
   "id": "dcdebc25-1a09-4ceb-9bc0-0b6db52c027f",
   "metadata": {},
   "outputs": [],
   "source": [
    "import pyautogui"
   ]
  },
  {
   "cell_type": "code",
   "execution_count": 2,
   "id": "76c76d1d-cc18-4bc7-b951-997b94bf3919",
   "metadata": {},
   "outputs": [],
   "source": [
    "im = pyautogui.screenshot()"
   ]
  },
  {
   "cell_type": "code",
   "execution_count": 3,
   "id": "36c72048-5824-4332-9760-e3799be2d766",
   "metadata": {},
   "outputs": [],
   "source": [
    "im.show()"
   ]
  },
  {
   "cell_type": "markdown",
   "id": "c202f29c-d84a-49d6-a687-5f8eb42d8cf5",
   "metadata": {},
   "source": [
    "## Analyzing the Screenshot"
   ]
  },
  {
   "cell_type": "markdown",
   "id": "6766c94f-5276-4b0a-a16e-bee165888d3d",
   "metadata": {},
   "source": [
    "You can obtain the RGB color value of a particular pixel on the screen with the `pixel()` function. "
   ]
  },
  {
   "cell_type": "code",
   "execution_count": 12,
   "id": "5e0efef0-d573-4bd1-9c4a-24244a5dd535",
   "metadata": {},
   "outputs": [
    {
     "data": {
      "text/plain": [
       "(80, 199, 231)"
      ]
     },
     "execution_count": 12,
     "metadata": {},
     "output_type": "execute_result"
    }
   ],
   "source": [
    "pyautogui.pixel(0, 0)"
   ]
  },
  {
   "cell_type": "code",
   "execution_count": 18,
   "id": "9dd83a8a-afda-4705-b499-f9330fe5b20b",
   "metadata": {},
   "outputs": [
    {
     "data": {
      "text/plain": [
       "(25, 25, 25)"
      ]
     },
     "execution_count": 18,
     "metadata": {},
     "output_type": "execute_result"
    }
   ],
   "source": [
    "pyautogui.pixel(50, 200)"
   ]
  },
  {
   "cell_type": "markdown",
   "id": "9130e5c8-df2e-4ad2-9da0-251092ea955a",
   "metadata": {},
   "source": [
    "Pass `pixel()` coordinates, like 0, 0 or 50, 200, and it’ll tell you the color of the pixel at those coordinates in your image. "
   ]
  },
  {
   "cell_type": "markdown",
   "id": "59056cdd-2f6f-458b-b1b9-a5bac16ada8a",
   "metadata": {},
   "source": [
    "`PyAutoGUI`’s `pixelMatchesColor()` function will return True if the pixel at the given x- and y-coordinates on the screen matches the given color. The first and second arguments are integers for the x- and y-coordinates, and the third argument is a tuple of three integers for the RGB color the screen pixel must match."
   ]
  },
  {
   "cell_type": "code",
   "execution_count": 19,
   "id": "e5d9d2a4-6a5a-4252-9b11-1340cebc20aa",
   "metadata": {},
   "outputs": [
    {
     "data": {
      "text/plain": [
       "True"
      ]
     },
     "execution_count": 19,
     "metadata": {},
     "output_type": "execute_result"
    }
   ],
   "source": [
    "pyautogui.pixelMatchesColor(50, 200, (25, 25, 25))"
   ]
  },
  {
   "cell_type": "markdown",
   "id": "ae81f322-90aa-4dcc-912c-42eff18e111d",
   "metadata": {},
   "source": [
    "## Image Recognition"
   ]
  },
  {
   "cell_type": "markdown",
   "id": "f01d6e91-42f2-459c-9aa7-852399e1304a",
   "metadata": {},
   "source": [
    "Give PyAutoGUI an image of what you want to click, and let it figure out the coordinates.\n",
    "For example, if you have previously taken a screenshot to capture the image of a Submit button in submit.png, the `locateOnScreen()` function will return the coordinates where that image is found. To see how `locateOnScreen()` works, try taking a screenshot of a small area on your screen; then save the image and enter the following into the interactive shell, replacing 'submit.png' with the filename of your screenshot:"
   ]
  },
  {
   "cell_type": "code",
   "execution_count": 16,
   "id": "d954a790-1484-4036-a20f-564f2a77e68b",
   "metadata": {},
   "outputs": [],
   "source": [
    "from PIL import Image\n",
    "image_path = r\"C:\\Users\\tg715c\\Documents\\Python Scripts\\automate-stuff\\automate_online-materials\\CH 20 Project Files\\start_menu.png\"\n",
    "start_menu_path = Image.open(image_path)"
   ]
  },
  {
   "cell_type": "code",
   "execution_count": 17,
   "id": "4cfc282b-7e6a-4708-9155-5eb9c0cda957",
   "metadata": {},
   "outputs": [],
   "source": [
    "# start_menu_path.show()"
   ]
  },
  {
   "cell_type": "code",
   "execution_count": 22,
   "id": "1659111f-6426-43e6-814c-21df07daf93d",
   "metadata": {},
   "outputs": [
    {
     "name": "stdout",
     "output_type": "stream",
     "text": [
      "Image found at Box(left=9, top=1043, width=33, height=32)\n"
     ]
    }
   ],
   "source": [
    "import pyautogui\n",
    "import time\n",
    "\n",
    "try:\n",
    "    start_menu_loc = pyautogui.locateOnScreen(start_menu_path, confidence=0.9)\n",
    "    time.sleep(1)\n",
    "    pyautogui.click(start_menu_loc)\n",
    "    time.sleep(1)\n",
    "    pyautogui.click(start_menu_loc)\n",
    "    print(f'Image found at {start_menu_loc}')\n",
    "except pyautogui.ImageNotFoundException as e:\n",
    "    print(f'ERROR: Could not find image on screen. {e}')"
   ]
  },
  {
   "cell_type": "markdown",
   "id": "cde2c87e-daec-41a3-8205-c4e773c08194",
   "metadata": {},
   "source": [
    "## Getting Window Information"
   ]
  },
  {
   "cell_type": "markdown",
   "id": "32cc3216-b4ac-4ab9-9920-c5fd1d39ff98",
   "metadata": {},
   "source": [
    "## Obtaining the Active Window"
   ]
  },
  {
   "cell_type": "markdown",
   "id": "c908bf71-4ea7-4a89-b154-0421c303ebb9",
   "metadata": {},
   "source": [
    "Call the `pyautogui.getActiveWindow()` function to get a Window object. Once you have that Window object, you can retrieve any of the object’s attributes, which describe its size, position, and title:\n",
    "* left, right, top, bottom A single integer for the x- or y-coordinate of the window’s side\n",
    "* topleft, topright, bottomleft, bottomright A named tuple of two integers for the (x, y) coordinates of the window’s corner\n",
    "* midleft, midright, midleft, midright A named tuple of two integers for the (x, y) coordinate of the middle of the window’s side\n",
    "* width, height A single integer for one of the window’s dimensions, in pixels\n",
    "* size A named tuple of two integers for the (width, height) of the window\n",
    "* area A single integer representing the area of the window, in pixels\n",
    "* center A named tuple of two integers for the (x, y) coordinate of the window’s center\n",
    "* centerx, centery A single integer for the x- or y-coordinate of the window’s center\n",
    "* box A named tuple of four integers for the (left, top, width, height) measurements of the window\n",
    "* title A string of the text in the title bar at the top of the window"
   ]
  },
  {
   "cell_type": "code",
   "execution_count": 24,
   "id": "074be51c-0cf6-4bc1-811d-81d256d3bd78",
   "metadata": {},
   "outputs": [],
   "source": [
    "active_window = pyautogui.getActiveWindow()"
   ]
  },
  {
   "cell_type": "code",
   "execution_count": 27,
   "id": "9f8628ee-b5af-460b-a58c-ca394a932407",
   "metadata": {},
   "outputs": [
    {
     "data": {
      "text/plain": [
       "Point(x=1977, y=16)"
      ]
     },
     "execution_count": 27,
     "metadata": {},
     "output_type": "execute_result"
    }
   ],
   "source": [
    "active_window.topleft"
   ]
  },
  {
   "cell_type": "code",
   "execution_count": 28,
   "id": "c3bbcef0-32ae-4fcb-8d74-c88a29f6919c",
   "metadata": {},
   "outputs": [
    {
     "data": {
      "text/plain": [
       "'20-Controlli… - JupyterLab and 3 more pages - Daniel - Microsoft\\u200b Edge'"
      ]
     },
     "execution_count": 28,
     "metadata": {},
     "output_type": "execute_result"
    }
   ],
   "source": [
    "active_window.title"
   ]
  },
  {
   "cell_type": "code",
   "execution_count": 29,
   "id": "e737936a-3a46-42aa-af85-0d1b340fbb97",
   "metadata": {},
   "outputs": [
    {
     "data": {
      "text/plain": [
       "Point(x=2705, y=508)"
      ]
     },
     "execution_count": 29,
     "metadata": {},
     "output_type": "execute_result"
    }
   ],
   "source": [
    "active_window.center"
   ]
  },
  {
   "cell_type": "markdown",
   "id": "618f8242-f710-49b3-978b-1216aedcc935",
   "metadata": {},
   "source": [
    "## Other Ways of Obtaining Windows"
   ]
  },
  {
   "cell_type": "markdown",
   "id": "bdfb8082-ea1c-45cd-9774-ce133cb9b5b7",
   "metadata": {},
   "source": [
    "Use functions other than `getActiveWindow()` to obtain Window objects for the other windows on the screen. The following four functions return a list of Window objects. If they’re unable to find any windows, they return an empty list:\n",
    "* `pyautogui.getAllWindows()` Returns a list of Window objects for every visible window on the screen.\n",
    "* `pyautogui.getWindowsAt(x, y)` Returns a list of Window objects for every visible window that includes the point (x, y).\n",
    "* `pyautogui.getWindowsWithTitle(title)` Returns a list of Window objects for every visible window that includes the string title in its title bar.\n",
    "* `pyautogui.getActiveWindow()` Returns the Window object for the window that is currently receiving keyboard focus.\n"
   ]
  },
  {
   "cell_type": "markdown",
   "id": "13797d6e-c166-45c7-b338-5e4cb44f46a0",
   "metadata": {},
   "source": [
    "PyAutoGUI also has a `pyautogui.getAllTitles()` function, which returns a list of strings of every visible window."
   ]
  },
  {
   "cell_type": "code",
   "execution_count": 42,
   "id": "dd297208-6209-4e6a-98a5-fa1386e540f1",
   "metadata": {},
   "outputs": [],
   "source": [
    "all_windows = pyautogui.getAllTitles()"
   ]
  },
  {
   "cell_type": "code",
   "execution_count": 44,
   "id": "d22258d2-f37d-4390-89d2-580d83a85e19",
   "metadata": {},
   "outputs": [
    {
     "data": {
      "text/plain": [
       "['',\n",
       " '',\n",
       " '',\n",
       " '20-Controlli… - JupyterLab and 3 more pages - Daniel - Microsoft\\u200b Edge',\n",
       " 'Screen Shots',\n",
       " 'Calendar - Daniel.A.Rodriguez-Delgado@boeing.com - Outlook',\n",
       " 'automate_online-materials',\n",
       " 'Onboarding Notes - OneNote',\n",
       " '',\n",
       " 'Paint 3D',\n",
       " 'Untitled \\u200e- Paint 3D',\n",
       " 'Settings',\n",
       " 'Settings',\n",
       " '',\n",
       " '',\n",
       " '',\n",
       " '',\n",
       " '',\n",
       " '',\n",
       " 'Microsoft Text Input Application',\n",
       " 'Time Tracker 1.8',\n",
       " 'acdg.py - acdg-test-automation - Visual Studio Code',\n",
       " 'ACDG',\n",
       " '',\n",
       " '',\n",
       " '',\n",
       " 'PowerShell 7 (x64)',\n",
       " 'Software Test Report - Word',\n",
       " 'acdg-test-automation',\n",
       " 'Rodriguez-Delgado, Daniel A',\n",
       " 'Software Verification Report',\n",
       " 'Percipio Book Automate the Boring Stuff with Python: Practical Programming for Total Beginners, 2nd Edition - Daniel - Microsoft\\u200b Edge',\n",
       " 'MyBoeing and 1 more page - Daniel - Microsoft\\u200b Edge',\n",
       " '',\n",
       " '',\n",
       " 'Program Manager']"
      ]
     },
     "execution_count": 44,
     "metadata": {},
     "output_type": "execute_result"
    }
   ],
   "source": [
    "all_windows"
   ]
  },
  {
   "cell_type": "code",
   "execution_count": 77,
   "id": "fa45608e-5783-47ae-b47a-80be604f05d4",
   "metadata": {},
   "outputs": [
    {
     "data": {
      "text/plain": [
       "'Calendar - Daniel.A.Rodriguez-Delgado@boeing.com - Outlook'"
      ]
     },
     "execution_count": 77,
     "metadata": {},
     "output_type": "execute_result"
    }
   ],
   "source": [
    "pyautogui.getWindowsWithTitle('Calendar') [0].title"
   ]
  },
  {
   "cell_type": "markdown",
   "id": "4f3ddb79-ba7e-44ac-a304-40a18fd365d1",
   "metadata": {},
   "source": [
    "## Manipulating Windows"
   ]
  },
  {
   "cell_type": "markdown",
   "id": "4627991a-03ea-4a6e-b73c-a46534b53680",
   "metadata": {},
   "source": [
    "Windows attributes can do more than just tell you the size and position of the window. You can also set their values in order to resize or move the window. "
   ]
  },
  {
   "cell_type": "code",
   "execution_count": 78,
   "id": "33723f08-d48f-4365-8948-6381c3f1d7e5",
   "metadata": {},
   "outputs": [],
   "source": [
    "fw = pyautogui.getActiveWindow()\n",
    "fw.width # Gets the current width of the window.\n",
    "fw.topleft # Gets the current position of the window.\n",
    "fw.width = 1000 # Resizes the width.\n",
    "fw.topleft = (800, 400)"
   ]
  },
  {
   "cell_type": "markdown",
   "id": "50b7813d-2d84-47b1-aec8-79a2a2347afe",
   "metadata": {},
   "source": [
    "You can also find out and change the window’s minimized, maximized, and activated states."
   ]
  },
  {
   "cell_type": "code",
   "execution_count": 79,
   "id": "e9976b07-c4db-4938-b233-febc61872292",
   "metadata": {},
   "outputs": [
    {
     "data": {
      "text/plain": [
       "False"
      ]
     },
     "execution_count": 79,
     "metadata": {},
     "output_type": "execute_result"
    }
   ],
   "source": [
    "fw.isMaximized"
   ]
  },
  {
   "cell_type": "code",
   "execution_count": 80,
   "id": "2659e785-a79e-4474-85d9-7ee2072ebb63",
   "metadata": {},
   "outputs": [
    {
     "data": {
      "text/plain": [
       "False"
      ]
     },
     "execution_count": 80,
     "metadata": {},
     "output_type": "execute_result"
    }
   ],
   "source": [
    "fw.isMinimized"
   ]
  },
  {
   "cell_type": "code",
   "execution_count": 81,
   "id": "16e6cc22-5999-4587-9831-f509e2f11f15",
   "metadata": {},
   "outputs": [
    {
     "data": {
      "text/plain": [
       "True"
      ]
     },
     "execution_count": 81,
     "metadata": {},
     "output_type": "execute_result"
    }
   ],
   "source": [
    "fw.isActive"
   ]
  },
  {
   "cell_type": "code",
   "execution_count": 82,
   "id": "c09397b4-90dd-47a1-bf22-8eb0cd4eb7a8",
   "metadata": {},
   "outputs": [],
   "source": [
    "fw.maximize()"
   ]
  },
  {
   "cell_type": "code",
   "execution_count": 83,
   "id": "b423445a-b613-4024-a2cb-b6883b8c0195",
   "metadata": {},
   "outputs": [
    {
     "data": {
      "text/plain": [
       "True"
      ]
     },
     "execution_count": 83,
     "metadata": {},
     "output_type": "execute_result"
    }
   ],
   "source": [
    "fw.isMaximized"
   ]
  },
  {
   "cell_type": "code",
   "execution_count": 84,
   "id": "d76ddd72-8814-4cc5-8748-9713b766e07d",
   "metadata": {},
   "outputs": [],
   "source": [
    "fw.restore()"
   ]
  },
  {
   "cell_type": "code",
   "execution_count": 85,
   "id": "1f18bd55-1366-4dc6-8777-4c39c290b712",
   "metadata": {},
   "outputs": [],
   "source": [
    "fw.minimize()"
   ]
  },
  {
   "cell_type": "markdown",
   "id": "48bd88fd-37a3-4774-976f-18425e0f0a7a",
   "metadata": {},
   "source": [
    "## Controlling the Keyboard"
   ]
  },
  {
   "cell_type": "markdown",
   "id": "003d8918-1c8d-418d-b510-77490775ebe4",
   "metadata": {},
   "source": [
    "PyAutoGUI also has functions for sending virtual keypresses to your computer, which enables you to fill out forms or enter text into applications."
   ]
  },
  {
   "cell_type": "markdown",
   "id": "33357e74-26e6-4eeb-a944-c77b50c755bb",
   "metadata": {},
   "source": [
    "## Sending a String from the Keybord"
   ]
  },
  {
   "cell_type": "markdown",
   "id": "0cbaacac-3cd4-498e-aeaf-bce4c2aedc89",
   "metadata": {},
   "source": [
    "The `pyautogui.write()` function sends virtual keypresses to the computer."
   ]
  },
  {
   "cell_type": "code",
   "execution_count": 87,
   "id": "425a9739-4534-45a9-82de-247c8cacdf2e",
   "metadata": {},
   "outputs": [],
   "source": [
    "pyautogui.click(100, 200); pyautogui.write('Hello, world!')"
   ]
  },
  {
   "cell_type": "markdown",
   "id": "93ccb835-15bc-472a-b9e6-44c7007d759e",
   "metadata": {},
   "source": [
    "By default, the `write()` function will type the full string instantly. However, you can pass an optional second argument to add a short pause between each character. This second argument is an integer or float value of the number of seconds to pause. "
   ]
  },
  {
   "cell_type": "code",
   "execution_count": 88,
   "id": "302b05cd-6696-4f59-b6bf-9584c1850522",
   "metadata": {},
   "outputs": [],
   "source": [
    "pyautogui.click(100, 200); pyautogui.write('Hello, world!', 0.25)"
   ]
  },
  {
   "cell_type": "markdown",
   "id": "2c3b0fc9-c02e-4771-94f9-3e5d7eaa1cbb",
   "metadata": {},
   "source": [
    "## Key Names"
   ]
  },
  {
   "cell_type": "markdown",
   "id": "98cbcad3-c645-4b3c-aa18-ec9564942f87",
   "metadata": {},
   "source": [
    "Instead of a single string argument, a list of these keyboard key strings can be passed to `write()`. "
   ]
  },
  {
   "cell_type": "code",
   "execution_count": 91,
   "id": "cb88dcae-b4e6-4549-a893-0a101b9df1d4",
   "metadata": {},
   "outputs": [],
   "source": [
    "pyautogui.click(100, 200); pyautogui.write(['end', 'enter', 'a', 'b', 'left', 'left', 'X', 'Y'])"
   ]
  },
  {
   "cell_type": "code",
   "execution_count": 92,
   "id": "5e40da4d-e54f-499a-aab6-ccfc8337acf3",
   "metadata": {},
   "outputs": [
    {
     "data": {
      "text/plain": [
       "['\\t',\n",
       " '\\n',\n",
       " '\\r',\n",
       " ' ',\n",
       " '!',\n",
       " '\"',\n",
       " '#',\n",
       " '$',\n",
       " '%',\n",
       " '&',\n",
       " \"'\",\n",
       " '(',\n",
       " ')',\n",
       " '*',\n",
       " '+',\n",
       " ',',\n",
       " '-',\n",
       " '.',\n",
       " '/',\n",
       " '0',\n",
       " '1',\n",
       " '2',\n",
       " '3',\n",
       " '4',\n",
       " '5',\n",
       " '6',\n",
       " '7',\n",
       " '8',\n",
       " '9',\n",
       " ':',\n",
       " ';',\n",
       " '<',\n",
       " '=',\n",
       " '>',\n",
       " '?',\n",
       " '@',\n",
       " '[',\n",
       " '\\\\',\n",
       " ']',\n",
       " '^',\n",
       " '_',\n",
       " '`',\n",
       " 'a',\n",
       " 'b',\n",
       " 'c',\n",
       " 'd',\n",
       " 'e',\n",
       " 'f',\n",
       " 'g',\n",
       " 'h',\n",
       " 'i',\n",
       " 'j',\n",
       " 'k',\n",
       " 'l',\n",
       " 'm',\n",
       " 'n',\n",
       " 'o',\n",
       " 'p',\n",
       " 'q',\n",
       " 'r',\n",
       " 's',\n",
       " 't',\n",
       " 'u',\n",
       " 'v',\n",
       " 'w',\n",
       " 'x',\n",
       " 'y',\n",
       " 'z',\n",
       " '{',\n",
       " '|',\n",
       " '}',\n",
       " '~',\n",
       " 'accept',\n",
       " 'add',\n",
       " 'alt',\n",
       " 'altleft',\n",
       " 'altright',\n",
       " 'apps',\n",
       " 'backspace',\n",
       " 'browserback',\n",
       " 'browserfavorites',\n",
       " 'browserforward',\n",
       " 'browserhome',\n",
       " 'browserrefresh',\n",
       " 'browsersearch',\n",
       " 'browserstop',\n",
       " 'capslock',\n",
       " 'clear',\n",
       " 'convert',\n",
       " 'ctrl',\n",
       " 'ctrlleft',\n",
       " 'ctrlright',\n",
       " 'decimal',\n",
       " 'del',\n",
       " 'delete',\n",
       " 'divide',\n",
       " 'down',\n",
       " 'end',\n",
       " 'enter',\n",
       " 'esc',\n",
       " 'escape',\n",
       " 'execute',\n",
       " 'f1',\n",
       " 'f10',\n",
       " 'f11',\n",
       " 'f12',\n",
       " 'f13',\n",
       " 'f14',\n",
       " 'f15',\n",
       " 'f16',\n",
       " 'f17',\n",
       " 'f18',\n",
       " 'f19',\n",
       " 'f2',\n",
       " 'f20',\n",
       " 'f21',\n",
       " 'f22',\n",
       " 'f23',\n",
       " 'f24',\n",
       " 'f3',\n",
       " 'f4',\n",
       " 'f5',\n",
       " 'f6',\n",
       " 'f7',\n",
       " 'f8',\n",
       " 'f9',\n",
       " 'final',\n",
       " 'fn',\n",
       " 'hanguel',\n",
       " 'hangul',\n",
       " 'hanja',\n",
       " 'help',\n",
       " 'home',\n",
       " 'insert',\n",
       " 'junja',\n",
       " 'kana',\n",
       " 'kanji',\n",
       " 'launchapp1',\n",
       " 'launchapp2',\n",
       " 'launchmail',\n",
       " 'launchmediaselect',\n",
       " 'left',\n",
       " 'modechange',\n",
       " 'multiply',\n",
       " 'nexttrack',\n",
       " 'nonconvert',\n",
       " 'num0',\n",
       " 'num1',\n",
       " 'num2',\n",
       " 'num3',\n",
       " 'num4',\n",
       " 'num5',\n",
       " 'num6',\n",
       " 'num7',\n",
       " 'num8',\n",
       " 'num9',\n",
       " 'numlock',\n",
       " 'pagedown',\n",
       " 'pageup',\n",
       " 'pause',\n",
       " 'pgdn',\n",
       " 'pgup',\n",
       " 'playpause',\n",
       " 'prevtrack',\n",
       " 'print',\n",
       " 'printscreen',\n",
       " 'prntscrn',\n",
       " 'prtsc',\n",
       " 'prtscr',\n",
       " 'return',\n",
       " 'right',\n",
       " 'scrolllock',\n",
       " 'select',\n",
       " 'separator',\n",
       " 'shift',\n",
       " 'shiftleft',\n",
       " 'shiftright',\n",
       " 'sleep',\n",
       " 'space',\n",
       " 'stop',\n",
       " 'subtract',\n",
       " 'tab',\n",
       " 'up',\n",
       " 'volumedown',\n",
       " 'volumemute',\n",
       " 'volumeup',\n",
       " 'win',\n",
       " 'winleft',\n",
       " 'winright',\n",
       " 'yen',\n",
       " 'command',\n",
       " 'option',\n",
       " 'optionleft',\n",
       " 'optionright']"
      ]
     },
     "execution_count": 92,
     "metadata": {},
     "output_type": "execute_result"
    }
   ],
   "source": [
    "pyautogui.KEYBOARD_KEYS"
   ]
  },
  {
   "cell_type": "markdown",
   "id": "016da929-aec5-4ad4-b1ac-7217658a1d82",
   "metadata": {},
   "source": [
    "## Pressing and Releasing the Keyboard"
   ]
  },
  {
   "cell_type": "markdown",
   "id": "ed6109ad-1e25-48e5-918b-49a2ac9c1036",
   "metadata": {},
   "source": [
    "Functions `pyautogui.keyDown()` and `pyautogui.keyUp()` will send virtual keypresses and releases to the computer. PyAutoGUI provides the `pyautogui.press()` function, which calls both of these functions to simulate a complete keypress. "
   ]
  },
  {
   "cell_type": "code",
   "execution_count": 93,
   "id": "5e661e41-212d-4a1d-b031-e12bd907068c",
   "metadata": {},
   "outputs": [],
   "source": [
    "pyautogui.keyDown('shift'); pyautogui.press('4'); pyautogui.keyUp('shift')"
   ]
  },
  {
   "cell_type": "markdown",
   "id": "9174d70d-de89-44b6-b5f8-8118c6d19d39",
   "metadata": {},
   "source": [
    "If you need to type a string into a text field, the `write()` function is more suitable. But for applications that take single-key commands, the `press()` function is the simpler approach."
   ]
  },
  {
   "cell_type": "markdown",
   "id": "7497b255-9460-4b35-be61-202c538e819a",
   "metadata": {},
   "source": [
    "## Hotkey Combinations"
   ]
  },
  {
   "cell_type": "markdown",
   "id": "bf9a86af-2a03-4b29-a65e-df4ffa73878a",
   "metadata": {},
   "source": [
    "A hotkey or shortcut is a combination of keypresses to invoke some application function."
   ]
  },
  {
   "cell_type": "code",
   "execution_count": 97,
   "id": "38b63f65-73a9-40a0-aa3b-356c42bed93d",
   "metadata": {},
   "outputs": [],
   "source": [
    "pyautogui.hotkey('ctrl', 'c')"
   ]
  },
  {
   "cell_type": "markdown",
   "id": "4a91cc5d-c8d7-425b-a37a-6916e4f2b896",
   "metadata": {},
   "source": [
    "## Displaying Message Boxes"
   ]
  },
  {
   "cell_type": "markdown",
   "id": "d0b4e8e7-d0e4-40a5-ab28-ceb8872c0a55",
   "metadata": {},
   "source": [
    "PyAutoGUI offers pop-up message boxes to provide notifications to the user and receive input from them. \n",
    "* `pyautogui.alert(text)` Displays text and has a single `OK` button.\n",
    "* `pyautogui.confirm(text)` Displays text and has `OK` and `Cancel` buttons, returning either `'OK'` or `'Cancel'` depending on the button clicked.\n",
    "* `pyautogui.prompt(text)` Displays text and has a text field for the user to type in, which it returns as a string.\n",
    "* `pyautogui.password(text)` Is the same as `prompt()`, but displays asterisks so the user can enter sensitive information such as a password.\n",
    "\n",
    "These functions also have an optional second parameter that accepts a string value to use as the title in the title bar of the message box. The functions won’t return until the user has clicked a button on them, so they can also be used to introduce pauses into your PyAutoGUI programs. "
   ]
  },
  {
   "cell_type": "code",
   "execution_count": 99,
   "id": "5da0593a-e87e-4bdf-b986-25a02b67d6ea",
   "metadata": {},
   "outputs": [
    {
     "data": {
      "text/plain": [
       "'cat'"
      ]
     },
     "execution_count": 99,
     "metadata": {},
     "output_type": "execute_result"
    }
   ],
   "source": [
    "pyautogui.alert('This is a message.', 'Important')\n",
    "pyautogui.confirm('Do you want to continue?') # Click Cancel\n",
    "pyautogui.prompt(\"What is your cat's name?\")\n",
    "pyautogui.password('What is the password?')\n"
   ]
  },
  {
   "cell_type": "code",
   "execution_count": null,
   "id": "a29434ab-dbf7-4c2e-a4fc-6a95eae9cf2b",
   "metadata": {},
   "outputs": [],
   "source": []
  },
  {
   "cell_type": "code",
   "execution_count": null,
   "id": "6e3c7f5a-7f68-42b1-8fb9-b4f5c34ee22a",
   "metadata": {},
   "outputs": [],
   "source": []
  }
 ],
 "metadata": {
  "kernelspec": {
   "display_name": "Python 3 (ipykernel)",
   "language": "python",
   "name": "python3"
  },
  "language_info": {
   "codemirror_mode": {
    "name": "ipython",
    "version": 3
   },
   "file_extension": ".py",
   "mimetype": "text/x-python",
   "name": "python",
   "nbconvert_exporter": "python",
   "pygments_lexer": "ipython3",
   "version": "3.12.1"
  }
 },
 "nbformat": 4,
 "nbformat_minor": 5
}
