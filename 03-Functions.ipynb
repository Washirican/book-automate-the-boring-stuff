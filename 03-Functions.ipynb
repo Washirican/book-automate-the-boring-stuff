{
 "cells": [
  {
   "cell_type": "markdown",
   "id": "0227012e-1918-45ea-b002-92195eb460a4",
   "metadata": {},
   "source": [
    "## Overview"
   ]
  },
  {
   "cell_type": "code",
   "execution_count": 24,
   "id": "ec96d32e-fcc7-4f9c-9603-20376b874011",
   "metadata": {},
   "outputs": [],
   "source": [
    "def hello():\n",
    "    print('Hello!')"
   ]
  },
  {
   "cell_type": "code",
   "execution_count": 25,
   "id": "bfc4fa3a-7734-4cd9-a536-504748dd012b",
   "metadata": {},
   "outputs": [
    {
     "name": "stdout",
     "output_type": "stream",
     "text": [
      "Hello!\n"
     ]
    }
   ],
   "source": [
    "hello()"
   ]
  },
  {
   "cell_type": "markdown",
   "id": "ccfd2017-7116-4f4c-9329-b6f34133eec3",
   "metadata": {},
   "source": [
    "## `def` Statements with Parameters"
   ]
  },
  {
   "cell_type": "code",
   "execution_count": 26,
   "id": "93e3c41f-027b-41e3-8465-75b385d09430",
   "metadata": {},
   "outputs": [],
   "source": [
    "def hello(name):\n",
    "    print('Hello ' + name)"
   ]
  },
  {
   "cell_type": "code",
   "execution_count": 27,
   "id": "1e654371-9ed1-4064-84af-ce56375ba80c",
   "metadata": {},
   "outputs": [
    {
     "name": "stdout",
     "output_type": "stream",
     "text": [
      "Hello Daniel\n"
     ]
    }
   ],
   "source": [
    "hello('Daniel')"
   ]
  },
  {
   "cell_type": "markdown",
   "id": "51ca3c0a-118e-45c9-99bc-9bf252f260ae",
   "metadata": {},
   "source": [
    "## Define, Call, Pass, Argument, Parameter"
   ]
  },
  {
   "cell_type": "markdown",
   "id": "12dafe5c-5724-43e0-b188-17107911af53",
   "metadata": {},
   "source": [
    "The terms define, call, pass, argument, and parameter can be confusing. Let’s look at a code example to review these terms:"
   ]
  },
  {
   "cell_type": "code",
   "execution_count": 28,
   "id": "ceb32795-06c9-4c44-80e0-2b04ecc5c50a",
   "metadata": {},
   "outputs": [
    {
     "name": "stdout",
     "output_type": "stream",
     "text": [
      "Hello, Al\n"
     ]
    }
   ],
   "source": [
    "def say_hello(name):\n",
    "    print('Hello, ' + name)\n",
    "\n",
    "say_hello('Al')"
   ]
  },
  {
   "cell_type": "markdown",
   "id": "e6c6cb5e-3117-4d4a-8ed4-f2c480418cb6",
   "metadata": {},
   "source": [
    "To define a function is to create it, just like an assignment statement like `spam = 42` creates the spam variable. The `def` statement defines the `say_hello()` function. The s`ay_hello('Al')` line calls the now-created function, sending the execution to the top of the function’s code. This function call is also known as passing the string value 'Al' to the function. A value being passed to a function in a function call is an argument. The argument 'Al' is assigned to a local variable named `name`. Variables that have arguments assigned to them are parameters."
   ]
  },
  {
   "cell_type": "markdown",
   "id": "73bac343-f926-4d84-836c-292ace988982",
   "metadata": {},
   "source": [
    "## Return Values and `return` Statements"
   ]
  },
  {
   "cell_type": "code",
   "execution_count": 29,
   "id": "50918869-2c8f-4dd5-ac1f-3582e2303ecb",
   "metadata": {},
   "outputs": [],
   "source": [
    "import random"
   ]
  },
  {
   "cell_type": "code",
   "execution_count": 30,
   "id": "8d6f6b2f-cbcd-4573-b800-2f937c25eabb",
   "metadata": {},
   "outputs": [],
   "source": [
    "def get_answer(number):\n",
    "    if number == 2:\n",
    "        return 'It is certain'\n",
    "    elif number == 4:\n",
    "        return 'Reply hazy, try again'"
   ]
  },
  {
   "cell_type": "code",
   "execution_count": 31,
   "id": "3c7a7ca2-0c30-4a91-a3f2-2de14c824d95",
   "metadata": {},
   "outputs": [
    {
     "name": "stdout",
     "output_type": "stream",
     "text": [
      "None\n"
     ]
    }
   ],
   "source": [
    "print(get_answer(random.randint(1,9)))"
   ]
  },
  {
   "cell_type": "markdown",
   "id": "513b414d-cfc7-45d9-8bcc-52993eea90fd",
   "metadata": {},
   "source": [
    "## The `None` Value"
   ]
  },
  {
   "cell_type": "code",
   "execution_count": 32,
   "id": "2099b296-ec0a-4163-885a-91c41f90f400",
   "metadata": {},
   "outputs": [
    {
     "name": "stdout",
     "output_type": "stream",
     "text": [
      "Hello\n"
     ]
    }
   ],
   "source": [
    "spam = print('Hello')"
   ]
  },
  {
   "cell_type": "code",
   "execution_count": 33,
   "id": "84858a71-cb9e-446f-b21d-6b32508361c6",
   "metadata": {},
   "outputs": [
    {
     "data": {
      "text/plain": [
       "True"
      ]
     },
     "execution_count": 33,
     "metadata": {},
     "output_type": "execute_result"
    }
   ],
   "source": [
    "None == spam"
   ]
  },
  {
   "cell_type": "markdown",
   "id": "1d49a64c-598e-4ceb-85fa-69e25e518144",
   "metadata": {},
   "source": [
    "Behind the scenes, Python adds `return None` to the end of any function definition with no `return` statement."
   ]
  },
  {
   "cell_type": "markdown",
   "id": "9bf4fe4d-29a2-4a2e-b7e6-5ad5891fe3e2",
   "metadata": {},
   "source": [
    "## Keyword Arguments and the `print()` Function"
   ]
  },
  {
   "cell_type": "markdown",
   "id": "cb1d8382-4e8f-4c56-b0e3-39723c5bbff4",
   "metadata": {},
   "source": [
    "Keyword arguments are identified by the keyword put before them in the function call. Keyword arguments are often used for optional parameters. For example, the `print()` function has the optional parameters end and sep to specify what should be printed at the end of its arguments and between its arguments (separating them), respectively."
   ]
  },
  {
   "cell_type": "code",
   "execution_count": 34,
   "id": "abad2c2f-b4c9-4c60-9654-0603911c2ef3",
   "metadata": {},
   "outputs": [
    {
     "name": "stdout",
     "output_type": "stream",
     "text": [
      "Hello\n",
      "World\n"
     ]
    }
   ],
   "source": [
    "print('Hello')\n",
    "print('World')"
   ]
  },
  {
   "cell_type": "code",
   "execution_count": 35,
   "id": "f51b9d9d-1694-467a-b7e6-2215ba50bac4",
   "metadata": {},
   "outputs": [
    {
     "name": "stdout",
     "output_type": "stream",
     "text": [
      "HelloWorld\n"
     ]
    }
   ],
   "source": [
    "print('Hello', end='')\n",
    "print('World')"
   ]
  },
  {
   "cell_type": "code",
   "execution_count": 36,
   "id": "e2645300-4a1a-4ed2-afaf-5f2c6f2b6ead",
   "metadata": {},
   "outputs": [
    {
     "name": "stdout",
     "output_type": "stream",
     "text": [
      "cats dogs mice\n"
     ]
    }
   ],
   "source": [
    "print('cats', 'dogs', 'mice')"
   ]
  },
  {
   "cell_type": "code",
   "execution_count": 37,
   "id": "6e6d3816-752f-4e2a-b697-430963cd0772",
   "metadata": {},
   "outputs": [
    {
     "name": "stdout",
     "output_type": "stream",
     "text": [
      "cats,dogs,mice\n"
     ]
    }
   ],
   "source": [
    "print('cats', 'dogs', 'mice', sep=',')"
   ]
  },
  {
   "cell_type": "markdown",
   "id": "94d9da5a-a33a-4e96-9775-929862b1c8bc",
   "metadata": {},
   "source": [
    "## The Call Stack"
   ]
  },
  {
   "cell_type": "code",
   "execution_count": 38,
   "id": "e0f545be-dd67-411d-8de1-6146d8aaf12c",
   "metadata": {},
   "outputs": [
    {
     "name": "stdout",
     "output_type": "stream",
     "text": [
      "a() starts\n",
      "b() starts\n",
      "c() starts\n",
      "c() returns\n",
      "b() returns\n",
      "d() starts\n",
      "d() returns\n",
      "a() returns\n"
     ]
    }
   ],
   "source": [
    "def a():\n",
    "    print('a() starts')\n",
    "    b()\n",
    "    d()\n",
    "    print('a() returns')\n",
    "\n",
    "def b():\n",
    "    print('b() starts')\n",
    "    c()\n",
    "    print('b() returns')\n",
    "\n",
    "def c():\n",
    "    print('c() starts')\n",
    "    print('c() returns')\n",
    "\n",
    "def d():\n",
    "    print('d() starts')\n",
    "    print('d() returns')\n",
    "\n",
    "a()"
   ]
  },
  {
   "cell_type": "markdown",
   "id": "b2cd48a5-a3ad-47a0-a636-05e22793d307",
   "metadata": {},
   "source": [
    "The call stack is how Python remembers where to return the execution after each function call. The call stack isn’t stored in a variable in your program; rather, Python handles it behind the scenes. When your program calls a function, Python creates a frame object on the top of the call stack. Frame objects store the line number of the original function call so that Python can remember where to return. If another function call is made, Python puts another frame object on the call stack above the other one.\n",
    "\n",
    "When a function call returns, Python removes a frame object from the top of the stack and moves the execution to the line number stored in it. Note that frame objects are always added and removed from the top of the stack and not from any other place. "
   ]
  },
  {
   "cell_type": "markdown",
   "id": "fa1fc910-111a-4ba6-a730-81648f220b56",
   "metadata": {},
   "source": [
    "## Local and Global Scope"
   ]
  },
  {
   "cell_type": "markdown",
   "id": "aa64e7b3-9877-4057-ba0c-eb31d8d92199",
   "metadata": {},
   "source": [
    "Parameters and variables that are assigned in a called function are said to exist in that function’s local scope. Variables that are assigned outside all functions are said to exist in the global scope. A variable that exists in a local scope is called a local variable, while a variable that exists in the global scope is called a global variable. A variable must be one or the other; it cannot be both local and global."
   ]
  },
  {
   "cell_type": "markdown",
   "id": "56340c59-61b2-4126-a53a-96c325c70d5f",
   "metadata": {},
   "source": [
    "## Local Variables Cannot Be Used in the Global Scope"
   ]
  },
  {
   "cell_type": "code",
   "execution_count": 39,
   "id": "37415bbe-6dd3-47f2-b9d9-132916d5f7ea",
   "metadata": {},
   "outputs": [
    {
     "name": "stdout",
     "output_type": "stream",
     "text": [
      "spam\n"
     ]
    }
   ],
   "source": [
    "def spam():\n",
    "    eggs = 1\n",
    "spam()\n",
    "print(eggs)"
   ]
  },
  {
   "cell_type": "markdown",
   "id": "c30713b2-912c-4257-a83e-c1139a5e6015",
   "metadata": {},
   "source": [
    "The error happens because the `eggs` variable exists only in the local scope created when `spam()` is called."
   ]
  },
  {
   "cell_type": "markdown",
   "id": "fabaea92-8131-4408-ad5c-2e357a14d9c5",
   "metadata": {},
   "source": [
    "## Local Scopes Cannot Use Variables in other Local Scopes"
   ]
  },
  {
   "cell_type": "code",
   "execution_count": 40,
   "id": "5810cb9e-63c0-4118-93eb-6537ddef309f",
   "metadata": {},
   "outputs": [
    {
     "name": "stdout",
     "output_type": "stream",
     "text": [
      "99\n"
     ]
    }
   ],
   "source": [
    "def spam():\n",
    "    eggs = 99\n",
    "    bacon()\n",
    "    print(eggs)\n",
    "\n",
    "def bacon():\n",
    "    ham = 101\n",
    "    eggs = 0\n",
    "\n",
    "spam()"
   ]
  },
  {
   "cell_type": "markdown",
   "id": "fee2b539-9d0f-43ea-90db-534b34e99520",
   "metadata": {},
   "source": [
    "The upshot is that local variables in one function are completely separate from the local variables in another function."
   ]
  },
  {
   "cell_type": "markdown",
   "id": "e0a597ec-19fe-42f3-963a-bed2b949b233",
   "metadata": {},
   "source": [
    "## Global Variables Can Be Read from a Local Scope"
   ]
  },
  {
   "cell_type": "code",
   "execution_count": 41,
   "id": "eb8e3852-03bc-4132-a017-16f0d4d2bf16",
   "metadata": {},
   "outputs": [
    {
     "name": "stdout",
     "output_type": "stream",
     "text": [
      "42\n",
      "42\n"
     ]
    }
   ],
   "source": [
    "def spam():\n",
    "    print(eggs)\n",
    "eggs = 42\n",
    "spam()\n",
    "print(eggs)"
   ]
  },
  {
   "cell_type": "markdown",
   "id": "1ab91ec2-9ff2-45f4-a02d-5f4d643d238e",
   "metadata": {},
   "source": [
    "Since there is no parameter named `eggs` or any code that assigns `eggs` a value in the `spam()` function, when eggs is used in `spam()`, Python considers it a reference to the global variable `eggs`. This is why 42 is printed when the previous program is run."
   ]
  },
  {
   "cell_type": "markdown",
   "id": "68c3ce83-5590-4f39-b529-f262e87f0642",
   "metadata": {},
   "source": [
    "## Local and Global Variables with the Same Name"
   ]
  },
  {
   "cell_type": "markdown",
   "id": "aedb3337-3b61-40ba-86ab-2c4dca321227",
   "metadata": {},
   "source": [
    "Technically, it’s perfectly acceptable to use the same variable name for a global variable and local variables in different scopes in Python. But, to simplify your life, avoid doing this. "
   ]
  },
  {
   "cell_type": "code",
   "execution_count": 42,
   "id": "fa5f034d-a77c-418e-8a4c-3199c03be802",
   "metadata": {},
   "outputs": [
    {
     "name": "stdout",
     "output_type": "stream",
     "text": [
      "bacon local\n",
      "spam local\n",
      "bacon local\n",
      "global\n"
     ]
    }
   ],
   "source": [
    "def spam():\n",
    "    eggs = 'spam local'\n",
    "    print(eggs) # prints 'spam local'\n",
    "\n",
    "def bacon():\n",
    "    eggs = 'bacon local'\n",
    "    print(eggs) # prints 'bacon local'\n",
    "    spam()\n",
    "    print(eggs) # prints 'bacon local'\n",
    "\n",
    "eggs = 'global'\n",
    "bacon()\n",
    "print(eggs) # prints 'global'"
   ]
  },
  {
   "cell_type": "markdown",
   "id": "67df73e7-a9b8-4a26-bb71-47821d20a6a5",
   "metadata": {},
   "source": [
    "There are actually three different variables in this program, but confusingly they are all named `eggs`. The variables are as follows:\n",
    "\n",
    "1. A variable named `eggs` that exists in a local scope when `spam()` is called.\n",
    "2. A variable named `eggs` that exists in a local scope when `bacon()` is called.\n",
    "3. A variable named `eggs` that exists in the global scope.\n",
    "\n",
    "Since these three separate variables all have the same name, it can be confusing to keep track of which one is being used at any given time. This is why you should avoid using the same variable name in different scopes."
   ]
  },
  {
   "cell_type": "markdown",
   "id": "05a5eba8-cbb2-40b1-a045-c742999c7d46",
   "metadata": {},
   "source": [
    "## The `global` Statement"
   ]
  },
  {
   "cell_type": "markdown",
   "id": "989c293d-2932-4842-b813-bb691ef24b8c",
   "metadata": {},
   "source": [
    "If you need to modify a global variable from within a function, use the global statement. If you have a line such as `global eggs` at the top of a function, it tells Python, “In this function, `eggs` refers to the global variable, so don’t create a local variable with this name.” "
   ]
  },
  {
   "cell_type": "code",
   "execution_count": 43,
   "id": "fa399563-0684-4e9a-a655-bce74756f291",
   "metadata": {},
   "outputs": [
    {
     "name": "stdout",
     "output_type": "stream",
     "text": [
      "spam\n"
     ]
    }
   ],
   "source": [
    "def spam():\n",
    "    global eggs\n",
    "    eggs = 'spam'\n",
    "\n",
    "eggs = 'global'\n",
    "spam()\n",
    "print(eggs)"
   ]
  },
  {
   "cell_type": "markdown",
   "id": "51073474-3870-4584-94cb-1d357074cc34",
   "metadata": {},
   "source": [
    "Because `eggs` is declared `global` at the top of `spam()`, when eggs is set to `'spam'`, this assignment is done to the globally scoped `eggs`. No local `eggs `variable is created."
   ]
  },
  {
   "cell_type": "markdown",
   "id": "2a42e66b-f70e-4227-b1f9-43cf3109ca6f",
   "metadata": {},
   "source": [
    "There are four rules to tell whether a variable is in a local scope or global scope:\n",
    "\n",
    "* If a variable is being used in the global scope (that is, outside of all functions), then it is always a global variable.\n",
    "* If there is a global statement for that variable in a function, it is a global variable.\n",
    "* Otherwise, if the variable is used in an assignment statement in the function, it is a local variable.\n",
    "* But if the variable is not used in an assignment statement, it is a global variable."
   ]
  },
  {
   "cell_type": "markdown",
   "id": "31a9ea73-d2f6-4b04-bbb1-07c25fc552e7",
   "metadata": {},
   "source": [
    "## Exception Handling"
   ]
  },
  {
   "cell_type": "markdown",
   "id": "e97f03d5-5d7e-40cc-8048-4d3ae887b0d6",
   "metadata": {},
   "source": [
    "Right now, getting an error, or exception, in your Python program means the entire program will crash. You don’t want this to happen in real-world programs. Instead, you want the program to detect errors, handle them, and then continue to run.\n",
    "\n",
    "Errors can be handled with `try` and `except` statements. The code that could potentially have an error is put in a try clause. The program execution moves to the start of a following except clause if an error happens."
   ]
  },
  {
   "cell_type": "code",
   "execution_count": 44,
   "id": "8ac76952-273c-4d6e-aba3-24576c584b3a",
   "metadata": {},
   "outputs": [],
   "source": [
    "def spam(divide_by):\n",
    "    try:\n",
    "        return 42/ divide_by\n",
    "    except ZeroDivisionError:\n",
    "        print('Error: Invalid argument.')"
   ]
  },
  {
   "cell_type": "code",
   "execution_count": 45,
   "id": "40508338-e9a2-4570-898a-728682be2a83",
   "metadata": {},
   "outputs": [
    {
     "name": "stdout",
     "output_type": "stream",
     "text": [
      "21.0\n"
     ]
    }
   ],
   "source": [
    "print(spam(2))"
   ]
  },
  {
   "cell_type": "code",
   "execution_count": 46,
   "id": "87536862-0337-408a-b10c-a5dc614cd648",
   "metadata": {},
   "outputs": [
    {
     "name": "stdout",
     "output_type": "stream",
     "text": [
      "Error: Invalid argument.\n",
      "None\n"
     ]
    }
   ],
   "source": [
    "print(spam(0))"
   ]
  },
  {
   "cell_type": "markdown",
   "id": "5104ad0f-9430-4063-abef-9e9c3b777385",
   "metadata": {},
   "source": [
    "Note that any errors that occur in function calls in a `try` block will also be caught. "
   ]
  },
  {
   "cell_type": "code",
   "execution_count": null,
   "id": "9e22cebe-f143-4520-883d-381cbe6006d9",
   "metadata": {},
   "outputs": [],
   "source": []
  }
 ],
 "metadata": {
  "kernelspec": {
   "display_name": "Python 3 (ipykernel)",
   "language": "python",
   "name": "python3"
  },
  "language_info": {
   "codemirror_mode": {
    "name": "ipython",
    "version": 3
   },
   "file_extension": ".py",
   "mimetype": "text/x-python",
   "name": "python",
   "nbconvert_exporter": "python",
   "pygments_lexer": "ipython3",
   "version": "3.12.1"
  }
 },
 "nbformat": 4,
 "nbformat_minor": 5
}
