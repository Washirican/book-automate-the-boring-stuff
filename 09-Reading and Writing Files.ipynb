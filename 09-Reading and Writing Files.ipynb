{
 "cells": [
  {
   "cell_type": "markdown",
   "id": "b1cd6ca3-7803-49a4-b9ec-14a8a20a3214",
   "metadata": {},
   "source": [
    "## Files and Paths"
   ]
  },
  {
   "cell_type": "markdown",
   "id": "3c7c1fbe-ecac-4705-85ac-67e3ca8da54a",
   "metadata": {},
   "source": [
    "## Backslash on Windows and Forward Slash on macOS and Linux"
   ]
  },
  {
   "cell_type": "markdown",
   "id": "d90df121-ffc1-4d39-afe0-bf874b438114",
   "metadata": {},
   "source": [
    "On Windows, paths are written using backslashes (\\) as the separator between folder names. The macOS and Linux operating systems, however, use the forward slash (/) as their path separator. If you want your programs to work on all operating systems, you will have to write your Python scripts to handle both cases.\n",
    "\n",
    "Fortunately, this is simple to do with the `Path()` function in the `pathlib` module. If you pass it the string values of individual file and folder names in your path, `Path()` will return a string with a file path using the correct path separators. "
   ]
  },
  {
   "cell_type": "code",
   "execution_count": 9,
   "id": "faf86ce8-4e9d-4b8e-81a0-4512f577b216",
   "metadata": {},
   "outputs": [
    {
     "data": {
      "text/plain": [
       "WindowsPath('spam/bacon/eggs')"
      ]
     },
     "execution_count": 9,
     "metadata": {},
     "output_type": "execute_result"
    }
   ],
   "source": [
    "from pathlib import Path\n",
    "Path('spam', 'bacon', 'eggs')"
   ]
  },
  {
   "cell_type": "code",
   "execution_count": 2,
   "id": "aef23735-764a-4254-adb6-8c90e2ba6647",
   "metadata": {},
   "outputs": [
    {
     "data": {
      "text/plain": [
       "'spam\\\\bacon\\\\eggs'"
      ]
     },
     "execution_count": 2,
     "metadata": {},
     "output_type": "execute_result"
    }
   ],
   "source": [
    "str(Path('spam', 'bacon', 'eggs'))"
   ]
  },
  {
   "cell_type": "markdown",
   "id": "f8a3d71d-cfe4-420c-bf35-cbb4eb6d2b98",
   "metadata": {},
   "source": [
    "## Using the / Operator to Join Paths"
   ]
  },
  {
   "cell_type": "markdown",
   "id": "0d43c1c6-23ad-4d97-8854-5ec29ab49ded",
   "metadata": {},
   "source": [
    "We normally use the `+` operator to add two integer or floating-point numbers, such as in the expression `2 + 2`, which evaluates to the integer value `4`. But we can also use the `+` operator to concatenate two string values, like the expression `'Hello' + 'World'`, which evaluates to the string value `'HelloWorld'`. Similarly, the `/` operator that we normally use for division can also combine Path objects and strings. This is helpful for modifying a Path object after you’ve already created it with the `Path()` function."
   ]
  },
  {
   "cell_type": "code",
   "execution_count": 3,
   "id": "7c9812ad-dbdc-4690-b9c2-4211173c321e",
   "metadata": {},
   "outputs": [
    {
     "data": {
      "text/plain": [
       "WindowsPath('spam/bacon/eggs')"
      ]
     },
     "execution_count": 3,
     "metadata": {},
     "output_type": "execute_result"
    }
   ],
   "source": [
    "Path('spam') / 'bacon' / 'eggs'"
   ]
  },
  {
   "cell_type": "code",
   "execution_count": 4,
   "id": "0404314d-e0fd-4b7e-a8e3-c8d55b5ccbd2",
   "metadata": {},
   "outputs": [
    {
     "data": {
      "text/plain": [
       "WindowsPath('spam/bacon/eggs')"
      ]
     },
     "execution_count": 4,
     "metadata": {},
     "output_type": "execute_result"
    }
   ],
   "source": [
    "Path('spam') / Path('bacon/eggs')"
   ]
  },
  {
   "cell_type": "code",
   "execution_count": 5,
   "id": "8a0babd8-f368-4003-9a52-1b941b23d303",
   "metadata": {},
   "outputs": [
    {
     "data": {
      "text/plain": [
       "WindowsPath('spam/bacon/eggs')"
      ]
     },
     "execution_count": 5,
     "metadata": {},
     "output_type": "execute_result"
    }
   ],
   "source": [
    "Path('spam') / Path('bacon', 'eggs')"
   ]
  },
  {
   "cell_type": "code",
   "execution_count": 8,
   "id": "b7279a67-a4b2-4277-9b52-446a9c961663",
   "metadata": {},
   "outputs": [
    {
     "data": {
      "text/plain": [
       "'C:\\\\Users\\\\Al\\\\spam'"
      ]
     },
     "execution_count": 8,
     "metadata": {},
     "output_type": "execute_result"
    }
   ],
   "source": [
    "homeFolder = r'C:\\Users\\Al'\n",
    "subFolder = 'spam'\n",
    "homeFolder + '\\\\' + subFolder\n",
    "'\\\\'.join([homeFolder, subFolder])"
   ]
  },
  {
   "cell_type": "markdown",
   "id": "188195d4-aea4-4227-bd46-90a6dfe681ec",
   "metadata": {},
   "source": [
    "A script that uses this code isn’t safe, because its backslashes would only work on Windows. You could add an if statement that checks `sys.platform` (which contains a string describing the computer’s operating system) to decide what kind of slash to use, but applying this custom code everywhere it’s needed can be inconsistent and bug-prone.\n",
    "\n",
    "The `pathlib` module solves these problems by reusing the / math division operator to join paths correctly, no matter what operating system your code is running on. "
   ]
  },
  {
   "cell_type": "markdown",
   "id": "6cf4ade1-b9a9-433b-9799-00542ec01a7b",
   "metadata": {},
   "source": [
    "The only thing you need to keep in mind when using the `/` operator for joining paths is that one of the first two values must be a Path object."
   ]
  },
  {
   "cell_type": "markdown",
   "id": "752d1d15-82c5-4fea-83dd-45c2cf4a9ac5",
   "metadata": {},
   "source": [
    "The `/` operator replaces the older `os.path.join()` function."
   ]
  },
  {
   "cell_type": "markdown",
   "id": "d8578394-df5c-4825-b33c-b82bc7141f8c",
   "metadata": {},
   "source": [
    "## The Current Working Directory"
   ]
  },
  {
   "cell_type": "markdown",
   "id": "0687a5a3-58a0-4250-84f6-f377a7df2e6a",
   "metadata": {},
   "source": [
    "Every program that runs on your computer has a current working directory, or cwd. Any filenames or paths that do not begin with the root folder are assumed to be under the current working directory.\n",
    "You can get the current working directory as a string value with the `Path.cwd()` function and change it using `os.chdir()`."
   ]
  },
  {
   "cell_type": "code",
   "execution_count": 9,
   "id": "4994bfb0-10b9-4905-b62d-a45c491777d4",
   "metadata": {},
   "outputs": [
    {
     "data": {
      "text/plain": [
       "WindowsPath('C:/Users/tg715c/Documents/Python Scripts/automate-stuff')"
      ]
     },
     "execution_count": 9,
     "metadata": {},
     "output_type": "execute_result"
    }
   ],
   "source": [
    "Path.cwd()"
   ]
  },
  {
   "cell_type": "markdown",
   "id": "aac33505-59de-4f5f-9bed-02873084bc20",
   "metadata": {},
   "source": [
    "There is no `pathlib` function for changing the working directory, because changing the current working directory while a program is running can often lead to subtle bugs.\n",
    "\n",
    "The `os.getcwd()` function is the older way of getting the current working directory as a string."
   ]
  },
  {
   "cell_type": "markdown",
   "id": "a89cc86f-71c1-448b-b668-ef45d9f0848c",
   "metadata": {},
   "source": [
    "## The Home Directory"
   ]
  },
  {
   "cell_type": "markdown",
   "id": "79dc66d6-8c50-414f-bae6-f6cf8eee8750",
   "metadata": {},
   "source": [
    "ll users have a folder for their own files on the computer called the home directory or home folder. You can get a Path object of the home folder by calling `Path.home()`:"
   ]
  },
  {
   "cell_type": "code",
   "execution_count": 10,
   "id": "7c0b9291-671c-4d30-9a7e-2944637387a3",
   "metadata": {},
   "outputs": [
    {
     "data": {
      "text/plain": [
       "WindowsPath('C:/Users/tg715c')"
      ]
     },
     "execution_count": 10,
     "metadata": {},
     "output_type": "execute_result"
    }
   ],
   "source": [
    "Path.home()"
   ]
  },
  {
   "cell_type": "markdown",
   "id": "3089e92e-55dc-443c-9b84-24000e0c4701",
   "metadata": {},
   "source": [
    "## Absolute vs. Relative Paths"
   ]
  },
  {
   "cell_type": "markdown",
   "id": "0d8e3588-d21f-4da1-844e-6529eef9a965",
   "metadata": {},
   "source": [
    "There are two ways to specify a file path:\n",
    "\n",
    "1. An absolute path, which always begins with the root folder\n",
    "2. A relative path, which is relative to the program’s current working directory\n",
    "\n",
    "There are also the dot (`.`) and dot-dot (`..`) folders. These are not real folders but special names that can be used in a path. A single period (“dot”) for a folder name is shorthand for “this directory.” Two periods (“dot-dot”) means “the parent folder.”"
   ]
  },
  {
   "cell_type": "markdown",
   "id": "89352e74-e0da-401e-8ec4-c6d8e9e13dca",
   "metadata": {},
   "source": [
    "The `.\\` at the start of a relative path is optional. For example, `.\\spam.txt` and `spam.txt` refer to the same file."
   ]
  },
  {
   "cell_type": "markdown",
   "id": "494d2d3f-5c05-4c5c-9dd0-283ee3496541",
   "metadata": {},
   "source": [
    "## Creating New Folders Using the `os.makedirs()` Function"
   ]
  },
  {
   "cell_type": "code",
   "execution_count": 18,
   "id": "5b607e88-1fc0-4612-9c7e-cdee38fe19de",
   "metadata": {},
   "outputs": [],
   "source": [
    "import os\n",
    "path = Path.cwd() / 'automate_online-materials' / 'CH 9 Test Folder' / 'Another Folder' / 'Yes Another Folder'"
   ]
  },
  {
   "cell_type": "code",
   "execution_count": 19,
   "id": "a2c8c9bd-2cb0-4f10-97a3-83f868bb5ecb",
   "metadata": {},
   "outputs": [
    {
     "name": "stdout",
     "output_type": "stream",
     "text": [
      "C:\\Users\\tg715c\\Documents\\Python Scripts\\automate-stuff\\automate_online-materials\\CH 9 Test Folder\\Another Folder\\Yes Another Folder\n"
     ]
    }
   ],
   "source": [
    "print(path)"
   ]
  },
  {
   "cell_type": "code",
   "execution_count": 24,
   "id": "49956665-654b-478e-a9d3-d200fb480cae",
   "metadata": {},
   "outputs": [],
   "source": [
    "os.makedirs(path)"
   ]
  },
  {
   "cell_type": "markdown",
   "id": "2e86944c-e3e3-4724-95d6-1456b7a9f5f3",
   "metadata": {},
   "source": [
    "That is, `os.makedirs()` will create any necessary intermediate folders in order to ensure that the full path exists."
   ]
  },
  {
   "cell_type": "markdown",
   "id": "cb3f612b-7a68-4b7f-abe4-a79caeebaa1a",
   "metadata": {},
   "source": [
    "To make a directory from a Path object, call the `mkdir()` method. "
   ]
  },
  {
   "cell_type": "code",
   "execution_count": 27,
   "id": "33b07803-af2e-48fa-8bc1-e20b3f85f165",
   "metadata": {},
   "outputs": [],
   "source": [
    "Path(path / 'spam').mkdir()"
   ]
  },
  {
   "cell_type": "markdown",
   "id": "697250a2-ad86-44d1-ad12-f4ca0eee4077",
   "metadata": {},
   "source": [
    "Note that `mkdir()` can only make one directory at a time; it won’t make several subdirectories at once like `os.makedirs()`."
   ]
  },
  {
   "cell_type": "markdown",
   "id": "9fdead20-a4ae-4f8d-80f9-ae99bc4839e1",
   "metadata": {},
   "source": [
    "## Handling Absolute and Relative Paths"
   ]
  },
  {
   "cell_type": "markdown",
   "id": "d9437ce2-fa87-45d3-aca9-1d07e666f532",
   "metadata": {},
   "source": [
    "The `pathlib` module provides methods for checking whether a given path is an absolute path and returning the absolute path of a relative path.\n",
    "Calling the `is_absolute()` method on a Path object will return True if it represents an absolute path or False if it represents a relative path."
   ]
  },
  {
   "cell_type": "code",
   "execution_count": 28,
   "id": "8613f26e-66f4-4503-8e05-f4d1410d9b34",
   "metadata": {},
   "outputs": [
    {
     "data": {
      "text/plain": [
       "WindowsPath('C:/Users/tg715c/Documents/Python Scripts/automate-stuff')"
      ]
     },
     "execution_count": 28,
     "metadata": {},
     "output_type": "execute_result"
    }
   ],
   "source": [
    "Path.cwd()"
   ]
  },
  {
   "cell_type": "code",
   "execution_count": 29,
   "id": "c609ff37-245e-471e-bd24-8d903200d455",
   "metadata": {},
   "outputs": [
    {
     "data": {
      "text/plain": [
       "True"
      ]
     },
     "execution_count": 29,
     "metadata": {},
     "output_type": "execute_result"
    }
   ],
   "source": [
    "Path.cwd().is_absolute()"
   ]
  },
  {
   "cell_type": "code",
   "execution_count": 30,
   "id": "30fe3387-e8d2-4555-98e9-a4814f613b20",
   "metadata": {},
   "outputs": [
    {
     "data": {
      "text/plain": [
       "False"
      ]
     },
     "execution_count": 30,
     "metadata": {},
     "output_type": "execute_result"
    }
   ],
   "source": [
    "Path('spam/bacon/eggs').is_absolute()"
   ]
  },
  {
   "cell_type": "markdown",
   "id": "a9fe3108-bf19-40db-b8e5-72a8971a4df2",
   "metadata": {},
   "source": [
    "To get an absolute path from a relative path, you can put `Path.cwd() /` in front of the relative Path object. After all, when we say “relative path,” we almost always mean a path that is relative to the current working directory."
   ]
  },
  {
   "cell_type": "code",
   "execution_count": 31,
   "id": "98931248-4aa5-492b-8ec8-860942929218",
   "metadata": {},
   "outputs": [
    {
     "data": {
      "text/plain": [
       "WindowsPath('my/relative/path')"
      ]
     },
     "execution_count": 31,
     "metadata": {},
     "output_type": "execute_result"
    }
   ],
   "source": [
    "Path('my/relative/path')"
   ]
  },
  {
   "cell_type": "code",
   "execution_count": 32,
   "id": "a94ec4b8-9e0b-42f8-941b-75c1951b71d2",
   "metadata": {},
   "outputs": [
    {
     "data": {
      "text/plain": [
       "WindowsPath('C:/Users/tg715c/Documents/Python Scripts/automate-stuff/my/relative/path')"
      ]
     },
     "execution_count": 32,
     "metadata": {},
     "output_type": "execute_result"
    }
   ],
   "source": [
    "Path.cwd() / Path('my/relative/path')"
   ]
  },
  {
   "cell_type": "markdown",
   "id": "c5cd2574-babd-457e-89cc-2ef2e1a2e49d",
   "metadata": {},
   "source": [
    "If your relative path is relative to another path besides the current working directory, just replace `Path.cwd()` with that other path instead. "
   ]
  },
  {
   "cell_type": "code",
   "execution_count": 33,
   "id": "4a56214c-576f-4fb6-a6fc-ac621ac95922",
   "metadata": {},
   "outputs": [
    {
     "data": {
      "text/plain": [
       "WindowsPath('my/relative/path')"
      ]
     },
     "execution_count": 33,
     "metadata": {},
     "output_type": "execute_result"
    }
   ],
   "source": [
    "Path('my/relative/path')"
   ]
  },
  {
   "cell_type": "code",
   "execution_count": 34,
   "id": "5b87501b-a9bb-4238-8aca-54ba065c28f3",
   "metadata": {},
   "outputs": [
    {
     "data": {
      "text/plain": [
       "WindowsPath('C:/Users/tg715c/my/relative/path')"
      ]
     },
     "execution_count": 34,
     "metadata": {},
     "output_type": "execute_result"
    }
   ],
   "source": [
    "Path.home() / Path('my/relative/path')"
   ]
  },
  {
   "cell_type": "markdown",
   "id": "417f75bf-8246-468e-88cf-ad8240e20e34",
   "metadata": {},
   "source": [
    "The `os.path` module also has some useful functions related to absolute and relative paths:\n",
    "\n",
    "1. Calling `os.path.abspath(path)` will return a string of the absolute path of the argument. This is an easy way to convert a relative path into an absolute one.\n",
    "2. Calling `os.path.isabs(path)` will return True if the argument is an absolute path and False if it is a relative path.\n",
    "3. Calling `os.path.relpath(path, start)` will return a string of a relative path from the start path to path. If start is not provided, the current working directory is used as the start path."
   ]
  },
  {
   "cell_type": "code",
   "execution_count": 35,
   "id": "d18c60c5-160e-4aff-b286-e42bb2243d45",
   "metadata": {},
   "outputs": [
    {
     "data": {
      "text/plain": [
       "'C:\\\\Users\\\\tg715c\\\\Documents\\\\Python Scripts\\\\automate-stuff'"
      ]
     },
     "execution_count": 35,
     "metadata": {},
     "output_type": "execute_result"
    }
   ],
   "source": [
    "os.path.abspath('.')"
   ]
  },
  {
   "cell_type": "code",
   "execution_count": 39,
   "id": "e1cabdff-2268-465b-95cc-aae3deb7e1a6",
   "metadata": {},
   "outputs": [
    {
     "data": {
      "text/plain": [
       "'C:\\\\Users\\\\tg715c\\\\Documents\\\\Python Scripts\\\\automate-stuff\\\\CH 9 Test Folder'"
      ]
     },
     "execution_count": 39,
     "metadata": {},
     "output_type": "execute_result"
    }
   ],
   "source": [
    " os.path.abspath('.\\\\CH 9 Test Folder')"
   ]
  },
  {
   "cell_type": "code",
   "execution_count": 40,
   "id": "59d2e7fd-c450-43ae-a87f-ca21ccf9decc",
   "metadata": {},
   "outputs": [
    {
     "data": {
      "text/plain": [
       "False"
      ]
     },
     "execution_count": 40,
     "metadata": {},
     "output_type": "execute_result"
    }
   ],
   "source": [
    "os.path.isabs('.')"
   ]
  },
  {
   "cell_type": "code",
   "execution_count": 41,
   "id": "3c14d0ba-96cf-48e8-af72-0fcd42315ddc",
   "metadata": {},
   "outputs": [
    {
     "data": {
      "text/plain": [
       "True"
      ]
     },
     "execution_count": 41,
     "metadata": {},
     "output_type": "execute_result"
    }
   ],
   "source": [
    "os.path.isabs(os.path.abspath('.'))"
   ]
  },
  {
   "cell_type": "code",
   "execution_count": null,
   "id": "5d7503ba-65a3-47a8-b00d-c50b3ece7f02",
   "metadata": {},
   "outputs": [],
   "source": []
  },
  {
   "cell_type": "code",
   "execution_count": 42,
   "id": "330dbdee-bd27-42ca-abcc-13276cff75a4",
   "metadata": {},
   "outputs": [
    {
     "data": {
      "text/plain": [
       "'Windows'"
      ]
     },
     "execution_count": 42,
     "metadata": {},
     "output_type": "execute_result"
    }
   ],
   "source": [
    "os.path.relpath('C:\\\\Windows', 'C:\\\\')"
   ]
  },
  {
   "cell_type": "code",
   "execution_count": 43,
   "id": "2e2ea1a8-4ae8-49fc-a8c8-dd4871e4e175",
   "metadata": {},
   "outputs": [
    {
     "data": {
      "text/plain": [
       "'..\\\\..\\\\Windows'"
      ]
     },
     "execution_count": 43,
     "metadata": {},
     "output_type": "execute_result"
    }
   ],
   "source": [
    "os.path.relpath('C:\\\\Windows', 'C:\\\\spam\\\\eggs')"
   ]
  },
  {
   "cell_type": "markdown",
   "id": "d3ab2659-3757-40fb-9b15-b8aca612960a",
   "metadata": {},
   "source": [
    "When the relative path is within the same parent folder as the path, but is within subfolders of a different path, such as `'C:\\\\Windows'` and `'C:\\\\spam\\\\eggs'`, you can use the “dot-dot” notation to return to the parent folder."
   ]
  },
  {
   "cell_type": "markdown",
   "id": "3f69f323-a0b9-4cb7-84d7-e6e4d4829b6e",
   "metadata": {},
   "source": [
    "## Getting the Parts of a File Path"
   ]
  },
  {
   "cell_type": "markdown",
   "id": "95205b71-3821-452c-8ac8-e13a8a203e3a",
   "metadata": {},
   "source": [
    "Given a `Path` object, you can extract the file path’s different parts as strings using several `Path `object attributes. These can be useful for constructing new file paths based on existing ones."
   ]
  },
  {
   "attachments": {
    "e01b43a5-8a76-4c4b-8a73-73822b09ac0c.png": {
     "image/png": "[encoded data removed]"
    }
   },
   "cell_type": "markdown",
   "id": "f2254281-d5bb-41df-aeb7-d92f8573b311",
   "metadata": {},
   "source": [
    "![image.png](attachment:e01b43a5-8a76-4c4b-8a73-73822b09ac0c.png)"
   ]
  },
  {
   "cell_type": "markdown",
   "id": "c7b08289-7ed0-45cb-954e-80ac59b9274f",
   "metadata": {},
   "source": [
    "The parts of a file path include the following:\n",
    "\n",
    "* The `anchor`, which is the root folder of the filesystem\n",
    "* On Windows, the `drive`, which is the single letter that often denotes a physical hard drive or other storage device\n",
    "* The `parent`, which is the folder that contains the file\n",
    "* The `name` of the file, made up of the stem (or base name) and the suffix (or extension)\n",
    "\n",
    "Note that Windows Path objects have a `drive` attribute, but macOS and Linux Path objects don’t. The `drive` attribute doesn’t include the first backslash."
   ]
  },
  {
   "cell_type": "code",
   "execution_count": 44,
   "id": "ec4ffc48-6e87-4ddc-b0b2-be644ed247e5",
   "metadata": {},
   "outputs": [],
   "source": [
    "p = Path('C:/Users/Al/spam.txt')"
   ]
  },
  {
   "cell_type": "code",
   "execution_count": 45,
   "id": "00dbe2f9-a014-4d58-b40b-f3e911ebd163",
   "metadata": {},
   "outputs": [
    {
     "data": {
      "text/plain": [
       "'C:\\\\'"
      ]
     },
     "execution_count": 45,
     "metadata": {},
     "output_type": "execute_result"
    }
   ],
   "source": [
    "p.anchor"
   ]
  },
  {
   "cell_type": "code",
   "execution_count": 46,
   "id": "a3fa0999-9538-41b7-8318-a7fc97c740d5",
   "metadata": {},
   "outputs": [
    {
     "data": {
      "text/plain": [
       "WindowsPath('C:/Users/Al')"
      ]
     },
     "execution_count": 46,
     "metadata": {},
     "output_type": "execute_result"
    }
   ],
   "source": [
    "p.parent "
   ]
  },
  {
   "cell_type": "code",
   "execution_count": 47,
   "id": "d8587154-e770-4772-80cc-d14835d1a241",
   "metadata": {},
   "outputs": [
    {
     "data": {
      "text/plain": [
       "'spam.txt'"
      ]
     },
     "execution_count": 47,
     "metadata": {},
     "output_type": "execute_result"
    }
   ],
   "source": [
    " p.name"
   ]
  },
  {
   "cell_type": "code",
   "execution_count": 48,
   "id": "db3a3901-8441-4758-b893-a66c67500745",
   "metadata": {},
   "outputs": [
    {
     "data": {
      "text/plain": [
       "'spam'"
      ]
     },
     "execution_count": 48,
     "metadata": {},
     "output_type": "execute_result"
    }
   ],
   "source": [
    "p.stem"
   ]
  },
  {
   "cell_type": "code",
   "execution_count": 49,
   "id": "1d78f95b-1948-445d-b71a-7ab86a56ffa1",
   "metadata": {},
   "outputs": [
    {
     "data": {
      "text/plain": [
       "'.txt'"
      ]
     },
     "execution_count": 49,
     "metadata": {},
     "output_type": "execute_result"
    }
   ],
   "source": [
    "p.suffix"
   ]
  },
  {
   "cell_type": "code",
   "execution_count": 50,
   "id": "d85a5e1c-21e8-46c0-a475-55aff4e016f5",
   "metadata": {},
   "outputs": [
    {
     "data": {
      "text/plain": [
       "'C:'"
      ]
     },
     "execution_count": 50,
     "metadata": {},
     "output_type": "execute_result"
    }
   ],
   "source": [
    "p.drive"
   ]
  },
  {
   "cell_type": "markdown",
   "id": "be2d482e-600f-423d-93b7-cd5d9a973176",
   "metadata": {},
   "source": [
    "These attributes evaluate to simple string values, except for `parent`, which evaluates to another `Path` object.\n",
    "The `parents` attribute (which is different from the `parent` attribute) evaluates to the ancestor folders of a `Path` object with an integer index:"
   ]
  },
  {
   "cell_type": "code",
   "execution_count": 51,
   "id": "c4db19b5-1b97-495a-becb-eb1392eebd5f",
   "metadata": {},
   "outputs": [
    {
     "data": {
      "text/plain": [
       "WindowsPath('C:/Users/tg715c/Documents/Python Scripts/automate-stuff')"
      ]
     },
     "execution_count": 51,
     "metadata": {},
     "output_type": "execute_result"
    }
   ],
   "source": [
    "Path.cwd()"
   ]
  },
  {
   "cell_type": "code",
   "execution_count": 52,
   "id": "dc0c202c-b7ea-40eb-a432-fe811929b951",
   "metadata": {},
   "outputs": [
    {
     "data": {
      "text/plain": [
       "WindowsPath('C:/Users/tg715c/Documents/Python Scripts')"
      ]
     },
     "execution_count": 52,
     "metadata": {},
     "output_type": "execute_result"
    }
   ],
   "source": [
    "Path.cwd().parents[0]"
   ]
  },
  {
   "cell_type": "code",
   "execution_count": 53,
   "id": "41353295-8d24-474d-9ccc-9d4c11131c0a",
   "metadata": {},
   "outputs": [
    {
     "data": {
      "text/plain": [
       "WindowsPath('C:/Users/tg715c/Documents')"
      ]
     },
     "execution_count": 53,
     "metadata": {},
     "output_type": "execute_result"
    }
   ],
   "source": [
    "Path.cwd().parents[1]"
   ]
  },
  {
   "cell_type": "code",
   "execution_count": 54,
   "id": "8bd92a20-e25f-4502-b61b-992bc9b551fe",
   "metadata": {},
   "outputs": [
    {
     "data": {
      "text/plain": [
       "WindowsPath('C:/Users/tg715c')"
      ]
     },
     "execution_count": 54,
     "metadata": {},
     "output_type": "execute_result"
    }
   ],
   "source": [
    "Path.cwd().parents[2]"
   ]
  },
  {
   "cell_type": "code",
   "execution_count": 55,
   "id": "384c2509-025b-4120-9caf-06b382d6f25a",
   "metadata": {},
   "outputs": [
    {
     "data": {
      "text/plain": [
       "WindowsPath('C:/Users')"
      ]
     },
     "execution_count": 55,
     "metadata": {},
     "output_type": "execute_result"
    }
   ],
   "source": [
    "Path.cwd().parents[3]"
   ]
  },
  {
   "cell_type": "code",
   "execution_count": 56,
   "id": "864ec850-dc75-4b70-8826-8ae489c28da9",
   "metadata": {},
   "outputs": [
    {
     "data": {
      "text/plain": [
       "WindowsPath('C:/')"
      ]
     },
     "execution_count": 56,
     "metadata": {},
     "output_type": "execute_result"
    }
   ],
   "source": [
    "Path.cwd().parents[4]"
   ]
  },
  {
   "cell_type": "code",
   "execution_count": 60,
   "id": "5db4691f-295f-4e8b-b9d2-84c80c5de905",
   "metadata": {},
   "outputs": [
    {
     "data": {
      "text/plain": [
       "5"
      ]
     },
     "execution_count": 60,
     "metadata": {},
     "output_type": "execute_result"
    }
   ],
   "source": [
    "len(Path.cwd().parents)"
   ]
  },
  {
   "cell_type": "code",
   "execution_count": 62,
   "id": "0a151618-ad04-4d01-8447-9421b23d6bbb",
   "metadata": {},
   "outputs": [
    {
     "data": {
      "text/plain": [
       "WindowsPath('C:/')"
      ]
     },
     "execution_count": 62,
     "metadata": {},
     "output_type": "execute_result"
    }
   ],
   "source": [
    "Path.cwd().parents[len(Path.cwd().parents)-1]"
   ]
  },
  {
   "cell_type": "markdown",
   "id": "3a242c2b-eef8-4e58-9d81-7d623f7fe6c8",
   "metadata": {},
   "source": [
    "The older `os.path` module also has similar functions for getting the different parts of a `path` written in a string value. Calling `os.path.dirname(path)` will return a string of everything that comes before the last slash in the path argument. Calling `os.path.basename(path)` will return a string of everything that comes after the last slash in the path argument. "
   ]
  },
  {
   "attachments": {
    "1cad3d49-c779-4243-b26f-bc09ffd0b6cc.png": {
     "image/png": "[encoded data removed]"
    }
   },
   "cell_type": "markdown",
   "id": "b63ef36e-2689-4017-8e2b-d15f0c08b0be",
   "metadata": {},
   "source": [
    "![image.png](attachment:1cad3d49-c779-4243-b26f-bc09ffd0b6cc.png)"
   ]
  },
  {
   "cell_type": "code",
   "execution_count": 63,
   "id": "4def494c-6165-4529-be14-f81f57f12bd4",
   "metadata": {},
   "outputs": [],
   "source": [
    "calcFilePath = 'C:\\\\Windows\\\\System32\\\\calc.exe'"
   ]
  },
  {
   "cell_type": "code",
   "execution_count": 64,
   "id": "cda114f4-3365-46aa-a5ab-4e93739c4396",
   "metadata": {},
   "outputs": [
    {
     "data": {
      "text/plain": [
       "'calc.exe'"
      ]
     },
     "execution_count": 64,
     "metadata": {},
     "output_type": "execute_result"
    }
   ],
   "source": [
    "os.path.basename(calcFilePath)"
   ]
  },
  {
   "cell_type": "code",
   "execution_count": 65,
   "id": "91ca11d3-aaa7-4e06-9821-4e4ed2024f3a",
   "metadata": {},
   "outputs": [
    {
     "data": {
      "text/plain": [
       "'C:\\\\Windows\\\\System32'"
      ]
     },
     "execution_count": 65,
     "metadata": {},
     "output_type": "execute_result"
    }
   ],
   "source": [
    "os.path.dirname(calcFilePath)"
   ]
  },
  {
   "cell_type": "markdown",
   "id": "a0c028a1-61fb-4151-bb8a-cd39d0a8ea3c",
   "metadata": {},
   "source": [
    "If you need a path’s dir name and base name together, you can just call `os.path.split()` to get a tuple value with these two strings."
   ]
  },
  {
   "cell_type": "code",
   "execution_count": 66,
   "id": "31bb41ec-cebb-4c9a-8a82-f2969f00524e",
   "metadata": {},
   "outputs": [
    {
     "data": {
      "text/plain": [
       "('C:\\\\Windows\\\\System32', 'calc.exe')"
      ]
     },
     "execution_count": 66,
     "metadata": {},
     "output_type": "execute_result"
    }
   ],
   "source": [
    "os.path.split(calcFilePath)"
   ]
  },
  {
   "cell_type": "markdown",
   "id": "a514e591-10ab-4660-a0e4-29c613b09543",
   "metadata": {},
   "source": [
    "Also, note that `os.path.split()` does not take a file path and return a list of strings of each folder. For that, use the `split()` string method and split on the string in `os.sep`. (Note that `sep` is in `os`, not `os.path`.) The `os.sep` variable is set to the correct folder-separating slash for the computer running the program, '\\\\' on Windows and '/' on macOS and Linux, and splitting on it will return a list of the individual folders."
   ]
  },
  {
   "cell_type": "code",
   "execution_count": 67,
   "id": "2f008ffc-9cec-42c6-b0eb-42e1132039a3",
   "metadata": {},
   "outputs": [
    {
     "data": {
      "text/plain": [
       "['C:', 'Windows', 'System32', 'calc.exe']"
      ]
     },
     "execution_count": 67,
     "metadata": {},
     "output_type": "execute_result"
    }
   ],
   "source": [
    "calcFilePath.split(os.sep)"
   ]
  },
  {
   "cell_type": "markdown",
   "id": "cbe66067-1e3c-41af-ac18-22ca659fe11f",
   "metadata": {},
   "source": [
    "## Finding File Sizes and Folder Contents"
   ]
  },
  {
   "cell_type": "markdown",
   "id": "38a3e78e-fca1-49d4-b871-4c2de20301b3",
   "metadata": {},
   "source": [
    "Once you have ways of handling file paths, you can then start gathering information about specific files and folders. The `os.path` module provides functions for finding the size of a file in bytes and the files and folders inside a given folder.\n",
    "\n",
    "* Calling `os.path.getsize(path)` will return the size in bytes of the file in the path argument.\n",
    "* Calling `os.listdir(path)` will return a list of filename strings for each file in the path argument. (Note that this function is in the os module, not `os.path`.)"
   ]
  },
  {
   "cell_type": "code",
   "execution_count": 73,
   "id": "f0965760-7127-45aa-9043-00faa881126b",
   "metadata": {},
   "outputs": [
    {
     "data": {
      "text/plain": [
       "27648"
      ]
     },
     "execution_count": 73,
     "metadata": {},
     "output_type": "execute_result"
    }
   ],
   "source": [
    "os.path.getsize('C:\\\\Windows\\\\System32\\\\calc.exe')"
   ]
  },
  {
   "cell_type": "code",
   "execution_count": 1,
   "id": "39a6a7f6-6b10-4cc2-8193-c76989abe7d3",
   "metadata": {},
   "outputs": [],
   "source": [
    "# os.listdir('C:\\\\Windows\\\\System32')"
   ]
  },
  {
   "cell_type": "markdown",
   "id": "85095952-1ae8-4dde-a04d-ad275ea09797",
   "metadata": {},
   "source": [
    "If I want to find the total size of all the files in this directory, I can use `os.path.getsize()` and `os.listdir()` together."
   ]
  },
  {
   "cell_type": "code",
   "execution_count": 70,
   "id": "22a6f5bc-efb8-4d7c-aeaa-63e962a4f6d0",
   "metadata": {},
   "outputs": [],
   "source": [
    "totalSize = 0"
   ]
  },
  {
   "cell_type": "code",
   "execution_count": 71,
   "id": "d2190f28-d73e-4a39-9297-8bc86842a1f3",
   "metadata": {},
   "outputs": [],
   "source": [
    "for filename in os.listdir('C:\\\\Windows\\\\System32'):\n",
    "      totalSize = totalSize + os.path.getsize(os.path.join('C:\\\\Windows\\\\System32', filename))"
   ]
  },
  {
   "cell_type": "code",
   "execution_count": 72,
   "id": "19be3bee-27bc-4712-82dd-8349005a6247",
   "metadata": {},
   "outputs": [
    {
     "name": "stdout",
     "output_type": "stream",
     "text": [
      "2317524560\n"
     ]
    }
   ],
   "source": [
    "print(totalSize)"
   ]
  },
  {
   "cell_type": "markdown",
   "id": "ed61f9e6-af55-4ad3-a2fc-7b91d90a6cfd",
   "metadata": {},
   "source": [
    "## Modifying a List of Files Using Glob Patterns"
   ]
  },
  {
   "cell_type": "markdown",
   "id": "b0849eb5-6571-4c5a-9e26-171aa2b9d0eb",
   "metadata": {},
   "source": [
    "If you want to work on specific files, the `glob()` method is simpler to use than `listdir()`. Path objects have a `glob()` method for listing the contents of a folder according to a glob pattern. Glob patterns are like a simplified form of regular expressions often used in command line commands. The `glob()` method returns a generator object (which are beyond the scope of this book) that you’ll need to pass to `list()` to easily view in the interactive shell:"
   ]
  },
  {
   "cell_type": "code",
   "execution_count": 77,
   "id": "53df8194-0f68-430e-ae97-b6c02a1dfeb2",
   "metadata": {},
   "outputs": [],
   "source": [
    "p = Path().cwd()"
   ]
  },
  {
   "cell_type": "code",
   "execution_count": 78,
   "id": "9fabdfcb-f013-4fa1-ae5e-cc52b3c226da",
   "metadata": {},
   "outputs": [
    {
     "data": {
      "text/plain": [
       "<generator object Path.glob at 0x000002954CDBFBC0>"
      ]
     },
     "execution_count": 78,
     "metadata": {},
     "output_type": "execute_result"
    }
   ],
   "source": [
    "p.glob('*')"
   ]
  },
  {
   "cell_type": "code",
   "execution_count": 79,
   "id": "9441fd43-2742-43c2-9254-0b94b5e1812f",
   "metadata": {},
   "outputs": [
    {
     "data": {
      "text/plain": [
       "[WindowsPath('C:/Users/tg715c/Documents/Python Scripts/automate-stuff/.git'),\n",
       " WindowsPath('C:/Users/tg715c/Documents/Python Scripts/automate-stuff/.gitignore'),\n",
       " WindowsPath('C:/Users/tg715c/Documents/Python Scripts/automate-stuff/.idea'),\n",
       " WindowsPath('C:/Users/tg715c/Documents/Python Scripts/automate-stuff/.ipynb_checkpoints'),\n",
       " WindowsPath('C:/Users/tg715c/Documents/Python Scripts/automate-stuff/.vscode'),\n",
       " WindowsPath('C:/Users/tg715c/Documents/Python Scripts/automate-stuff/07-Pattern Matching with Regular Expressions.ipynb'),\n",
       " WindowsPath('C:/Users/tg715c/Documents/Python Scripts/automate-stuff/08-Input Validation.ipynb'),\n",
       " WindowsPath('C:/Users/tg715c/Documents/Python Scripts/automate-stuff/09-Reading and Writing Files.ipynb'),\n",
       " WindowsPath('C:/Users/tg715c/Documents/Python Scripts/automate-stuff/13-Working With Excel Spreadsheets.ipynb'),\n",
       " WindowsPath('C:/Users/tg715c/Documents/Python Scripts/automate-stuff/15-Working with PDF and Word Documents.ipynb'),\n",
       " WindowsPath('C:/Users/tg715c/Documents/Python Scripts/automate-stuff/16-Working with CSV Files and JSON Data.ipynb'),\n",
       " WindowsPath('C:/Users/tg715c/Documents/Python Scripts/automate-stuff/automate_online-materials'),\n",
       " WindowsPath('C:/Users/tg715c/Documents/Python Scripts/automate-stuff/census_data.py'),\n",
       " WindowsPath('C:/Users/tg715c/Documents/Python Scripts/automate-stuff/combine_pdfs.py'),\n",
       " WindowsPath('C:/Users/tg715c/Documents/Python Scripts/automate-stuff/get_open_weather.py'),\n",
       " WindowsPath('C:/Users/tg715c/Documents/Python Scripts/automate-stuff/multiplication_quiz.py'),\n",
       " WindowsPath('C:/Users/tg715c/Documents/Python Scripts/automate-stuff/multiplication_table.py'),\n",
       " WindowsPath('C:/Users/tg715c/Documents/Python Scripts/automate-stuff/pdf_paranoia.py'),\n",
       " WindowsPath('C:/Users/tg715c/Documents/Python Scripts/automate-stuff/README.md'),\n",
       " WindowsPath('C:/Users/tg715c/Documents/Python Scripts/automate-stuff/requirements.txt'),\n",
       " WindowsPath('C:/Users/tg715c/Documents/Python Scripts/automate-stuff/row_inserter.py'),\n",
       " WindowsPath('C:/Users/tg715c/Documents/Python Scripts/automate-stuff/sandwich_shop.py'),\n",
       " WindowsPath('C:/Users/tg715c/Documents/Python Scripts/automate-stuff/spreadsheet_inverter.py'),\n",
       " WindowsPath('C:/Users/tg715c/Documents/Python Scripts/automate-stuff/update_produce.py'),\n",
       " WindowsPath('C:/Users/tg715c/Documents/Python Scripts/automate-stuff/venv'),\n",
       " WindowsPath('C:/Users/tg715c/Documents/Python Scripts/automate-stuff/__pycache__')]"
      ]
     },
     "execution_count": 79,
     "metadata": {},
     "output_type": "execute_result"
    }
   ],
   "source": [
    "list(p.glob('*')) "
   ]
  },
  {
   "cell_type": "markdown",
   "id": "58942ca3-f226-4538-9c9d-49ea5c1e9777",
   "metadata": {},
   "source": [
    "he asterisk (`*`) stands for “multiple of any characters,” so `p.glob('*')` returns a generator of all files in the path stored in `p`."
   ]
  },
  {
   "cell_type": "markdown",
   "id": "7216c15c-a2e6-4828-80a5-e436251dd460",
   "metadata": {},
   "source": [
    "Like with regexes, you can create complex expressions:"
   ]
  },
  {
   "cell_type": "code",
   "execution_count": 81,
   "id": "00899e47-60c0-466a-a930-7e2f18fa600b",
   "metadata": {},
   "outputs": [
    {
     "data": {
      "text/plain": [
       "[WindowsPath('C:/Users/tg715c/Documents/Python Scripts/automate-stuff/requirements.txt')]"
      ]
     },
     "execution_count": 81,
     "metadata": {},
     "output_type": "execute_result"
    }
   ],
   "source": [
    "list(p.glob('*.txt'))"
   ]
  },
  {
   "cell_type": "markdown",
   "id": "e4a01ade-25eb-4e46-bd09-a9e10de9cfb9",
   "metadata": {},
   "source": [
    "he glob pattern '*.txt' will return files that start with any combination of characters as long as it ends with the string '.txt', which is the text file extension.\n",
    "\n",
    "In contrast with the asterisk, the question mark (?) stands for any single character:"
   ]
  },
  {
   "cell_type": "code",
   "execution_count": 84,
   "id": "f74ef31f-8094-438f-8af2-3f313d8f34fb",
   "metadata": {},
   "outputs": [
    {
     "data": {
      "text/plain": [
       "[]"
      ]
     },
     "execution_count": 84,
     "metadata": {},
     "output_type": "execute_result"
    }
   ],
   "source": [
    "list(p.glob('project?.docx'))"
   ]
  },
  {
   "cell_type": "markdown",
   "id": "02915dc5-e778-4c3c-98fc-7e37c874722c",
   "metadata": {},
   "source": [
    "The glob expression 'project?.docx' will return 'project1.docx' or 'project5.docx', but it will not return 'project10.docx', because ? only matches to one character—so it will not match to the two-character string '10'."
   ]
  },
  {
   "cell_type": "markdown",
   "id": "9f8ff9d8-2e0a-407f-98ae-b24f9bffc5ae",
   "metadata": {},
   "source": [
    "Finally, you can also combine the asterisk and question mark to create even more complex glob expressions, like this:"
   ]
  },
  {
   "cell_type": "code",
   "execution_count": 85,
   "id": "f95ad418-5fb4-4257-82f3-3d41a10710d2",
   "metadata": {},
   "outputs": [
    {
     "data": {
      "text/plain": [
       "[WindowsPath('C:/Users/tg715c/Documents/Python Scripts/automate-stuff/requirements.txt')]"
      ]
     },
     "execution_count": 85,
     "metadata": {},
     "output_type": "execute_result"
    }
   ],
   "source": [
    " list(p.glob('*.?x?'))"
   ]
  },
  {
   "cell_type": "markdown",
   "id": "d4c231e3-0ac1-477b-bdb8-cf302b03d3c9",
   "metadata": {},
   "source": [
    "The glob expression '*.?x?' will return files with any name and any three-character extension where the middle character is an 'x'."
   ]
  },
  {
   "cell_type": "markdown",
   "id": "b93ed0d9-bfea-4572-a432-5d37905dd8c0",
   "metadata": {},
   "source": [
    "By picking out files with specific attributes, the `glob()` method lets you easily specify the files in a directory you want to perform some operation on. You can use a for loop to iterate over the generator that `glob()` returns:"
   ]
  },
  {
   "cell_type": "code",
   "execution_count": 86,
   "id": "7e0d848e-2214-4b28-bb92-0272effb9b8e",
   "metadata": {},
   "outputs": [
    {
     "name": "stdout",
     "output_type": "stream",
     "text": [
      "C:\\Users\\tg715c\\Documents\\Python Scripts\\automate-stuff\\requirements.txt\n"
     ]
    }
   ],
   "source": [
    "for textFilePathObj in p.glob('*.txt'):\n",
    "    print(textFilePathObj) # Prints the Path object as a string."
   ]
  },
  {
   "cell_type": "markdown",
   "id": "81d752da-1232-453b-8809-7d03e027a994",
   "metadata": {},
   "source": [
    "## Checking Path Validity"
   ]
  },
  {
   "cell_type": "markdown",
   "id": "62b8c5d4-a283-40c3-b383-e51b7f4fd42b",
   "metadata": {},
   "source": [
    "Many Python functions will crash with an error if you supply them with a path that does not exist. Luckily, `Path` objects have methods to check whether a given path exists and whether it is a file or folder. Assuming that a variable `p` holds a `Path `object, you could expect the following:\n",
    "\n",
    "* Calling `p.exists()` returns True if the path exists or returns False if it doesn’t exist.\n",
    "* Calling `p.is_file()` returns True if the path exists and is a file, or returns False otherwise.\n",
    "* Calling `p.is_dir()` returns True if the path exists and is a directory, or returns False otherwise."
   ]
  },
  {
   "cell_type": "code",
   "execution_count": 87,
   "id": "5c2d357b-9d7f-4db7-b49b-94ae561d3a61",
   "metadata": {},
   "outputs": [],
   "source": [
    "winDir = Path('C:/Windows')\n",
    "notExistsDir = Path('C:/This/Folder/Does/Not/Exist')\n",
    "calcFile = Path('C:/Windows/System32/calc.exe')"
   ]
  },
  {
   "cell_type": "code",
   "execution_count": 88,
   "id": "45c77a5a-d2cd-4a15-b889-b43f49bd4e92",
   "metadata": {},
   "outputs": [
    {
     "data": {
      "text/plain": [
       "True"
      ]
     },
     "execution_count": 88,
     "metadata": {},
     "output_type": "execute_result"
    }
   ],
   "source": [
    "winDir.exists()"
   ]
  },
  {
   "cell_type": "code",
   "execution_count": 89,
   "id": "0aa3646c-b1af-49ba-8928-6e4b9ba28238",
   "metadata": {},
   "outputs": [
    {
     "data": {
      "text/plain": [
       "True"
      ]
     },
     "execution_count": 89,
     "metadata": {},
     "output_type": "execute_result"
    }
   ],
   "source": [
    "winDir.is_dir()"
   ]
  },
  {
   "cell_type": "code",
   "execution_count": 90,
   "id": "c7c1d346-7041-48fe-82fc-0ccf8a80b4c1",
   "metadata": {},
   "outputs": [
    {
     "data": {
      "text/plain": [
       "False"
      ]
     },
     "execution_count": 90,
     "metadata": {},
     "output_type": "execute_result"
    }
   ],
   "source": [
    "notExistsDir.exists()"
   ]
  },
  {
   "cell_type": "code",
   "execution_count": 91,
   "id": "0f568a72-d874-4f16-a922-cf80a0cdab97",
   "metadata": {},
   "outputs": [
    {
     "data": {
      "text/plain": [
       "True"
      ]
     },
     "execution_count": 91,
     "metadata": {},
     "output_type": "execute_result"
    }
   ],
   "source": [
    "calcFile.is_file()"
   ]
  },
  {
   "cell_type": "code",
   "execution_count": 92,
   "id": "13f1e0e5-3b5e-484c-8d48-fe7c86b589d1",
   "metadata": {},
   "outputs": [
    {
     "data": {
      "text/plain": [
       "False"
      ]
     },
     "execution_count": 92,
     "metadata": {},
     "output_type": "execute_result"
    }
   ],
   "source": [
    "calcFile.is_dir()"
   ]
  },
  {
   "cell_type": "markdown",
   "id": "f4280890-d065-4ebb-af0c-b36825ccd89c",
   "metadata": {},
   "source": [
    "You can determine whether there is a DVD or flash drive currently attached to the computer by checking for it with the `exists()` method. For instance, if I wanted to check for a flash drive with the volume named `D:\\` on my Windows computer, I could do that with the following:"
   ]
  },
  {
   "cell_type": "code",
   "execution_count": 93,
   "id": "d66bec2c-4583-4a53-a817-f7ff84455748",
   "metadata": {},
   "outputs": [
    {
     "data": {
      "text/plain": [
       "False"
      ]
     },
     "execution_count": 93,
     "metadata": {},
     "output_type": "execute_result"
    }
   ],
   "source": [
    "dDrive = Path('D:/')\n",
    "dDrive.exists()"
   ]
  },
  {
   "cell_type": "markdown",
   "id": "472ec581-6039-4e5a-805e-92def8579a17",
   "metadata": {},
   "source": [
    "The older `os.path` module can accomplish the same task with the `os.path.exists(path)`, `os.path.isfile(path)`, and `os.path.isdir(path)` functions, which act just like their Path function counterparts. As of Python 3.6, these functions can accept Path objects as well as strings of the file paths."
   ]
  },
  {
   "cell_type": "markdown",
   "id": "f271b5a6-4a0c-41c3-88e7-973a1199e6fb",
   "metadata": {},
   "source": [
    "## The File Reading/Writing Process"
   ]
  },
  {
   "cell_type": "markdown",
   "id": "b88b19ee-2156-4c66-8235-af56cb4adc8e",
   "metadata": {},
   "source": [
    "Fortunately, many modules make working with binary files easier—you will explore one of them, the shelve module, later in this chapter. The `pathlib` module’s `read_text()` method returns a string of the full contents of a text file. Its `write_text()` method creates a new text file (or overwrites an existing one) with the string passed to it. Enter the following into the interactive shell"
   ]
  },
  {
   "cell_type": "code",
   "execution_count": 96,
   "id": "c35af543-599d-452a-af23-375e9085988d",
   "metadata": {},
   "outputs": [],
   "source": [
    "from pathlib import Path\n",
    "p = Path().cwd() / 'automate_online-materials' / Path('spam.txt')"
   ]
  },
  {
   "cell_type": "code",
   "execution_count": 97,
   "id": "935d1a08-c67e-4a41-8e7b-715c12686a3e",
   "metadata": {},
   "outputs": [
    {
     "name": "stdout",
     "output_type": "stream",
     "text": [
      "C:\\Users\\tg715c\\Documents\\Python Scripts\\automate-stuff\\automate_online-materials\\spam.txt\n"
     ]
    }
   ],
   "source": [
    "print(p)"
   ]
  },
  {
   "cell_type": "code",
   "execution_count": 98,
   "id": "78f16e59-9808-4670-8389-632076009ea9",
   "metadata": {},
   "outputs": [
    {
     "data": {
      "text/plain": [
       "13"
      ]
     },
     "execution_count": 98,
     "metadata": {},
     "output_type": "execute_result"
    }
   ],
   "source": [
    "p.write_text('Hello, world!')"
   ]
  },
  {
   "cell_type": "markdown",
   "id": "162cf336-7e51-4189-80bc-8ed9c660f587",
   "metadata": {},
   "source": [
    "The `13` that `write_text()` returns indicates that 13 characters were written to the file. (You can often disregard this information.)"
   ]
  },
  {
   "cell_type": "code",
   "execution_count": 99,
   "id": "8c35ca88-a840-4ec7-ab7f-efda73ad00c9",
   "metadata": {},
   "outputs": [
    {
     "data": {
      "text/plain": [
       "'Hello, world!'"
      ]
     },
     "execution_count": 99,
     "metadata": {},
     "output_type": "execute_result"
    }
   ],
   "source": [
    "p.read_text()"
   ]
  },
  {
   "cell_type": "markdown",
   "id": "8051ef93-68b0-4d1b-952b-39dfe6db54d5",
   "metadata": {},
   "source": [
    "Keep in mind that these `Path` object methods only provide basic interactions with files. The more common way of writing to a file involves using the `open()` function and file objects. There are three steps to reading or writing files in Python:\n",
    "\n",
    "1. Call the `open()` function to return a File object.\n",
    "2. Call the `read()` or `write()` method on the File object.\n",
    "3. Close the file by calling the `close()` method on the File object.\n",
    "\n",
    "We’ll go over these steps in the following sections."
   ]
  },
  {
   "cell_type": "markdown",
   "id": "abf7cb8a-80ba-4102-afc6-68966ca3cd4c",
   "metadata": {},
   "source": [
    "## Opening Files with the `open()` Function"
   ]
  },
  {
   "cell_type": "markdown",
   "id": "87e8ed05-4d9f-409c-9c87-ad7c68c4bace",
   "metadata": {},
   "source": [
    "To open a file with the `open()` function, you pass it a string path indicating the file you want to open; it can be either an absolute or relative path. The `open()` function returns a `File` object."
   ]
  },
  {
   "cell_type": "code",
   "execution_count": 10,
   "id": "16648d73-7f2d-411f-8835-6e21c5acb7d9",
   "metadata": {},
   "outputs": [],
   "source": [
    "p = Path().cwd() / 'automate_online-materials' / 'hello_world.txt'"
   ]
  },
  {
   "cell_type": "code",
   "execution_count": 11,
   "id": "7e87d929-10e0-41d4-9e56-4a04f9ff1b3b",
   "metadata": {},
   "outputs": [],
   "source": [
    "hello_file = open(p)"
   ]
  },
  {
   "cell_type": "markdown",
   "id": "66807ff0-6aca-49df-b3b2-fafdb4e180ff",
   "metadata": {},
   "source": [
    "The call to `open()` returns a `File` object. A `File` object represents a file on your computer; it is simply another type of value in Python, much like the lists and dictionaries you’re already familiar with. In the previous example, you stored the `File` object in the variable `hello_file`. Now, whenever you want to read from or write to the file, you can do so by calling methods on the `File` object in `hello_file`."
   ]
  },
  {
   "cell_type": "markdown",
   "id": "0081a718-3be0-49c4-91a3-38af60ce9f5c",
   "metadata": {},
   "source": [
    "## Reading the Contents of Files"
   ]
  },
  {
   "cell_type": "markdown",
   "id": "00c52dc2-1d05-4768-b97e-d63907c2caa4",
   "metadata": {},
   "source": [
    "If you want to read the entire contents of a file as a string value, use the `File` object’s `read()` method."
   ]
  },
  {
   "cell_type": "code",
   "execution_count": 12,
   "id": "e1e356a1-77d1-496b-9671-4d8f1b91dc75",
   "metadata": {},
   "outputs": [],
   "source": [
    "hello_content = hello_file.read()"
   ]
  },
  {
   "cell_type": "code",
   "execution_count": 13,
   "id": "7ce66866-d8aa-4de9-b176-7575ca0b9f3b",
   "metadata": {},
   "outputs": [
    {
     "data": {
      "text/plain": [
       "'Hello, world!'"
      ]
     },
     "execution_count": 13,
     "metadata": {},
     "output_type": "execute_result"
    }
   ],
   "source": [
    "hello_content"
   ]
  },
  {
   "cell_type": "markdown",
   "id": "c765e7cf-1bde-470a-9398-b8f468342f73",
   "metadata": {},
   "source": [
    "If you think of the contents of a file as a single large string value, the` read()` method returns the string that is stored in the file.\n",
    "\n",
    "Alternatively, you can use the `readlines()` method to get a list of string values from the file, one string for each line of text. "
   ]
  },
  {
   "cell_type": "code",
   "execution_count": 17,
   "id": "7310fa9e-ef22-403d-adbe-d813750e0280",
   "metadata": {},
   "outputs": [],
   "source": [
    "sonnet_file = open(Path().cwd() / 'automate_online-materials' / 'sonnet_29.txt')"
   ]
  },
  {
   "cell_type": "code",
   "execution_count": 18,
   "id": "6ae98127-9cee-4638-8e48-e1176dd619ba",
   "metadata": {},
   "outputs": [
    {
     "data": {
      "text/plain": [
       "['\\n',\n",
       " \"When, in disgrace with fortune and men's eyes,\\n\",\n",
       " 'I all alone beweep my outcast state,\\n',\n",
       " 'And trouble deaf heaven with my bootless cries,\\n',\n",
       " 'And look upon myself and curse my fate,']"
      ]
     },
     "execution_count": 18,
     "metadata": {},
     "output_type": "execute_result"
    }
   ],
   "source": [
    "sonnet_file.readlines()"
   ]
  },
  {
   "cell_type": "markdown",
   "id": "a0915a8c-43f0-4614-bd68-fb18fa4410aa",
   "metadata": {},
   "source": [
    "## Writing to Files"
   ]
  },
  {
   "cell_type": "markdown",
   "id": "b721350e-db11-4a3c-8524-e049790853b5",
   "metadata": {},
   "source": [
    "Write mode will overwrite the existing file and start from scratch, just like when you overwrite a variable’s value with a new value. Pass `'w'` as the second argument to `open()` to open the file in write mode. Append mode, on the other hand, will append text to the end of the existing file. You can think of this as appending to a list in a variable, rather than overwriting the variable altogether. Pass `'a'` as the second argument to `open()` to open the file in append mode.\n",
    "\n",
    "If the filename passed to `open()` does not exist, both write and append mode will create a new, blank file. After reading or writing a file, call the `close()` method before opening the file again."
   ]
  },
  {
   "cell_type": "code",
   "execution_count": 32,
   "id": "6dad4857-c542-48f2-b8cf-a02e5d2feb45",
   "metadata": {},
   "outputs": [],
   "source": [
    "bacon_file = open('automate_online-materials\\\\bacon.txt', 'w')"
   ]
  },
  {
   "cell_type": "code",
   "execution_count": 33,
   "id": "b37c0406-f7a1-4686-8b09-d23bc4fc46e6",
   "metadata": {},
   "outputs": [
    {
     "data": {
      "text/plain": [
       "14"
      ]
     },
     "execution_count": 33,
     "metadata": {},
     "output_type": "execute_result"
    }
   ],
   "source": [
    "bacon_file.write('Hello, world!\\n')"
   ]
  },
  {
   "cell_type": "code",
   "execution_count": 34,
   "id": "5d896ab0-4b33-449f-b268-2342c38eb209",
   "metadata": {},
   "outputs": [],
   "source": [
    "bacon_file.close()"
   ]
  },
  {
   "cell_type": "code",
   "execution_count": 35,
   "id": "3c5f2c89-f787-4d83-a912-9d8c60a383ef",
   "metadata": {},
   "outputs": [],
   "source": [
    "bacon_file = open('automate_online-materials\\\\bacon.txt', 'a')"
   ]
  },
  {
   "cell_type": "code",
   "execution_count": 36,
   "id": "98833e17-3e2e-48b2-8e6a-70fa4aefba92",
   "metadata": {},
   "outputs": [
    {
     "data": {
      "text/plain": [
       "25"
      ]
     },
     "execution_count": 36,
     "metadata": {},
     "output_type": "execute_result"
    }
   ],
   "source": [
    "bacon_file.write('Bacon is not a vegetable.')"
   ]
  },
  {
   "cell_type": "code",
   "execution_count": 37,
   "id": "f5af2d3f-c38f-4037-ab08-e6d4f49de28b",
   "metadata": {},
   "outputs": [],
   "source": [
    "bacon_file.close()"
   ]
  },
  {
   "cell_type": "code",
   "execution_count": 38,
   "id": "a0c1273a-3a3c-4e15-933c-705696b5621a",
   "metadata": {},
   "outputs": [],
   "source": [
    "bacon_file = open('automate_online-materials\\\\bacon.txt')"
   ]
  },
  {
   "cell_type": "code",
   "execution_count": 39,
   "id": "a248420b-d6c7-42f3-8cc9-30b5e45647aa",
   "metadata": {},
   "outputs": [],
   "source": [
    "content = bacon_file.read()"
   ]
  },
  {
   "cell_type": "code",
   "execution_count": 40,
   "id": "82168989-66d7-46f7-a79d-529b805841a4",
   "metadata": {},
   "outputs": [],
   "source": [
    "bacon_file.close()"
   ]
  },
  {
   "cell_type": "code",
   "execution_count": 41,
   "id": "6dce311d-791f-4326-b94c-6ffd84a8e4a8",
   "metadata": {},
   "outputs": [
    {
     "name": "stdout",
     "output_type": "stream",
     "text": [
      "Hello, world!\n",
      "Bacon is not a vegetable.\n"
     ]
    }
   ],
   "source": [
    "print(content)"
   ]
  },
  {
   "cell_type": "markdown",
   "id": "7b04356c-b265-4663-bcc7-7313c33ea548",
   "metadata": {},
   "source": [
    "Note that the `write()` method does not automatically add a newline character to the end of the string like the `print()` function does. You will have to add this character yourself.\n",
    "\n",
    "As of Python 3.6, you can also pass a Path object to the `open()` function instead of a string for the filename."
   ]
  },
  {
   "cell_type": "markdown",
   "id": "1406f5b8-afb5-46fa-909b-cfe5cdd40b2d",
   "metadata": {},
   "source": [
    "## Saving Variables with the `shelve` Module"
   ]
  },
  {
   "cell_type": "markdown",
   "id": "c8791367-69ce-4936-8ec9-9bb2aa8c9e7e",
   "metadata": {},
   "source": [
    "You can save variables in your Python programs to binary shelf files using the `shelve` module. This way, your program can restore data to variables from the hard drive. The `shelve` module will let you add Save and Open features to your program. For example, if you ran a program and entered some configuration settings, you could save those settings to a shelf file and then have the program load them the next time it is run."
   ]
  },
  {
   "cell_type": "code",
   "execution_count": 47,
   "id": "a774e47e-6d4a-4027-80c6-28f22020bc1b",
   "metadata": {},
   "outputs": [],
   "source": [
    "import shelve\n",
    "shelf_file = shelve.open('automate_online-materials\\\\my_data')"
   ]
  },
  {
   "cell_type": "code",
   "execution_count": 48,
   "id": "78dd0b8d-d107-43f5-8644-50551801c0fc",
   "metadata": {},
   "outputs": [],
   "source": [
    "cats = ['Zophie', 'Pooka', 'Simson']\n",
    "dogs = ['Apollo', 'Lola', 'Austin']"
   ]
  },
  {
   "cell_type": "code",
   "execution_count": 50,
   "id": "17bfddc5-7d4d-4275-b2d5-5c1a10421c21",
   "metadata": {},
   "outputs": [],
   "source": [
    "shelf_file['cats'] = cats\n",
    "shelf_file['dogs'] = dogs"
   ]
  },
  {
   "cell_type": "code",
   "execution_count": 51,
   "id": "5929c193-8588-43ed-9ae0-dff5bc4c1f34",
   "metadata": {},
   "outputs": [],
   "source": [
    "shelf_file.close()"
   ]
  },
  {
   "cell_type": "markdown",
   "id": "6dc49473-ec17-4340-afe2-0f8ed0efe7e2",
   "metadata": {},
   "source": [
    "After running the previous code on Windows, you will see three new files in the current working directory: `mydata.bak`, `mydata.dat`, and `mydata.dir`. On macOS, only a single `mydata.db` file will be created."
   ]
  },
  {
   "cell_type": "code",
   "execution_count": 54,
   "id": "77f4fc7e-1bbd-4fc7-9bd6-fb167acf70d8",
   "metadata": {},
   "outputs": [],
   "source": [
    "shelf_file = shelve.open('automate_online-materials\\\\my_data')"
   ]
  },
  {
   "cell_type": "code",
   "execution_count": 55,
   "id": "21ee828b-c8c9-406d-a89b-f75b2e0adbba",
   "metadata": {},
   "outputs": [
    {
     "data": {
      "text/plain": [
       "shelve.DbfilenameShelf"
      ]
     },
     "execution_count": 55,
     "metadata": {},
     "output_type": "execute_result"
    }
   ],
   "source": [
    "type(shelf_file)"
   ]
  },
  {
   "cell_type": "code",
   "execution_count": 56,
   "id": "3bab894f-e91e-4e8e-937a-d7e01f1a6953",
   "metadata": {},
   "outputs": [
    {
     "data": {
      "text/plain": [
       "['Zophie', 'Pooka', 'Simson']"
      ]
     },
     "execution_count": 56,
     "metadata": {},
     "output_type": "execute_result"
    }
   ],
   "source": [
    "shelf_file['cats']"
   ]
  },
  {
   "cell_type": "code",
   "execution_count": 57,
   "id": "65d2b9e9-68ef-4bfe-a5da-98bb5641a962",
   "metadata": {},
   "outputs": [
    {
     "data": {
      "text/plain": [
       "['Apollo', 'Lola', 'Austin']"
      ]
     },
     "execution_count": 57,
     "metadata": {},
     "output_type": "execute_result"
    }
   ],
   "source": [
    "shelf_file['dogs']"
   ]
  },
  {
   "cell_type": "code",
   "execution_count": 58,
   "id": "42065ebc-b1a8-4496-b813-55bf6dd2a8e1",
   "metadata": {},
   "outputs": [],
   "source": [
    "shelf_file.close()"
   ]
  },
  {
   "cell_type": "markdown",
   "id": "172502e9-c78b-4bd5-aed8-e663fe453c44",
   "metadata": {},
   "source": [
    "Just like dictionaries, shelf values have `keys()` and `values()` methods that will return list-like values of the keys and values in the shelf. Since these methods return list-like values instead of true lists, you should pass them to the `list()` function to get them in list form. "
   ]
  },
  {
   "cell_type": "code",
   "execution_count": 59,
   "id": "ff39f553-0478-4994-a652-29dd84a2b33c",
   "metadata": {},
   "outputs": [],
   "source": [
    "shelf_file = shelve.open('automate_online-materials\\\\my_data')"
   ]
  },
  {
   "cell_type": "code",
   "execution_count": 60,
   "id": "552dfbb7-f59b-4234-b0fe-0457969af579",
   "metadata": {},
   "outputs": [
    {
     "data": {
      "text/plain": [
       "['cats', 'dogs']"
      ]
     },
     "execution_count": 60,
     "metadata": {},
     "output_type": "execute_result"
    }
   ],
   "source": [
    "list(shelf_file.keys())"
   ]
  },
  {
   "cell_type": "code",
   "execution_count": 61,
   "id": "1d2d8482-0154-4019-85e5-95e42b981968",
   "metadata": {},
   "outputs": [
    {
     "data": {
      "text/plain": [
       "[['Zophie', 'Pooka', 'Simson'], ['Apollo', 'Lola', 'Austin']]"
      ]
     },
     "execution_count": 61,
     "metadata": {},
     "output_type": "execute_result"
    }
   ],
   "source": [
    "list(shelf_file.values())"
   ]
  },
  {
   "cell_type": "code",
   "execution_count": 62,
   "id": "e1e4e752-cec8-444d-934c-2eb65c6a9f66",
   "metadata": {},
   "outputs": [],
   "source": [
    "shelf_file.close()"
   ]
  },
  {
   "cell_type": "markdown",
   "id": "7ac6b797-fc80-43d7-82b2-68c16488a588",
   "metadata": {},
   "source": [
    "## Saving Variables with the `pprint.pformat()` Function"
   ]
  },
  {
   "cell_type": "markdown",
   "id": "eef195bb-c774-4e20-98f0-ba4b6fdfb3e4",
   "metadata": {},
   "source": [
    "The `pprint.pprint()` function will “pretty print” the contents of a list or dictionary to the screen, while the `pprint.pformat()` function will return this same text as a string instead of printing it. Not only is this string formatted to be easy to read, but it is also syntactically correct Python code. Say you have a dictionary stored in a variable and you want to save this variable and its contents for future use. Using `pprint.pformat()` will give you a string that you can write to a `.py` file. This file will be your very own module that you can import whenever you want to use the variable stored in it."
   ]
  },
  {
   "cell_type": "code",
   "execution_count": 81,
   "id": "bf1cc668-bc17-4f8a-a5df-8b17aad1043e",
   "metadata": {},
   "outputs": [],
   "source": [
    "import pprint"
   ]
  },
  {
   "cell_type": "code",
   "execution_count": 82,
   "id": "46a17153-c77f-4eb5-a422-55f11b9264bb",
   "metadata": {},
   "outputs": [],
   "source": [
    "cats = [{'name': 'Zophie', 'desc': 'chubby'}, {'name': 'Pooka', 'desc': 'fluffy'}]"
   ]
  },
  {
   "cell_type": "code",
   "execution_count": 83,
   "id": "4fc9ecfa-058d-4315-b31e-96b0f3a3bd88",
   "metadata": {},
   "outputs": [
    {
     "data": {
      "text/plain": [
       "\"[{'desc': 'chubby', 'name': 'Zophie'}, {'desc': 'fluffy', 'name': 'Pooka'}]\""
      ]
     },
     "execution_count": 83,
     "metadata": {},
     "output_type": "execute_result"
    }
   ],
   "source": [
    "pprint.pformat(cats)"
   ]
  },
  {
   "cell_type": "code",
   "execution_count": 84,
   "id": "aff79804-eab8-429a-bd78-560f78b7431f",
   "metadata": {},
   "outputs": [],
   "source": [
    "file_obj = open('my_cats.py', 'w')"
   ]
  },
  {
   "cell_type": "code",
   "execution_count": 85,
   "id": "9422c394-8c0a-4b21-891d-b5ed2984989f",
   "metadata": {},
   "outputs": [
    {
     "data": {
      "text/plain": [
       "83"
      ]
     },
     "execution_count": 85,
     "metadata": {},
     "output_type": "execute_result"
    }
   ],
   "source": [
    "file_obj.write('cats = ' + pprint.pformat(cats) + '\\n')"
   ]
  },
  {
   "cell_type": "code",
   "execution_count": 86,
   "id": "6b284852-e7d3-4809-ac07-1ed58ddf29c9",
   "metadata": {},
   "outputs": [],
   "source": [
    "file_obj.close()"
   ]
  },
  {
   "cell_type": "markdown",
   "id": "99969c28-819f-4547-a05c-24d7975e6330",
   "metadata": {},
   "source": [
    "Here, we import `pprint` to let us use `pprint.pformat()`. We have a list of dictionaries, stored in a variable `cats`. To keep the list in `cats` available even after we close the shell, we use `pprint.pformat()` to return it as a string. Once we have the data in cats as a string, it’s easy to write the string to a file, which we’ll call `my_cats.py`.\n",
    "\n",
    "The modules that an `import` statement imports are themselves just Python scripts. When the string from `pprint.pformat()` is saved to a `.py` file, the file is a module that can be imported just like any other.\n",
    "\n",
    "And since Python scripts are themselves just text files with the `.py` file extension, your Python programs can even generate other Python programs. You can then import these files into scripts."
   ]
  },
  {
   "cell_type": "code",
   "execution_count": 87,
   "id": "f26ce317-d03a-494d-b062-280d464fd132",
   "metadata": {},
   "outputs": [],
   "source": [
    "import my_cats"
   ]
  },
  {
   "cell_type": "code",
   "execution_count": 88,
   "id": "2286fdc5-d44f-4833-b1bf-4d698937a598",
   "metadata": {},
   "outputs": [
    {
     "data": {
      "text/plain": [
       "[{'desc': 'chubby', 'name': 'Zophie'}, {'desc': 'fluffy', 'name': 'Pooka'}]"
      ]
     },
     "execution_count": 88,
     "metadata": {},
     "output_type": "execute_result"
    }
   ],
   "source": [
    "my_cats.cats"
   ]
  },
  {
   "cell_type": "code",
   "execution_count": 89,
   "id": "b8280ee3-8e7d-48af-9d91-e0c4e6edded0",
   "metadata": {},
   "outputs": [
    {
     "data": {
      "text/plain": [
       "{'desc': 'chubby', 'name': 'Zophie'}"
      ]
     },
     "execution_count": 89,
     "metadata": {},
     "output_type": "execute_result"
    }
   ],
   "source": [
    "my_cats.cats[0]"
   ]
  },
  {
   "cell_type": "code",
   "execution_count": 90,
   "id": "f91c25dd-f642-4bd8-a146-88aae777ca42",
   "metadata": {},
   "outputs": [
    {
     "data": {
      "text/plain": [
       "'Zophie'"
      ]
     },
     "execution_count": 90,
     "metadata": {},
     "output_type": "execute_result"
    }
   ],
   "source": [
    "my_cats.cats[0]['name']"
   ]
  },
  {
   "cell_type": "markdown",
   "id": "d3f67327-191e-499f-815b-403b36dac525",
   "metadata": {},
   "source": [
    "The benefit of creating a `.py` file (as opposed to saving variables with the shelve module) is that because it is a text file, the contents of the file can be read and modified by anyone with a simple text editor. For most applications, however, saving data using the shelve module is the preferred way to save variables to a file. Only basic data types such as integers, floats, strings, lists, and dictionaries can be written to a file as simple text. File objects, for example, cannot be encoded as text."
   ]
  },
  {
   "cell_type": "code",
   "execution_count": null,
   "id": "4aff8cb5-4279-42f6-a1f5-c406ee632add",
   "metadata": {},
   "outputs": [],
   "source": []
  }
 ],
 "metadata": {
  "kernelspec": {
   "display_name": "Python 3 (ipykernel)",
   "language": "python",
   "name": "python3"
  },
  "language_info": {
   "codemirror_mode": {
    "name": "ipython",
    "version": 3
   },
   "file_extension": ".py",
   "mimetype": "text/x-python",
   "name": "python",
   "nbconvert_exporter": "python",
   "pygments_lexer": "ipython3",
   "version": "3.12.1"
  }
 },
 "nbformat": 4,
 "nbformat_minor": 5
}
