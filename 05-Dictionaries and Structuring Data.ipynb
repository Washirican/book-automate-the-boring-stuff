{
 "cells": [
  {
   "cell_type": "markdown",
   "id": "f2381956-246d-4eec-b0bd-8ff25dac5456",
   "metadata": {},
   "source": [
    "## The Dictionary Data Type"
   ]
  },
  {
   "cell_type": "markdown",
   "id": "8fa33b04-3da5-43e8-bea3-0ab4869e3261",
   "metadata": {},
   "source": [
    "Like a list, a dictionary is a mutable collection of many values. But unlike indexes for lists, indexes for dictionaries can use many different data types, not just integers. Indexes for dictionaries are called keys, and a key with its associated value is called a key-value pair."
   ]
  },
  {
   "cell_type": "code",
   "execution_count": 1,
   "id": "86eb724d-4a61-4b03-87dd-34c1745e49ba",
   "metadata": {},
   "outputs": [],
   "source": [
    "myCat = {'size': 'fat', 'color': 'gray', 'disposition': 'loud'}"
   ]
  },
  {
   "cell_type": "code",
   "execution_count": 2,
   "id": "4f1b7348-462e-47d3-9118-ef0763c1cd3b",
   "metadata": {},
   "outputs": [
    {
     "data": {
      "text/plain": [
       "'fat'"
      ]
     },
     "execution_count": 2,
     "metadata": {},
     "output_type": "execute_result"
    }
   ],
   "source": [
    "myCat['size']"
   ]
  },
  {
   "cell_type": "markdown",
   "id": "56bc19e7-ebb7-4086-beed-3bcd5d766671",
   "metadata": {},
   "source": [
    "## Dictionaries vs. Lists"
   ]
  },
  {
   "cell_type": "markdown",
   "id": "51413ff0-b525-4fb7-a3b6-3dac0f6fcf5b",
   "metadata": {},
   "source": [
    "Unlike lists, items in dictionaries are unordered."
   ]
  },
  {
   "cell_type": "code",
   "execution_count": 3,
   "id": "3c676cb2-deec-4018-8313-d36d5320400e",
   "metadata": {},
   "outputs": [],
   "source": [
    "eggs = {'name': 'Zophie', 'species': 'cat', 'age': '8'}\n",
    "ham = {'species': 'cat', 'age': '8', 'name': 'Zophie'}"
   ]
  },
  {
   "cell_type": "code",
   "execution_count": 4,
   "id": "b34e1c69-32b1-4d3a-bb18-d4a83c39934e",
   "metadata": {},
   "outputs": [
    {
     "data": {
      "text/plain": [
       "True"
      ]
     },
     "execution_count": 4,
     "metadata": {},
     "output_type": "execute_result"
    }
   ],
   "source": [
    "eggs == ham"
   ]
  },
  {
   "cell_type": "markdown",
   "id": "ef19ab44-fca3-4f33-b151-525707b9e6ff",
   "metadata": {},
   "source": [
    "Because dictionaries are not ordered, they can’t be sliced like lists."
   ]
  },
  {
   "cell_type": "markdown",
   "id": "ec005f8f-75c9-491c-b71e-ce2c6a155aec",
   "metadata": {},
   "source": [
    "## The `keys()`, `values()`, and `items()` Methods"
   ]
  },
  {
   "cell_type": "markdown",
   "id": "95bc8b3a-9fd4-4b8f-aaab-75fe7dc10932",
   "metadata": {},
   "source": [
    "There are three dictionary methods that will return list-like values of the dictionary’s keys, values, or both keys and values: `keys()`, `values()`, and `items()`. The values returned by these methods are not true lists: they cannot be modified and do not have an `append()` method. But these data types (`dict_keys`, `dict_values`, and `dict_items`, respectively) can be used in for loops. "
   ]
  },
  {
   "cell_type": "code",
   "execution_count": 5,
   "id": "207b1543-253b-412d-bdd9-f18254db03de",
   "metadata": {},
   "outputs": [
    {
     "name": "stdout",
     "output_type": "stream",
     "text": [
      "red\n",
      "42\n"
     ]
    }
   ],
   "source": [
    "spam = {'color': 'red', 'age': 42}\n",
    "for v in spam.values():\n",
    "    print(v)"
   ]
  },
  {
   "cell_type": "markdown",
   "id": "231b449c-a007-4741-bf8b-53e96bddfcb6",
   "metadata": {},
   "source": [
    "If you want a true list from one of these methods, pass its list-like return value to the `list()` function. "
   ]
  },
  {
   "cell_type": "markdown",
   "id": "3af4d5d5-0c95-424e-963d-1eb06efcf7f4",
   "metadata": {},
   "source": [
    "## Checking Whether a Key or Value Exists in a Dictionary"
   ]
  },
  {
   "cell_type": "code",
   "execution_count": 7,
   "id": "551099cd-2aa1-4cd2-9081-392349096df4",
   "metadata": {},
   "outputs": [],
   "source": [
    "spam = {'name': 'Zophie', 'age': 7}"
   ]
  },
  {
   "cell_type": "code",
   "execution_count": 9,
   "id": "84383e55-6b17-451a-a1ad-816a875b509a",
   "metadata": {},
   "outputs": [
    {
     "data": {
      "text/plain": [
       "True"
      ]
     },
     "execution_count": 9,
     "metadata": {},
     "output_type": "execute_result"
    }
   ],
   "source": [
    "'name' in spam.keys()"
   ]
  },
  {
   "cell_type": "code",
   "execution_count": 15,
   "id": "009addc5-c899-489d-9f74-e51d0f4a75da",
   "metadata": {},
   "outputs": [
    {
     "data": {
      "text/plain": [
       "False"
      ]
     },
     "execution_count": 15,
     "metadata": {},
     "output_type": "execute_result"
    }
   ],
   "source": [
    "'color' in spam # same as using spam.keys()"
   ]
  },
  {
   "cell_type": "code",
   "execution_count": 13,
   "id": "25feba35-6205-49c6-aec7-e6005c1ba550",
   "metadata": {},
   "outputs": [
    {
     "data": {
      "text/plain": [
       "True"
      ]
     },
     "execution_count": 13,
     "metadata": {},
     "output_type": "execute_result"
    }
   ],
   "source": [
    "'Zophie' in spam.values()"
   ]
  },
  {
   "cell_type": "markdown",
   "id": "951cbd50-4e7f-44fd-b501-06f00c08223b",
   "metadata": {},
   "source": [
    "## The `get()` Method"
   ]
  },
  {
   "cell_type": "markdown",
   "id": "7e1c589f-d903-4305-8804-4c789d3e221a",
   "metadata": {},
   "source": [
    "It’s tedious to check whether a key exists in a dictionary before accessing that key’s value. Fortunately, dictionaries have a `get()` method that takes two arguments: the key of the value to retrieve and a fallback value to return if that key does not exist."
   ]
  },
  {
   "cell_type": "code",
   "execution_count": 17,
   "id": "c2f51a28-2b5f-45e1-ba4a-3d3794267f0a",
   "metadata": {},
   "outputs": [],
   "source": [
    "picnicItems = {'apples': 5, 'cups': 2}"
   ]
  },
  {
   "cell_type": "code",
   "execution_count": 18,
   "id": "38241dab-cb3f-4242-a52f-7b043869d696",
   "metadata": {},
   "outputs": [
    {
     "data": {
      "text/plain": [
       "'I am bringing 2 cups.'"
      ]
     },
     "execution_count": 18,
     "metadata": {},
     "output_type": "execute_result"
    }
   ],
   "source": [
    "'I am bringing ' + str(picnicItems.get('cups', 0)) + ' cups.'"
   ]
  },
  {
   "cell_type": "code",
   "execution_count": 19,
   "id": "e5519ad4-2d73-410d-a161-1d4124e36a9c",
   "metadata": {},
   "outputs": [
    {
     "data": {
      "text/plain": [
       "'I am bringing 0 eggs.'"
      ]
     },
     "execution_count": 19,
     "metadata": {},
     "output_type": "execute_result"
    }
   ],
   "source": [
    "'I am bringing ' + str(picnicItems.get('eggs', 0)) + ' eggs.'"
   ]
  },
  {
   "cell_type": "markdown",
   "id": "ea5e0dc9-2832-49d8-abbe-c7189d0586a5",
   "metadata": {},
   "source": [
    "Because there is no 'eggs' key in the picnicItems dictionary, the default value 0 is returned by the `get()` method."
   ]
  },
  {
   "cell_type": "markdown",
   "id": "25b6580e-e2cf-4114-b731-7ed0b3d885f7",
   "metadata": {},
   "source": [
    "## The `setdefault()` Method"
   ]
  },
  {
   "cell_type": "markdown",
   "id": "d69767ec-1860-4317-8c2d-20d0df2f938b",
   "metadata": {},
   "source": [
    "You’ll often have to set a value in a dictionary for a certain key only if that key does not already have a value. "
   ]
  },
  {
   "cell_type": "code",
   "execution_count": 21,
   "id": "b1e4f022-d8fb-4a55-a05a-2981b86f00f1",
   "metadata": {},
   "outputs": [],
   "source": [
    "spam = {'name': 'Pooka', 'age': 5}"
   ]
  },
  {
   "cell_type": "code",
   "execution_count": 23,
   "id": "36629ae1-2299-4175-8c1c-ca2cd44e0767",
   "metadata": {},
   "outputs": [],
   "source": [
    "if 'color' not in spam:\n",
    "    spam['color'] = 'black'"
   ]
  },
  {
   "cell_type": "code",
   "execution_count": 24,
   "id": "95112a87-3b86-4683-9621-c6ff6a4be851",
   "metadata": {},
   "outputs": [
    {
     "data": {
      "text/plain": [
       "{'name': 'Pooka', 'age': 5, 'color': 'black'}"
      ]
     },
     "execution_count": 24,
     "metadata": {},
     "output_type": "execute_result"
    }
   ],
   "source": [
    "spam"
   ]
  },
  {
   "cell_type": "markdown",
   "id": "ca211053-193e-4e92-ab90-8aa454a07a69",
   "metadata": {},
   "source": [
    "The `setdefault()` method offers a way to do this in one line of code. The first argument passed to the method is the key to check for, and the second argument is the value to set at that key if the key does not exist. If the key does exist, the `setdefault()` method returns the key’s value."
   ]
  },
  {
   "cell_type": "code",
   "execution_count": 25,
   "id": "d13defd1-4342-40ec-bf8d-73d1c8183a81",
   "metadata": {},
   "outputs": [],
   "source": [
    "spam = {'name': 'Pooka', 'age': 5}"
   ]
  },
  {
   "cell_type": "code",
   "execution_count": 26,
   "id": "787ec548-cc42-46cf-9a77-e305cf7ede26",
   "metadata": {},
   "outputs": [
    {
     "data": {
      "text/plain": [
       "'black'"
      ]
     },
     "execution_count": 26,
     "metadata": {},
     "output_type": "execute_result"
    }
   ],
   "source": [
    "spam.setdefault('color', 'black')"
   ]
  },
  {
   "cell_type": "code",
   "execution_count": 27,
   "id": "593a026b-a313-4c9d-bc9b-fbf5844226be",
   "metadata": {},
   "outputs": [
    {
     "data": {
      "text/plain": [
       "{'name': 'Pooka', 'age': 5, 'color': 'black'}"
      ]
     },
     "execution_count": 27,
     "metadata": {},
     "output_type": "execute_result"
    }
   ],
   "source": [
    "spam"
   ]
  },
  {
   "cell_type": "code",
   "execution_count": 28,
   "id": "4c91c4a2-f760-4006-8bc9-fb593041b261",
   "metadata": {},
   "outputs": [
    {
     "data": {
      "text/plain": [
       "'black'"
      ]
     },
     "execution_count": 28,
     "metadata": {},
     "output_type": "execute_result"
    }
   ],
   "source": [
    "spam.setdefault('color', 'white')"
   ]
  },
  {
   "cell_type": "code",
   "execution_count": 29,
   "id": "49b3cd95-82b0-4867-b1be-9f27cde3b8c2",
   "metadata": {},
   "outputs": [
    {
     "data": {
      "text/plain": [
       "{'name': 'Pooka', 'age': 5, 'color': 'black'}"
      ]
     },
     "execution_count": 29,
     "metadata": {},
     "output_type": "execute_result"
    }
   ],
   "source": [
    "spam"
   ]
  },
  {
   "cell_type": "markdown",
   "id": "8ce011b5-e256-4742-8c4f-90d81093c3b8",
   "metadata": {},
   "source": [
    "The first time `setdefault()` is called, the dictionary in spam changes to `{'color': 'black', 'age': 5, 'name': 'Pooka'}`. The method returns the value `'black'` because this is now the value set for the key `'color'`. When `spam.setdefault('color', 'white')` is called next, the value for that key is not changed to 'white', because spam already has a key named `'color'`.\n",
    "\n",
    "The `setdefault()` method is a nice shortcut to ensure that a key exists. "
   ]
  },
  {
   "cell_type": "markdown",
   "id": "7fbaf41e-027f-4942-9da5-59c780805ffd",
   "metadata": {},
   "source": [
    "## Pretty Printing"
   ]
  },
  {
   "cell_type": "markdown",
   "id": "767d4f3f-48b1-4ffd-819c-3ed311e44238",
   "metadata": {},
   "source": [
    "If you import the `pprint` module into your programs, you’ll have access to the `pprint()` and `pformat()` functions that will “pretty print” a dictionary’s values. This is helpful when you want a cleaner display of the items in a dictionary than what `print()` provides."
   ]
  },
  {
   "cell_type": "code",
   "execution_count": 30,
   "id": "a0d8ab22-6a8e-4e73-9047-0dbf8b01f4a1",
   "metadata": {},
   "outputs": [],
   "source": [
    "import pprint"
   ]
  },
  {
   "cell_type": "code",
   "execution_count": 31,
   "id": "e23c57d4-faf1-4053-9388-22bc0d7c6abb",
   "metadata": {},
   "outputs": [],
   "source": [
    "message = 'It was a bright cold day in April, and the clocks were striking thirteen.'"
   ]
  },
  {
   "cell_type": "code",
   "execution_count": 32,
   "id": "d1a79079-b468-45e7-a11e-021e26b10b1b",
   "metadata": {},
   "outputs": [],
   "source": [
    "count = {}"
   ]
  },
  {
   "cell_type": "code",
   "execution_count": 33,
   "id": "803db75c-1fff-416b-8354-77fd28f77fc9",
   "metadata": {},
   "outputs": [],
   "source": [
    "for character in message:\n",
    "    count.setdefault(character, 0)\n",
    "    count[character] = count[character] + 1"
   ]
  },
  {
   "cell_type": "code",
   "execution_count": 34,
   "id": "2a8ce7d2-2fbf-40b8-9662-681e49eb22c1",
   "metadata": {},
   "outputs": [
    {
     "name": "stdout",
     "output_type": "stream",
     "text": [
      "{' ': 13,\n",
      " ',': 1,\n",
      " '.': 1,\n",
      " 'A': 1,\n",
      " 'I': 1,\n",
      " 'a': 4,\n",
      " 'b': 1,\n",
      " 'c': 3,\n",
      " 'd': 3,\n",
      " 'e': 5,\n",
      " 'g': 2,\n",
      " 'h': 3,\n",
      " 'i': 6,\n",
      " 'k': 2,\n",
      " 'l': 3,\n",
      " 'n': 4,\n",
      " 'o': 2,\n",
      " 'p': 1,\n",
      " 'r': 5,\n",
      " 's': 3,\n",
      " 't': 6,\n",
      " 'w': 2,\n",
      " 'y': 1}\n"
     ]
    }
   ],
   "source": [
    "pprint.pprint(count)"
   ]
  },
  {
   "cell_type": "markdown",
   "id": "4a2230e2-0efb-4674-9ff8-d8c05a1d1793",
   "metadata": {},
   "source": [
    "The `pprint.pprint()` function is especially helpful when the dictionary itself contains nested lists or dictionaries.\n",
    "If you want to obtain the prettified text as a string value instead of displaying it on the screen, call `pprint.pformat()` instead. These two lines are equivalent to each other:"
   ]
  },
  {
   "cell_type": "code",
   "execution_count": 37,
   "id": "c9229ed5-3efa-4703-b7bc-a9cec025a179",
   "metadata": {},
   "outputs": [
    {
     "name": "stdout",
     "output_type": "stream",
     "text": [
      "{'age': 5, 'color': 'black', 'name': 'Pooka'}\n"
     ]
    }
   ],
   "source": [
    "pprint.pprint(spam)"
   ]
  },
  {
   "cell_type": "code",
   "execution_count": 38,
   "id": "59088b97-f386-455f-83ee-3bff8291b114",
   "metadata": {},
   "outputs": [
    {
     "name": "stdout",
     "output_type": "stream",
     "text": [
      "{'age': 5, 'color': 'black', 'name': 'Pooka'}\n"
     ]
    }
   ],
   "source": [
    "print(pprint.pformat(spam))"
   ]
  },
  {
   "cell_type": "markdown",
   "id": "e6a45f68-b0d7-463f-bdca-ec1c2084404b",
   "metadata": {},
   "source": [
    "## Nested Dictionaries and Lists"
   ]
  },
  {
   "cell_type": "code",
   "execution_count": 39,
   "id": "1dba0232-66c2-49f8-b86d-b846af2bdd65",
   "metadata": {},
   "outputs": [],
   "source": [
    "allGuests = {'Alice': {'apples': 5, 'pretzels': 12},\n",
    "             'Bob': {'ham sandwiches': 3, 'apples': 2},\n",
    "             'Carol': {'cups': 3, 'apple pies': 1}}"
   ]
  },
  {
   "cell_type": "code",
   "execution_count": 44,
   "id": "0d7c2216-d148-421a-b0e4-bb77330bf4b2",
   "metadata": {},
   "outputs": [],
   "source": [
    "def total_brought(guests, item):\n",
    "    num_brought = 0\n",
    "    for k, v in guests.items():\n",
    "        num_brought += v.get(item, 0)\n",
    "    return num_brought"
   ]
  },
  {
   "cell_type": "code",
   "execution_count": 48,
   "id": "704ee4d6-7c3b-4028-8ba7-c2e12a9b839a",
   "metadata": {},
   "outputs": [
    {
     "name": "stdout",
     "output_type": "stream",
     "text": [
      "Number of things being brought: \n",
      "\tApples: 7\n",
      "\tCups: 3\n",
      "\tApple Pies: 1\n"
     ]
    }
   ],
   "source": [
    "print('Number of things being brought: ')\n",
    "print(f'\\tApples: {total_brought(allGuests, 'apples')}')\n",
    "print(f'\\tCups: {total_brought(allGuests, 'cups')}')\n",
    "print(f'\\tApple Pies: {total_brought(allGuests, 'apple pies')}')"
   ]
  },
  {
   "cell_type": "code",
   "execution_count": null,
   "id": "ac5c4bc2-0b2c-4564-a8b5-d881c92544a5",
   "metadata": {},
   "outputs": [],
   "source": []
  }
 ],
 "metadata": {
  "kernelspec": {
   "display_name": "Python 3 (ipykernel)",
   "language": "python",
   "name": "python3"
  },
  "language_info": {
   "codemirror_mode": {
    "name": "ipython",
    "version": 3
   },
   "file_extension": ".py",
   "mimetype": "text/x-python",
   "name": "python",
   "nbconvert_exporter": "python",
   "pygments_lexer": "ipython3",
   "version": "3.12.1"
  }
 },
 "nbformat": 4,
 "nbformat_minor": 5
}
